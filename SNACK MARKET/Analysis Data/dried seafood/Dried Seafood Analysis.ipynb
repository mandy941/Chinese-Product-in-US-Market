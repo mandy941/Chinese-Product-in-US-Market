{
 "cells": [
  {
   "cell_type": "code",
   "execution_count": 49,
   "metadata": {},
   "outputs": [],
   "source": [
    "# Import libraries\n",
    "import requests\n",
    "from bs4 import BeautifulSoup\n",
    "import pandas as pd\n",
    "import requests\n",
    "import seaborn as sns #visualisation\n",
    "import matplotlib.pyplot as plt #visualisation\n",
    "%matplotlib inline \n",
    "sns.set(color_codes=True)"
   ]
  },
  {
   "cell_type": "code",
   "execution_count": 50,
   "metadata": {},
   "outputs": [
    {
     "data": {
      "text/html": [
       "<div>\n",
       "<style scoped>\n",
       "    .dataframe tbody tr th:only-of-type {\n",
       "        vertical-align: middle;\n",
       "    }\n",
       "\n",
       "    .dataframe tbody tr th {\n",
       "        vertical-align: top;\n",
       "    }\n",
       "\n",
       "    .dataframe thead th {\n",
       "        text-align: right;\n",
       "    }\n",
       "</style>\n",
       "<table border=\"1\" class=\"dataframe\">\n",
       "  <thead>\n",
       "    <tr style=\"text-align: right;\">\n",
       "      <th></th>\n",
       "      <th>Product_Name</th>\n",
       "      <th>Brand</th>\n",
       "      <th>Reviews</th>\n",
       "      <th>Price</th>\n",
       "      <th>Option</th>\n",
       "      <th>Origin</th>\n",
       "      <th>Rate</th>\n",
       "      <th>Platform</th>\n",
       "      <th>Category</th>\n",
       "      <th>Sold_Weekly</th>\n",
       "      <th>Sold_Monthly</th>\n",
       "      <th>Weekly_Revenue</th>\n",
       "    </tr>\n",
       "  </thead>\n",
       "  <tbody>\n",
       "    <tr>\n",
       "      <th>0</th>\n",
       "      <td>Colorful Dried Fruits and Vegetables 50g</td>\n",
       "      <td>bestore</td>\n",
       "      <td>1</td>\n",
       "      <td>2.89</td>\n",
       "      <td>No</td>\n",
       "      <td>Mainland China</td>\n",
       "      <td>5.0</td>\n",
       "      <td>Yami</td>\n",
       "      <td>Dried Fruit</td>\n",
       "      <td>200</td>\n",
       "      <td>800</td>\n",
       "      <td>578.0</td>\n",
       "    </tr>\n",
       "    <tr>\n",
       "      <th>1</th>\n",
       "      <td>Dried Plum Slice 14g</td>\n",
       "      <td>i factory</td>\n",
       "      <td>229</td>\n",
       "      <td>2.49</td>\n",
       "      <td>2 Options</td>\n",
       "      <td>Japan</td>\n",
       "      <td>4.8</td>\n",
       "      <td>Yami</td>\n",
       "      <td>Dried Fruit</td>\n",
       "      <td>400</td>\n",
       "      <td>1600</td>\n",
       "      <td>996.0</td>\n",
       "    </tr>\n",
       "    <tr>\n",
       "      <th>2</th>\n",
       "      <td>Freeze Dried Strawberry 20g</td>\n",
       "      <td>big green</td>\n",
       "      <td>178</td>\n",
       "      <td>1.99</td>\n",
       "      <td>5 Options</td>\n",
       "      <td>Mainland China</td>\n",
       "      <td>4.6</td>\n",
       "      <td>Yami</td>\n",
       "      <td>Dried Fruit</td>\n",
       "      <td>300</td>\n",
       "      <td>1200</td>\n",
       "      <td>597.0</td>\n",
       "    </tr>\n",
       "    <tr>\n",
       "      <th>3</th>\n",
       "      <td>Yellow Peach Dried Fruits 98g</td>\n",
       "      <td>bestore</td>\n",
       "      <td>0</td>\n",
       "      <td>6.99</td>\n",
       "      <td>No</td>\n",
       "      <td>Mainland China</td>\n",
       "      <td>0.0</td>\n",
       "      <td>Yami</td>\n",
       "      <td>Dried Fruit</td>\n",
       "      <td>200</td>\n",
       "      <td>800</td>\n",
       "      <td>1398.0</td>\n",
       "    </tr>\n",
       "    <tr>\n",
       "      <th>4</th>\n",
       "      <td>Fragrant Dried Olives 70g</td>\n",
       "      <td>yifen</td>\n",
       "      <td>0</td>\n",
       "      <td>2.19</td>\n",
       "      <td>No</td>\n",
       "      <td>Mainland China</td>\n",
       "      <td>0.0</td>\n",
       "      <td>Yami</td>\n",
       "      <td>Dried Fruit</td>\n",
       "      <td>400</td>\n",
       "      <td>1600</td>\n",
       "      <td>876.0</td>\n",
       "    </tr>\n",
       "  </tbody>\n",
       "</table>\n",
       "</div>"
      ],
      "text/plain": [
       "                               Product_Name      Brand  Reviews  Price  \\\n",
       "0  Colorful Dried Fruits and Vegetables 50g    bestore        1   2.89   \n",
       "1                      Dried Plum Slice 14g  i factory      229   2.49   \n",
       "2               Freeze Dried Strawberry 20g  big green      178   1.99   \n",
       "3             Yellow Peach Dried Fruits 98g    bestore        0   6.99   \n",
       "4                 Fragrant Dried Olives 70g      yifen        0   2.19   \n",
       "\n",
       "      Option          Origin  Rate Platform     Category  Sold_Weekly  \\\n",
       "0         No  Mainland China   5.0     Yami  Dried Fruit          200   \n",
       "1  2 Options           Japan   4.8     Yami  Dried Fruit          400   \n",
       "2  5 Options  Mainland China   4.6     Yami  Dried Fruit          300   \n",
       "3         No  Mainland China   0.0     Yami  Dried Fruit          200   \n",
       "4         No  Mainland China   0.0     Yami  Dried Fruit          400   \n",
       "\n",
       "   Sold_Monthly  Weekly_Revenue  \n",
       "0           800           578.0  \n",
       "1          1600           996.0  \n",
       "2          1200           597.0  \n",
       "3           800          1398.0  \n",
       "4          1600           876.0  "
      ]
     },
     "execution_count": 50,
     "metadata": {},
     "output_type": "execute_result"
    }
   ],
   "source": [
    "url1 = 'https://raw.githubusercontent.com/mandy941/Chinese-Product-in-US-Market/main/SNACK%20MARKET/Analysis%20Data/dried%20fruit/Yami%20Dried%20Fruit.csv'\n",
    "url2 = 'https://raw.githubusercontent.com/mandy941/Chinese-Product-in-US-Market/main/SNACK%20MARKET/Analysis%20Data/dried%20fruit/Dried%20Fruits%20Data-ScrapeStorm.csv'\n",
    "\n",
    "yami = pd.read_csv(url1, encoding='latin1')\n",
    "yami.head()"
   ]
  },
  {
   "cell_type": "code",
   "execution_count": 51,
   "metadata": {},
   "outputs": [
    {
     "data": {
      "text/html": [
       "<div>\n",
       "<style scoped>\n",
       "    .dataframe tbody tr th:only-of-type {\n",
       "        vertical-align: middle;\n",
       "    }\n",
       "\n",
       "    .dataframe tbody tr th {\n",
       "        vertical-align: top;\n",
       "    }\n",
       "\n",
       "    .dataframe thead th {\n",
       "        text-align: right;\n",
       "    }\n",
       "</style>\n",
       "<table border=\"1\" class=\"dataframe\">\n",
       "  <thead>\n",
       "    <tr style=\"text-align: right;\">\n",
       "      <th></th>\n",
       "      <th>Product_Name</th>\n",
       "      <th>Price</th>\n",
       "      <th>Sold_Weekly</th>\n",
       "      <th>Origin</th>\n",
       "      <th>Brand</th>\n",
       "      <th>Reviews</th>\n",
       "      <th>Sold_Monthly</th>\n",
       "      <th>Weekly_Revenue</th>\n",
       "      <th>Platform</th>\n",
       "      <th>Category</th>\n",
       "      <th>Option</th>\n",
       "      <th>Rate</th>\n",
       "    </tr>\n",
       "  </thead>\n",
       "  <tbody>\n",
       "    <tr>\n",
       "      <th>0</th>\n",
       "      <td>ZhengDa Shredded Dry Fig  8 g</td>\n",
       "      <td>0.79</td>\n",
       "      <td>1000</td>\n",
       "      <td>Mainland China</td>\n",
       "      <td>ZhengDa</td>\n",
       "      <td>89</td>\n",
       "      <td>4000</td>\n",
       "      <td>790.0</td>\n",
       "      <td>Weee</td>\n",
       "      <td>Dried Fruit</td>\n",
       "      <td>Unclear</td>\n",
       "      <td>Unclear</td>\n",
       "    </tr>\n",
       "    <tr>\n",
       "      <th>1</th>\n",
       "      <td>Haw Flakes Hawthorn Candy 330 g</td>\n",
       "      <td>3.19</td>\n",
       "      <td>500</td>\n",
       "      <td>Mainland China</td>\n",
       "      <td>Unclear</td>\n",
       "      <td>91</td>\n",
       "      <td>2000</td>\n",
       "      <td>1595.0</td>\n",
       "      <td>Weee</td>\n",
       "      <td>Dried Fruit</td>\n",
       "      <td>Unclear</td>\n",
       "      <td>Unclear</td>\n",
       "    </tr>\n",
       "    <tr>\n",
       "      <th>2</th>\n",
       "      <td>Sugar-Coated Hawthorn In Stick 25 g</td>\n",
       "      <td>1.69</td>\n",
       "      <td>1000</td>\n",
       "      <td>Mainland China</td>\n",
       "      <td>Unclear</td>\n",
       "      <td>39</td>\n",
       "      <td>4000</td>\n",
       "      <td>1690.0</td>\n",
       "      <td>Weee</td>\n",
       "      <td>Dried Fruit</td>\n",
       "      <td>Unclear</td>\n",
       "      <td>Unclear</td>\n",
       "    </tr>\n",
       "    <tr>\n",
       "      <th>3</th>\n",
       "      <td>Yida Hawthorn Chips 180 g</td>\n",
       "      <td>1.99</td>\n",
       "      <td>1000</td>\n",
       "      <td>Mainland China</td>\n",
       "      <td>Unclear</td>\n",
       "      <td>98</td>\n",
       "      <td>4000</td>\n",
       "      <td>1990.0</td>\n",
       "      <td>Weee</td>\n",
       "      <td>Dried Fruit</td>\n",
       "      <td>Unclear</td>\n",
       "      <td>Unclear</td>\n",
       "    </tr>\n",
       "    <tr>\n",
       "      <th>4</th>\n",
       "      <td>Lyfen Preserved Plum Flakes 90 g</td>\n",
       "      <td>3.79</td>\n",
       "      <td>800</td>\n",
       "      <td>Mainland China</td>\n",
       "      <td>LYFEN</td>\n",
       "      <td>157</td>\n",
       "      <td>3200</td>\n",
       "      <td>3032.0</td>\n",
       "      <td>Weee</td>\n",
       "      <td>Dried Fruit</td>\n",
       "      <td>Unclear</td>\n",
       "      <td>Unclear</td>\n",
       "    </tr>\n",
       "  </tbody>\n",
       "</table>\n",
       "</div>"
      ],
      "text/plain": [
       "                          Product_Name  Price  Sold_Weekly          Origin  \\\n",
       "0        ZhengDa Shredded Dry Fig  8 g   0.79         1000  Mainland China   \n",
       "1      Haw Flakes Hawthorn Candy 330 g   3.19          500  Mainland China   \n",
       "2  Sugar-Coated Hawthorn In Stick 25 g   1.69         1000  Mainland China   \n",
       "3            Yida Hawthorn Chips 180 g   1.99         1000  Mainland China   \n",
       "4     Lyfen Preserved Plum Flakes 90 g   3.79          800  Mainland China   \n",
       "\n",
       "     Brand  Reviews  Sold_Monthly  Weekly_Revenue Platform     Category  \\\n",
       "0  ZhengDa       89          4000           790.0     Weee  Dried Fruit   \n",
       "1  Unclear       91          2000          1595.0     Weee  Dried Fruit   \n",
       "2  Unclear       39          4000          1690.0     Weee  Dried Fruit   \n",
       "3  Unclear       98          4000          1990.0     Weee  Dried Fruit   \n",
       "4    LYFEN      157          3200          3032.0     Weee  Dried Fruit   \n",
       "\n",
       "    Option     Rate  \n",
       "0  Unclear  Unclear  \n",
       "1  Unclear  Unclear  \n",
       "2  Unclear  Unclear  \n",
       "3  Unclear  Unclear  \n",
       "4  Unclear  Unclear  "
      ]
     },
     "execution_count": 51,
     "metadata": {},
     "output_type": "execute_result"
    }
   ],
   "source": [
    "weee = pd.read_csv(url2, encoding='latin1')\n",
    "weee.head()"
   ]
  },
  {
   "cell_type": "markdown",
   "metadata": {},
   "source": [
    "# Combine three tables together"
   ]
  },
  {
   "cell_type": "code",
   "execution_count": 52,
   "metadata": {},
   "outputs": [
    {
     "name": "stderr",
     "output_type": "stream",
     "text": [
      "C:\\Users\\13750\\Anaconda3\\lib\\site-packages\\ipykernel_launcher.py:1: FutureWarning: Sorting because non-concatenation axis is not aligned. A future version\n",
      "of pandas will change to not sort by default.\n",
      "\n",
      "To accept the future behavior, pass 'sort=False'.\n",
      "\n",
      "To retain the current behavior and silence the warning, pass 'sort=True'.\n",
      "\n",
      "  \"\"\"Entry point for launching an IPython kernel.\n"
     ]
    },
    {
     "data": {
      "text/html": [
       "<div>\n",
       "<style scoped>\n",
       "    .dataframe tbody tr th:only-of-type {\n",
       "        vertical-align: middle;\n",
       "    }\n",
       "\n",
       "    .dataframe tbody tr th {\n",
       "        vertical-align: top;\n",
       "    }\n",
       "\n",
       "    .dataframe thead th {\n",
       "        text-align: right;\n",
       "    }\n",
       "</style>\n",
       "<table border=\"1\" class=\"dataframe\">\n",
       "  <thead>\n",
       "    <tr style=\"text-align: right;\">\n",
       "      <th></th>\n",
       "      <th>Brand</th>\n",
       "      <th>Category</th>\n",
       "      <th>Option</th>\n",
       "      <th>Origin</th>\n",
       "      <th>Platform</th>\n",
       "      <th>Price</th>\n",
       "      <th>Product_Name</th>\n",
       "      <th>Rate</th>\n",
       "      <th>Reviews</th>\n",
       "      <th>Sold_Monthly</th>\n",
       "      <th>Sold_Weekly</th>\n",
       "      <th>Weekly_Revenue</th>\n",
       "    </tr>\n",
       "  </thead>\n",
       "  <tbody>\n",
       "    <tr>\n",
       "      <th>0</th>\n",
       "      <td>bestore</td>\n",
       "      <td>Dried Fruit</td>\n",
       "      <td>No</td>\n",
       "      <td>Mainland China</td>\n",
       "      <td>Yami</td>\n",
       "      <td>2.89</td>\n",
       "      <td>Colorful Dried Fruits and Vegetables 50g</td>\n",
       "      <td>5</td>\n",
       "      <td>1</td>\n",
       "      <td>800</td>\n",
       "      <td>200</td>\n",
       "      <td>578.0</td>\n",
       "    </tr>\n",
       "    <tr>\n",
       "      <th>1</th>\n",
       "      <td>i factory</td>\n",
       "      <td>Dried Fruit</td>\n",
       "      <td>2 Options</td>\n",
       "      <td>Japan</td>\n",
       "      <td>Yami</td>\n",
       "      <td>2.49</td>\n",
       "      <td>Dried Plum Slice 14g</td>\n",
       "      <td>4.8</td>\n",
       "      <td>229</td>\n",
       "      <td>1600</td>\n",
       "      <td>400</td>\n",
       "      <td>996.0</td>\n",
       "    </tr>\n",
       "    <tr>\n",
       "      <th>2</th>\n",
       "      <td>big green</td>\n",
       "      <td>Dried Fruit</td>\n",
       "      <td>5 Options</td>\n",
       "      <td>Mainland China</td>\n",
       "      <td>Yami</td>\n",
       "      <td>1.99</td>\n",
       "      <td>Freeze Dried Strawberry 20g</td>\n",
       "      <td>4.6</td>\n",
       "      <td>178</td>\n",
       "      <td>1200</td>\n",
       "      <td>300</td>\n",
       "      <td>597.0</td>\n",
       "    </tr>\n",
       "    <tr>\n",
       "      <th>3</th>\n",
       "      <td>bestore</td>\n",
       "      <td>Dried Fruit</td>\n",
       "      <td>No</td>\n",
       "      <td>Mainland China</td>\n",
       "      <td>Yami</td>\n",
       "      <td>6.99</td>\n",
       "      <td>Yellow Peach Dried Fruits 98g</td>\n",
       "      <td>0</td>\n",
       "      <td>0</td>\n",
       "      <td>800</td>\n",
       "      <td>200</td>\n",
       "      <td>1398.0</td>\n",
       "    </tr>\n",
       "    <tr>\n",
       "      <th>4</th>\n",
       "      <td>yifen</td>\n",
       "      <td>Dried Fruit</td>\n",
       "      <td>No</td>\n",
       "      <td>Mainland China</td>\n",
       "      <td>Yami</td>\n",
       "      <td>2.19</td>\n",
       "      <td>Fragrant Dried Olives 70g</td>\n",
       "      <td>0</td>\n",
       "      <td>0</td>\n",
       "      <td>1600</td>\n",
       "      <td>400</td>\n",
       "      <td>876.0</td>\n",
       "    </tr>\n",
       "  </tbody>\n",
       "</table>\n",
       "</div>"
      ],
      "text/plain": [
       "       Brand     Category     Option          Origin Platform  Price  \\\n",
       "0    bestore  Dried Fruit         No  Mainland China     Yami   2.89   \n",
       "1  i factory  Dried Fruit  2 Options           Japan     Yami   2.49   \n",
       "2  big green  Dried Fruit  5 Options  Mainland China     Yami   1.99   \n",
       "3    bestore  Dried Fruit         No  Mainland China     Yami   6.99   \n",
       "4      yifen  Dried Fruit         No  Mainland China     Yami   2.19   \n",
       "\n",
       "                               Product_Name Rate  Reviews  Sold_Monthly  \\\n",
       "0  Colorful Dried Fruits and Vegetables 50g    5        1           800   \n",
       "1                      Dried Plum Slice 14g  4.8      229          1600   \n",
       "2               Freeze Dried Strawberry 20g  4.6      178          1200   \n",
       "3             Yellow Peach Dried Fruits 98g    0        0           800   \n",
       "4                 Fragrant Dried Olives 70g    0        0          1600   \n",
       "\n",
       "   Sold_Weekly  Weekly_Revenue  \n",
       "0          200           578.0  \n",
       "1          400           996.0  \n",
       "2          300           597.0  \n",
       "3          200          1398.0  \n",
       "4          400           876.0  "
      ]
     },
     "execution_count": 52,
     "metadata": {},
     "output_type": "execute_result"
    }
   ],
   "source": [
    "df = pd.concat([yami,weee])\n",
    "df.head()"
   ]
  },
  {
   "cell_type": "code",
   "execution_count": 53,
   "metadata": {},
   "outputs": [
    {
     "name": "stdout",
     "output_type": "stream",
     "text": [
      "(1668, 12)\n",
      "['Brand', 'Category', 'Option', 'Origin', 'Platform', 'Price', 'Product_Name', 'Rate', 'Reviews', 'Sold_Monthly', 'Sold_Weekly', 'Weekly_Revenue']\n"
     ]
    }
   ],
   "source": [
    "print(df.shape)\n",
    "print(list(df.columns))"
   ]
  },
  {
   "cell_type": "markdown",
   "metadata": {},
   "source": [
    "# Analysis"
   ]
  },
  {
   "cell_type": "code",
   "execution_count": 54,
   "metadata": {},
   "outputs": [
    {
     "data": {
      "text/html": [
       "<div>\n",
       "<style scoped>\n",
       "    .dataframe tbody tr th:only-of-type {\n",
       "        vertical-align: middle;\n",
       "    }\n",
       "\n",
       "    .dataframe tbody tr th {\n",
       "        vertical-align: top;\n",
       "    }\n",
       "\n",
       "    .dataframe thead th {\n",
       "        text-align: right;\n",
       "    }\n",
       "</style>\n",
       "<table border=\"1\" class=\"dataframe\">\n",
       "  <thead>\n",
       "    <tr style=\"text-align: right;\">\n",
       "      <th></th>\n",
       "      <th>Price</th>\n",
       "      <th>Reviews</th>\n",
       "      <th>Sold_Monthly</th>\n",
       "      <th>Sold_Weekly</th>\n",
       "      <th>Weekly_Revenue</th>\n",
       "    </tr>\n",
       "  </thead>\n",
       "  <tbody>\n",
       "    <tr>\n",
       "      <th>count</th>\n",
       "      <td>1668.000000</td>\n",
       "      <td>1668.000000</td>\n",
       "      <td>1668.000000</td>\n",
       "      <td>1668.000000</td>\n",
       "      <td>1668.000000</td>\n",
       "    </tr>\n",
       "    <tr>\n",
       "      <th>mean</th>\n",
       "      <td>12.811259</td>\n",
       "      <td>18.582734</td>\n",
       "      <td>1336.045564</td>\n",
       "      <td>334.011391</td>\n",
       "      <td>4904.176553</td>\n",
       "    </tr>\n",
       "    <tr>\n",
       "      <th>std</th>\n",
       "      <td>29.900308</td>\n",
       "      <td>48.155402</td>\n",
       "      <td>590.852426</td>\n",
       "      <td>147.713107</td>\n",
       "      <td>18755.657971</td>\n",
       "    </tr>\n",
       "    <tr>\n",
       "      <th>min</th>\n",
       "      <td>0.490000</td>\n",
       "      <td>0.000000</td>\n",
       "      <td>0.000000</td>\n",
       "      <td>0.000000</td>\n",
       "      <td>0.000000</td>\n",
       "    </tr>\n",
       "    <tr>\n",
       "      <th>25%</th>\n",
       "      <td>2.990000</td>\n",
       "      <td>0.000000</td>\n",
       "      <td>1200.000000</td>\n",
       "      <td>300.000000</td>\n",
       "      <td>796.000000</td>\n",
       "    </tr>\n",
       "    <tr>\n",
       "      <th>50%</th>\n",
       "      <td>5.290000</td>\n",
       "      <td>4.000000</td>\n",
       "      <td>1600.000000</td>\n",
       "      <td>400.000000</td>\n",
       "      <td>1756.000000</td>\n",
       "    </tr>\n",
       "    <tr>\n",
       "      <th>75%</th>\n",
       "      <td>10.990000</td>\n",
       "      <td>16.000000</td>\n",
       "      <td>1600.000000</td>\n",
       "      <td>400.000000</td>\n",
       "      <td>3996.000000</td>\n",
       "    </tr>\n",
       "    <tr>\n",
       "      <th>max</th>\n",
       "      <td>650.000000</td>\n",
       "      <td>742.000000</td>\n",
       "      <td>4000.000000</td>\n",
       "      <td>1000.000000</td>\n",
       "      <td>650000.000000</td>\n",
       "    </tr>\n",
       "  </tbody>\n",
       "</table>\n",
       "</div>"
      ],
      "text/plain": [
       "             Price      Reviews  Sold_Monthly  Sold_Weekly  Weekly_Revenue\n",
       "count  1668.000000  1668.000000   1668.000000  1668.000000     1668.000000\n",
       "mean     12.811259    18.582734   1336.045564   334.011391     4904.176553\n",
       "std      29.900308    48.155402    590.852426   147.713107    18755.657971\n",
       "min       0.490000     0.000000      0.000000     0.000000        0.000000\n",
       "25%       2.990000     0.000000   1200.000000   300.000000      796.000000\n",
       "50%       5.290000     4.000000   1600.000000   400.000000     1756.000000\n",
       "75%      10.990000    16.000000   1600.000000   400.000000     3996.000000\n",
       "max     650.000000   742.000000   4000.000000  1000.000000   650000.000000"
      ]
     },
     "execution_count": 54,
     "metadata": {},
     "output_type": "execute_result"
    }
   ],
   "source": [
    "df.describe()"
   ]
  },
  {
   "cell_type": "code",
   "execution_count": 55,
   "metadata": {},
   "outputs": [
    {
     "data": {
      "text/plain": [
       "Brand             bestorei factorybig greenbestoreyifensiam's ro...\n",
       "Category          Dried FruitDried FruitDried FruitDried FruitDr...\n",
       "Option            No2 Options5 OptionsNoNoNoNoNoNoNoNoNoNo7 Opti...\n",
       "Origin            Mainland ChinaJapanMainland ChinaMainland Chin...\n",
       "Platform          YamiYamiYamiYamiYamiYamiYamiYamiYamiYamiYamiYa...\n",
       "Price                                                       21369.2\n",
       "Product_Name      Colorful Dried Fruits and Vegetables 50gDried ...\n",
       "Reviews                                                       30996\n",
       "Sold_Monthly                                                2228524\n",
       "Sold_Weekly                                                  557131\n",
       "Weekly_Revenue                                          8.18017e+06\n",
       "dtype: object"
      ]
     },
     "execution_count": 55,
     "metadata": {},
     "output_type": "execute_result"
    }
   ],
   "source": [
    "df.sum(axis = 0)"
   ]
  },
  {
   "cell_type": "code",
   "execution_count": 56,
   "metadata": {},
   "outputs": [],
   "source": [
    "df['Origin'] = df['Origin'].replace('ROYAL FAMILY','Unclear')"
   ]
  },
  {
   "cell_type": "markdown",
   "metadata": {},
   "source": [
    "# The Most Popular Origin (Highest Weekly Revenue /Num of Product)\n"
   ]
  },
  {
   "cell_type": "code",
   "execution_count": 57,
   "metadata": {},
   "outputs": [
    {
     "data": {
      "text/plain": [
       "Origin\n",
       "Canada              8\n",
       "Hong Kong          20\n",
       "Indonesia           6\n",
       "Japan              54\n",
       "Korea              36\n",
       "Macao               5\n",
       "Mainland China    963\n",
       "Malaysia            4\n",
       "Mexico              3\n",
       "Philippine          1\n",
       "Philippines         2\n",
       "Singapore           1\n",
       "Tailand             1\n",
       "Taiwan            169\n",
       "Thailand           22\n",
       "Unclear            34\n",
       "United States     322\n",
       "Vietnam            17\n",
       "Name: Product_Name, dtype: int64"
      ]
     },
     "execution_count": 57,
     "metadata": {},
     "output_type": "execute_result"
    }
   ],
   "source": [
    "origin = df.groupby(['Origin'])['Product_Name'].count()\n",
    "origin"
   ]
  },
  {
   "cell_type": "code",
   "execution_count": 58,
   "metadata": {},
   "outputs": [
    {
     "data": {
      "text/plain": [
       "Origin\n",
       "Canada            49045.500000\n",
       "Hong Kong          1939.262500\n",
       "Indonesia          1306.583333\n",
       "Japan              4105.023148\n",
       "Korea              2367.340278\n",
       "Macao              2468.000000\n",
       "Mainland China     2068.595275\n",
       "Malaysia          17203.500000\n",
       "Mexico                0.000000\n",
       "Philippine         1596.000000\n",
       "Philippines         518.000000\n",
       "Singapore            97.250000\n",
       "Tailand              62.250000\n",
       "Taiwan             2141.470355\n",
       "Thailand           1468.318182\n",
       "Unclear            3013.852941\n",
       "United States     15049.410714\n",
       "Vietnam             922.750000\n",
       "dtype: float64"
      ]
     },
     "execution_count": 58,
     "metadata": {},
     "output_type": "execute_result"
    }
   ],
   "source": [
    "pop_origin = df.groupby(['Origin'])['Weekly_Revenue'].sum()/df.groupby(['Origin'])['Product_Name'].count()\n",
    "pop_origin"
   ]
  },
  {
   "cell_type": "code",
   "execution_count": 59,
   "metadata": {},
   "outputs": [
    {
     "data": {
      "text/plain": [
       "Origin\n",
       "Canada            49045.500000\n",
       "Malaysia          17203.500000\n",
       "United States     15049.410714\n",
       "Japan              4105.023148\n",
       "Unclear            3013.852941\n",
       "Macao              2468.000000\n",
       "Korea              2367.340278\n",
       "Taiwan             2141.470355\n",
       "Mainland China     2068.595275\n",
       "Hong Kong          1939.262500\n",
       "dtype: float64"
      ]
     },
     "execution_count": 59,
     "metadata": {},
     "output_type": "execute_result"
    }
   ],
   "source": [
    "pop_origin.sort_values(ascending=False).head(10)"
   ]
  },
  {
   "cell_type": "markdown",
   "metadata": {},
   "source": [
    "# The most popular brand by unit selling\n"
   ]
  },
  {
   "cell_type": "code",
   "execution_count": 60,
   "metadata": {},
   "outputs": [
    {
     "data": {
      "text/plain": [
       "Brand\n",
       "Big Green          412.875000\n",
       "CHUZA                0.000000\n",
       "Farmers Grange    1661.666667\n",
       "Koushuiwa          833.750000\n",
       "LLM               1197.000000\n",
       "                     ...     \n",
       "zhongjianghong    1756.000000\n",
       "zhongqinhui        596.000000\n",
       "zuming             756.000000\n",
       "zxj               2196.000000\n",
       "zyf               1936.000000\n",
       "Length: 403, dtype: float64"
      ]
     },
     "execution_count": 60,
     "metadata": {},
     "output_type": "execute_result"
    }
   ],
   "source": [
    "pop_brand = df.groupby(['Brand'])['Weekly_Revenue'].sum()/df.groupby(['Brand'])['Product_Name'].count()\n",
    "pop_brand"
   ]
  },
  {
   "cell_type": "code",
   "execution_count": 61,
   "metadata": {},
   "outputs": [
    {
     "data": {
      "text/plain": [
       "Brand\n",
       "chungchou city          110097.916667\n",
       "peace pavilion          103248.000000\n",
       "huifeng                  96533.333333\n",
       "parkland                 72000.000000\n",
       "ontario pure ginseng     32032.000000\n",
       "dtype: float64"
      ]
     },
     "execution_count": 61,
     "metadata": {},
     "output_type": "execute_result"
    }
   ],
   "source": [
    "pop_brand.sort_values(ascending=False).head(5)"
   ]
  },
  {
   "cell_type": "markdown",
   "metadata": {},
   "source": [
    "# The popular brand by revenue"
   ]
  },
  {
   "cell_type": "code",
   "execution_count": 62,
   "metadata": {},
   "outputs": [
    {
     "data": {
      "text/plain": [
       "Brand\n",
       "Big Green         3303.0\n",
       "CHUZA                0.0\n",
       "Farmers Grange    4985.0\n",
       "Koushuiwa         1667.5\n",
       "LLM               2394.0\n",
       "                   ...  \n",
       "zhongjianghong    1756.0\n",
       "zhongqinhui        596.0\n",
       "zuming            6048.0\n",
       "zxj               4392.0\n",
       "zyf               3872.0\n",
       "Name: Weekly_Revenue, Length: 403, dtype: float64"
      ]
     },
     "execution_count": 62,
     "metadata": {},
     "output_type": "execute_result"
    }
   ],
   "source": [
    "pop_brand2 = df.groupby(['Brand'])['Weekly_Revenue'].sum()\n",
    "pop_brand2"
   ]
  },
  {
   "cell_type": "code",
   "execution_count": 63,
   "metadata": {},
   "outputs": [
    {
     "data": {
      "text/plain": [
       "Brand\n",
       "xlseafood          1800136.0\n",
       "mccabe              953672.0\n",
       "chungchou city      660587.5\n",
       "president brand     474120.0\n",
       "huifeng             289600.0\n",
       "Name: Weekly_Revenue, dtype: float64"
      ]
     },
     "execution_count": 63,
     "metadata": {},
     "output_type": "execute_result"
    }
   ],
   "source": [
    "pop_brand2.sort_values(ascending=False).head(5)"
   ]
  },
  {
   "cell_type": "code",
   "execution_count": null,
   "metadata": {},
   "outputs": [],
   "source": []
  },
  {
   "cell_type": "markdown",
   "metadata": {},
   "source": [
    "# The Main Import Origin"
   ]
  },
  {
   "cell_type": "code",
   "execution_count": 64,
   "metadata": {},
   "outputs": [
    {
     "data": {
      "text/plain": [
       "Origin\n",
       "Canada              8\n",
       "Hong Kong          20\n",
       "Indonesia           6\n",
       "Japan              54\n",
       "Korea              36\n",
       "Macao               5\n",
       "Mainland China    963\n",
       "Malaysia            4\n",
       "Mexico              3\n",
       "Philippine          1\n",
       "Philippines         2\n",
       "Singapore           1\n",
       "Tailand             1\n",
       "Taiwan            169\n",
       "Thailand           22\n",
       "Unclear            34\n",
       "United States     322\n",
       "Vietnam            17\n",
       "Name: Product_Name, dtype: int64"
      ]
     },
     "execution_count": 64,
     "metadata": {},
     "output_type": "execute_result"
    }
   ],
   "source": [
    "main_origin = df.groupby(['Origin'])['Product_Name'].count()\n",
    "main_origin"
   ]
  },
  {
   "cell_type": "code",
   "execution_count": 65,
   "metadata": {},
   "outputs": [
    {
     "data": {
      "text/plain": [
       "Origin\n",
       "Mainland China    963\n",
       "United States     322\n",
       "Taiwan            169\n",
       "Japan              54\n",
       "Korea              36\n",
       "Name: Product_Name, dtype: int64"
      ]
     },
     "execution_count": 65,
     "metadata": {},
     "output_type": "execute_result"
    }
   ],
   "source": [
    "main_origin.sort_values(ascending=False).head(5)"
   ]
  },
  {
   "cell_type": "markdown",
   "metadata": {},
   "source": [
    "# The most value import Origin"
   ]
  },
  {
   "cell_type": "code",
   "execution_count": 66,
   "metadata": {},
   "outputs": [
    {
     "data": {
      "text/plain": [
       "Origin\n",
       "Canada             392364.00\n",
       "Hong Kong           38785.25\n",
       "Indonesia            7839.50\n",
       "Japan              221671.25\n",
       "Korea               85224.25\n",
       "Macao               12340.00\n",
       "Mainland China    1992057.25\n",
       "Malaysia            68814.00\n",
       "Mexico                  0.00\n",
       "Philippine           1596.00\n",
       "Philippines          1036.00\n",
       "Singapore              97.25\n",
       "Tailand                62.25\n",
       "Taiwan             361908.49\n",
       "Thailand            32303.00\n",
       "Unclear            102471.00\n",
       "United States     4845910.25\n",
       "Vietnam             15686.75\n",
       "Name: Weekly_Revenue, dtype: float64"
      ]
     },
     "execution_count": 66,
     "metadata": {},
     "output_type": "execute_result"
    }
   ],
   "source": [
    "value_origin = df.groupby(['Origin'])['Weekly_Revenue'].sum()\n",
    "value_origin"
   ]
  },
  {
   "cell_type": "code",
   "execution_count": 67,
   "metadata": {},
   "outputs": [
    {
     "data": {
      "text/plain": [
       "Origin\n",
       "United States     4845910.25\n",
       "Mainland China    1992057.25\n",
       "Canada             392364.00\n",
       "Taiwan             361908.49\n",
       "Japan              221671.25\n",
       "Name: Weekly_Revenue, dtype: float64"
      ]
     },
     "execution_count": 67,
     "metadata": {},
     "output_type": "execute_result"
    }
   ],
   "source": [
    "value_origin.sort_values(ascending=False).head(5)"
   ]
  },
  {
   "cell_type": "markdown",
   "metadata": {},
   "source": [
    "# platform offers choice - most\n"
   ]
  },
  {
   "cell_type": "code",
   "execution_count": 68,
   "metadata": {},
   "outputs": [
    {
     "data": {
      "text/plain": [
       "Platform\n",
       "Weee     171\n",
       "Yami    1497\n",
       "Name: Product_Name, dtype: int64"
      ]
     },
     "execution_count": 68,
     "metadata": {},
     "output_type": "execute_result"
    }
   ],
   "source": [
    "choice = df.groupby(['Platform'])['Product_Name'].count()\n",
    "choice"
   ]
  },
  {
   "cell_type": "code",
   "execution_count": 69,
   "metadata": {},
   "outputs": [
    {
     "data": {
      "text/plain": [
       "Platform\n",
       "Weee     644.413684\n",
       "Yami    5390.762692\n",
       "dtype: float64"
      ]
     },
     "execution_count": 69,
     "metadata": {},
     "output_type": "execute_result"
    }
   ],
   "source": [
    "value_choice =  df.groupby(['Platform'])['Weekly_Revenue'].sum()/df.groupby(['Platform'])['Product_Name'].count()\n",
    "value_choice"
   ]
  },
  {
   "cell_type": "markdown",
   "metadata": {},
   "source": [
    "## The Number of profuct by origin"
   ]
  },
  {
   "cell_type": "code",
   "execution_count": 70,
   "metadata": {},
   "outputs": [
    {
     "data": {
      "text/plain": [
       "<matplotlib.axes._subplots.AxesSubplot at 0x1f6c71defd0>"
      ]
     },
     "execution_count": 70,
     "metadata": {},
     "output_type": "execute_result"
    },
    {
     "data": {
      "image/png": "[encoded data removed]",
      "text/plain": [
       "<Figure size 720x360 with 1 Axes>"
      ]
     },
     "metadata": {},
     "output_type": "display_data"
    }
   ],
   "source": [
    "count_origin = df.groupby([df['Origin']])['Product_Name'].count()\n",
    "count_origin.plot(kind='barh',figsize=(10,5),legend=None, title=\"The Number of Products by Origin \")"
   ]
  },
  {
   "cell_type": "code",
   "execution_count": 71,
   "metadata": {},
   "outputs": [
    {
     "data": {
      "text/plain": [
       "<matplotlib.axes._subplots.AxesSubplot at 0x1f6c7b1dcc0>"
      ]
     },
     "execution_count": 71,
     "metadata": {},
     "output_type": "execute_result"
    },
    {
     "data": {
      "image/png": "[encoded data removed]",
      "text/plain": [
       "<Figure size 720x360 with 1 Axes>"
      ]
     },
     "metadata": {},
     "output_type": "display_data"
    }
   ],
   "source": [
    "sum_revenue = df.groupby([df['Origin']])['Weekly_Revenue'].sum()\n",
    "sum_revenue.plot(kind='barh',figsize=(10,5),legend=None, title=\"The Weekly Revenue by Origin \")"
   ]
  },
  {
   "cell_type": "code",
   "execution_count": 29,
   "metadata": {},
   "outputs": [
    {
     "data": {
      "text/plain": [
       "Platform\n",
       "Weee     171\n",
       "Yami    1497\n",
       "Name: Product_Name, dtype: int64"
      ]
     },
     "execution_count": 29,
     "metadata": {},
     "output_type": "execute_result"
    }
   ],
   "source": [
    "count_platform = df.groupby(['Platform'])['Product_Name'].count()\n",
    "count_platform"
   ]
  },
  {
   "cell_type": "code",
   "execution_count": 30,
   "metadata": {},
   "outputs": [
    {
     "data": {
      "text/plain": [
       "<matplotlib.axes._subplots.AxesSubplot at 0x1f6c486aba8>"
      ]
     },
     "execution_count": 30,
     "metadata": {},
     "output_type": "execute_result"
    },
    {
     "data": {
      "image/png": "[encoded data removed]",
      "text/plain": [
       "<Figure size 720x360 with 1 Axes>"
      ]
     },
     "metadata": {
      "needs_background": "light"
     },
     "output_type": "display_data"
    }
   ],
   "source": [
    "platform = df.groupby([df['Platform']])['Brand'].count()\n",
    "platform.plot(kind='barh',figsize=(10,5),legend=None, title=\"The Number of Products by Platform \")"
   ]
  },
  {
   "cell_type": "code",
   "execution_count": 31,
   "metadata": {},
   "outputs": [
    {
     "data": {
      "text/plain": [
       "Text(0.5, 1.0, 'Figure 5: Correlations')"
      ]
     },
     "execution_count": 31,
     "metadata": {},
     "output_type": "execute_result"
    },
    {
     "data": {
      "image/png": "[encoded data removed]",
      "text/plain": [
       "<Figure size 576x360 with 2 Axes>"
      ]
     },
     "metadata": {
      "needs_background": "light"
     },
     "output_type": "display_data"
    }
   ],
   "source": [
    "# Finding the correlation bewteen the Features.\n",
    "plt.figure(figsize=(8,5))\n",
    "\n",
    "corr = df.corr()# plot the heatmap\n",
    "sns.heatmap(corr, xticklabels=corr.columns, yticklabels=corr.columns, \n",
    "            annot=True, cmap=sns.diverging_palette(220, 20, as_cmap=True))\n",
    "plt.title('Figure 5: Correlations')"
   ]
  },
  {
   "cell_type": "markdown",
   "metadata": {},
   "source": [
    "## Origin vs Platform\n"
   ]
  },
  {
   "cell_type": "code",
   "execution_count": 32,
   "metadata": {},
   "outputs": [
    {
     "data": {
      "text/plain": [
       "Text(0.5, 1.0, 'Platform vs. Origin')"
      ]
     },
     "execution_count": 32,
     "metadata": {},
     "output_type": "execute_result"
    },
    {
     "data": {
      "image/png": "[encoded data removed]",
      "text/plain": [
       "<Figure size 720x432 with 1 Axes>"
      ]
     },
     "metadata": {
      "needs_background": "light"
     },
     "output_type": "display_data"
    }
   ],
   "source": [
    "# Origin vs Platform\n",
    "\n",
    "plt.rcParams['figure.figsize'] = (10, 6)\n",
    "\n",
    "# compare the year with Origin with Platform\n",
    "plt.subplot(121)\n",
    "sns.countplot(x='Platform',hue= 'Origin', data=df, palette = 'husl')\n",
    "plt.legend(bbox_to_anchor=(-0.2, 0.5), loc='right', borderaxespad=0)\n",
    "plt.title('Platform vs. Origin')"
   ]
  },
  {
   "cell_type": "code",
   "execution_count": 33,
   "metadata": {},
   "outputs": [
    {
     "name": "stderr",
     "output_type": "stream",
     "text": [
      "C:\\Users\\13750\\Anaconda3\\lib\\site-packages\\ipykernel_launcher.py:7: MatplotlibDeprecationWarning: Unrecognized location 'left'. Falling back on 'best'; valid locations are\n",
      "\tbest\n",
      "\tupper right\n",
      "\tupper left\n",
      "\tlower left\n",
      "\tlower right\n",
      "\tright\n",
      "\tcenter left\n",
      "\tcenter right\n",
      "\tlower center\n",
      "\tupper center\n",
      "\tcenter\n",
      "This will raise an exception in 3.3.\n",
      "  import sys\n"
     ]
    },
    {
     "data": {
      "text/html": [
       "<div>\n",
       "<style scoped>\n",
       "    .dataframe tbody tr th:only-of-type {\n",
       "        vertical-align: middle;\n",
       "    }\n",
       "\n",
       "    .dataframe tbody tr th {\n",
       "        vertical-align: top;\n",
       "    }\n",
       "\n",
       "    .dataframe thead th {\n",
       "        text-align: right;\n",
       "    }\n",
       "</style>\n",
       "<table border=\"1\" class=\"dataframe\">\n",
       "  <thead>\n",
       "    <tr style=\"text-align: right;\">\n",
       "      <th>Origin</th>\n",
       "      <th>Canada</th>\n",
       "      <th>Hong Kong</th>\n",
       "      <th>Indonesia</th>\n",
       "      <th>Japan</th>\n",
       "      <th>Korea</th>\n",
       "      <th>Macao</th>\n",
       "      <th>Mainland China</th>\n",
       "      <th>Malaysia</th>\n",
       "      <th>Mexico</th>\n",
       "      <th>Philippine</th>\n",
       "      <th>Philippines</th>\n",
       "      <th>Singapore</th>\n",
       "      <th>Tailand</th>\n",
       "      <th>Taiwan</th>\n",
       "      <th>Thailand</th>\n",
       "      <th>Unclear</th>\n",
       "      <th>United States</th>\n",
       "      <th>Vietnam</th>\n",
       "    </tr>\n",
       "    <tr>\n",
       "      <th>Platform</th>\n",
       "      <th></th>\n",
       "      <th></th>\n",
       "      <th></th>\n",
       "      <th></th>\n",
       "      <th></th>\n",
       "      <th></th>\n",
       "      <th></th>\n",
       "      <th></th>\n",
       "      <th></th>\n",
       "      <th></th>\n",
       "      <th></th>\n",
       "      <th></th>\n",
       "      <th></th>\n",
       "      <th></th>\n",
       "      <th></th>\n",
       "      <th></th>\n",
       "      <th></th>\n",
       "      <th></th>\n",
       "    </tr>\n",
       "  </thead>\n",
       "  <tbody>\n",
       "    <tr>\n",
       "      <th>Weee</th>\n",
       "      <td>0</td>\n",
       "      <td>1</td>\n",
       "      <td>1</td>\n",
       "      <td>2</td>\n",
       "      <td>0</td>\n",
       "      <td>0</td>\n",
       "      <td>123</td>\n",
       "      <td>0</td>\n",
       "      <td>3</td>\n",
       "      <td>0</td>\n",
       "      <td>2</td>\n",
       "      <td>0</td>\n",
       "      <td>0</td>\n",
       "      <td>25</td>\n",
       "      <td>2</td>\n",
       "      <td>0</td>\n",
       "      <td>4</td>\n",
       "      <td>8</td>\n",
       "    </tr>\n",
       "    <tr>\n",
       "      <th>Yami</th>\n",
       "      <td>8</td>\n",
       "      <td>19</td>\n",
       "      <td>5</td>\n",
       "      <td>52</td>\n",
       "      <td>36</td>\n",
       "      <td>5</td>\n",
       "      <td>840</td>\n",
       "      <td>4</td>\n",
       "      <td>0</td>\n",
       "      <td>1</td>\n",
       "      <td>0</td>\n",
       "      <td>1</td>\n",
       "      <td>1</td>\n",
       "      <td>144</td>\n",
       "      <td>20</td>\n",
       "      <td>34</td>\n",
       "      <td>318</td>\n",
       "      <td>9</td>\n",
       "    </tr>\n",
       "  </tbody>\n",
       "</table>\n",
       "</div>"
      ],
      "text/plain": [
       "Origin    Canada  Hong Kong  Indonesia  Japan  Korea  Macao  Mainland China  \\\n",
       "Platform                                                                      \n",
       "Weee           0          1          1      2      0      0             123   \n",
       "Yami           8         19          5     52     36      5             840   \n",
       "\n",
       "Origin    Malaysia  Mexico  Philippine  Philippines  Singapore  Tailand  \\\n",
       "Platform                                                                  \n",
       "Weee             0       3           0            2          0        0   \n",
       "Yami             4       0           1            0          1        1   \n",
       "\n",
       "Origin    Taiwan  Thailand  Unclear  United States  Vietnam  \n",
       "Platform                                                     \n",
       "Weee          25         2        0              4        8  \n",
       "Yami         144        20       34            318        9  "
      ]
     },
     "execution_count": 33,
     "metadata": {},
     "output_type": "execute_result"
    },
    {
     "data": {
      "image/png": "[encoded data removed]",
      "text/plain": [
       "<Figure size 720x432 with 1 Axes>"
      ]
     },
     "metadata": {
      "needs_background": "light"
     },
     "output_type": "display_data"
    }
   ],
   "source": [
    "# check the Origin percentage of Platform\n",
    "plt.rcParams['figure.figsize'] = (10, 6)\n",
    "ax= plt.subplot(122)\n",
    "c2_c = pd.crosstab(df.Platform, df.Origin)\n",
    "c2_c.div(c2_c .sum(1).astype(float), axis=0).plot(kind='bar', stacked=True, ax=ax)\n",
    "plt.title('Origin percentage by Platform')\n",
    "plt.legend(bbox_to_anchor=(-0.2, 1), loc='left', borderaxespad=0)\n",
    "plt.xlabel('Platform')\n",
    "plt.xticks(rotation=0)\n",
    "plt.ylabel('Percentage of Origin')\n",
    "\n",
    "c2_c"
   ]
  },
  {
   "cell_type": "markdown",
   "metadata": {},
   "source": [
    "## Origin Vs Sold_Weekly_Group"
   ]
  },
  {
   "cell_type": "code",
   "execution_count": 34,
   "metadata": {},
   "outputs": [
    {
     "data": {
      "text/html": [
       "<div>\n",
       "<style scoped>\n",
       "    .dataframe tbody tr th:only-of-type {\n",
       "        vertical-align: middle;\n",
       "    }\n",
       "\n",
       "    .dataframe tbody tr th {\n",
       "        vertical-align: top;\n",
       "    }\n",
       "\n",
       "    .dataframe thead th {\n",
       "        text-align: right;\n",
       "    }\n",
       "</style>\n",
       "<table border=\"1\" class=\"dataframe\">\n",
       "  <thead>\n",
       "    <tr style=\"text-align: right;\">\n",
       "      <th></th>\n",
       "      <th>Brand</th>\n",
       "      <th>Category</th>\n",
       "      <th>Option</th>\n",
       "      <th>Origin</th>\n",
       "      <th>Platform</th>\n",
       "      <th>Price</th>\n",
       "      <th>Product_Name</th>\n",
       "      <th>Rate</th>\n",
       "      <th>Reviews</th>\n",
       "      <th>Sold_Monthly</th>\n",
       "      <th>Sold_Weekly</th>\n",
       "      <th>Weekly_Revenue</th>\n",
       "      <th>Sold_Weekly_Group</th>\n",
       "    </tr>\n",
       "  </thead>\n",
       "  <tbody>\n",
       "    <tr>\n",
       "      <th>0</th>\n",
       "      <td>bestore</td>\n",
       "      <td>Dried Fruit</td>\n",
       "      <td>No</td>\n",
       "      <td>Mainland China</td>\n",
       "      <td>Yami</td>\n",
       "      <td>2.89</td>\n",
       "      <td>Colorful Dried Fruits and Vegetables 50g</td>\n",
       "      <td>5</td>\n",
       "      <td>1</td>\n",
       "      <td>800</td>\n",
       "      <td>200</td>\n",
       "      <td>578.0</td>\n",
       "      <td>100+</td>\n",
       "    </tr>\n",
       "    <tr>\n",
       "      <th>1</th>\n",
       "      <td>i factory</td>\n",
       "      <td>Dried Fruit</td>\n",
       "      <td>2 Options</td>\n",
       "      <td>Japan</td>\n",
       "      <td>Yami</td>\n",
       "      <td>2.49</td>\n",
       "      <td>Dried Plum Slice 14g</td>\n",
       "      <td>4.8</td>\n",
       "      <td>229</td>\n",
       "      <td>1600</td>\n",
       "      <td>400</td>\n",
       "      <td>996.0</td>\n",
       "      <td>300+</td>\n",
       "    </tr>\n",
       "    <tr>\n",
       "      <th>2</th>\n",
       "      <td>big green</td>\n",
       "      <td>Dried Fruit</td>\n",
       "      <td>5 Options</td>\n",
       "      <td>Mainland China</td>\n",
       "      <td>Yami</td>\n",
       "      <td>1.99</td>\n",
       "      <td>Freeze Dried Strawberry 20g</td>\n",
       "      <td>4.6</td>\n",
       "      <td>178</td>\n",
       "      <td>1200</td>\n",
       "      <td>300</td>\n",
       "      <td>597.0</td>\n",
       "      <td>200+</td>\n",
       "    </tr>\n",
       "    <tr>\n",
       "      <th>3</th>\n",
       "      <td>bestore</td>\n",
       "      <td>Dried Fruit</td>\n",
       "      <td>No</td>\n",
       "      <td>Mainland China</td>\n",
       "      <td>Yami</td>\n",
       "      <td>6.99</td>\n",
       "      <td>Yellow Peach Dried Fruits 98g</td>\n",
       "      <td>0</td>\n",
       "      <td>0</td>\n",
       "      <td>800</td>\n",
       "      <td>200</td>\n",
       "      <td>1398.0</td>\n",
       "      <td>100+</td>\n",
       "    </tr>\n",
       "    <tr>\n",
       "      <th>4</th>\n",
       "      <td>yifen</td>\n",
       "      <td>Dried Fruit</td>\n",
       "      <td>No</td>\n",
       "      <td>Mainland China</td>\n",
       "      <td>Yami</td>\n",
       "      <td>2.19</td>\n",
       "      <td>Fragrant Dried Olives 70g</td>\n",
       "      <td>0</td>\n",
       "      <td>0</td>\n",
       "      <td>1600</td>\n",
       "      <td>400</td>\n",
       "      <td>876.0</td>\n",
       "      <td>300+</td>\n",
       "    </tr>\n",
       "  </tbody>\n",
       "</table>\n",
       "</div>"
      ],
      "text/plain": [
       "       Brand     Category     Option          Origin Platform  Price  \\\n",
       "0    bestore  Dried Fruit         No  Mainland China     Yami   2.89   \n",
       "1  i factory  Dried Fruit  2 Options           Japan     Yami   2.49   \n",
       "2  big green  Dried Fruit  5 Options  Mainland China     Yami   1.99   \n",
       "3    bestore  Dried Fruit         No  Mainland China     Yami   6.99   \n",
       "4      yifen  Dried Fruit         No  Mainland China     Yami   2.19   \n",
       "\n",
       "                               Product_Name Rate  Reviews  Sold_Monthly  \\\n",
       "0  Colorful Dried Fruits and Vegetables 50g    5        1           800   \n",
       "1                      Dried Plum Slice 14g  4.8      229          1600   \n",
       "2               Freeze Dried Strawberry 20g  4.6      178          1200   \n",
       "3             Yellow Peach Dried Fruits 98g    0        0           800   \n",
       "4                 Fragrant Dried Olives 70g    0        0          1600   \n",
       "\n",
       "   Sold_Weekly  Weekly_Revenue Sold_Weekly_Group  \n",
       "0          200           578.0              100+  \n",
       "1          400           996.0              300+  \n",
       "2          300           597.0              200+  \n",
       "3          200          1398.0              100+  \n",
       "4          400           876.0              300+  "
      ]
     },
     "execution_count": 34,
     "metadata": {},
     "output_type": "execute_result"
    }
   ],
   "source": [
    "df['Sold_Weekly_Group'] = pd.cut(x = df['Sold_Weekly'], \n",
    "                                   bins = [0,50,100,200,300,400,500,1000,2000,10000],\n",
    "                                   labels = ['Less than 50','50+','100+','200+','300+','400+','500+','1000+','2000+'])\n",
    "df.head()"
   ]
  },
  {
   "cell_type": "code",
   "execution_count": 35,
   "metadata": {},
   "outputs": [
    {
     "data": {
      "text/plain": [
       "Text(0.5, 1.0, 'Sold_Weekly_Group vs. Origin')"
      ]
     },
     "execution_count": 35,
     "metadata": {},
     "output_type": "execute_result"
    },
    {
     "data": {
      "image/png": "[encoded data removed]",
      "text/plain": [
       "<Figure size 1440x432 with 1 Axes>"
      ]
     },
     "metadata": {
      "needs_background": "light"
     },
     "output_type": "display_data"
    }
   ],
   "source": [
    "# origin vs sold weekly group\n",
    "\n",
    "plt.rcParams['figure.figsize'] = (20, 6)\n",
    "\n",
    "# compare the year with Origin with Platform\n",
    "plt.subplot(121)\n",
    "sns.countplot(x='Sold_Weekly_Group',hue= 'Origin', data=df, palette = 'husl')\n",
    "plt.legend(bbox_to_anchor=(-0.2, 0.5), loc='right', borderaxespad=0)\n",
    "plt.title('Sold_Weekly_Group vs. Origin')"
   ]
  },
  {
   "cell_type": "code",
   "execution_count": 44,
   "metadata": {
    "scrolled": true
   },
   "outputs": [
    {
     "name": "stderr",
     "output_type": "stream",
     "text": [
      "C:\\Users\\13750\\Anaconda3\\lib\\site-packages\\ipykernel_launcher.py:9: MatplotlibDeprecationWarning: Unrecognized location 'left'. Falling back on 'best'; valid locations are\n",
      "\tbest\n",
      "\tupper right\n",
      "\tupper left\n",
      "\tlower left\n",
      "\tlower right\n",
      "\tright\n",
      "\tcenter left\n",
      "\tcenter right\n",
      "\tlower center\n",
      "\tupper center\n",
      "\tcenter\n",
      "This will raise an exception in 3.3.\n",
      "  if __name__ == '__main__':\n"
     ]
    },
    {
     "data": {
      "text/html": [
       "<div>\n",
       "<style scoped>\n",
       "    .dataframe tbody tr th:only-of-type {\n",
       "        vertical-align: middle;\n",
       "    }\n",
       "\n",
       "    .dataframe tbody tr th {\n",
       "        vertical-align: top;\n",
       "    }\n",
       "\n",
       "    .dataframe thead th {\n",
       "        text-align: right;\n",
       "    }\n",
       "</style>\n",
       "<table border=\"1\" class=\"dataframe\">\n",
       "  <thead>\n",
       "    <tr style=\"text-align: right;\">\n",
       "      <th>Sold_Weekly_Group</th>\n",
       "      <th>Less than 50</th>\n",
       "      <th>50+</th>\n",
       "      <th>100+</th>\n",
       "      <th>200+</th>\n",
       "      <th>300+</th>\n",
       "      <th>400+</th>\n",
       "      <th>500+</th>\n",
       "    </tr>\n",
       "    <tr>\n",
       "      <th>Origin</th>\n",
       "      <th></th>\n",
       "      <th></th>\n",
       "      <th></th>\n",
       "      <th></th>\n",
       "      <th></th>\n",
       "      <th></th>\n",
       "      <th></th>\n",
       "    </tr>\n",
       "  </thead>\n",
       "  <tbody>\n",
       "    <tr>\n",
       "      <th>Canada</th>\n",
       "      <td>0</td>\n",
       "      <td>0</td>\n",
       "      <td>0</td>\n",
       "      <td>0</td>\n",
       "      <td>8</td>\n",
       "      <td>0</td>\n",
       "      <td>0</td>\n",
       "    </tr>\n",
       "    <tr>\n",
       "      <th>Hong Kong</th>\n",
       "      <td>1</td>\n",
       "      <td>0</td>\n",
       "      <td>1</td>\n",
       "      <td>1</td>\n",
       "      <td>17</td>\n",
       "      <td>0</td>\n",
       "      <td>0</td>\n",
       "    </tr>\n",
       "    <tr>\n",
       "      <th>Indonesia</th>\n",
       "      <td>1</td>\n",
       "      <td>0</td>\n",
       "      <td>0</td>\n",
       "      <td>0</td>\n",
       "      <td>5</td>\n",
       "      <td>0</td>\n",
       "      <td>0</td>\n",
       "    </tr>\n",
       "    <tr>\n",
       "      <th>Japan</th>\n",
       "      <td>1</td>\n",
       "      <td>0</td>\n",
       "      <td>0</td>\n",
       "      <td>2</td>\n",
       "      <td>50</td>\n",
       "      <td>0</td>\n",
       "      <td>0</td>\n",
       "    </tr>\n",
       "    <tr>\n",
       "      <th>Korea</th>\n",
       "      <td>3</td>\n",
       "      <td>0</td>\n",
       "      <td>1</td>\n",
       "      <td>0</td>\n",
       "      <td>32</td>\n",
       "      <td>0</td>\n",
       "      <td>0</td>\n",
       "    </tr>\n",
       "    <tr>\n",
       "      <th>Macao</th>\n",
       "      <td>0</td>\n",
       "      <td>0</td>\n",
       "      <td>0</td>\n",
       "      <td>0</td>\n",
       "      <td>5</td>\n",
       "      <td>0</td>\n",
       "      <td>0</td>\n",
       "    </tr>\n",
       "    <tr>\n",
       "      <th>Mainland China</th>\n",
       "      <td>103</td>\n",
       "      <td>23</td>\n",
       "      <td>113</td>\n",
       "      <td>29</td>\n",
       "      <td>633</td>\n",
       "      <td>4</td>\n",
       "      <td>17</td>\n",
       "    </tr>\n",
       "    <tr>\n",
       "      <th>Malaysia</th>\n",
       "      <td>1</td>\n",
       "      <td>0</td>\n",
       "      <td>1</td>\n",
       "      <td>0</td>\n",
       "      <td>2</td>\n",
       "      <td>0</td>\n",
       "      <td>0</td>\n",
       "    </tr>\n",
       "    <tr>\n",
       "      <th>Philippine</th>\n",
       "      <td>0</td>\n",
       "      <td>0</td>\n",
       "      <td>0</td>\n",
       "      <td>0</td>\n",
       "      <td>1</td>\n",
       "      <td>0</td>\n",
       "      <td>0</td>\n",
       "    </tr>\n",
       "    <tr>\n",
       "      <th>Philippines</th>\n",
       "      <td>0</td>\n",
       "      <td>1</td>\n",
       "      <td>0</td>\n",
       "      <td>1</td>\n",
       "      <td>0</td>\n",
       "      <td>0</td>\n",
       "      <td>0</td>\n",
       "    </tr>\n",
       "    <tr>\n",
       "      <th>Singapore</th>\n",
       "      <td>1</td>\n",
       "      <td>0</td>\n",
       "      <td>0</td>\n",
       "      <td>0</td>\n",
       "      <td>0</td>\n",
       "      <td>0</td>\n",
       "      <td>0</td>\n",
       "    </tr>\n",
       "    <tr>\n",
       "      <th>Tailand</th>\n",
       "      <td>1</td>\n",
       "      <td>0</td>\n",
       "      <td>0</td>\n",
       "      <td>0</td>\n",
       "      <td>0</td>\n",
       "      <td>0</td>\n",
       "      <td>0</td>\n",
       "    </tr>\n",
       "    <tr>\n",
       "      <th>Taiwan</th>\n",
       "      <td>15</td>\n",
       "      <td>4</td>\n",
       "      <td>3</td>\n",
       "      <td>10</td>\n",
       "      <td>123</td>\n",
       "      <td>0</td>\n",
       "      <td>0</td>\n",
       "    </tr>\n",
       "    <tr>\n",
       "      <th>Thailand</th>\n",
       "      <td>0</td>\n",
       "      <td>1</td>\n",
       "      <td>2</td>\n",
       "      <td>6</td>\n",
       "      <td>12</td>\n",
       "      <td>0</td>\n",
       "      <td>0</td>\n",
       "    </tr>\n",
       "    <tr>\n",
       "      <th>Unclear</th>\n",
       "      <td>0</td>\n",
       "      <td>0</td>\n",
       "      <td>0</td>\n",
       "      <td>3</td>\n",
       "      <td>31</td>\n",
       "      <td>0</td>\n",
       "      <td>0</td>\n",
       "    </tr>\n",
       "    <tr>\n",
       "      <th>United States</th>\n",
       "      <td>14</td>\n",
       "      <td>1</td>\n",
       "      <td>1</td>\n",
       "      <td>4</td>\n",
       "      <td>298</td>\n",
       "      <td>0</td>\n",
       "      <td>1</td>\n",
       "    </tr>\n",
       "    <tr>\n",
       "      <th>Vietnam</th>\n",
       "      <td>6</td>\n",
       "      <td>1</td>\n",
       "      <td>2</td>\n",
       "      <td>0</td>\n",
       "      <td>6</td>\n",
       "      <td>0</td>\n",
       "      <td>1</td>\n",
       "    </tr>\n",
       "  </tbody>\n",
       "</table>\n",
       "</div>"
      ],
      "text/plain": [
       "Sold_Weekly_Group  Less than 50  50+  100+  200+  300+  400+  500+\n",
       "Origin                                                            \n",
       "Canada                        0    0     0     0     8     0     0\n",
       "Hong Kong                     1    0     1     1    17     0     0\n",
       "Indonesia                     1    0     0     0     5     0     0\n",
       "Japan                         1    0     0     2    50     0     0\n",
       "Korea                         3    0     1     0    32     0     0\n",
       "Macao                         0    0     0     0     5     0     0\n",
       "Mainland China              103   23   113    29   633     4    17\n",
       "Malaysia                      1    0     1     0     2     0     0\n",
       "Philippine                    0    0     0     0     1     0     0\n",
       "Philippines                   0    1     0     1     0     0     0\n",
       "Singapore                     1    0     0     0     0     0     0\n",
       "Tailand                       1    0     0     0     0     0     0\n",
       "Taiwan                       15    4     3    10   123     0     0\n",
       "Thailand                      0    1     2     6    12     0     0\n",
       "Unclear                       0    0     0     3    31     0     0\n",
       "United States                14    1     1     4   298     0     1\n",
       "Vietnam                       6    1     2     0     6     0     1"
      ]
     },
     "execution_count": 44,
     "metadata": {},
     "output_type": "execute_result"
    },
    {
     "data": {
      "image/png": "[encoded data removed]",
      "text/plain": [
       "<Figure size 1440x504 with 1 Axes>"
      ]
     },
     "metadata": {
      "needs_background": "light"
     },
     "output_type": "display_data"
    }
   ],
   "source": [
    "# origin vs sold weekly group\n",
    "\n",
    "plt.rcParams['figure.figsize'] = (20, 7)\n",
    "# check the Origin percentage of Platform\n",
    "ax= plt.subplot(122)\n",
    "c2_c = pd.crosstab(df.Origin,df.Sold_Weekly_Group)\n",
    "c2_c.div(c2_c .sum(1).astype(float), axis=0).plot(kind='bar', stacked=True, ax=ax)\n",
    "plt.title('Origin percentage by Sold_Weekly_Group')\n",
    "plt.legend(bbox_to_anchor=(-0.2, 1), loc='left', borderaxespad=0)\n",
    "plt.xlabel('Sold_Weekly_Group')\n",
    "plt.xticks(rotation=90)\n",
    "plt.ylabel('Percentage of Origin')\n",
    "\n",
    "c2_c"
   ]
  },
  {
   "cell_type": "markdown",
   "metadata": {},
   "source": [
    "## Price_Group Vs Origin"
   ]
  },
  {
   "cell_type": "code",
   "execution_count": 37,
   "metadata": {},
   "outputs": [
    {
     "data": {
      "text/html": [
       "<div>\n",
       "<style scoped>\n",
       "    .dataframe tbody tr th:only-of-type {\n",
       "        vertical-align: middle;\n",
       "    }\n",
       "\n",
       "    .dataframe tbody tr th {\n",
       "        vertical-align: top;\n",
       "    }\n",
       "\n",
       "    .dataframe thead th {\n",
       "        text-align: right;\n",
       "    }\n",
       "</style>\n",
       "<table border=\"1\" class=\"dataframe\">\n",
       "  <thead>\n",
       "    <tr style=\"text-align: right;\">\n",
       "      <th></th>\n",
       "      <th>Brand</th>\n",
       "      <th>Category</th>\n",
       "      <th>Option</th>\n",
       "      <th>Origin</th>\n",
       "      <th>Platform</th>\n",
       "      <th>Price</th>\n",
       "      <th>Product_Name</th>\n",
       "      <th>Rate</th>\n",
       "      <th>Reviews</th>\n",
       "      <th>Sold_Monthly</th>\n",
       "      <th>Sold_Weekly</th>\n",
       "      <th>Weekly_Revenue</th>\n",
       "      <th>Sold_Weekly_Group</th>\n",
       "      <th>Price_Group</th>\n",
       "    </tr>\n",
       "  </thead>\n",
       "  <tbody>\n",
       "    <tr>\n",
       "      <th>0</th>\n",
       "      <td>bestore</td>\n",
       "      <td>Dried Fruit</td>\n",
       "      <td>No</td>\n",
       "      <td>Mainland China</td>\n",
       "      <td>Yami</td>\n",
       "      <td>2.89</td>\n",
       "      <td>Colorful Dried Fruits and Vegetables 50g</td>\n",
       "      <td>5</td>\n",
       "      <td>1</td>\n",
       "      <td>800</td>\n",
       "      <td>200</td>\n",
       "      <td>578.0</td>\n",
       "      <td>100+</td>\n",
       "      <td>2+</td>\n",
       "    </tr>\n",
       "    <tr>\n",
       "      <th>1</th>\n",
       "      <td>i factory</td>\n",
       "      <td>Dried Fruit</td>\n",
       "      <td>2 Options</td>\n",
       "      <td>Japan</td>\n",
       "      <td>Yami</td>\n",
       "      <td>2.49</td>\n",
       "      <td>Dried Plum Slice 14g</td>\n",
       "      <td>4.8</td>\n",
       "      <td>229</td>\n",
       "      <td>1600</td>\n",
       "      <td>400</td>\n",
       "      <td>996.0</td>\n",
       "      <td>300+</td>\n",
       "      <td>2+</td>\n",
       "    </tr>\n",
       "    <tr>\n",
       "      <th>2</th>\n",
       "      <td>big green</td>\n",
       "      <td>Dried Fruit</td>\n",
       "      <td>5 Options</td>\n",
       "      <td>Mainland China</td>\n",
       "      <td>Yami</td>\n",
       "      <td>1.99</td>\n",
       "      <td>Freeze Dried Strawberry 20g</td>\n",
       "      <td>4.6</td>\n",
       "      <td>178</td>\n",
       "      <td>1200</td>\n",
       "      <td>300</td>\n",
       "      <td>597.0</td>\n",
       "      <td>200+</td>\n",
       "      <td>Less than 2</td>\n",
       "    </tr>\n",
       "    <tr>\n",
       "      <th>3</th>\n",
       "      <td>bestore</td>\n",
       "      <td>Dried Fruit</td>\n",
       "      <td>No</td>\n",
       "      <td>Mainland China</td>\n",
       "      <td>Yami</td>\n",
       "      <td>6.99</td>\n",
       "      <td>Yellow Peach Dried Fruits 98g</td>\n",
       "      <td>0</td>\n",
       "      <td>0</td>\n",
       "      <td>800</td>\n",
       "      <td>200</td>\n",
       "      <td>1398.0</td>\n",
       "      <td>100+</td>\n",
       "      <td>6+</td>\n",
       "    </tr>\n",
       "    <tr>\n",
       "      <th>4</th>\n",
       "      <td>yifen</td>\n",
       "      <td>Dried Fruit</td>\n",
       "      <td>No</td>\n",
       "      <td>Mainland China</td>\n",
       "      <td>Yami</td>\n",
       "      <td>2.19</td>\n",
       "      <td>Fragrant Dried Olives 70g</td>\n",
       "      <td>0</td>\n",
       "      <td>0</td>\n",
       "      <td>1600</td>\n",
       "      <td>400</td>\n",
       "      <td>876.0</td>\n",
       "      <td>300+</td>\n",
       "      <td>2+</td>\n",
       "    </tr>\n",
       "  </tbody>\n",
       "</table>\n",
       "</div>"
      ],
      "text/plain": [
       "       Brand     Category     Option          Origin Platform  Price  \\\n",
       "0    bestore  Dried Fruit         No  Mainland China     Yami   2.89   \n",
       "1  i factory  Dried Fruit  2 Options           Japan     Yami   2.49   \n",
       "2  big green  Dried Fruit  5 Options  Mainland China     Yami   1.99   \n",
       "3    bestore  Dried Fruit         No  Mainland China     Yami   6.99   \n",
       "4      yifen  Dried Fruit         No  Mainland China     Yami   2.19   \n",
       "\n",
       "                               Product_Name Rate  Reviews  Sold_Monthly  \\\n",
       "0  Colorful Dried Fruits and Vegetables 50g    5        1           800   \n",
       "1                      Dried Plum Slice 14g  4.8      229          1600   \n",
       "2               Freeze Dried Strawberry 20g  4.6      178          1200   \n",
       "3             Yellow Peach Dried Fruits 98g    0        0           800   \n",
       "4                 Fragrant Dried Olives 70g    0        0          1600   \n",
       "\n",
       "   Sold_Weekly  Weekly_Revenue Sold_Weekly_Group  Price_Group  \n",
       "0          200           578.0              100+           2+  \n",
       "1          400           996.0              300+           2+  \n",
       "2          300           597.0              200+  Less than 2  \n",
       "3          200          1398.0              100+           6+  \n",
       "4          400           876.0              300+           2+  "
      ]
     },
     "execution_count": 37,
     "metadata": {},
     "output_type": "execute_result"
    }
   ],
   "source": [
    "df['Price_Group'] = pd.cut(x = df['Price'], \n",
    "                                   bins = [0,2,4,6,8,10,12,14,16,10000],\n",
    "                                   labels = ['Less than 2','2+','4+','6+','8+','10+','12+','14+','16+'])\n",
    "df.head()"
   ]
  },
  {
   "cell_type": "code",
   "execution_count": 38,
   "metadata": {},
   "outputs": [
    {
     "data": {
      "text/plain": [
       "Text(0.5, 1.0, 'Price_Group vs. Origin')"
      ]
     },
     "execution_count": 38,
     "metadata": {},
     "output_type": "execute_result"
    },
    {
     "data": {
      "image/png": "[encoded data removed]",
      "text/plain": [
       "<Figure size 1440x432 with 1 Axes>"
      ]
     },
     "metadata": {
      "needs_background": "light"
     },
     "output_type": "display_data"
    }
   ],
   "source": [
    "# origin vs Price group\n",
    "\n",
    "plt.rcParams['figure.figsize'] = (20, 6)\n",
    "\n",
    "# compare the year with Origin with price group\n",
    "plt.subplot(121)\n",
    "sns.countplot(x='Origin',hue= 'Price_Group', data=df, palette = 'husl')\n",
    "plt.xticks(rotation=90)\n",
    "plt.legend(bbox_to_anchor=(-0.2, 0.5), loc='right', borderaxespad=0)\n",
    "plt.title('Price_Group vs. Origin')"
   ]
  },
  {
   "cell_type": "code",
   "execution_count": 43,
   "metadata": {},
   "outputs": [
    {
     "name": "stderr",
     "output_type": "stream",
     "text": [
      "C:\\Users\\13750\\Anaconda3\\lib\\site-packages\\ipykernel_launcher.py:10: MatplotlibDeprecationWarning: Unrecognized location 'left'. Falling back on 'best'; valid locations are\n",
      "\tbest\n",
      "\tupper right\n",
      "\tupper left\n",
      "\tlower left\n",
      "\tlower right\n",
      "\tright\n",
      "\tcenter left\n",
      "\tcenter right\n",
      "\tlower center\n",
      "\tupper center\n",
      "\tcenter\n",
      "This will raise an exception in 3.3.\n",
      "  # Remove the CWD from sys.path while we load stuff.\n"
     ]
    },
    {
     "data": {
      "text/html": [
       "<div>\n",
       "<style scoped>\n",
       "    .dataframe tbody tr th:only-of-type {\n",
       "        vertical-align: middle;\n",
       "    }\n",
       "\n",
       "    .dataframe tbody tr th {\n",
       "        vertical-align: top;\n",
       "    }\n",
       "\n",
       "    .dataframe thead th {\n",
       "        text-align: right;\n",
       "    }\n",
       "</style>\n",
       "<table border=\"1\" class=\"dataframe\">\n",
       "  <thead>\n",
       "    <tr style=\"text-align: right;\">\n",
       "      <th>Price_Group</th>\n",
       "      <th>Less than 2</th>\n",
       "      <th>2+</th>\n",
       "      <th>4+</th>\n",
       "      <th>6+</th>\n",
       "      <th>8+</th>\n",
       "      <th>10+</th>\n",
       "      <th>12+</th>\n",
       "      <th>14+</th>\n",
       "      <th>16+</th>\n",
       "    </tr>\n",
       "    <tr>\n",
       "      <th>Origin</th>\n",
       "      <th></th>\n",
       "      <th></th>\n",
       "      <th></th>\n",
       "      <th></th>\n",
       "      <th></th>\n",
       "      <th></th>\n",
       "      <th></th>\n",
       "      <th></th>\n",
       "      <th></th>\n",
       "    </tr>\n",
       "  </thead>\n",
       "  <tbody>\n",
       "    <tr>\n",
       "      <th>Canada</th>\n",
       "      <td>0</td>\n",
       "      <td>0</td>\n",
       "      <td>0</td>\n",
       "      <td>1</td>\n",
       "      <td>0</td>\n",
       "      <td>0</td>\n",
       "      <td>0</td>\n",
       "      <td>0</td>\n",
       "      <td>4</td>\n",
       "    </tr>\n",
       "    <tr>\n",
       "      <th>Denmark</th>\n",
       "      <td>0</td>\n",
       "      <td>1</td>\n",
       "      <td>0</td>\n",
       "      <td>0</td>\n",
       "      <td>0</td>\n",
       "      <td>0</td>\n",
       "      <td>0</td>\n",
       "      <td>0</td>\n",
       "      <td>0</td>\n",
       "    </tr>\n",
       "    <tr>\n",
       "      <th>German</th>\n",
       "      <td>0</td>\n",
       "      <td>0</td>\n",
       "      <td>0</td>\n",
       "      <td>0</td>\n",
       "      <td>0</td>\n",
       "      <td>0</td>\n",
       "      <td>0</td>\n",
       "      <td>0</td>\n",
       "      <td>1</td>\n",
       "    </tr>\n",
       "    <tr>\n",
       "      <th>Hong Kong</th>\n",
       "      <td>2</td>\n",
       "      <td>20</td>\n",
       "      <td>10</td>\n",
       "      <td>1</td>\n",
       "      <td>4</td>\n",
       "      <td>4</td>\n",
       "      <td>0</td>\n",
       "      <td>0</td>\n",
       "      <td>1</td>\n",
       "    </tr>\n",
       "    <tr>\n",
       "      <th>Indonesia</th>\n",
       "      <td>3</td>\n",
       "      <td>2</td>\n",
       "      <td>0</td>\n",
       "      <td>0</td>\n",
       "      <td>1</td>\n",
       "      <td>0</td>\n",
       "      <td>0</td>\n",
       "      <td>0</td>\n",
       "      <td>0</td>\n",
       "    </tr>\n",
       "    <tr>\n",
       "      <th>Japan</th>\n",
       "      <td>5</td>\n",
       "      <td>29</td>\n",
       "      <td>25</td>\n",
       "      <td>10</td>\n",
       "      <td>3</td>\n",
       "      <td>8</td>\n",
       "      <td>4</td>\n",
       "      <td>9</td>\n",
       "      <td>8</td>\n",
       "    </tr>\n",
       "    <tr>\n",
       "      <th>Korea</th>\n",
       "      <td>9</td>\n",
       "      <td>36</td>\n",
       "      <td>25</td>\n",
       "      <td>16</td>\n",
       "      <td>12</td>\n",
       "      <td>4</td>\n",
       "      <td>0</td>\n",
       "      <td>2</td>\n",
       "      <td>6</td>\n",
       "    </tr>\n",
       "    <tr>\n",
       "      <th>Macao</th>\n",
       "      <td>0</td>\n",
       "      <td>1</td>\n",
       "      <td>2</td>\n",
       "      <td>3</td>\n",
       "      <td>0</td>\n",
       "      <td>0</td>\n",
       "      <td>0</td>\n",
       "      <td>0</td>\n",
       "      <td>0</td>\n",
       "    </tr>\n",
       "    <tr>\n",
       "      <th>Mainland China</th>\n",
       "      <td>189</td>\n",
       "      <td>396</td>\n",
       "      <td>285</td>\n",
       "      <td>97</td>\n",
       "      <td>94</td>\n",
       "      <td>40</td>\n",
       "      <td>14</td>\n",
       "      <td>17</td>\n",
       "      <td>100</td>\n",
       "    </tr>\n",
       "    <tr>\n",
       "      <th>Malaysia</th>\n",
       "      <td>0</td>\n",
       "      <td>0</td>\n",
       "      <td>3</td>\n",
       "      <td>1</td>\n",
       "      <td>0</td>\n",
       "      <td>0</td>\n",
       "      <td>0</td>\n",
       "      <td>0</td>\n",
       "      <td>3</td>\n",
       "    </tr>\n",
       "    <tr>\n",
       "      <th>Philippine</th>\n",
       "      <td>0</td>\n",
       "      <td>1</td>\n",
       "      <td>0</td>\n",
       "      <td>0</td>\n",
       "      <td>0</td>\n",
       "      <td>0</td>\n",
       "      <td>0</td>\n",
       "      <td>0</td>\n",
       "      <td>0</td>\n",
       "    </tr>\n",
       "    <tr>\n",
       "      <th>Singapore</th>\n",
       "      <td>0</td>\n",
       "      <td>6</td>\n",
       "      <td>1</td>\n",
       "      <td>0</td>\n",
       "      <td>0</td>\n",
       "      <td>0</td>\n",
       "      <td>0</td>\n",
       "      <td>0</td>\n",
       "      <td>0</td>\n",
       "    </tr>\n",
       "    <tr>\n",
       "      <th>Tailand</th>\n",
       "      <td>0</td>\n",
       "      <td>1</td>\n",
       "      <td>0</td>\n",
       "      <td>0</td>\n",
       "      <td>0</td>\n",
       "      <td>0</td>\n",
       "      <td>0</td>\n",
       "      <td>0</td>\n",
       "      <td>0</td>\n",
       "    </tr>\n",
       "    <tr>\n",
       "      <th>Taiwan</th>\n",
       "      <td>46</td>\n",
       "      <td>65</td>\n",
       "      <td>53</td>\n",
       "      <td>22</td>\n",
       "      <td>15</td>\n",
       "      <td>13</td>\n",
       "      <td>20</td>\n",
       "      <td>1</td>\n",
       "      <td>21</td>\n",
       "    </tr>\n",
       "    <tr>\n",
       "      <th>Thailand</th>\n",
       "      <td>4</td>\n",
       "      <td>8</td>\n",
       "      <td>4</td>\n",
       "      <td>3</td>\n",
       "      <td>0</td>\n",
       "      <td>0</td>\n",
       "      <td>1</td>\n",
       "      <td>0</td>\n",
       "      <td>0</td>\n",
       "    </tr>\n",
       "    <tr>\n",
       "      <th>Unclear</th>\n",
       "      <td>5</td>\n",
       "      <td>24</td>\n",
       "      <td>7</td>\n",
       "      <td>10</td>\n",
       "      <td>5</td>\n",
       "      <td>1</td>\n",
       "      <td>1</td>\n",
       "      <td>3</td>\n",
       "      <td>3</td>\n",
       "    </tr>\n",
       "    <tr>\n",
       "      <th>United States</th>\n",
       "      <td>0</td>\n",
       "      <td>36</td>\n",
       "      <td>26</td>\n",
       "      <td>17</td>\n",
       "      <td>19</td>\n",
       "      <td>15</td>\n",
       "      <td>14</td>\n",
       "      <td>19</td>\n",
       "      <td>178</td>\n",
       "    </tr>\n",
       "    <tr>\n",
       "      <th>Vietnam</th>\n",
       "      <td>3</td>\n",
       "      <td>4</td>\n",
       "      <td>9</td>\n",
       "      <td>0</td>\n",
       "      <td>1</td>\n",
       "      <td>0</td>\n",
       "      <td>0</td>\n",
       "      <td>0</td>\n",
       "      <td>0</td>\n",
       "    </tr>\n",
       "  </tbody>\n",
       "</table>\n",
       "</div>"
      ],
      "text/plain": [
       "Price_Group     Less than 2   2+   4+  6+  8+  10+  12+  14+  16+\n",
       "Origin                                                           \n",
       "Canada                    0    0    0   1   0    0    0    0    4\n",
       "Denmark                   0    1    0   0   0    0    0    0    0\n",
       "German                    0    0    0   0   0    0    0    0    1\n",
       "Hong Kong                 2   20   10   1   4    4    0    0    1\n",
       "Indonesia                 3    2    0   0   1    0    0    0    0\n",
       "Japan                     5   29   25  10   3    8    4    9    8\n",
       "Korea                     9   36   25  16  12    4    0    2    6\n",
       "Macao                     0    1    2   3   0    0    0    0    0\n",
       "Mainland China          189  396  285  97  94   40   14   17  100\n",
       "Malaysia                  0    0    3   1   0    0    0    0    3\n",
       "Philippine                0    1    0   0   0    0    0    0    0\n",
       "Singapore                 0    6    1   0   0    0    0    0    0\n",
       "Tailand                   0    1    0   0   0    0    0    0    0\n",
       "Taiwan                   46   65   53  22  15   13   20    1   21\n",
       "Thailand                  4    8    4   3   0    0    1    0    0\n",
       "Unclear                   5   24    7  10   5    1    1    3    3\n",
       "United States             0   36   26  17  19   15   14   19  178\n",
       "Vietnam                   3    4    9   0   1    0    0    0    0"
      ]
     },
     "execution_count": 43,
     "metadata": {},
     "output_type": "execute_result"
    },
    {
     "data": {
      "image/png": "[encoded data removed]",
      "text/plain": [
       "<Figure size 1440x504 with 1 Axes>"
      ]
     },
     "metadata": {
      "needs_background": "light"
     },
     "output_type": "display_data"
    }
   ],
   "source": [
    "# origin vs sold weekly group\n",
    "\n",
    "plt.rcParams['figure.figsize'] = (20, 7)\n",
    "\n",
    "# check the Origin percentage of Platform\n",
    "ax= plt.subplot(122)\n",
    "c2_c = pd.crosstab( dbc.Origin, dbc.Price_Group)\n",
    "c2_c.div(c2_c .sum(1).astype(float), axis=0).plot(kind='bar', stacked=True, ax=ax)\n",
    "plt.title('Origin percentage by Price_Group')\n",
    "plt.legend(bbox_to_anchor=(-0.2, 1), loc='left', borderaxespad=0)\n",
    "plt.xlabel('Price_Group')\n",
    "plt.xticks(rotation=65)\n",
    "plt.ylabel('Percentage of Origin')\n",
    "\n",
    "c2_c"
   ]
  },
  {
   "cell_type": "markdown",
   "metadata": {},
   "source": [
    "## Price_Group Vs Sold_Weekly_Group\n"
   ]
  },
  {
   "cell_type": "code",
   "execution_count": 39,
   "metadata": {},
   "outputs": [
    {
     "name": "stderr",
     "output_type": "stream",
     "text": [
      "C:\\Users\\13750\\Anaconda3\\lib\\site-packages\\ipykernel_launcher.py:8: MatplotlibDeprecationWarning: Unrecognized location 'left'. Falling back on 'best'; valid locations are\n",
      "\tbest\n",
      "\tupper right\n",
      "\tupper left\n",
      "\tlower left\n",
      "\tlower right\n",
      "\tright\n",
      "\tcenter left\n",
      "\tcenter right\n",
      "\tlower center\n",
      "\tupper center\n",
      "\tcenter\n",
      "This will raise an exception in 3.3.\n",
      "  \n"
     ]
    },
    {
     "data": {
      "text/html": [
       "<div>\n",
       "<style scoped>\n",
       "    .dataframe tbody tr th:only-of-type {\n",
       "        vertical-align: middle;\n",
       "    }\n",
       "\n",
       "    .dataframe tbody tr th {\n",
       "        vertical-align: top;\n",
       "    }\n",
       "\n",
       "    .dataframe thead th {\n",
       "        text-align: right;\n",
       "    }\n",
       "</style>\n",
       "<table border=\"1\" class=\"dataframe\">\n",
       "  <thead>\n",
       "    <tr style=\"text-align: right;\">\n",
       "      <th>Sold_Weekly_Group</th>\n",
       "      <th>Less than 50</th>\n",
       "      <th>50+</th>\n",
       "      <th>100+</th>\n",
       "      <th>200+</th>\n",
       "      <th>300+</th>\n",
       "      <th>400+</th>\n",
       "      <th>500+</th>\n",
       "    </tr>\n",
       "    <tr>\n",
       "      <th>Price_Group</th>\n",
       "      <th></th>\n",
       "      <th></th>\n",
       "      <th></th>\n",
       "      <th></th>\n",
       "      <th></th>\n",
       "      <th></th>\n",
       "      <th></th>\n",
       "    </tr>\n",
       "  </thead>\n",
       "  <tbody>\n",
       "    <tr>\n",
       "      <th>Less than 2</th>\n",
       "      <td>11</td>\n",
       "      <td>3</td>\n",
       "      <td>3</td>\n",
       "      <td>8</td>\n",
       "      <td>160</td>\n",
       "      <td>1</td>\n",
       "      <td>6</td>\n",
       "    </tr>\n",
       "    <tr>\n",
       "      <th>2+</th>\n",
       "      <td>52</td>\n",
       "      <td>15</td>\n",
       "      <td>26</td>\n",
       "      <td>24</td>\n",
       "      <td>284</td>\n",
       "      <td>1</td>\n",
       "      <td>11</td>\n",
       "    </tr>\n",
       "    <tr>\n",
       "      <th>4+</th>\n",
       "      <td>51</td>\n",
       "      <td>7</td>\n",
       "      <td>33</td>\n",
       "      <td>15</td>\n",
       "      <td>232</td>\n",
       "      <td>0</td>\n",
       "      <td>1</td>\n",
       "    </tr>\n",
       "    <tr>\n",
       "      <th>6+</th>\n",
       "      <td>16</td>\n",
       "      <td>5</td>\n",
       "      <td>16</td>\n",
       "      <td>3</td>\n",
       "      <td>85</td>\n",
       "      <td>1</td>\n",
       "      <td>0</td>\n",
       "    </tr>\n",
       "    <tr>\n",
       "      <th>8+</th>\n",
       "      <td>10</td>\n",
       "      <td>1</td>\n",
       "      <td>25</td>\n",
       "      <td>2</td>\n",
       "      <td>73</td>\n",
       "      <td>0</td>\n",
       "      <td>0</td>\n",
       "    </tr>\n",
       "    <tr>\n",
       "      <th>10+</th>\n",
       "      <td>2</td>\n",
       "      <td>0</td>\n",
       "      <td>13</td>\n",
       "      <td>2</td>\n",
       "      <td>49</td>\n",
       "      <td>0</td>\n",
       "      <td>0</td>\n",
       "    </tr>\n",
       "    <tr>\n",
       "      <th>12+</th>\n",
       "      <td>3</td>\n",
       "      <td>0</td>\n",
       "      <td>2</td>\n",
       "      <td>2</td>\n",
       "      <td>34</td>\n",
       "      <td>0</td>\n",
       "      <td>0</td>\n",
       "    </tr>\n",
       "    <tr>\n",
       "      <th>14+</th>\n",
       "      <td>1</td>\n",
       "      <td>0</td>\n",
       "      <td>0</td>\n",
       "      <td>0</td>\n",
       "      <td>43</td>\n",
       "      <td>0</td>\n",
       "      <td>0</td>\n",
       "    </tr>\n",
       "    <tr>\n",
       "      <th>16+</th>\n",
       "      <td>1</td>\n",
       "      <td>0</td>\n",
       "      <td>6</td>\n",
       "      <td>0</td>\n",
       "      <td>263</td>\n",
       "      <td>1</td>\n",
       "      <td>1</td>\n",
       "    </tr>\n",
       "  </tbody>\n",
       "</table>\n",
       "</div>"
      ],
      "text/plain": [
       "Sold_Weekly_Group  Less than 50  50+  100+  200+  300+  400+  500+\n",
       "Price_Group                                                       \n",
       "Less than 2                  11    3     3     8   160     1     6\n",
       "2+                           52   15    26    24   284     1    11\n",
       "4+                           51    7    33    15   232     0     1\n",
       "6+                           16    5    16     3    85     1     0\n",
       "8+                           10    1    25     2    73     0     0\n",
       "10+                           2    0    13     2    49     0     0\n",
       "12+                           3    0     2     2    34     0     0\n",
       "14+                           1    0     0     0    43     0     0\n",
       "16+                           1    0     6     0   263     1     1"
      ]
     },
     "execution_count": 39,
     "metadata": {},
     "output_type": "execute_result"
    },
    {
     "data": {
      "image/png": "[encoded data removed]",
      "text/plain": [
       "<Figure size 1440x360 with 1 Axes>"
      ]
     },
     "metadata": {
      "needs_background": "light"
     },
     "output_type": "display_data"
    }
   ],
   "source": [
    "plt.rcParams['figure.figsize'] = (20, 5)\n",
    "\n",
    "# check the Price_Group percentage of Sold_Weekly_Group\n",
    "ax= plt.subplot(122)\n",
    "c2_c = pd.crosstab(df.Price_Group, df.Sold_Weekly_Group)\n",
    "c2_c.div(c2_c .sum(1).astype(float), axis=0).plot(kind='bar', stacked=True, ax=ax)\n",
    "plt.title('Sold_Weekly_Group percentage by Price_Group')\n",
    "plt.legend(bbox_to_anchor=(-0.1, 1), loc='left', borderaxespad=0)\n",
    "plt.xlabel('Price_Group')\n",
    "plt.xticks(rotation=0)\n",
    "plt.ylabel('Percentage of Sold_Weekly_Group')\n",
    "\n",
    "c2_c"
   ]
  },
  {
   "cell_type": "code",
   "execution_count": 40,
   "metadata": {},
   "outputs": [
    {
     "data": {
      "text/plain": [
       "Text(0.5, 1.0, 'Price_Group vs. Sold_Weekly_Group')"
      ]
     },
     "execution_count": 40,
     "metadata": {},
     "output_type": "execute_result"
    },
    {
     "data": {
      "image/png": "[encoded data removed]",
      "text/plain": [
       "<Figure size 1440x288 with 1 Axes>"
      ]
     },
     "metadata": {
      "needs_background": "light"
     },
     "output_type": "display_data"
    }
   ],
   "source": [
    "# price group vs sold weekly group\n",
    "\n",
    "plt.rcParams['figure.figsize'] = (20, 4)\n",
    "\n",
    "# compare the year with price group with sold weekly group\n",
    "plt.subplot(121)\n",
    "sns.countplot(x='Price_Group',hue= 'Sold_Weekly_Group', data=df, palette = 'husl')\n",
    "plt.legend(bbox_to_anchor=(-0.2, 0.5), loc='right', borderaxespad=0)\n",
    "plt.title('Price_Group vs. Sold_Weekly_Group')"
   ]
  },
  {
   "cell_type": "code",
   "execution_count": 41,
   "metadata": {},
   "outputs": [],
   "source": [
    "df.to_csv(r'C:\\Users\\13750\\Desktop\\Empire Bazaar Group Corp\\US chinese product market\\SNACK MARKET\\Analysis Data\\dried fruit\\dried fruit.csv', index = False)"
   ]
  },
  {
   "cell_type": "code",
   "execution_count": null,
   "metadata": {},
   "outputs": [],
   "source": []
  },
  {
   "cell_type": "code",
   "execution_count": null,
   "metadata": {},
   "outputs": [],
   "source": []
  },
  {
   "cell_type": "code",
   "execution_count": null,
   "metadata": {},
   "outputs": [],
   "source": []
  }
 ],
 "metadata": {
  "kernelspec": {
   "display_name": "Python 3",
   "language": "python",
   "name": "python3"
  },
  "language_info": {
   "codemirror_mode": {
    "name": "ipython",
    "version": 3
   },
   "file_extension": ".py",
   "mimetype": "text/x-python",
   "name": "python",
   "nbconvert_exporter": "python",
   "pygments_lexer": "ipython3",
   "version": "3.7.3"
  }
 },
 "nbformat": 4,
 "nbformat_minor": 2
}
