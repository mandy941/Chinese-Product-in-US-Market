{
 "cells": [
  {
   "cell_type": "code",
   "execution_count": 1,
   "metadata": {},
   "outputs": [],
   "source": [
    "# Import libraries\n",
    "import requests\n",
    "from bs4 import BeautifulSoup\n",
    "import pandas as pd\n",
    "import requests\n",
    "import seaborn as sns #visualisation\n",
    "import matplotlib.pyplot as plt #visualisation\n",
    "%matplotlib inline \n",
    "sns.set(color_codes=True)"
   ]
  },
  {
   "cell_type": "code",
   "execution_count": 39,
   "metadata": {},
   "outputs": [
    {
     "data": {
      "text/html": [
       "<div>\n",
       "<style scoped>\n",
       "    .dataframe tbody tr th:only-of-type {\n",
       "        vertical-align: middle;\n",
       "    }\n",
       "\n",
       "    .dataframe tbody tr th {\n",
       "        vertical-align: top;\n",
       "    }\n",
       "\n",
       "    .dataframe thead th {\n",
       "        text-align: right;\n",
       "    }\n",
       "</style>\n",
       "<table border=\"1\" class=\"dataframe\">\n",
       "  <thead>\n",
       "    <tr style=\"text-align: right;\">\n",
       "      <th></th>\n",
       "      <th>Product_Name</th>\n",
       "      <th>Brand</th>\n",
       "      <th>Price</th>\n",
       "      <th>Reviews</th>\n",
       "      <th>Origin</th>\n",
       "      <th>Rate</th>\n",
       "      <th>Platform</th>\n",
       "      <th>Category</th>\n",
       "      <th>Sold_Weekly</th>\n",
       "      <th>Sold_Monthly</th>\n",
       "      <th>Weekly_Revenue</th>\n",
       "    </tr>\n",
       "  </thead>\n",
       "  <tbody>\n",
       "    <tr>\n",
       "      <th>0</th>\n",
       "      <td>NUTS LAB Buldak Flavor Almond 120g</td>\n",
       "      <td>nuts lab</td>\n",
       "      <td>4.29</td>\n",
       "      <td>2</td>\n",
       "      <td>Korea</td>\n",
       "      <td>5.0</td>\n",
       "      <td>Yami</td>\n",
       "      <td>Nuts</td>\n",
       "      <td>25</td>\n",
       "      <td>100</td>\n",
       "      <td>107.25</td>\n",
       "    </tr>\n",
       "    <tr>\n",
       "      <th>1</th>\n",
       "      <td>Super Nuts Pecans 225g</td>\n",
       "      <td>three squirrels</td>\n",
       "      <td>9.59</td>\n",
       "      <td>0</td>\n",
       "      <td>Mainland China</td>\n",
       "      <td>0.0</td>\n",
       "      <td>Yami</td>\n",
       "      <td>Nuts</td>\n",
       "      <td>25</td>\n",
       "      <td>100</td>\n",
       "      <td>239.75</td>\n",
       "    </tr>\n",
       "    <tr>\n",
       "      <th>2</th>\n",
       "      <td>Salted Egg Yolk Macadamia Nuts 65g</td>\n",
       "      <td>kam yuen</td>\n",
       "      <td>4.29</td>\n",
       "      <td>0</td>\n",
       "      <td>Mainland China</td>\n",
       "      <td>0.0</td>\n",
       "      <td>Yami</td>\n",
       "      <td>Nuts</td>\n",
       "      <td>25</td>\n",
       "      <td>100</td>\n",
       "      <td>107.25</td>\n",
       "    </tr>\n",
       "    <tr>\n",
       "      <th>3</th>\n",
       "      <td>Super Nuts Pistachio Nuts 225g</td>\n",
       "      <td>three squirrels</td>\n",
       "      <td>10.99</td>\n",
       "      <td>0</td>\n",
       "      <td>Mainland China</td>\n",
       "      <td>0.0</td>\n",
       "      <td>Yami</td>\n",
       "      <td>Nuts</td>\n",
       "      <td>25</td>\n",
       "      <td>100</td>\n",
       "      <td>274.75</td>\n",
       "    </tr>\n",
       "    <tr>\n",
       "      <th>4</th>\n",
       "      <td>LIAN FENG Hickory Nuts Kernels 108g</td>\n",
       "      <td>lianfeng</td>\n",
       "      <td>11.99</td>\n",
       "      <td>114</td>\n",
       "      <td>Mainland China</td>\n",
       "      <td>4.8</td>\n",
       "      <td>Yami</td>\n",
       "      <td>Nuts</td>\n",
       "      <td>25</td>\n",
       "      <td>100</td>\n",
       "      <td>299.75</td>\n",
       "    </tr>\n",
       "  </tbody>\n",
       "</table>\n",
       "</div>"
      ],
      "text/plain": [
       "                          Product_Name            Brand  Price  Reviews  \\\n",
       "0   NUTS LAB Buldak Flavor Almond 120g         nuts lab   4.29        2   \n",
       "1               Super Nuts Pecans 225g  three squirrels   9.59        0   \n",
       "2   Salted Egg Yolk Macadamia Nuts 65g         kam yuen   4.29        0   \n",
       "3       Super Nuts Pistachio Nuts 225g  three squirrels  10.99        0   \n",
       "4  LIAN FENG Hickory Nuts Kernels 108g         lianfeng  11.99      114   \n",
       "\n",
       "           Origin  Rate Platform Category  Sold_Weekly  Sold_Monthly  \\\n",
       "0           Korea   5.0     Yami     Nuts           25           100   \n",
       "1  Mainland China   0.0     Yami     Nuts           25           100   \n",
       "2  Mainland China   0.0     Yami     Nuts           25           100   \n",
       "3  Mainland China   0.0     Yami     Nuts           25           100   \n",
       "4  Mainland China   4.8     Yami     Nuts           25           100   \n",
       "\n",
       "   Weekly_Revenue  \n",
       "0          107.25  \n",
       "1          239.75  \n",
       "2          107.25  \n",
       "3          274.75  \n",
       "4          299.75  "
      ]
     },
     "execution_count": 39,
     "metadata": {},
     "output_type": "execute_result"
    }
   ],
   "source": [
    "url1 = 'https://raw.githubusercontent.com/mandy941/Chinese-Product-in-US-Market/main/SNACK%20MARKET/Analysis%20Data/nut/Yami%20Nuts.csv'\n",
    "url2 = 'https://raw.githubusercontent.com/mandy941/Chinese-Product-in-US-Market/main/SNACK%20MARKET/Analysis%20Data/nut/Nut-Weee!-Snacks-ScrapingData-ScrapeStorm.csv'\n",
    "url3 = 'https://raw.githubusercontent.com/mandy941/Chinese-Product-in-US-Market/main/SNACK%20MARKET/Analysis%20Data/nut/nut-freshgogoData-ScrapeStorm.csv'\n",
    "yami = pd.read_csv(url1, encoding='latin1')\n",
    "yami.head()"
   ]
  },
  {
   "cell_type": "code",
   "execution_count": 40,
   "metadata": {},
   "outputs": [
    {
     "data": {
      "text/html": [
       "<div>\n",
       "<style scoped>\n",
       "    .dataframe tbody tr th:only-of-type {\n",
       "        vertical-align: middle;\n",
       "    }\n",
       "\n",
       "    .dataframe tbody tr th {\n",
       "        vertical-align: top;\n",
       "    }\n",
       "\n",
       "    .dataframe thead th {\n",
       "        text-align: right;\n",
       "    }\n",
       "</style>\n",
       "<table border=\"1\" class=\"dataframe\">\n",
       "  <thead>\n",
       "    <tr style=\"text-align: right;\">\n",
       "      <th></th>\n",
       "      <th>Product_Name</th>\n",
       "      <th>Price</th>\n",
       "      <th>Sold_Weekly</th>\n",
       "      <th>Origin</th>\n",
       "      <th>Brand</th>\n",
       "      <th>Reviews</th>\n",
       "      <th>Sold_Monthly</th>\n",
       "      <th>Weekly_Revenue</th>\n",
       "      <th>Rate</th>\n",
       "      <th>Platform</th>\n",
       "      <th>Category</th>\n",
       "    </tr>\n",
       "  </thead>\n",
       "  <tbody>\n",
       "    <tr>\n",
       "      <th>0</th>\n",
       "      <td>ChaCha Original Roasted Sunflower Seeds 250 g</td>\n",
       "      <td>3.39</td>\n",
       "      <td>1000</td>\n",
       "      <td>Mainland China</td>\n",
       "      <td>Cha Cha</td>\n",
       "      <td>636</td>\n",
       "      <td>4000</td>\n",
       "      <td>3390.0</td>\n",
       "      <td>Unclear</td>\n",
       "      <td>Weee</td>\n",
       "      <td>Nuts</td>\n",
       "    </tr>\n",
       "    <tr>\n",
       "      <th>1</th>\n",
       "      <td>ChaCha Roasted Spiced Flavor Sunflower Seeds 2...</td>\n",
       "      <td>3.19</td>\n",
       "      <td>1000</td>\n",
       "      <td>Mainland China</td>\n",
       "      <td>Cha Cha</td>\n",
       "      <td>851</td>\n",
       "      <td>4000</td>\n",
       "      <td>3190.0</td>\n",
       "      <td>Unclear</td>\n",
       "      <td>Weee</td>\n",
       "      <td>Nuts</td>\n",
       "    </tr>\n",
       "    <tr>\n",
       "      <th>2</th>\n",
       "      <td>ChaCha Roasted Sunflower Seeds, Chinese Pecan ...</td>\n",
       "      <td>3.19</td>\n",
       "      <td>1000</td>\n",
       "      <td>Unclear</td>\n",
       "      <td>Unclear</td>\n",
       "      <td>734</td>\n",
       "      <td>4000</td>\n",
       "      <td>3190.0</td>\n",
       "      <td>Unclear</td>\n",
       "      <td>Weee</td>\n",
       "      <td>Nuts</td>\n",
       "    </tr>\n",
       "    <tr>\n",
       "      <th>3</th>\n",
       "      <td>Huang Fei Hong Spicy Peanuts 210 g</td>\n",
       "      <td>3.69</td>\n",
       "      <td>600</td>\n",
       "      <td>Mainland China</td>\n",
       "      <td>Unclear</td>\n",
       "      <td>103</td>\n",
       "      <td>2400</td>\n",
       "      <td>2214.0</td>\n",
       "      <td>Unclear</td>\n",
       "      <td>Weee</td>\n",
       "      <td>Nuts</td>\n",
       "    </tr>\n",
       "    <tr>\n",
       "      <th>4</th>\n",
       "      <td>Ganyuan Broad Beans, Crab Roe Flavor 285 g</td>\n",
       "      <td>3.99</td>\n",
       "      <td>900</td>\n",
       "      <td>Mainland China</td>\n",
       "      <td>GanYuan</td>\n",
       "      <td>457</td>\n",
       "      <td>3600</td>\n",
       "      <td>3591.0</td>\n",
       "      <td>Unclear</td>\n",
       "      <td>Weee</td>\n",
       "      <td>Nuts</td>\n",
       "    </tr>\n",
       "  </tbody>\n",
       "</table>\n",
       "</div>"
      ],
      "text/plain": [
       "                                        Product_Name  Price  Sold_Weekly  \\\n",
       "0      ChaCha Original Roasted Sunflower Seeds 250 g   3.39         1000   \n",
       "1  ChaCha Roasted Spiced Flavor Sunflower Seeds 2...   3.19         1000   \n",
       "2  ChaCha Roasted Sunflower Seeds, Chinese Pecan ...   3.19         1000   \n",
       "3                 Huang Fei Hong Spicy Peanuts 210 g   3.69          600   \n",
       "4         Ganyuan Broad Beans, Crab Roe Flavor 285 g   3.99          900   \n",
       "\n",
       "           Origin    Brand  Reviews  Sold_Monthly  Weekly_Revenue     Rate  \\\n",
       "0  Mainland China  Cha Cha      636          4000          3390.0  Unclear   \n",
       "1  Mainland China  Cha Cha      851          4000          3190.0  Unclear   \n",
       "2         Unclear  Unclear      734          4000          3190.0  Unclear   \n",
       "3  Mainland China  Unclear      103          2400          2214.0  Unclear   \n",
       "4  Mainland China  GanYuan      457          3600          3591.0  Unclear   \n",
       "\n",
       "  Platform Category  \n",
       "0     Weee     Nuts  \n",
       "1     Weee     Nuts  \n",
       "2     Weee     Nuts  \n",
       "3     Weee     Nuts  \n",
       "4     Weee     Nuts  "
      ]
     },
     "execution_count": 40,
     "metadata": {},
     "output_type": "execute_result"
    }
   ],
   "source": [
    "weee = pd.read_csv(url2, encoding='latin1')\n",
    "weee.head()"
   ]
  },
  {
   "cell_type": "code",
   "execution_count": 41,
   "metadata": {},
   "outputs": [
    {
     "data": {
      "text/html": [
       "<div>\n",
       "<style scoped>\n",
       "    .dataframe tbody tr th:only-of-type {\n",
       "        vertical-align: middle;\n",
       "    }\n",
       "\n",
       "    .dataframe tbody tr th {\n",
       "        vertical-align: top;\n",
       "    }\n",
       "\n",
       "    .dataframe thead th {\n",
       "        text-align: right;\n",
       "    }\n",
       "</style>\n",
       "<table border=\"1\" class=\"dataframe\">\n",
       "  <thead>\n",
       "    <tr style=\"text-align: right;\">\n",
       "      <th></th>\n",
       "      <th>Price</th>\n",
       "      <th>Product_Name</th>\n",
       "      <th>Origin</th>\n",
       "      <th>Sold_Monthly</th>\n",
       "      <th>Reviews</th>\n",
       "      <th>Rate</th>\n",
       "      <th>Brand</th>\n",
       "      <th>Platform</th>\n",
       "      <th>Category</th>\n",
       "      <th>Sold_Weekly</th>\n",
       "      <th>Weekly_Revenue</th>\n",
       "    </tr>\n",
       "  </thead>\n",
       "  <tbody>\n",
       "    <tr>\n",
       "      <th>0</th>\n",
       "      <td>3.39</td>\n",
       "      <td>CHA CHAA Sunflower Seed (coconut flavor)</td>\n",
       "      <td>Unclear</td>\n",
       "      <td>12777</td>\n",
       "      <td>11</td>\n",
       "      <td>Unclear</td>\n",
       "      <td>Unclear</td>\n",
       "      <td>Freshgogo</td>\n",
       "      <td>Nuts</td>\n",
       "      <td>3194</td>\n",
       "      <td>10829</td>\n",
       "    </tr>\n",
       "    <tr>\n",
       "      <th>1</th>\n",
       "      <td>3.39</td>\n",
       "      <td>CHA CHAA Sunflower Seed (Sichuan Pepper)</td>\n",
       "      <td>Mainland China</td>\n",
       "      <td>6364</td>\n",
       "      <td>5</td>\n",
       "      <td>Unclear</td>\n",
       "      <td>Unclear</td>\n",
       "      <td>Freshgogo</td>\n",
       "      <td>Nuts</td>\n",
       "      <td>1591</td>\n",
       "      <td>5393</td>\n",
       "    </tr>\n",
       "    <tr>\n",
       "      <th>2</th>\n",
       "      <td>5.89</td>\n",
       "      <td>ASIAN TASTE Roasted Organic Chestnut</td>\n",
       "      <td>Mainland China</td>\n",
       "      <td>5939</td>\n",
       "      <td>0</td>\n",
       "      <td>Unclear</td>\n",
       "      <td>Unclear</td>\n",
       "      <td>Freshgogo</td>\n",
       "      <td>Nuts</td>\n",
       "      <td>1485</td>\n",
       "      <td>8745</td>\n",
       "    </tr>\n",
       "    <tr>\n",
       "      <th>3</th>\n",
       "      <td>2.99</td>\n",
       "      <td>JUBES Coconut Gel (orginal)</td>\n",
       "      <td>Japan</td>\n",
       "      <td>5927</td>\n",
       "      <td>0</td>\n",
       "      <td>Unclear</td>\n",
       "      <td>Unclear</td>\n",
       "      <td>Freshgogo</td>\n",
       "      <td>Nuts</td>\n",
       "      <td>1482</td>\n",
       "      <td>4430</td>\n",
       "    </tr>\n",
       "    <tr>\n",
       "      <th>4</th>\n",
       "      <td>5.09</td>\n",
       "      <td>Peanut</td>\n",
       "      <td>Unclear</td>\n",
       "      <td>6600</td>\n",
       "      <td>8</td>\n",
       "      <td>Unclear</td>\n",
       "      <td>Unclear</td>\n",
       "      <td>Freshgogo</td>\n",
       "      <td>Nuts</td>\n",
       "      <td>1650</td>\n",
       "      <td>8399</td>\n",
       "    </tr>\n",
       "  </tbody>\n",
       "</table>\n",
       "</div>"
      ],
      "text/plain": [
       "   Price                              Product_Name          Origin  \\\n",
       "0   3.39  CHA CHAA Sunflower Seed (coconut flavor)         Unclear   \n",
       "1   3.39  CHA CHAA Sunflower Seed (Sichuan Pepper)  Mainland China   \n",
       "2   5.89      ASIAN TASTE Roasted Organic Chestnut  Mainland China   \n",
       "3   2.99               JUBES Coconut Gel (orginal)           Japan   \n",
       "4   5.09                                    Peanut         Unclear   \n",
       "\n",
       "   Sold_Monthly  Reviews     Rate    Brand   Platform Category  Sold_Weekly  \\\n",
       "0         12777       11  Unclear  Unclear  Freshgogo     Nuts         3194   \n",
       "1          6364        5  Unclear  Unclear  Freshgogo     Nuts         1591   \n",
       "2          5939        0  Unclear  Unclear  Freshgogo     Nuts         1485   \n",
       "3          5927        0  Unclear  Unclear  Freshgogo     Nuts         1482   \n",
       "4          6600        8  Unclear  Unclear  Freshgogo     Nuts         1650   \n",
       "\n",
       "   Weekly_Revenue  \n",
       "0           10829  \n",
       "1            5393  \n",
       "2            8745  \n",
       "3            4430  \n",
       "4            8399  "
      ]
     },
     "execution_count": 41,
     "metadata": {},
     "output_type": "execute_result"
    }
   ],
   "source": [
    "freshgogo = pd.read_csv(url3)\n",
    "freshgogo.head()"
   ]
  },
  {
   "cell_type": "markdown",
   "metadata": {},
   "source": [
    "# Combine three tables together"
   ]
  },
  {
   "cell_type": "code",
   "execution_count": 42,
   "metadata": {},
   "outputs": [
    {
     "name": "stderr",
     "output_type": "stream",
     "text": [
      "C:\\Users\\13750\\Anaconda3\\lib\\site-packages\\ipykernel_launcher.py:1: FutureWarning: Sorting because non-concatenation axis is not aligned. A future version\n",
      "of pandas will change to not sort by default.\n",
      "\n",
      "To accept the future behavior, pass 'sort=False'.\n",
      "\n",
      "To retain the current behavior and silence the warning, pass 'sort=True'.\n",
      "\n",
      "  \"\"\"Entry point for launching an IPython kernel.\n"
     ]
    },
    {
     "data": {
      "text/html": [
       "<div>\n",
       "<style scoped>\n",
       "    .dataframe tbody tr th:only-of-type {\n",
       "        vertical-align: middle;\n",
       "    }\n",
       "\n",
       "    .dataframe tbody tr th {\n",
       "        vertical-align: top;\n",
       "    }\n",
       "\n",
       "    .dataframe thead th {\n",
       "        text-align: right;\n",
       "    }\n",
       "</style>\n",
       "<table border=\"1\" class=\"dataframe\">\n",
       "  <thead>\n",
       "    <tr style=\"text-align: right;\">\n",
       "      <th></th>\n",
       "      <th>Brand</th>\n",
       "      <th>Category</th>\n",
       "      <th>Origin</th>\n",
       "      <th>Platform</th>\n",
       "      <th>Price</th>\n",
       "      <th>Product_Name</th>\n",
       "      <th>Rate</th>\n",
       "      <th>Reviews</th>\n",
       "      <th>Sold_Monthly</th>\n",
       "      <th>Sold_Weekly</th>\n",
       "      <th>Weekly_Revenue</th>\n",
       "    </tr>\n",
       "  </thead>\n",
       "  <tbody>\n",
       "    <tr>\n",
       "      <th>0</th>\n",
       "      <td>nuts lab</td>\n",
       "      <td>Nuts</td>\n",
       "      <td>Korea</td>\n",
       "      <td>Yami</td>\n",
       "      <td>4.29</td>\n",
       "      <td>NUTS LAB Buldak Flavor Almond 120g</td>\n",
       "      <td>5</td>\n",
       "      <td>2</td>\n",
       "      <td>100</td>\n",
       "      <td>25</td>\n",
       "      <td>107.25</td>\n",
       "    </tr>\n",
       "    <tr>\n",
       "      <th>1</th>\n",
       "      <td>three squirrels</td>\n",
       "      <td>Nuts</td>\n",
       "      <td>Mainland China</td>\n",
       "      <td>Yami</td>\n",
       "      <td>9.59</td>\n",
       "      <td>Super Nuts Pecans 225g</td>\n",
       "      <td>0</td>\n",
       "      <td>0</td>\n",
       "      <td>100</td>\n",
       "      <td>25</td>\n",
       "      <td>239.75</td>\n",
       "    </tr>\n",
       "    <tr>\n",
       "      <th>2</th>\n",
       "      <td>kam yuen</td>\n",
       "      <td>Nuts</td>\n",
       "      <td>Mainland China</td>\n",
       "      <td>Yami</td>\n",
       "      <td>4.29</td>\n",
       "      <td>Salted Egg Yolk Macadamia Nuts 65g</td>\n",
       "      <td>0</td>\n",
       "      <td>0</td>\n",
       "      <td>100</td>\n",
       "      <td>25</td>\n",
       "      <td>107.25</td>\n",
       "    </tr>\n",
       "    <tr>\n",
       "      <th>3</th>\n",
       "      <td>three squirrels</td>\n",
       "      <td>Nuts</td>\n",
       "      <td>Mainland China</td>\n",
       "      <td>Yami</td>\n",
       "      <td>10.99</td>\n",
       "      <td>Super Nuts Pistachio Nuts 225g</td>\n",
       "      <td>0</td>\n",
       "      <td>0</td>\n",
       "      <td>100</td>\n",
       "      <td>25</td>\n",
       "      <td>274.75</td>\n",
       "    </tr>\n",
       "    <tr>\n",
       "      <th>4</th>\n",
       "      <td>lianfeng</td>\n",
       "      <td>Nuts</td>\n",
       "      <td>Mainland China</td>\n",
       "      <td>Yami</td>\n",
       "      <td>11.99</td>\n",
       "      <td>LIAN FENG Hickory Nuts Kernels 108g</td>\n",
       "      <td>4.8</td>\n",
       "      <td>114</td>\n",
       "      <td>100</td>\n",
       "      <td>25</td>\n",
       "      <td>299.75</td>\n",
       "    </tr>\n",
       "  </tbody>\n",
       "</table>\n",
       "</div>"
      ],
      "text/plain": [
       "             Brand Category          Origin Platform  Price  \\\n",
       "0         nuts lab     Nuts           Korea     Yami   4.29   \n",
       "1  three squirrels     Nuts  Mainland China     Yami   9.59   \n",
       "2         kam yuen     Nuts  Mainland China     Yami   4.29   \n",
       "3  three squirrels     Nuts  Mainland China     Yami  10.99   \n",
       "4         lianfeng     Nuts  Mainland China     Yami  11.99   \n",
       "\n",
       "                          Product_Name Rate  Reviews  Sold_Monthly  \\\n",
       "0   NUTS LAB Buldak Flavor Almond 120g    5        2           100   \n",
       "1               Super Nuts Pecans 225g    0        0           100   \n",
       "2   Salted Egg Yolk Macadamia Nuts 65g    0        0           100   \n",
       "3       Super Nuts Pistachio Nuts 225g    0        0           100   \n",
       "4  LIAN FENG Hickory Nuts Kernels 108g  4.8      114           100   \n",
       "\n",
       "   Sold_Weekly  Weekly_Revenue  \n",
       "0           25          107.25  \n",
       "1           25          239.75  \n",
       "2           25          107.25  \n",
       "3           25          274.75  \n",
       "4           25          299.75  "
      ]
     },
     "execution_count": 42,
     "metadata": {},
     "output_type": "execute_result"
    }
   ],
   "source": [
    "df = pd.concat([yami,weee,freshgogo])\n",
    "df.head()"
   ]
  },
  {
   "cell_type": "code",
   "execution_count": 43,
   "metadata": {},
   "outputs": [
    {
     "name": "stdout",
     "output_type": "stream",
     "text": [
      "(661, 11)\n",
      "['Brand', 'Category', 'Origin', 'Platform', 'Price', 'Product_Name', 'Rate', 'Reviews', 'Sold_Monthly', 'Sold_Weekly', 'Weekly_Revenue']\n"
     ]
    }
   ],
   "source": [
    "print(df.shape)\n",
    "print(list(df.columns))"
   ]
  },
  {
   "cell_type": "markdown",
   "metadata": {},
   "source": [
    "# Analysis"
   ]
  },
  {
   "cell_type": "code",
   "execution_count": 44,
   "metadata": {},
   "outputs": [
    {
     "data": {
      "text/html": [
       "<div>\n",
       "<style scoped>\n",
       "    .dataframe tbody tr th:only-of-type {\n",
       "        vertical-align: middle;\n",
       "    }\n",
       "\n",
       "    .dataframe tbody tr th {\n",
       "        vertical-align: top;\n",
       "    }\n",
       "\n",
       "    .dataframe thead th {\n",
       "        text-align: right;\n",
       "    }\n",
       "</style>\n",
       "<table border=\"1\" class=\"dataframe\">\n",
       "  <thead>\n",
       "    <tr style=\"text-align: right;\">\n",
       "      <th></th>\n",
       "      <th>Price</th>\n",
       "      <th>Reviews</th>\n",
       "      <th>Sold_Monthly</th>\n",
       "      <th>Sold_Weekly</th>\n",
       "      <th>Weekly_Revenue</th>\n",
       "    </tr>\n",
       "  </thead>\n",
       "  <tbody>\n",
       "    <tr>\n",
       "      <th>count</th>\n",
       "      <td>661.000000</td>\n",
       "      <td>661.000000</td>\n",
       "      <td>661.000000</td>\n",
       "      <td>661.00000</td>\n",
       "      <td>661.000000</td>\n",
       "    </tr>\n",
       "    <tr>\n",
       "      <th>mean</th>\n",
       "      <td>6.940514</td>\n",
       "      <td>24.313162</td>\n",
       "      <td>1139.239032</td>\n",
       "      <td>284.81997</td>\n",
       "      <td>1667.917927</td>\n",
       "    </tr>\n",
       "    <tr>\n",
       "      <th>std</th>\n",
       "      <td>7.447707</td>\n",
       "      <td>71.809767</td>\n",
       "      <td>2489.035495</td>\n",
       "      <td>622.28285</td>\n",
       "      <td>3718.826031</td>\n",
       "    </tr>\n",
       "    <tr>\n",
       "      <th>min</th>\n",
       "      <td>0.890000</td>\n",
       "      <td>0.000000</td>\n",
       "      <td>0.000000</td>\n",
       "      <td>0.00000</td>\n",
       "      <td>0.000000</td>\n",
       "    </tr>\n",
       "    <tr>\n",
       "      <th>25%</th>\n",
       "      <td>2.990000</td>\n",
       "      <td>1.000000</td>\n",
       "      <td>100.000000</td>\n",
       "      <td>25.00000</td>\n",
       "      <td>87.250000</td>\n",
       "    </tr>\n",
       "    <tr>\n",
       "      <th>50%</th>\n",
       "      <td>4.490000</td>\n",
       "      <td>4.000000</td>\n",
       "      <td>200.000000</td>\n",
       "      <td>50.00000</td>\n",
       "      <td>299.500000</td>\n",
       "    </tr>\n",
       "    <tr>\n",
       "      <th>75%</th>\n",
       "      <td>7.990000</td>\n",
       "      <td>15.000000</td>\n",
       "      <td>800.000000</td>\n",
       "      <td>200.00000</td>\n",
       "      <td>1178.000000</td>\n",
       "    </tr>\n",
       "    <tr>\n",
       "      <th>max</th>\n",
       "      <td>67.990000</td>\n",
       "      <td>851.000000</td>\n",
       "      <td>17000.000000</td>\n",
       "      <td>4250.00000</td>\n",
       "      <td>31941.000000</td>\n",
       "    </tr>\n",
       "  </tbody>\n",
       "</table>\n",
       "</div>"
      ],
      "text/plain": [
       "            Price     Reviews  Sold_Monthly  Sold_Weekly  Weekly_Revenue\n",
       "count  661.000000  661.000000    661.000000    661.00000      661.000000\n",
       "mean     6.940514   24.313162   1139.239032    284.81997     1667.917927\n",
       "std      7.447707   71.809767   2489.035495    622.28285     3718.826031\n",
       "min      0.890000    0.000000      0.000000      0.00000        0.000000\n",
       "25%      2.990000    1.000000    100.000000     25.00000       87.250000\n",
       "50%      4.490000    4.000000    200.000000     50.00000      299.500000\n",
       "75%      7.990000   15.000000    800.000000    200.00000     1178.000000\n",
       "max     67.990000  851.000000  17000.000000   4250.00000    31941.000000"
      ]
     },
     "execution_count": 44,
     "metadata": {},
     "output_type": "execute_result"
    }
   ],
   "source": [
    "df.describe()"
   ]
  },
  {
   "cell_type": "code",
   "execution_count": 45,
   "metadata": {},
   "outputs": [
    {
     "data": {
      "text/plain": [
       "Brand             nuts labthree squirrelskam yuenthree squirrels...\n",
       "Category          NutsNutsNutsNutsNutsNutsNutsNutsNutsNutsNutsNu...\n",
       "Origin            KoreaMainland ChinaMainland ChinaMainland Chin...\n",
       "Platform          YamiYamiYamiYamiYamiYamiYamiYamiYamiYamiYamiYa...\n",
       "Price                                                       4587.68\n",
       "Product_Name      NUTS LAB Buldak Flavor Almond 120gSuper Nuts P...\n",
       "Reviews                                                       16071\n",
       "Sold_Monthly                                                 753037\n",
       "Sold_Weekly                                                  188266\n",
       "Weekly_Revenue                                          1.10249e+06\n",
       "dtype: object"
      ]
     },
     "execution_count": 45,
     "metadata": {},
     "output_type": "execute_result"
    }
   ],
   "source": [
    "df.sum(axis = 0)"
   ]
  },
  {
   "cell_type": "code",
   "execution_count": 46,
   "metadata": {},
   "outputs": [],
   "source": [
    "df['Origin'] = df['Origin'].replace('ROYAL FAMILY','Unclear')"
   ]
  },
  {
   "cell_type": "markdown",
   "metadata": {},
   "source": [
    "# The Most Popular Origin (Highest Weekly Revenue /Num of Product)\n"
   ]
  },
  {
   "cell_type": "code",
   "execution_count": 47,
   "metadata": {},
   "outputs": [
    {
     "data": {
      "text/plain": [
       "Origin\n",
       "Australia           5\n",
       "Canada              1\n",
       "India               7\n",
       "Indonesia           5\n",
       "Italy               1\n",
       "Japan              26\n",
       "Korea              29\n",
       "Mainland China    382\n",
       "Mexico              7\n",
       "Philippines        15\n",
       "Singapore           2\n",
       "South Korea        13\n",
       "Taiwan             73\n",
       "Thailand            5\n",
       "Unclear            47\n",
       "United States      40\n",
       "Vietnam             3\n",
       "Name: Product_Name, dtype: int64"
      ]
     },
     "execution_count": 47,
     "metadata": {},
     "output_type": "execute_result"
    }
   ],
   "source": [
    "origin = df.groupby(['Origin'])['Product_Name'].count()\n",
    "origin"
   ]
  },
  {
   "cell_type": "code",
   "execution_count": 48,
   "metadata": {},
   "outputs": [
    {
     "data": {
      "text/plain": [
       "Origin\n",
       "Australia          988.900000\n",
       "Canada               0.000000\n",
       "India                0.000000\n",
       "Indonesia          175.500000\n",
       "Italy                0.000000\n",
       "Japan             1038.442308\n",
       "Korea              401.293103\n",
       "Mainland China    1511.896597\n",
       "Mexico               0.000000\n",
       "Philippines        314.966667\n",
       "Singapore          486.250000\n",
       "South Korea        550.038462\n",
       "Taiwan            1101.479452\n",
       "Thailand           795.000000\n",
       "Unclear           7603.734043\n",
       "United States      623.256250\n",
       "Vietnam            318.000000\n",
       "dtype: float64"
      ]
     },
     "execution_count": 48,
     "metadata": {},
     "output_type": "execute_result"
    }
   ],
   "source": [
    "pop_origin = df.groupby(['Origin'])['Weekly_Revenue'].sum()/df.groupby(['Origin'])['Product_Name'].count()\n",
    "pop_origin"
   ]
  },
  {
   "cell_type": "code",
   "execution_count": 49,
   "metadata": {},
   "outputs": [
    {
     "data": {
      "text/plain": [
       "Origin\n",
       "Unclear           7603.734043\n",
       "Mainland China    1511.896597\n",
       "Taiwan            1101.479452\n",
       "Japan             1038.442308\n",
       "Australia          988.900000\n",
       "Thailand           795.000000\n",
       "United States      623.256250\n",
       "South Korea        550.038462\n",
       "Singapore          486.250000\n",
       "Korea              401.293103\n",
       "Vietnam            318.000000\n",
       "Philippines        314.966667\n",
       "Indonesia          175.500000\n",
       "Italy                0.000000\n",
       "India                0.000000\n",
       "dtype: float64"
      ]
     },
     "execution_count": 49,
     "metadata": {},
     "output_type": "execute_result"
    }
   ],
   "source": [
    "pop_origin.sort_values(ascending=False).head(15)"
   ]
  },
  {
   "cell_type": "markdown",
   "metadata": {},
   "source": [
    "# The most popular brand by unit selling\n"
   ]
  },
  {
   "cell_type": "code",
   "execution_count": 50,
   "metadata": {},
   "outputs": [
    {
     "data": {
      "text/plain": [
       "Brand\n",
       "3-mien            477.00\n",
       "BESTORE             0.00\n",
       "Big Green        1134.00\n",
       "Boy Bawang        334.00\n",
       "CORN NUTS          79.50\n",
       "                  ...   \n",
       "zhangerga          72.25\n",
       "zhenglin          239.75\n",
       "zhenxin            94.75\n",
       "zhenxinshipin      99.75\n",
       "zhimaguan          49.75\n",
       "Length: 154, dtype: float64"
      ]
     },
     "execution_count": 50,
     "metadata": {},
     "output_type": "execute_result"
    }
   ],
   "source": [
    "pop_brand = df.groupby(['Brand'])['Weekly_Revenue'].sum()/df.groupby(['Brand'])['Product_Name'].count()\n",
    "pop_brand"
   ]
  },
  {
   "cell_type": "code",
   "execution_count": 51,
   "metadata": {},
   "outputs": [
    {
     "data": {
      "text/plain": [
       "Brand\n",
       "bestnut           11955.750000\n",
       "Wang Korea         5592.000000\n",
       "Mushroom Storm     4417.000000\n",
       "LIAN FENG          4379.666667\n",
       "Unclear            3688.419689\n",
       "dtype: float64"
      ]
     },
     "execution_count": 51,
     "metadata": {},
     "output_type": "execute_result"
    }
   ],
   "source": [
    "pop_brand.sort_values(ascending=False).head(5)"
   ]
  },
  {
   "cell_type": "markdown",
   "metadata": {},
   "source": [
    "# The popular brand by revenue"
   ]
  },
  {
   "cell_type": "code",
   "execution_count": 52,
   "metadata": {},
   "outputs": [
    {
     "data": {
      "text/plain": [
       "Brand\n",
       "3-mien            954.00\n",
       "BESTORE             0.00\n",
       "Big Green        1134.00\n",
       "Boy Bawang       1002.00\n",
       "CORN NUTS          79.50\n",
       "                  ...   \n",
       "zhangerga         289.00\n",
       "zhenglin          239.75\n",
       "zhenxin           189.50\n",
       "zhenxinshipin      99.75\n",
       "zhimaguan          49.75\n",
       "Name: Weekly_Revenue, Length: 154, dtype: float64"
      ]
     },
     "execution_count": 52,
     "metadata": {},
     "output_type": "execute_result"
    }
   ],
   "source": [
    "pop_brand2 = df.groupby(['Brand'])['Weekly_Revenue'].sum()\n",
    "pop_brand2"
   ]
  },
  {
   "cell_type": "code",
   "execution_count": 53,
   "metadata": {},
   "outputs": [
    {
     "data": {
      "text/plain": [
       "Brand\n",
       "Unclear        711865.00\n",
       "bestnut         95646.00\n",
       "be & cheery     48594.25\n",
       "bestore         39215.50\n",
       "LIAN FENG       13139.00\n",
       "Name: Weekly_Revenue, dtype: float64"
      ]
     },
     "execution_count": 53,
     "metadata": {},
     "output_type": "execute_result"
    }
   ],
   "source": [
    "pop_brand2.sort_values(ascending=False).head(5)"
   ]
  },
  {
   "cell_type": "code",
   "execution_count": null,
   "metadata": {},
   "outputs": [],
   "source": []
  },
  {
   "cell_type": "markdown",
   "metadata": {},
   "source": [
    "# The Main Import Origin"
   ]
  },
  {
   "cell_type": "code",
   "execution_count": 54,
   "metadata": {},
   "outputs": [
    {
     "data": {
      "text/plain": [
       "Origin\n",
       "Australia           5\n",
       "Canada              1\n",
       "India               7\n",
       "Indonesia           5\n",
       "Italy               1\n",
       "Japan              26\n",
       "Korea              29\n",
       "Mainland China    382\n",
       "Mexico              7\n",
       "Philippines        15\n",
       "Singapore           2\n",
       "South Korea        13\n",
       "Taiwan             73\n",
       "Thailand            5\n",
       "Unclear            47\n",
       "United States      40\n",
       "Vietnam             3\n",
       "Name: Product_Name, dtype: int64"
      ]
     },
     "execution_count": 54,
     "metadata": {},
     "output_type": "execute_result"
    }
   ],
   "source": [
    "main_origin = df.groupby(['Origin'])['Product_Name'].count()\n",
    "main_origin"
   ]
  },
  {
   "cell_type": "code",
   "execution_count": 55,
   "metadata": {},
   "outputs": [
    {
     "data": {
      "text/plain": [
       "Origin\n",
       "Mainland China    382\n",
       "Taiwan             73\n",
       "Unclear            47\n",
       "United States      40\n",
       "Korea              29\n",
       "Name: Product_Name, dtype: int64"
      ]
     },
     "execution_count": 55,
     "metadata": {},
     "output_type": "execute_result"
    }
   ],
   "source": [
    "main_origin.sort_values(ascending=False).head(5)"
   ]
  },
  {
   "cell_type": "markdown",
   "metadata": {},
   "source": [
    "# The most value import Origin"
   ]
  },
  {
   "cell_type": "code",
   "execution_count": 56,
   "metadata": {},
   "outputs": [
    {
     "data": {
      "text/plain": [
       "Origin\n",
       "Australia           4944.50\n",
       "Canada                 0.00\n",
       "India                  0.00\n",
       "Indonesia            877.50\n",
       "Italy                  0.00\n",
       "Japan              26999.50\n",
       "Korea              11637.50\n",
       "Mainland China    577544.50\n",
       "Mexico                 0.00\n",
       "Philippines         4724.50\n",
       "Singapore            972.50\n",
       "South Korea         7150.50\n",
       "Taiwan             80408.00\n",
       "Thailand            3975.00\n",
       "Unclear           357375.50\n",
       "United States      24930.25\n",
       "Vietnam              954.00\n",
       "Name: Weekly_Revenue, dtype: float64"
      ]
     },
     "execution_count": 56,
     "metadata": {},
     "output_type": "execute_result"
    }
   ],
   "source": [
    "value_origin = df.groupby(['Origin'])['Weekly_Revenue'].sum()\n",
    "value_origin"
   ]
  },
  {
   "cell_type": "code",
   "execution_count": 57,
   "metadata": {},
   "outputs": [
    {
     "data": {
      "text/plain": [
       "Origin\n",
       "Mainland China    577544.50\n",
       "Unclear           357375.50\n",
       "Taiwan             80408.00\n",
       "Japan              26999.50\n",
       "United States      24930.25\n",
       "Name: Weekly_Revenue, dtype: float64"
      ]
     },
     "execution_count": 57,
     "metadata": {},
     "output_type": "execute_result"
    }
   ],
   "source": [
    "value_origin.sort_values(ascending=False).head(5)"
   ]
  },
  {
   "cell_type": "markdown",
   "metadata": {},
   "source": [
    "# platform offers choice - most\n"
   ]
  },
  {
   "cell_type": "code",
   "execution_count": 58,
   "metadata": {},
   "outputs": [
    {
     "data": {
      "text/plain": [
       "Platform\n",
       "Freshgogo     75\n",
       "Weee         160\n",
       "Yami         426\n",
       "Name: Product_Name, dtype: int64"
      ]
     },
     "execution_count": 58,
     "metadata": {},
     "output_type": "execute_result"
    }
   ],
   "source": [
    "choice = df.groupby(['Platform'])['Product_Name'].count()\n",
    "choice"
   ]
  },
  {
   "cell_type": "code",
   "execution_count": 59,
   "metadata": {},
   "outputs": [
    {
     "data": {
      "text/plain": [
       "Platform\n",
       "Freshgogo    8414.866667\n",
       "Weee          889.562500\n",
       "Yami          772.414906\n",
       "dtype: float64"
      ]
     },
     "execution_count": 59,
     "metadata": {},
     "output_type": "execute_result"
    }
   ],
   "source": [
    "value_choice =  df.groupby(['Platform'])['Weekly_Revenue'].sum()/df.groupby(['Platform'])['Product_Name'].count()\n",
    "value_choice"
   ]
  },
  {
   "cell_type": "markdown",
   "metadata": {},
   "source": [
    "## The Number of profuct by origin"
   ]
  },
  {
   "cell_type": "code",
   "execution_count": 60,
   "metadata": {},
   "outputs": [
    {
     "data": {
      "text/plain": [
       "<matplotlib.axes._subplots.AxesSubplot at 0x20fa637eb00>"
      ]
     },
     "execution_count": 60,
     "metadata": {},
     "output_type": "execute_result"
    },
    {
     "data": {
      "image/png": "[encoded data removed]",
      "text/plain": [
       "<Figure size 720x360 with 1 Axes>"
      ]
     },
     "metadata": {
      "needs_background": "light"
     },
     "output_type": "display_data"
    }
   ],
   "source": [
    "count_origin = df.groupby([df['Origin']])['Product_Name'].count()\n",
    "count_origin.plot(kind='barh',figsize=(10,5),legend=None, title=\"The Number of Products by Origin \")"
   ]
  },
  {
   "cell_type": "code",
   "execution_count": 61,
   "metadata": {},
   "outputs": [
    {
     "data": {
      "text/plain": [
       "<matplotlib.axes._subplots.AxesSubplot at 0x20fa4c46550>"
      ]
     },
     "execution_count": 61,
     "metadata": {},
     "output_type": "execute_result"
    },
    {
     "data": {
      "image/png": "[encoded data removed]",
      "text/plain": [
       "<Figure size 720x360 with 1 Axes>"
      ]
     },
     "metadata": {
      "needs_background": "light"
     },
     "output_type": "display_data"
    }
   ],
   "source": [
    "sum_revenue = df.groupby([df['Origin']])['Weekly_Revenue'].sum()\n",
    "sum_revenue.plot(kind='barh',figsize=(10,5),legend=None, title=\"The Weekly Revenue by Origin \")"
   ]
  },
  {
   "cell_type": "code",
   "execution_count": 62,
   "metadata": {},
   "outputs": [
    {
     "data": {
      "text/plain": [
       "Platform\n",
       "Freshgogo     75\n",
       "Weee         160\n",
       "Yami         426\n",
       "Name: Product_Name, dtype: int64"
      ]
     },
     "execution_count": 62,
     "metadata": {},
     "output_type": "execute_result"
    }
   ],
   "source": [
    "count_platform = df.groupby(['Platform'])['Product_Name'].count()\n",
    "count_platform"
   ]
  },
  {
   "cell_type": "code",
   "execution_count": 63,
   "metadata": {},
   "outputs": [
    {
     "data": {
      "text/plain": [
       "<matplotlib.axes._subplots.AxesSubplot at 0x20fa4ce3da0>"
      ]
     },
     "execution_count": 63,
     "metadata": {},
     "output_type": "execute_result"
    },
    {
     "data": {
      "image/png": "[encoded data removed]",
      "text/plain": [
       "<Figure size 720x360 with 1 Axes>"
      ]
     },
     "metadata": {
      "needs_background": "light"
     },
     "output_type": "display_data"
    }
   ],
   "source": [
    "platform = df.groupby([df['Platform']])['Brand'].count()\n",
    "platform.plot(kind='barh',figsize=(10,5),legend=None, title=\"The Number of Products by Platform \")"
   ]
  },
  {
   "cell_type": "code",
   "execution_count": 64,
   "metadata": {},
   "outputs": [
    {
     "data": {
      "text/plain": [
       "Text(0.5, 1.0, 'Figure 5: Correlations')"
      ]
     },
     "execution_count": 64,
     "metadata": {},
     "output_type": "execute_result"
    },
    {
     "data": {
      "image/png": "[encoded data removed]",
      "text/plain": [
       "<Figure size 576x360 with 2 Axes>"
      ]
     },
     "metadata": {
      "needs_background": "light"
     },
     "output_type": "display_data"
    }
   ],
   "source": [
    "# Finding the correlation bewteen the Features.\n",
    "plt.figure(figsize=(8,5))\n",
    "\n",
    "corr = df.corr()# plot the heatmap\n",
    "sns.heatmap(corr, xticklabels=corr.columns, yticklabels=corr.columns, \n",
    "            annot=True, cmap=sns.diverging_palette(220, 20, as_cmap=True))\n",
    "plt.title('Figure 5: Correlations')"
   ]
  },
  {
   "cell_type": "markdown",
   "metadata": {},
   "source": [
    "## Origin vs Platform\n"
   ]
  },
  {
   "cell_type": "code",
   "execution_count": 65,
   "metadata": {},
   "outputs": [
    {
     "data": {
      "text/plain": [
       "Text(0.5, 1.0, 'Platform vs. Origin')"
      ]
     },
     "execution_count": 65,
     "metadata": {},
     "output_type": "execute_result"
    },
    {
     "data": {
      "image/png": "[encoded data removed]",
      "text/plain": [
       "<Figure size 720x432 with 1 Axes>"
      ]
     },
     "metadata": {
      "needs_background": "light"
     },
     "output_type": "display_data"
    }
   ],
   "source": [
    "# Origin vs Platform\n",
    "\n",
    "plt.rcParams['figure.figsize'] = (10, 6)\n",
    "\n",
    "# compare the year with Origin with Platform\n",
    "plt.subplot(121)\n",
    "sns.countplot(x='Platform',hue= 'Origin', data=df, palette = 'husl')\n",
    "plt.legend(bbox_to_anchor=(-0.2, 0.5), loc='right', borderaxespad=0)\n",
    "plt.title('Platform vs. Origin')"
   ]
  },
  {
   "cell_type": "code",
   "execution_count": 66,
   "metadata": {},
   "outputs": [
    {
     "name": "stderr",
     "output_type": "stream",
     "text": [
      "C:\\Users\\13750\\Anaconda3\\lib\\site-packages\\ipykernel_launcher.py:7: MatplotlibDeprecationWarning: Unrecognized location 'left'. Falling back on 'best'; valid locations are\n",
      "\tbest\n",
      "\tupper right\n",
      "\tupper left\n",
      "\tlower left\n",
      "\tlower right\n",
      "\tright\n",
      "\tcenter left\n",
      "\tcenter right\n",
      "\tlower center\n",
      "\tupper center\n",
      "\tcenter\n",
      "This will raise an exception in 3.3.\n",
      "  import sys\n"
     ]
    },
    {
     "data": {
      "text/html": [
       "<div>\n",
       "<style scoped>\n",
       "    .dataframe tbody tr th:only-of-type {\n",
       "        vertical-align: middle;\n",
       "    }\n",
       "\n",
       "    .dataframe tbody tr th {\n",
       "        vertical-align: top;\n",
       "    }\n",
       "\n",
       "    .dataframe thead th {\n",
       "        text-align: right;\n",
       "    }\n",
       "</style>\n",
       "<table border=\"1\" class=\"dataframe\">\n",
       "  <thead>\n",
       "    <tr style=\"text-align: right;\">\n",
       "      <th>Platform</th>\n",
       "      <th>Freshgogo</th>\n",
       "      <th>Weee</th>\n",
       "      <th>Yami</th>\n",
       "    </tr>\n",
       "    <tr>\n",
       "      <th>Origin</th>\n",
       "      <th></th>\n",
       "      <th></th>\n",
       "      <th></th>\n",
       "    </tr>\n",
       "  </thead>\n",
       "  <tbody>\n",
       "    <tr>\n",
       "      <th>Australia</th>\n",
       "      <td>0</td>\n",
       "      <td>0</td>\n",
       "      <td>5</td>\n",
       "    </tr>\n",
       "    <tr>\n",
       "      <th>Canada</th>\n",
       "      <td>0</td>\n",
       "      <td>1</td>\n",
       "      <td>0</td>\n",
       "    </tr>\n",
       "    <tr>\n",
       "      <th>India</th>\n",
       "      <td>0</td>\n",
       "      <td>7</td>\n",
       "      <td>0</td>\n",
       "    </tr>\n",
       "    <tr>\n",
       "      <th>Indonesia</th>\n",
       "      <td>0</td>\n",
       "      <td>1</td>\n",
       "      <td>4</td>\n",
       "    </tr>\n",
       "    <tr>\n",
       "      <th>Italy</th>\n",
       "      <td>1</td>\n",
       "      <td>0</td>\n",
       "      <td>0</td>\n",
       "    </tr>\n",
       "    <tr>\n",
       "      <th>Japan</th>\n",
       "      <td>3</td>\n",
       "      <td>1</td>\n",
       "      <td>22</td>\n",
       "    </tr>\n",
       "    <tr>\n",
       "      <th>Korea</th>\n",
       "      <td>0</td>\n",
       "      <td>0</td>\n",
       "      <td>29</td>\n",
       "    </tr>\n",
       "    <tr>\n",
       "      <th>Mainland China</th>\n",
       "      <td>22</td>\n",
       "      <td>81</td>\n",
       "      <td>279</td>\n",
       "    </tr>\n",
       "    <tr>\n",
       "      <th>Mexico</th>\n",
       "      <td>0</td>\n",
       "      <td>7</td>\n",
       "      <td>0</td>\n",
       "    </tr>\n",
       "    <tr>\n",
       "      <th>Philippines</th>\n",
       "      <td>0</td>\n",
       "      <td>15</td>\n",
       "      <td>0</td>\n",
       "    </tr>\n",
       "    <tr>\n",
       "      <th>Singapore</th>\n",
       "      <td>0</td>\n",
       "      <td>0</td>\n",
       "      <td>2</td>\n",
       "    </tr>\n",
       "    <tr>\n",
       "      <th>South Korea</th>\n",
       "      <td>0</td>\n",
       "      <td>13</td>\n",
       "      <td>0</td>\n",
       "    </tr>\n",
       "    <tr>\n",
       "      <th>Taiwan</th>\n",
       "      <td>9</td>\n",
       "      <td>12</td>\n",
       "      <td>52</td>\n",
       "    </tr>\n",
       "    <tr>\n",
       "      <th>Thailand</th>\n",
       "      <td>0</td>\n",
       "      <td>5</td>\n",
       "      <td>0</td>\n",
       "    </tr>\n",
       "    <tr>\n",
       "      <th>Unclear</th>\n",
       "      <td>40</td>\n",
       "      <td>4</td>\n",
       "      <td>3</td>\n",
       "    </tr>\n",
       "    <tr>\n",
       "      <th>United States</th>\n",
       "      <td>0</td>\n",
       "      <td>12</td>\n",
       "      <td>28</td>\n",
       "    </tr>\n",
       "    <tr>\n",
       "      <th>Vietnam</th>\n",
       "      <td>0</td>\n",
       "      <td>1</td>\n",
       "      <td>2</td>\n",
       "    </tr>\n",
       "  </tbody>\n",
       "</table>\n",
       "</div>"
      ],
      "text/plain": [
       "Platform        Freshgogo  Weee  Yami\n",
       "Origin                               \n",
       "Australia               0     0     5\n",
       "Canada                  0     1     0\n",
       "India                   0     7     0\n",
       "Indonesia               0     1     4\n",
       "Italy                   1     0     0\n",
       "Japan                   3     1    22\n",
       "Korea                   0     0    29\n",
       "Mainland China         22    81   279\n",
       "Mexico                  0     7     0\n",
       "Philippines             0    15     0\n",
       "Singapore               0     0     2\n",
       "South Korea             0    13     0\n",
       "Taiwan                  9    12    52\n",
       "Thailand                0     5     0\n",
       "Unclear                40     4     3\n",
       "United States           0    12    28\n",
       "Vietnam                 0     1     2"
      ]
     },
     "execution_count": 66,
     "metadata": {},
     "output_type": "execute_result"
    },
    {
     "data": {
      "image/png": "[encoded data removed]",
      "text/plain": [
       "<Figure size 1080x360 with 1 Axes>"
      ]
     },
     "metadata": {
      "needs_background": "light"
     },
     "output_type": "display_data"
    }
   ],
   "source": [
    "# check the Origin percentage of Platform\n",
    "plt.rcParams['figure.figsize'] = (15, 5)\n",
    "ax= plt.subplot(122)\n",
    "c2_c = pd.crosstab(df.Origin, df.Platform)\n",
    "c2_c.div(c2_c .sum(1).astype(float), axis=0).plot(kind='barh', stacked=True, ax=ax)\n",
    "plt.title('Origin percentage by Platform')\n",
    "plt.legend(bbox_to_anchor=(-0.2, 1), loc='left', borderaxespad=0)\n",
    "plt.xlabel('Platform')\n",
    "plt.xticks(rotation=90)\n",
    "plt.ylabel('Percentage of Origin')\n",
    "\n",
    "c2_c"
   ]
  },
  {
   "cell_type": "markdown",
   "metadata": {},
   "source": [
    "## Origin Vs Sold_Weekly_Group"
   ]
  },
  {
   "cell_type": "code",
   "execution_count": 67,
   "metadata": {},
   "outputs": [
    {
     "data": {
      "text/html": [
       "<div>\n",
       "<style scoped>\n",
       "    .dataframe tbody tr th:only-of-type {\n",
       "        vertical-align: middle;\n",
       "    }\n",
       "\n",
       "    .dataframe tbody tr th {\n",
       "        vertical-align: top;\n",
       "    }\n",
       "\n",
       "    .dataframe thead th {\n",
       "        text-align: right;\n",
       "    }\n",
       "</style>\n",
       "<table border=\"1\" class=\"dataframe\">\n",
       "  <thead>\n",
       "    <tr style=\"text-align: right;\">\n",
       "      <th></th>\n",
       "      <th>Brand</th>\n",
       "      <th>Category</th>\n",
       "      <th>Origin</th>\n",
       "      <th>Platform</th>\n",
       "      <th>Price</th>\n",
       "      <th>Product_Name</th>\n",
       "      <th>Rate</th>\n",
       "      <th>Reviews</th>\n",
       "      <th>Sold_Monthly</th>\n",
       "      <th>Sold_Weekly</th>\n",
       "      <th>Weekly_Revenue</th>\n",
       "      <th>Sold_Weekly_Group</th>\n",
       "    </tr>\n",
       "  </thead>\n",
       "  <tbody>\n",
       "    <tr>\n",
       "      <th>0</th>\n",
       "      <td>nuts lab</td>\n",
       "      <td>Nuts</td>\n",
       "      <td>Korea</td>\n",
       "      <td>Yami</td>\n",
       "      <td>4.29</td>\n",
       "      <td>NUTS LAB Buldak Flavor Almond 120g</td>\n",
       "      <td>5</td>\n",
       "      <td>2</td>\n",
       "      <td>100</td>\n",
       "      <td>25</td>\n",
       "      <td>107.25</td>\n",
       "      <td>Less than 50</td>\n",
       "    </tr>\n",
       "    <tr>\n",
       "      <th>1</th>\n",
       "      <td>three squirrels</td>\n",
       "      <td>Nuts</td>\n",
       "      <td>Mainland China</td>\n",
       "      <td>Yami</td>\n",
       "      <td>9.59</td>\n",
       "      <td>Super Nuts Pecans 225g</td>\n",
       "      <td>0</td>\n",
       "      <td>0</td>\n",
       "      <td>100</td>\n",
       "      <td>25</td>\n",
       "      <td>239.75</td>\n",
       "      <td>Less than 50</td>\n",
       "    </tr>\n",
       "    <tr>\n",
       "      <th>2</th>\n",
       "      <td>kam yuen</td>\n",
       "      <td>Nuts</td>\n",
       "      <td>Mainland China</td>\n",
       "      <td>Yami</td>\n",
       "      <td>4.29</td>\n",
       "      <td>Salted Egg Yolk Macadamia Nuts 65g</td>\n",
       "      <td>0</td>\n",
       "      <td>0</td>\n",
       "      <td>100</td>\n",
       "      <td>25</td>\n",
       "      <td>107.25</td>\n",
       "      <td>Less than 50</td>\n",
       "    </tr>\n",
       "    <tr>\n",
       "      <th>3</th>\n",
       "      <td>three squirrels</td>\n",
       "      <td>Nuts</td>\n",
       "      <td>Mainland China</td>\n",
       "      <td>Yami</td>\n",
       "      <td>10.99</td>\n",
       "      <td>Super Nuts Pistachio Nuts 225g</td>\n",
       "      <td>0</td>\n",
       "      <td>0</td>\n",
       "      <td>100</td>\n",
       "      <td>25</td>\n",
       "      <td>274.75</td>\n",
       "      <td>Less than 50</td>\n",
       "    </tr>\n",
       "    <tr>\n",
       "      <th>4</th>\n",
       "      <td>lianfeng</td>\n",
       "      <td>Nuts</td>\n",
       "      <td>Mainland China</td>\n",
       "      <td>Yami</td>\n",
       "      <td>11.99</td>\n",
       "      <td>LIAN FENG Hickory Nuts Kernels 108g</td>\n",
       "      <td>4.8</td>\n",
       "      <td>114</td>\n",
       "      <td>100</td>\n",
       "      <td>25</td>\n",
       "      <td>299.75</td>\n",
       "      <td>Less than 50</td>\n",
       "    </tr>\n",
       "  </tbody>\n",
       "</table>\n",
       "</div>"
      ],
      "text/plain": [
       "             Brand Category          Origin Platform  Price  \\\n",
       "0         nuts lab     Nuts           Korea     Yami   4.29   \n",
       "1  three squirrels     Nuts  Mainland China     Yami   9.59   \n",
       "2         kam yuen     Nuts  Mainland China     Yami   4.29   \n",
       "3  three squirrels     Nuts  Mainland China     Yami  10.99   \n",
       "4         lianfeng     Nuts  Mainland China     Yami  11.99   \n",
       "\n",
       "                          Product_Name Rate  Reviews  Sold_Monthly  \\\n",
       "0   NUTS LAB Buldak Flavor Almond 120g    5        2           100   \n",
       "1               Super Nuts Pecans 225g    0        0           100   \n",
       "2   Salted Egg Yolk Macadamia Nuts 65g    0        0           100   \n",
       "3       Super Nuts Pistachio Nuts 225g    0        0           100   \n",
       "4  LIAN FENG Hickory Nuts Kernels 108g  4.8      114           100   \n",
       "\n",
       "   Sold_Weekly  Weekly_Revenue Sold_Weekly_Group  \n",
       "0           25          107.25      Less than 50  \n",
       "1           25          239.75      Less than 50  \n",
       "2           25          107.25      Less than 50  \n",
       "3           25          274.75      Less than 50  \n",
       "4           25          299.75      Less than 50  "
      ]
     },
     "execution_count": 67,
     "metadata": {},
     "output_type": "execute_result"
    }
   ],
   "source": [
    "df['Sold_Weekly_Group'] = pd.cut(x = df['Sold_Weekly'], \n",
    "                                   bins = [0,50,100,200,300,400,500,1000,2000,10000],\n",
    "                                   labels = ['Less than 50','50+','100+','200+','300+','400+','500+','1000+','2000+'])\n",
    "df.head()"
   ]
  },
  {
   "cell_type": "code",
   "execution_count": 68,
   "metadata": {},
   "outputs": [
    {
     "data": {
      "text/plain": [
       "Text(0.5, 1.0, 'Sold_Weekly_Group vs. Origin')"
      ]
     },
     "execution_count": 68,
     "metadata": {},
     "output_type": "execute_result"
    },
    {
     "data": {
      "image/png": "[encoded data removed]",
      "text/plain": [
       "<Figure size 1440x504 with 1 Axes>"
      ]
     },
     "metadata": {
      "needs_background": "light"
     },
     "output_type": "display_data"
    }
   ],
   "source": [
    "# origin vs sold weekly group\n",
    "\n",
    "plt.rcParams['figure.figsize'] = (20, 7)\n",
    "\n",
    "# compare the year with Origin with Platform\n",
    "plt.subplot(121)\n",
    "sns.countplot(x='Sold_Weekly_Group',hue= 'Origin', data=df, palette = 'husl')\n",
    "plt.legend(bbox_to_anchor=(-0.2, 0.5), loc='right', borderaxespad=0)\n",
    "plt.title('Sold_Weekly_Group vs. Origin')"
   ]
  },
  {
   "cell_type": "code",
   "execution_count": 76,
   "metadata": {
    "scrolled": false
   },
   "outputs": [
    {
     "name": "stderr",
     "output_type": "stream",
     "text": [
      "C:\\Users\\13750\\Anaconda3\\lib\\site-packages\\ipykernel_launcher.py:9: MatplotlibDeprecationWarning: Unrecognized location 'left'. Falling back on 'best'; valid locations are\n",
      "\tbest\n",
      "\tupper right\n",
      "\tupper left\n",
      "\tlower left\n",
      "\tlower right\n",
      "\tright\n",
      "\tcenter left\n",
      "\tcenter right\n",
      "\tlower center\n",
      "\tupper center\n",
      "\tcenter\n",
      "This will raise an exception in 3.3.\n",
      "  if __name__ == '__main__':\n"
     ]
    },
    {
     "data": {
      "text/html": [
       "<div>\n",
       "<style scoped>\n",
       "    .dataframe tbody tr th:only-of-type {\n",
       "        vertical-align: middle;\n",
       "    }\n",
       "\n",
       "    .dataframe tbody tr th {\n",
       "        vertical-align: top;\n",
       "    }\n",
       "\n",
       "    .dataframe thead th {\n",
       "        text-align: right;\n",
       "    }\n",
       "</style>\n",
       "<table border=\"1\" class=\"dataframe\">\n",
       "  <thead>\n",
       "    <tr style=\"text-align: right;\">\n",
       "      <th>Origin</th>\n",
       "      <th>Australia</th>\n",
       "      <th>Indonesia</th>\n",
       "      <th>Japan</th>\n",
       "      <th>Korea</th>\n",
       "      <th>Mainland China</th>\n",
       "      <th>Philippines</th>\n",
       "      <th>Singapore</th>\n",
       "      <th>South Korea</th>\n",
       "      <th>Taiwan</th>\n",
       "      <th>Thailand</th>\n",
       "      <th>Unclear</th>\n",
       "      <th>United States</th>\n",
       "      <th>Vietnam</th>\n",
       "    </tr>\n",
       "    <tr>\n",
       "      <th>Sold_Weekly_Group</th>\n",
       "      <th></th>\n",
       "      <th></th>\n",
       "      <th></th>\n",
       "      <th></th>\n",
       "      <th></th>\n",
       "      <th></th>\n",
       "      <th></th>\n",
       "      <th></th>\n",
       "      <th></th>\n",
       "      <th></th>\n",
       "      <th></th>\n",
       "      <th></th>\n",
       "      <th></th>\n",
       "    </tr>\n",
       "  </thead>\n",
       "  <tbody>\n",
       "    <tr>\n",
       "      <th>Less than 50</th>\n",
       "      <td>3</td>\n",
       "      <td>5</td>\n",
       "      <td>16</td>\n",
       "      <td>21</td>\n",
       "      <td>197</td>\n",
       "      <td>3</td>\n",
       "      <td>1</td>\n",
       "      <td>3</td>\n",
       "      <td>44</td>\n",
       "      <td>2</td>\n",
       "      <td>5</td>\n",
       "      <td>28</td>\n",
       "      <td>0</td>\n",
       "    </tr>\n",
       "    <tr>\n",
       "      <th>50+</th>\n",
       "      <td>0</td>\n",
       "      <td>0</td>\n",
       "      <td>0</td>\n",
       "      <td>0</td>\n",
       "      <td>13</td>\n",
       "      <td>1</td>\n",
       "      <td>0</td>\n",
       "      <td>1</td>\n",
       "      <td>0</td>\n",
       "      <td>0</td>\n",
       "      <td>0</td>\n",
       "      <td>0</td>\n",
       "      <td>0</td>\n",
       "    </tr>\n",
       "    <tr>\n",
       "      <th>100+</th>\n",
       "      <td>2</td>\n",
       "      <td>0</td>\n",
       "      <td>3</td>\n",
       "      <td>7</td>\n",
       "      <td>53</td>\n",
       "      <td>3</td>\n",
       "      <td>1</td>\n",
       "      <td>2</td>\n",
       "      <td>9</td>\n",
       "      <td>1</td>\n",
       "      <td>0</td>\n",
       "      <td>3</td>\n",
       "      <td>0</td>\n",
       "    </tr>\n",
       "    <tr>\n",
       "      <th>200+</th>\n",
       "      <td>0</td>\n",
       "      <td>0</td>\n",
       "      <td>3</td>\n",
       "      <td>1</td>\n",
       "      <td>44</td>\n",
       "      <td>0</td>\n",
       "      <td>0</td>\n",
       "      <td>1</td>\n",
       "      <td>3</td>\n",
       "      <td>1</td>\n",
       "      <td>0</td>\n",
       "      <td>0</td>\n",
       "      <td>2</td>\n",
       "    </tr>\n",
       "    <tr>\n",
       "      <th>300+</th>\n",
       "      <td>0</td>\n",
       "      <td>0</td>\n",
       "      <td>0</td>\n",
       "      <td>0</td>\n",
       "      <td>12</td>\n",
       "      <td>1</td>\n",
       "      <td>0</td>\n",
       "      <td>0</td>\n",
       "      <td>0</td>\n",
       "      <td>1</td>\n",
       "      <td>2</td>\n",
       "      <td>1</td>\n",
       "      <td>0</td>\n",
       "    </tr>\n",
       "    <tr>\n",
       "      <th>400+</th>\n",
       "      <td>0</td>\n",
       "      <td>0</td>\n",
       "      <td>0</td>\n",
       "      <td>0</td>\n",
       "      <td>2</td>\n",
       "      <td>1</td>\n",
       "      <td>0</td>\n",
       "      <td>0</td>\n",
       "      <td>1</td>\n",
       "      <td>0</td>\n",
       "      <td>1</td>\n",
       "      <td>1</td>\n",
       "      <td>0</td>\n",
       "    </tr>\n",
       "    <tr>\n",
       "      <th>500+</th>\n",
       "      <td>0</td>\n",
       "      <td>0</td>\n",
       "      <td>1</td>\n",
       "      <td>0</td>\n",
       "      <td>18</td>\n",
       "      <td>1</td>\n",
       "      <td>0</td>\n",
       "      <td>0</td>\n",
       "      <td>2</td>\n",
       "      <td>0</td>\n",
       "      <td>12</td>\n",
       "      <td>1</td>\n",
       "      <td>0</td>\n",
       "    </tr>\n",
       "    <tr>\n",
       "      <th>1000+</th>\n",
       "      <td>0</td>\n",
       "      <td>0</td>\n",
       "      <td>2</td>\n",
       "      <td>0</td>\n",
       "      <td>9</td>\n",
       "      <td>0</td>\n",
       "      <td>0</td>\n",
       "      <td>0</td>\n",
       "      <td>4</td>\n",
       "      <td>0</td>\n",
       "      <td>15</td>\n",
       "      <td>0</td>\n",
       "      <td>0</td>\n",
       "    </tr>\n",
       "    <tr>\n",
       "      <th>2000+</th>\n",
       "      <td>0</td>\n",
       "      <td>0</td>\n",
       "      <td>1</td>\n",
       "      <td>0</td>\n",
       "      <td>6</td>\n",
       "      <td>0</td>\n",
       "      <td>0</td>\n",
       "      <td>0</td>\n",
       "      <td>1</td>\n",
       "      <td>0</td>\n",
       "      <td>11</td>\n",
       "      <td>0</td>\n",
       "      <td>0</td>\n",
       "    </tr>\n",
       "  </tbody>\n",
       "</table>\n",
       "</div>"
      ],
      "text/plain": [
       "Origin             Australia  Indonesia  Japan  Korea  Mainland China  \\\n",
       "Sold_Weekly_Group                                                       \n",
       "Less than 50               3          5     16     21             197   \n",
       "50+                        0          0      0      0              13   \n",
       "100+                       2          0      3      7              53   \n",
       "200+                       0          0      3      1              44   \n",
       "300+                       0          0      0      0              12   \n",
       "400+                       0          0      0      0               2   \n",
       "500+                       0          0      1      0              18   \n",
       "1000+                      0          0      2      0               9   \n",
       "2000+                      0          0      1      0               6   \n",
       "\n",
       "Origin             Philippines  Singapore  South Korea  Taiwan  Thailand  \\\n",
       "Sold_Weekly_Group                                                          \n",
       "Less than 50                 3          1            3      44         2   \n",
       "50+                          1          0            1       0         0   \n",
       "100+                         3          1            2       9         1   \n",
       "200+                         0          0            1       3         1   \n",
       "300+                         1          0            0       0         1   \n",
       "400+                         1          0            0       1         0   \n",
       "500+                         1          0            0       2         0   \n",
       "1000+                        0          0            0       4         0   \n",
       "2000+                        0          0            0       1         0   \n",
       "\n",
       "Origin             Unclear  United States  Vietnam  \n",
       "Sold_Weekly_Group                                   \n",
       "Less than 50             5             28        0  \n",
       "50+                      0              0        0  \n",
       "100+                     0              3        0  \n",
       "200+                     0              0        2  \n",
       "300+                     2              1        0  \n",
       "400+                     1              1        0  \n",
       "500+                    12              1        0  \n",
       "1000+                   15              0        0  \n",
       "2000+                   11              0        0  "
      ]
     },
     "execution_count": 76,
     "metadata": {},
     "output_type": "execute_result"
    },
    {
     "data": {
      "image/png": "[encoded data removed]",
      "text/plain": [
       "<Figure size 1080x504 with 1 Axes>"
      ]
     },
     "metadata": {
      "needs_background": "light"
     },
     "output_type": "display_data"
    }
   ],
   "source": [
    "# origin vs sold weekly group\n",
    "\n",
    "plt.rcParams['figure.figsize'] = (15, 7)\n",
    "# check the Origin percentage of Platform\n",
    "ax= plt.subplot(122)\n",
    "c2_c = pd.crosstab( df.Sold_Weekly_Group, df.Origin)\n",
    "c2_c.div(c2_c .sum(1).astype(float), axis=0).plot(kind='barh', stacked=True, ax=ax)\n",
    "plt.title('Origin percentage by Sold_Weekly_Group')\n",
    "plt.legend(bbox_to_anchor=(-0.3, 1), loc='left', borderaxespad=0)\n",
    "plt.xlabel('Sold_Weekly_Group')\n",
    "plt.xticks(rotation=65)\n",
    "plt.ylabel('Percentage of Origin')\n",
    "\n",
    "c2_c"
   ]
  },
  {
   "cell_type": "markdown",
   "metadata": {},
   "source": [
    "## Price_Group Vs Origin"
   ]
  },
  {
   "cell_type": "code",
   "execution_count": 70,
   "metadata": {},
   "outputs": [
    {
     "data": {
      "text/html": [
       "<div>\n",
       "<style scoped>\n",
       "    .dataframe tbody tr th:only-of-type {\n",
       "        vertical-align: middle;\n",
       "    }\n",
       "\n",
       "    .dataframe tbody tr th {\n",
       "        vertical-align: top;\n",
       "    }\n",
       "\n",
       "    .dataframe thead th {\n",
       "        text-align: right;\n",
       "    }\n",
       "</style>\n",
       "<table border=\"1\" class=\"dataframe\">\n",
       "  <thead>\n",
       "    <tr style=\"text-align: right;\">\n",
       "      <th></th>\n",
       "      <th>Brand</th>\n",
       "      <th>Category</th>\n",
       "      <th>Origin</th>\n",
       "      <th>Platform</th>\n",
       "      <th>Price</th>\n",
       "      <th>Product_Name</th>\n",
       "      <th>Rate</th>\n",
       "      <th>Reviews</th>\n",
       "      <th>Sold_Monthly</th>\n",
       "      <th>Sold_Weekly</th>\n",
       "      <th>Weekly_Revenue</th>\n",
       "      <th>Sold_Weekly_Group</th>\n",
       "      <th>Price_Group</th>\n",
       "    </tr>\n",
       "  </thead>\n",
       "  <tbody>\n",
       "    <tr>\n",
       "      <th>0</th>\n",
       "      <td>nuts lab</td>\n",
       "      <td>Nuts</td>\n",
       "      <td>Korea</td>\n",
       "      <td>Yami</td>\n",
       "      <td>4.29</td>\n",
       "      <td>NUTS LAB Buldak Flavor Almond 120g</td>\n",
       "      <td>5</td>\n",
       "      <td>2</td>\n",
       "      <td>100</td>\n",
       "      <td>25</td>\n",
       "      <td>107.25</td>\n",
       "      <td>Less than 50</td>\n",
       "      <td>4+</td>\n",
       "    </tr>\n",
       "    <tr>\n",
       "      <th>1</th>\n",
       "      <td>three squirrels</td>\n",
       "      <td>Nuts</td>\n",
       "      <td>Mainland China</td>\n",
       "      <td>Yami</td>\n",
       "      <td>9.59</td>\n",
       "      <td>Super Nuts Pecans 225g</td>\n",
       "      <td>0</td>\n",
       "      <td>0</td>\n",
       "      <td>100</td>\n",
       "      <td>25</td>\n",
       "      <td>239.75</td>\n",
       "      <td>Less than 50</td>\n",
       "      <td>8+</td>\n",
       "    </tr>\n",
       "    <tr>\n",
       "      <th>2</th>\n",
       "      <td>kam yuen</td>\n",
       "      <td>Nuts</td>\n",
       "      <td>Mainland China</td>\n",
       "      <td>Yami</td>\n",
       "      <td>4.29</td>\n",
       "      <td>Salted Egg Yolk Macadamia Nuts 65g</td>\n",
       "      <td>0</td>\n",
       "      <td>0</td>\n",
       "      <td>100</td>\n",
       "      <td>25</td>\n",
       "      <td>107.25</td>\n",
       "      <td>Less than 50</td>\n",
       "      <td>4+</td>\n",
       "    </tr>\n",
       "    <tr>\n",
       "      <th>3</th>\n",
       "      <td>three squirrels</td>\n",
       "      <td>Nuts</td>\n",
       "      <td>Mainland China</td>\n",
       "      <td>Yami</td>\n",
       "      <td>10.99</td>\n",
       "      <td>Super Nuts Pistachio Nuts 225g</td>\n",
       "      <td>0</td>\n",
       "      <td>0</td>\n",
       "      <td>100</td>\n",
       "      <td>25</td>\n",
       "      <td>274.75</td>\n",
       "      <td>Less than 50</td>\n",
       "      <td>10+</td>\n",
       "    </tr>\n",
       "    <tr>\n",
       "      <th>4</th>\n",
       "      <td>lianfeng</td>\n",
       "      <td>Nuts</td>\n",
       "      <td>Mainland China</td>\n",
       "      <td>Yami</td>\n",
       "      <td>11.99</td>\n",
       "      <td>LIAN FENG Hickory Nuts Kernels 108g</td>\n",
       "      <td>4.8</td>\n",
       "      <td>114</td>\n",
       "      <td>100</td>\n",
       "      <td>25</td>\n",
       "      <td>299.75</td>\n",
       "      <td>Less than 50</td>\n",
       "      <td>10+</td>\n",
       "    </tr>\n",
       "  </tbody>\n",
       "</table>\n",
       "</div>"
      ],
      "text/plain": [
       "             Brand Category          Origin Platform  Price  \\\n",
       "0         nuts lab     Nuts           Korea     Yami   4.29   \n",
       "1  three squirrels     Nuts  Mainland China     Yami   9.59   \n",
       "2         kam yuen     Nuts  Mainland China     Yami   4.29   \n",
       "3  three squirrels     Nuts  Mainland China     Yami  10.99   \n",
       "4         lianfeng     Nuts  Mainland China     Yami  11.99   \n",
       "\n",
       "                          Product_Name Rate  Reviews  Sold_Monthly  \\\n",
       "0   NUTS LAB Buldak Flavor Almond 120g    5        2           100   \n",
       "1               Super Nuts Pecans 225g    0        0           100   \n",
       "2   Salted Egg Yolk Macadamia Nuts 65g    0        0           100   \n",
       "3       Super Nuts Pistachio Nuts 225g    0        0           100   \n",
       "4  LIAN FENG Hickory Nuts Kernels 108g  4.8      114           100   \n",
       "\n",
       "   Sold_Weekly  Weekly_Revenue Sold_Weekly_Group Price_Group  \n",
       "0           25          107.25      Less than 50          4+  \n",
       "1           25          239.75      Less than 50          8+  \n",
       "2           25          107.25      Less than 50          4+  \n",
       "3           25          274.75      Less than 50         10+  \n",
       "4           25          299.75      Less than 50         10+  "
      ]
     },
     "execution_count": 70,
     "metadata": {},
     "output_type": "execute_result"
    }
   ],
   "source": [
    "df['Price_Group'] = pd.cut(x = df['Price'], \n",
    "                                   bins = [0,2,4,6,8,10,12,14,16,10000],\n",
    "                                   labels = ['Less than 2','2+','4+','6+','8+','10+','12+','14+','16+'])\n",
    "df.head()"
   ]
  },
  {
   "cell_type": "code",
   "execution_count": 71,
   "metadata": {},
   "outputs": [
    {
     "data": {
      "text/plain": [
       "Text(0.5, 1.0, 'Price_Group vs. Origin')"
      ]
     },
     "execution_count": 71,
     "metadata": {},
     "output_type": "execute_result"
    },
    {
     "data": {
      "image/png": "[encoded data removed]",
      "text/plain": [
       "<Figure size 1440x432 with 1 Axes>"
      ]
     },
     "metadata": {
      "needs_background": "light"
     },
     "output_type": "display_data"
    }
   ],
   "source": [
    "# origin vs Price group\n",
    "\n",
    "plt.rcParams['figure.figsize'] = (20, 6)\n",
    "\n",
    "# compare the year with Origin with price group\n",
    "plt.subplot(121)\n",
    "sns.countplot(x='Origin',hue= 'Price_Group', data=df, palette = 'husl')\n",
    "plt.xticks(rotation=90)\n",
    "plt.legend(bbox_to_anchor=(-0.2, 0.5), loc='right', borderaxespad=0)\n",
    "plt.title('Price_Group vs. Origin')"
   ]
  },
  {
   "cell_type": "code",
   "execution_count": 72,
   "metadata": {
    "scrolled": false
   },
   "outputs": [
    {
     "name": "stderr",
     "output_type": "stream",
     "text": [
      "C:\\Users\\13750\\Anaconda3\\lib\\site-packages\\ipykernel_launcher.py:10: MatplotlibDeprecationWarning: Unrecognized location 'left'. Falling back on 'best'; valid locations are\n",
      "\tbest\n",
      "\tupper right\n",
      "\tupper left\n",
      "\tlower left\n",
      "\tlower right\n",
      "\tright\n",
      "\tcenter left\n",
      "\tcenter right\n",
      "\tlower center\n",
      "\tupper center\n",
      "\tcenter\n",
      "This will raise an exception in 3.3.\n",
      "  # Remove the CWD from sys.path while we load stuff.\n"
     ]
    },
    {
     "data": {
      "text/html": [
       "<div>\n",
       "<style scoped>\n",
       "    .dataframe tbody tr th:only-of-type {\n",
       "        vertical-align: middle;\n",
       "    }\n",
       "\n",
       "    .dataframe tbody tr th {\n",
       "        vertical-align: top;\n",
       "    }\n",
       "\n",
       "    .dataframe thead th {\n",
       "        text-align: right;\n",
       "    }\n",
       "</style>\n",
       "<table border=\"1\" class=\"dataframe\">\n",
       "  <thead>\n",
       "    <tr style=\"text-align: right;\">\n",
       "      <th>Origin</th>\n",
       "      <th>Australia</th>\n",
       "      <th>Canada</th>\n",
       "      <th>India</th>\n",
       "      <th>Indonesia</th>\n",
       "      <th>Italy</th>\n",
       "      <th>Japan</th>\n",
       "      <th>Korea</th>\n",
       "      <th>Mainland China</th>\n",
       "      <th>Mexico</th>\n",
       "      <th>Philippines</th>\n",
       "      <th>Singapore</th>\n",
       "      <th>South Korea</th>\n",
       "      <th>Taiwan</th>\n",
       "      <th>Thailand</th>\n",
       "      <th>Unclear</th>\n",
       "      <th>United States</th>\n",
       "      <th>Vietnam</th>\n",
       "    </tr>\n",
       "    <tr>\n",
       "      <th>Price_Group</th>\n",
       "      <th></th>\n",
       "      <th></th>\n",
       "      <th></th>\n",
       "      <th></th>\n",
       "      <th></th>\n",
       "      <th></th>\n",
       "      <th></th>\n",
       "      <th></th>\n",
       "      <th></th>\n",
       "      <th></th>\n",
       "      <th></th>\n",
       "      <th></th>\n",
       "      <th></th>\n",
       "      <th></th>\n",
       "      <th></th>\n",
       "      <th></th>\n",
       "      <th></th>\n",
       "    </tr>\n",
       "  </thead>\n",
       "  <tbody>\n",
       "    <tr>\n",
       "      <th>Less than 2</th>\n",
       "      <td>0</td>\n",
       "      <td>0</td>\n",
       "      <td>0</td>\n",
       "      <td>1</td>\n",
       "      <td>0</td>\n",
       "      <td>2</td>\n",
       "      <td>1</td>\n",
       "      <td>23</td>\n",
       "      <td>1</td>\n",
       "      <td>6</td>\n",
       "      <td>0</td>\n",
       "      <td>1</td>\n",
       "      <td>10</td>\n",
       "      <td>0</td>\n",
       "      <td>0</td>\n",
       "      <td>1</td>\n",
       "      <td>2</td>\n",
       "    </tr>\n",
       "    <tr>\n",
       "      <th>2+</th>\n",
       "      <td>0</td>\n",
       "      <td>1</td>\n",
       "      <td>0</td>\n",
       "      <td>3</td>\n",
       "      <td>1</td>\n",
       "      <td>12</td>\n",
       "      <td>14</td>\n",
       "      <td>143</td>\n",
       "      <td>5</td>\n",
       "      <td>5</td>\n",
       "      <td>2</td>\n",
       "      <td>2</td>\n",
       "      <td>44</td>\n",
       "      <td>3</td>\n",
       "      <td>13</td>\n",
       "      <td>3</td>\n",
       "      <td>0</td>\n",
       "    </tr>\n",
       "    <tr>\n",
       "      <th>4+</th>\n",
       "      <td>0</td>\n",
       "      <td>0</td>\n",
       "      <td>5</td>\n",
       "      <td>0</td>\n",
       "      <td>0</td>\n",
       "      <td>6</td>\n",
       "      <td>3</td>\n",
       "      <td>85</td>\n",
       "      <td>1</td>\n",
       "      <td>2</td>\n",
       "      <td>0</td>\n",
       "      <td>1</td>\n",
       "      <td>8</td>\n",
       "      <td>2</td>\n",
       "      <td>19</td>\n",
       "      <td>10</td>\n",
       "      <td>0</td>\n",
       "    </tr>\n",
       "    <tr>\n",
       "      <th>6+</th>\n",
       "      <td>0</td>\n",
       "      <td>0</td>\n",
       "      <td>1</td>\n",
       "      <td>1</td>\n",
       "      <td>0</td>\n",
       "      <td>4</td>\n",
       "      <td>4</td>\n",
       "      <td>44</td>\n",
       "      <td>0</td>\n",
       "      <td>2</td>\n",
       "      <td>0</td>\n",
       "      <td>2</td>\n",
       "      <td>1</td>\n",
       "      <td>0</td>\n",
       "      <td>5</td>\n",
       "      <td>5</td>\n",
       "      <td>1</td>\n",
       "    </tr>\n",
       "    <tr>\n",
       "      <th>8+</th>\n",
       "      <td>5</td>\n",
       "      <td>0</td>\n",
       "      <td>0</td>\n",
       "      <td>0</td>\n",
       "      <td>0</td>\n",
       "      <td>1</td>\n",
       "      <td>1</td>\n",
       "      <td>20</td>\n",
       "      <td>0</td>\n",
       "      <td>0</td>\n",
       "      <td>0</td>\n",
       "      <td>6</td>\n",
       "      <td>4</td>\n",
       "      <td>0</td>\n",
       "      <td>7</td>\n",
       "      <td>9</td>\n",
       "      <td>0</td>\n",
       "    </tr>\n",
       "    <tr>\n",
       "      <th>10+</th>\n",
       "      <td>0</td>\n",
       "      <td>0</td>\n",
       "      <td>1</td>\n",
       "      <td>0</td>\n",
       "      <td>0</td>\n",
       "      <td>0</td>\n",
       "      <td>0</td>\n",
       "      <td>13</td>\n",
       "      <td>0</td>\n",
       "      <td>0</td>\n",
       "      <td>0</td>\n",
       "      <td>0</td>\n",
       "      <td>1</td>\n",
       "      <td>0</td>\n",
       "      <td>1</td>\n",
       "      <td>3</td>\n",
       "      <td>0</td>\n",
       "    </tr>\n",
       "    <tr>\n",
       "      <th>12+</th>\n",
       "      <td>0</td>\n",
       "      <td>0</td>\n",
       "      <td>0</td>\n",
       "      <td>0</td>\n",
       "      <td>0</td>\n",
       "      <td>1</td>\n",
       "      <td>0</td>\n",
       "      <td>11</td>\n",
       "      <td>0</td>\n",
       "      <td>0</td>\n",
       "      <td>0</td>\n",
       "      <td>1</td>\n",
       "      <td>1</td>\n",
       "      <td>0</td>\n",
       "      <td>0</td>\n",
       "      <td>7</td>\n",
       "      <td>0</td>\n",
       "    </tr>\n",
       "    <tr>\n",
       "      <th>14+</th>\n",
       "      <td>0</td>\n",
       "      <td>0</td>\n",
       "      <td>0</td>\n",
       "      <td>0</td>\n",
       "      <td>0</td>\n",
       "      <td>0</td>\n",
       "      <td>2</td>\n",
       "      <td>9</td>\n",
       "      <td>0</td>\n",
       "      <td>0</td>\n",
       "      <td>0</td>\n",
       "      <td>0</td>\n",
       "      <td>1</td>\n",
       "      <td>0</td>\n",
       "      <td>1</td>\n",
       "      <td>0</td>\n",
       "      <td>0</td>\n",
       "    </tr>\n",
       "    <tr>\n",
       "      <th>16+</th>\n",
       "      <td>0</td>\n",
       "      <td>0</td>\n",
       "      <td>0</td>\n",
       "      <td>0</td>\n",
       "      <td>0</td>\n",
       "      <td>0</td>\n",
       "      <td>4</td>\n",
       "      <td>34</td>\n",
       "      <td>0</td>\n",
       "      <td>0</td>\n",
       "      <td>0</td>\n",
       "      <td>0</td>\n",
       "      <td>3</td>\n",
       "      <td>0</td>\n",
       "      <td>1</td>\n",
       "      <td>2</td>\n",
       "      <td>0</td>\n",
       "    </tr>\n",
       "  </tbody>\n",
       "</table>\n",
       "</div>"
      ],
      "text/plain": [
       "Origin       Australia  Canada  India  Indonesia  Italy  Japan  Korea  \\\n",
       "Price_Group                                                             \n",
       "Less than 2          0       0      0          1      0      2      1   \n",
       "2+                   0       1      0          3      1     12     14   \n",
       "4+                   0       0      5          0      0      6      3   \n",
       "6+                   0       0      1          1      0      4      4   \n",
       "8+                   5       0      0          0      0      1      1   \n",
       "10+                  0       0      1          0      0      0      0   \n",
       "12+                  0       0      0          0      0      1      0   \n",
       "14+                  0       0      0          0      0      0      2   \n",
       "16+                  0       0      0          0      0      0      4   \n",
       "\n",
       "Origin       Mainland China  Mexico  Philippines  Singapore  South Korea  \\\n",
       "Price_Group                                                                \n",
       "Less than 2              23       1            6          0            1   \n",
       "2+                      143       5            5          2            2   \n",
       "4+                       85       1            2          0            1   \n",
       "6+                       44       0            2          0            2   \n",
       "8+                       20       0            0          0            6   \n",
       "10+                      13       0            0          0            0   \n",
       "12+                      11       0            0          0            1   \n",
       "14+                       9       0            0          0            0   \n",
       "16+                      34       0            0          0            0   \n",
       "\n",
       "Origin       Taiwan  Thailand  Unclear  United States  Vietnam  \n",
       "Price_Group                                                     \n",
       "Less than 2      10         0        0              1        2  \n",
       "2+               44         3       13              3        0  \n",
       "4+                8         2       19             10        0  \n",
       "6+                1         0        5              5        1  \n",
       "8+                4         0        7              9        0  \n",
       "10+               1         0        1              3        0  \n",
       "12+               1         0        0              7        0  \n",
       "14+               1         0        1              0        0  \n",
       "16+               3         0        1              2        0  "
      ]
     },
     "execution_count": 72,
     "metadata": {},
     "output_type": "execute_result"
    },
    {
     "data": {
      "image/png": "[encoded data removed]",
      "text/plain": [
       "<Figure size 1080x360 with 1 Axes>"
      ]
     },
     "metadata": {
      "needs_background": "light"
     },
     "output_type": "display_data"
    }
   ],
   "source": [
    "# origin vs sold weekly group\n",
    "\n",
    "plt.rcParams['figure.figsize'] = (15, 5)\n",
    "\n",
    "# check the Origin percentage of Platform\n",
    "ax= plt.subplot(122)\n",
    "c2_c = pd.crosstab(df.Price_Group, df.Origin)\n",
    "c2_c.div(c2_c .sum(1).astype(float), axis=0).plot(kind='bar', stacked=True, ax=ax)\n",
    "plt.title('Origin percentage by Price_Group')\n",
    "plt.legend(bbox_to_anchor=(-0.2, 1), loc='left', borderaxespad=0)\n",
    "plt.xlabel('Price_Group')\n",
    "plt.xticks(rotation=0)\n",
    "plt.ylabel('Percentage of Origin')\n",
    "\n",
    "c2_c"
   ]
  },
  {
   "cell_type": "markdown",
   "metadata": {},
   "source": [
    "## Price_Group Vs Sold_Weekly_Group\n"
   ]
  },
  {
   "cell_type": "code",
   "execution_count": 73,
   "metadata": {
    "scrolled": false
   },
   "outputs": [
    {
     "name": "stderr",
     "output_type": "stream",
     "text": [
      "C:\\Users\\13750\\Anaconda3\\lib\\site-packages\\ipykernel_launcher.py:8: MatplotlibDeprecationWarning: Unrecognized location 'left'. Falling back on 'best'; valid locations are\n",
      "\tbest\n",
      "\tupper right\n",
      "\tupper left\n",
      "\tlower left\n",
      "\tlower right\n",
      "\tright\n",
      "\tcenter left\n",
      "\tcenter right\n",
      "\tlower center\n",
      "\tupper center\n",
      "\tcenter\n",
      "This will raise an exception in 3.3.\n",
      "  \n"
     ]
    },
    {
     "data": {
      "text/html": [
       "<div>\n",
       "<style scoped>\n",
       "    .dataframe tbody tr th:only-of-type {\n",
       "        vertical-align: middle;\n",
       "    }\n",
       "\n",
       "    .dataframe tbody tr th {\n",
       "        vertical-align: top;\n",
       "    }\n",
       "\n",
       "    .dataframe thead th {\n",
       "        text-align: right;\n",
       "    }\n",
       "</style>\n",
       "<table border=\"1\" class=\"dataframe\">\n",
       "  <thead>\n",
       "    <tr style=\"text-align: right;\">\n",
       "      <th>Sold_Weekly_Group</th>\n",
       "      <th>Less than 50</th>\n",
       "      <th>50+</th>\n",
       "      <th>100+</th>\n",
       "      <th>200+</th>\n",
       "      <th>300+</th>\n",
       "      <th>400+</th>\n",
       "      <th>500+</th>\n",
       "      <th>1000+</th>\n",
       "      <th>2000+</th>\n",
       "    </tr>\n",
       "    <tr>\n",
       "      <th>Price_Group</th>\n",
       "      <th></th>\n",
       "      <th></th>\n",
       "      <th></th>\n",
       "      <th></th>\n",
       "      <th></th>\n",
       "      <th></th>\n",
       "      <th></th>\n",
       "      <th></th>\n",
       "      <th></th>\n",
       "    </tr>\n",
       "  </thead>\n",
       "  <tbody>\n",
       "    <tr>\n",
       "      <th>Less than 2</th>\n",
       "      <td>20</td>\n",
       "      <td>1</td>\n",
       "      <td>8</td>\n",
       "      <td>7</td>\n",
       "      <td>2</td>\n",
       "      <td>1</td>\n",
       "      <td>7</td>\n",
       "      <td>0</td>\n",
       "      <td>1</td>\n",
       "    </tr>\n",
       "    <tr>\n",
       "      <th>2+</th>\n",
       "      <td>123</td>\n",
       "      <td>3</td>\n",
       "      <td>50</td>\n",
       "      <td>9</td>\n",
       "      <td>9</td>\n",
       "      <td>2</td>\n",
       "      <td>13</td>\n",
       "      <td>7</td>\n",
       "      <td>9</td>\n",
       "    </tr>\n",
       "    <tr>\n",
       "      <th>4+</th>\n",
       "      <td>74</td>\n",
       "      <td>2</td>\n",
       "      <td>14</td>\n",
       "      <td>6</td>\n",
       "      <td>1</td>\n",
       "      <td>2</td>\n",
       "      <td>9</td>\n",
       "      <td>13</td>\n",
       "      <td>4</td>\n",
       "    </tr>\n",
       "    <tr>\n",
       "      <th>6+</th>\n",
       "      <td>32</td>\n",
       "      <td>3</td>\n",
       "      <td>2</td>\n",
       "      <td>14</td>\n",
       "      <td>1</td>\n",
       "      <td>0</td>\n",
       "      <td>2</td>\n",
       "      <td>4</td>\n",
       "      <td>3</td>\n",
       "    </tr>\n",
       "    <tr>\n",
       "      <th>8+</th>\n",
       "      <td>24</td>\n",
       "      <td>1</td>\n",
       "      <td>5</td>\n",
       "      <td>4</td>\n",
       "      <td>1</td>\n",
       "      <td>0</td>\n",
       "      <td>3</td>\n",
       "      <td>4</td>\n",
       "      <td>2</td>\n",
       "    </tr>\n",
       "    <tr>\n",
       "      <th>10+</th>\n",
       "      <td>10</td>\n",
       "      <td>0</td>\n",
       "      <td>2</td>\n",
       "      <td>2</td>\n",
       "      <td>1</td>\n",
       "      <td>0</td>\n",
       "      <td>0</td>\n",
       "      <td>1</td>\n",
       "      <td>0</td>\n",
       "    </tr>\n",
       "    <tr>\n",
       "      <th>12+</th>\n",
       "      <td>11</td>\n",
       "      <td>0</td>\n",
       "      <td>1</td>\n",
       "      <td>5</td>\n",
       "      <td>0</td>\n",
       "      <td>0</td>\n",
       "      <td>1</td>\n",
       "      <td>1</td>\n",
       "      <td>0</td>\n",
       "    </tr>\n",
       "    <tr>\n",
       "      <th>14+</th>\n",
       "      <td>10</td>\n",
       "      <td>0</td>\n",
       "      <td>1</td>\n",
       "      <td>0</td>\n",
       "      <td>1</td>\n",
       "      <td>1</td>\n",
       "      <td>0</td>\n",
       "      <td>0</td>\n",
       "      <td>0</td>\n",
       "    </tr>\n",
       "    <tr>\n",
       "      <th>16+</th>\n",
       "      <td>24</td>\n",
       "      <td>5</td>\n",
       "      <td>1</td>\n",
       "      <td>8</td>\n",
       "      <td>1</td>\n",
       "      <td>0</td>\n",
       "      <td>0</td>\n",
       "      <td>0</td>\n",
       "      <td>0</td>\n",
       "    </tr>\n",
       "  </tbody>\n",
       "</table>\n",
       "</div>"
      ],
      "text/plain": [
       "Sold_Weekly_Group  Less than 50  50+  100+  200+  300+  400+  500+  1000+  \\\n",
       "Price_Group                                                                 \n",
       "Less than 2                  20    1     8     7     2     1     7      0   \n",
       "2+                          123    3    50     9     9     2    13      7   \n",
       "4+                           74    2    14     6     1     2     9     13   \n",
       "6+                           32    3     2    14     1     0     2      4   \n",
       "8+                           24    1     5     4     1     0     3      4   \n",
       "10+                          10    0     2     2     1     0     0      1   \n",
       "12+                          11    0     1     5     0     0     1      1   \n",
       "14+                          10    0     1     0     1     1     0      0   \n",
       "16+                          24    5     1     8     1     0     0      0   \n",
       "\n",
       "Sold_Weekly_Group  2000+  \n",
       "Price_Group               \n",
       "Less than 2            1  \n",
       "2+                     9  \n",
       "4+                     4  \n",
       "6+                     3  \n",
       "8+                     2  \n",
       "10+                    0  \n",
       "12+                    0  \n",
       "14+                    0  \n",
       "16+                    0  "
      ]
     },
     "execution_count": 73,
     "metadata": {},
     "output_type": "execute_result"
    },
    {
     "data": {
      "image/png": "[encoded data removed]",
      "text/plain": [
       "<Figure size 1440x360 with 1 Axes>"
      ]
     },
     "metadata": {
      "needs_background": "light"
     },
     "output_type": "display_data"
    }
   ],
   "source": [
    "plt.rcParams['figure.figsize'] = (20, 5)\n",
    "\n",
    "# check the Price_Group percentage of Sold_Weekly_Group\n",
    "ax= plt.subplot(122)\n",
    "c2_c = pd.crosstab(df.Price_Group, df.Sold_Weekly_Group)\n",
    "c2_c.div(c2_c .sum(1).astype(float), axis=0).plot(kind='bar', stacked=True, ax=ax)\n",
    "plt.title('Sold_Weekly_Group percentage by Price_Group')\n",
    "plt.legend(bbox_to_anchor=(-0.1, 1), loc='left', borderaxespad=0)\n",
    "plt.xlabel('Price_Group')\n",
    "plt.xticks(rotation=0)\n",
    "plt.ylabel('Percentage of Sold_Weekly_Group')\n",
    "\n",
    "c2_c"
   ]
  },
  {
   "cell_type": "code",
   "execution_count": 74,
   "metadata": {},
   "outputs": [
    {
     "data": {
      "text/plain": [
       "Text(0.5, 1.0, 'Price_Group vs. Sold_Weekly_Group')"
      ]
     },
     "execution_count": 74,
     "metadata": {},
     "output_type": "execute_result"
    },
    {
     "data": {
      "image/png": "[encoded data removed]",
      "text/plain": [
       "<Figure size 1440x288 with 1 Axes>"
      ]
     },
     "metadata": {
      "needs_background": "light"
     },
     "output_type": "display_data"
    }
   ],
   "source": [
    "# price group vs sold weekly group\n",
    "\n",
    "plt.rcParams['figure.figsize'] = (20, 4)\n",
    "\n",
    "# compare the year with price group with sold weekly group\n",
    "plt.subplot(121)\n",
    "sns.countplot(x='Price_Group',hue= 'Sold_Weekly_Group', data=df, palette = 'husl')\n",
    "plt.legend(bbox_to_anchor=(-0.2, 0.5), loc='right', borderaxespad=0)\n",
    "plt.title('Price_Group vs. Sold_Weekly_Group')"
   ]
  },
  {
   "cell_type": "code",
   "execution_count": 75,
   "metadata": {},
   "outputs": [],
   "source": [
    "df.to_csv(r'C:\\Users\\13750\\Desktop\\Empire Bazaar Group Corp\\US chinese product market\\SNACK MARKET\\Analysis Data\\nut\\nut.csv', index = False)"
   ]
  },
  {
   "cell_type": "code",
   "execution_count": null,
   "metadata": {},
   "outputs": [],
   "source": []
  },
  {
   "cell_type": "code",
   "execution_count": null,
   "metadata": {},
   "outputs": [],
   "source": []
  },
  {
   "cell_type": "code",
   "execution_count": null,
   "metadata": {},
   "outputs": [],
   "source": []
  }
 ],
 "metadata": {
  "kernelspec": {
   "display_name": "Python 3",
   "language": "python",
   "name": "python3"
  },
  "language_info": {
   "codemirror_mode": {
    "name": "ipython",
    "version": 3
   },
   "file_extension": ".py",
   "mimetype": "text/x-python",
   "name": "python",
   "nbconvert_exporter": "python",
   "pygments_lexer": "ipython3",
   "version": "3.7.3"
  }
 },
 "nbformat": 4,
 "nbformat_minor": 2
}
