{
 "cells": [
  {
   "cell_type": "code",
   "execution_count": 2,
   "metadata": {},
   "outputs": [],
   "source": [
    "# Import libraries\n",
    "import requests\n",
    "from bs4 import BeautifulSoup\n",
    "import pandas as pd\n",
    "import requests\n",
    "import seaborn as sns #visualisation\n",
    "import matplotlib.pyplot as plt #visualisation\n",
    "%matplotlib inline \n",
    "sns.set(color_codes=True)"
   ]
  },
  {
   "cell_type": "code",
   "execution_count": 3,
   "metadata": {},
   "outputs": [
    {
     "data": {
      "text/html": [
       "<div>\n",
       "<style scoped>\n",
       "    .dataframe tbody tr th:only-of-type {\n",
       "        vertical-align: middle;\n",
       "    }\n",
       "\n",
       "    .dataframe tbody tr th {\n",
       "        vertical-align: top;\n",
       "    }\n",
       "\n",
       "    .dataframe thead th {\n",
       "        text-align: right;\n",
       "    }\n",
       "</style>\n",
       "<table border=\"1\" class=\"dataframe\">\n",
       "  <thead>\n",
       "    <tr style=\"text-align: right;\">\n",
       "      <th></th>\n",
       "      <th>Product_Name</th>\n",
       "      <th>Reviews</th>\n",
       "      <th>Price</th>\n",
       "      <th>Option</th>\n",
       "      <th>Origin</th>\n",
       "      <th>Rate</th>\n",
       "      <th>Platform</th>\n",
       "      <th>Category</th>\n",
       "      <th>Sold_Weekly</th>\n",
       "      <th>Sold_Monthly</th>\n",
       "      <th>Weekly_Revenue</th>\n",
       "    </tr>\n",
       "  </thead>\n",
       "  <tbody>\n",
       "    <tr>\n",
       "      <th>0</th>\n",
       "      <td>Pumpkin + Manuka Honey Juice Squeeze 7 Packets...</td>\n",
       "      <td>33</td>\n",
       "      <td>19.99</td>\n",
       "      <td>No</td>\n",
       "      <td>Australia</td>\n",
       "      <td>4.8</td>\n",
       "      <td>Yami</td>\n",
       "      <td>Juice</td>\n",
       "      <td>25</td>\n",
       "      <td>100</td>\n",
       "      <td>500</td>\n",
       "    </tr>\n",
       "    <tr>\n",
       "      <th>1</th>\n",
       "      <td>Multi-Functional Automatic and Self Cleaning S...</td>\n",
       "      <td>8</td>\n",
       "      <td>499.99</td>\n",
       "      <td>2 Options</td>\n",
       "      <td>Mainland China</td>\n",
       "      <td>4.9</td>\n",
       "      <td>Yami</td>\n",
       "      <td>Juice</td>\n",
       "      <td>25</td>\n",
       "      <td>100</td>\n",
       "      <td>12500</td>\n",
       "    </tr>\n",
       "    <tr>\n",
       "      <th>2</th>\n",
       "      <td>Full Score Micro Bubble Juice Wanglin Green Ap...</td>\n",
       "      <td>8</td>\n",
       "      <td>1.80</td>\n",
       "      <td>2 Options</td>\n",
       "      <td>Mainland China</td>\n",
       "      <td>4.8</td>\n",
       "      <td>Yami</td>\n",
       "      <td>Juice</td>\n",
       "      <td>200</td>\n",
       "      <td>800</td>\n",
       "      <td>360</td>\n",
       "    </tr>\n",
       "    <tr>\n",
       "      <th>3</th>\n",
       "      <td>VITA Lychee Juice 250ml</td>\n",
       "      <td>102</td>\n",
       "      <td>0.79</td>\n",
       "      <td>7 Options</td>\n",
       "      <td>Hong Kong</td>\n",
       "      <td>4.7</td>\n",
       "      <td>Yami</td>\n",
       "      <td>Juice</td>\n",
       "      <td>25</td>\n",
       "      <td>100</td>\n",
       "      <td>20</td>\n",
       "    </tr>\n",
       "    <tr>\n",
       "      <th>4</th>\n",
       "      <td>Sparkling Yuzu Juice 250ml</td>\n",
       "      <td>40</td>\n",
       "      <td>3.49</td>\n",
       "      <td>4 Options</td>\n",
       "      <td>Japan</td>\n",
       "      <td>4.5</td>\n",
       "      <td>Yami</td>\n",
       "      <td>Juice</td>\n",
       "      <td>25</td>\n",
       "      <td>100</td>\n",
       "      <td>87</td>\n",
       "    </tr>\n",
       "  </tbody>\n",
       "</table>\n",
       "</div>"
      ],
      "text/plain": [
       "                                        Product_Name  Reviews   Price  \\\n",
       "0  Pumpkin + Manuka Honey Juice Squeeze 7 Packets...       33   19.99   \n",
       "1  Multi-Functional Automatic and Self Cleaning S...        8  499.99   \n",
       "2  Full Score Micro Bubble Juice Wanglin Green Ap...        8    1.80   \n",
       "3                            VITA Lychee Juice 250ml      102    0.79   \n",
       "4                         Sparkling Yuzu Juice 250ml       40    3.49   \n",
       "\n",
       "      Option          Origin  Rate Platform Category  Sold_Weekly  \\\n",
       "0         No       Australia   4.8     Yami    Juice           25   \n",
       "1  2 Options  Mainland China   4.9     Yami    Juice           25   \n",
       "2  2 Options  Mainland China   4.8     Yami    Juice          200   \n",
       "3  7 Options       Hong Kong   4.7     Yami    Juice           25   \n",
       "4  4 Options           Japan   4.5     Yami    Juice           25   \n",
       "\n",
       "   Sold_Monthly  Weekly_Revenue  \n",
       "0           100             500  \n",
       "1           100           12500  \n",
       "2           800             360  \n",
       "3           100              20  \n",
       "4           100              87  "
      ]
     },
     "execution_count": 3,
     "metadata": {},
     "output_type": "execute_result"
    }
   ],
   "source": [
    "url1 = 'https://raw.githubusercontent.com/mandy941/Chinese-Product-in-US-Market/main/SNACK%20MARKET/Analysis%20Data/juice/Yami%20Juice.csv'\n",
    "url2 = 'https://raw.githubusercontent.com/mandy941/Chinese-Product-in-US-Market/main/SNACK%20MARKET/Analysis%20Data/juice/Juice%20Data-weee%20ScrapeStorm.csv'\n",
    "url3 = 'https://raw.githubusercontent.com/mandy941/Chinese-Product-in-US-Market/main/SNACK%20MARKET/Analysis%20Data/juice/juice-freshgogoData-ScrapeStorm.csv'\n",
    "yami = pd.read_csv(url1, encoding='latin1')\n",
    "yami.head()"
   ]
  },
  {
   "cell_type": "code",
   "execution_count": 4,
   "metadata": {},
   "outputs": [
    {
     "data": {
      "text/html": [
       "<div>\n",
       "<style scoped>\n",
       "    .dataframe tbody tr th:only-of-type {\n",
       "        vertical-align: middle;\n",
       "    }\n",
       "\n",
       "    .dataframe tbody tr th {\n",
       "        vertical-align: top;\n",
       "    }\n",
       "\n",
       "    .dataframe thead th {\n",
       "        text-align: right;\n",
       "    }\n",
       "</style>\n",
       "<table border=\"1\" class=\"dataframe\">\n",
       "  <thead>\n",
       "    <tr style=\"text-align: right;\">\n",
       "      <th></th>\n",
       "      <th>Product_Name</th>\n",
       "      <th>Price</th>\n",
       "      <th>Sold_Weekly</th>\n",
       "      <th>Origin</th>\n",
       "      <th>Brand</th>\n",
       "      <th>Rate</th>\n",
       "      <th>Reviews</th>\n",
       "      <th>Sold_Monthly</th>\n",
       "      <th>Weekly_revenue</th>\n",
       "      <th>Platform</th>\n",
       "      <th>Category</th>\n",
       "    </tr>\n",
       "  </thead>\n",
       "  <tbody>\n",
       "    <tr>\n",
       "      <th>0</th>\n",
       "      <td>Fremo Aloe Juice Original 1.5L 1 bottle</td>\n",
       "      <td>3.79</td>\n",
       "      <td>50</td>\n",
       "      <td>South Korea</td>\n",
       "      <td>Unclear</td>\n",
       "      <td>Unclear</td>\n",
       "      <td>1</td>\n",
       "      <td>200</td>\n",
       "      <td>190</td>\n",
       "      <td>Weee</td>\n",
       "      <td>Juice</td>\n",
       "    </tr>\n",
       "    <tr>\n",
       "      <th>1</th>\n",
       "      <td>Huiyuan Peach Juice  200 ml</td>\n",
       "      <td>1.59</td>\n",
       "      <td>100</td>\n",
       "      <td>Mainland China</td>\n",
       "      <td>Unclear</td>\n",
       "      <td>Unclear</td>\n",
       "      <td>0</td>\n",
       "      <td>400</td>\n",
       "      <td>159</td>\n",
       "      <td>Weee</td>\n",
       "      <td>Juice</td>\n",
       "    </tr>\n",
       "    <tr>\n",
       "      <th>2</th>\n",
       "      <td>FREMO Aloe Juice Peach Flavor 1.5L 1 bottle</td>\n",
       "      <td>3.79</td>\n",
       "      <td>100</td>\n",
       "      <td>South Korea</td>\n",
       "      <td>Unclear</td>\n",
       "      <td>Unclear</td>\n",
       "      <td>0</td>\n",
       "      <td>400</td>\n",
       "      <td>379</td>\n",
       "      <td>Weee</td>\n",
       "      <td>Juice</td>\n",
       "    </tr>\n",
       "    <tr>\n",
       "      <th>3</th>\n",
       "      <td>Huiyuan Grape Juice  200 ml</td>\n",
       "      <td>1.59</td>\n",
       "      <td>50</td>\n",
       "      <td>Mainland China</td>\n",
       "      <td>Unclear</td>\n",
       "      <td>Unclear</td>\n",
       "      <td>0</td>\n",
       "      <td>200</td>\n",
       "      <td>80</td>\n",
       "      <td>Weee</td>\n",
       "      <td>Juice</td>\n",
       "    </tr>\n",
       "    <tr>\n",
       "      <th>4</th>\n",
       "      <td>Chin Chin Peach Juice Drink 10.8 oz</td>\n",
       "      <td>1.49</td>\n",
       "      <td>50</td>\n",
       "      <td>Taiwan</td>\n",
       "      <td>CHINCHIN</td>\n",
       "      <td>Unclear</td>\n",
       "      <td>5</td>\n",
       "      <td>200</td>\n",
       "      <td>75</td>\n",
       "      <td>Weee</td>\n",
       "      <td>Juice</td>\n",
       "    </tr>\n",
       "  </tbody>\n",
       "</table>\n",
       "</div>"
      ],
      "text/plain": [
       "                                  Product_Name  Price  Sold_Weekly  \\\n",
       "0      Fremo Aloe Juice Original 1.5L 1 bottle   3.79           50   \n",
       "1                  Huiyuan Peach Juice  200 ml   1.59          100   \n",
       "2  FREMO Aloe Juice Peach Flavor 1.5L 1 bottle   3.79          100   \n",
       "3                  Huiyuan Grape Juice  200 ml   1.59           50   \n",
       "4          Chin Chin Peach Juice Drink 10.8 oz   1.49           50   \n",
       "\n",
       "           Origin     Brand     Rate  Reviews  Sold_Monthly  Weekly_revenue  \\\n",
       "0     South Korea   Unclear  Unclear        1           200             190   \n",
       "1  Mainland China   Unclear  Unclear        0           400             159   \n",
       "2     South Korea   Unclear  Unclear        0           400             379   \n",
       "3  Mainland China   Unclear  Unclear        0           200              80   \n",
       "4          Taiwan  CHINCHIN  Unclear        5           200              75   \n",
       "\n",
       "  Platform Category  \n",
       "0     Weee    Juice  \n",
       "1     Weee    Juice  \n",
       "2     Weee    Juice  \n",
       "3     Weee    Juice  \n",
       "4     Weee    Juice  "
      ]
     },
     "execution_count": 4,
     "metadata": {},
     "output_type": "execute_result"
    }
   ],
   "source": [
    "weee = pd.read_csv(url2, encoding='latin1')\n",
    "weee.head()"
   ]
  },
  {
   "cell_type": "code",
   "execution_count": 5,
   "metadata": {},
   "outputs": [
    {
     "data": {
      "text/html": [
       "<div>\n",
       "<style scoped>\n",
       "    .dataframe tbody tr th:only-of-type {\n",
       "        vertical-align: middle;\n",
       "    }\n",
       "\n",
       "    .dataframe tbody tr th {\n",
       "        vertical-align: top;\n",
       "    }\n",
       "\n",
       "    .dataframe thead th {\n",
       "        text-align: right;\n",
       "    }\n",
       "</style>\n",
       "<table border=\"1\" class=\"dataframe\">\n",
       "  <thead>\n",
       "    <tr style=\"text-align: right;\">\n",
       "      <th></th>\n",
       "      <th>Product_Name</th>\n",
       "      <th>Price</th>\n",
       "      <th>Sold_Monthly</th>\n",
       "      <th>Reviews</th>\n",
       "      <th>Origin</th>\n",
       "      <th>Sold_Weekly</th>\n",
       "      <th>Weekly_revenue</th>\n",
       "      <th>Rate</th>\n",
       "      <th>Brand</th>\n",
       "      <th>Platform</th>\n",
       "      <th>Category</th>\n",
       "    </tr>\n",
       "  </thead>\n",
       "  <tbody>\n",
       "    <tr>\n",
       "      <th>0</th>\n",
       "      <td>ARTIC OCEAN Orange Soda</td>\n",
       "      <td>11.49</td>\n",
       "      <td>1962</td>\n",
       "      <td>0</td>\n",
       "      <td>Unclear</td>\n",
       "      <td>491</td>\n",
       "      <td>5636</td>\n",
       "      <td>Unclear</td>\n",
       "      <td>Unclear</td>\n",
       "      <td>Freshgogo</td>\n",
       "      <td>Juice</td>\n",
       "    </tr>\n",
       "    <tr>\n",
       "      <th>1</th>\n",
       "      <td>YESHU Coconut Juice</td>\n",
       "      <td>8.99</td>\n",
       "      <td>1716</td>\n",
       "      <td>15</td>\n",
       "      <td>Unclear</td>\n",
       "      <td>429</td>\n",
       "      <td>3857</td>\n",
       "      <td>Unclear</td>\n",
       "      <td>Unclear</td>\n",
       "      <td>Freshgogo</td>\n",
       "      <td>Juice</td>\n",
       "    </tr>\n",
       "    <tr>\n",
       "      <th>2</th>\n",
       "      <td>LAY'S Potato Chip (tomato)</td>\n",
       "      <td>2.99</td>\n",
       "      <td>8078</td>\n",
       "      <td>0</td>\n",
       "      <td>Mainland China</td>\n",
       "      <td>2020</td>\n",
       "      <td>6038</td>\n",
       "      <td>Unclear</td>\n",
       "      <td>Unclear</td>\n",
       "      <td>Freshgogo</td>\n",
       "      <td>Juice</td>\n",
       "    </tr>\n",
       "    <tr>\n",
       "      <th>3</th>\n",
       "      <td>ARTIC OCEAN Orange Soda (glass)</td>\n",
       "      <td>2.29</td>\n",
       "      <td>1312</td>\n",
       "      <td>3</td>\n",
       "      <td>Unclear</td>\n",
       "      <td>328</td>\n",
       "      <td>751</td>\n",
       "      <td>Unclear</td>\n",
       "      <td>Unclear</td>\n",
       "      <td>Freshgogo</td>\n",
       "      <td>Juice</td>\n",
       "    </tr>\n",
       "    <tr>\n",
       "      <th>4</th>\n",
       "      <td>XIN YUAN ZHAI Osmanthus Plum Juice</td>\n",
       "      <td>2.29</td>\n",
       "      <td>1672</td>\n",
       "      <td>1</td>\n",
       "      <td>Unclear</td>\n",
       "      <td>418</td>\n",
       "      <td>957</td>\n",
       "      <td>Unclear</td>\n",
       "      <td>Unclear</td>\n",
       "      <td>Freshgogo</td>\n",
       "      <td>Juice</td>\n",
       "    </tr>\n",
       "  </tbody>\n",
       "</table>\n",
       "</div>"
      ],
      "text/plain": [
       "                         Product_Name  Price  Sold_Monthly  Reviews  \\\n",
       "0             ARTIC OCEAN Orange Soda  11.49          1962        0   \n",
       "1                 YESHU Coconut Juice   8.99          1716       15   \n",
       "2          LAY'S Potato Chip (tomato)   2.99          8078        0   \n",
       "3     ARTIC OCEAN Orange Soda (glass)   2.29          1312        3   \n",
       "4  XIN YUAN ZHAI Osmanthus Plum Juice   2.29          1672        1   \n",
       "\n",
       "           Origin  Sold_Weekly  Weekly_revenue     Rate    Brand   Platform  \\\n",
       "0         Unclear          491            5636  Unclear  Unclear  Freshgogo   \n",
       "1         Unclear          429            3857  Unclear  Unclear  Freshgogo   \n",
       "2  Mainland China         2020            6038  Unclear  Unclear  Freshgogo   \n",
       "3         Unclear          328             751  Unclear  Unclear  Freshgogo   \n",
       "4         Unclear          418             957  Unclear  Unclear  Freshgogo   \n",
       "\n",
       "  Category  \n",
       "0    Juice  \n",
       "1    Juice  \n",
       "2    Juice  \n",
       "3    Juice  \n",
       "4    Juice  "
      ]
     },
     "execution_count": 5,
     "metadata": {},
     "output_type": "execute_result"
    }
   ],
   "source": [
    "freshgogo = pd.read_csv(url3)\n",
    "freshgogo.head()"
   ]
  },
  {
   "cell_type": "markdown",
   "metadata": {},
   "source": [
    "# Combine three tables together"
   ]
  },
  {
   "cell_type": "code",
   "execution_count": 6,
   "metadata": {},
   "outputs": [
    {
     "name": "stderr",
     "output_type": "stream",
     "text": [
      "C:\\Users\\13750\\Anaconda3\\lib\\site-packages\\ipykernel_launcher.py:1: FutureWarning: Sorting because non-concatenation axis is not aligned. A future version\n",
      "of pandas will change to not sort by default.\n",
      "\n",
      "To accept the future behavior, pass 'sort=False'.\n",
      "\n",
      "To retain the current behavior and silence the warning, pass 'sort=True'.\n",
      "\n",
      "  \"\"\"Entry point for launching an IPython kernel.\n"
     ]
    },
    {
     "data": {
      "text/html": [
       "<div>\n",
       "<style scoped>\n",
       "    .dataframe tbody tr th:only-of-type {\n",
       "        vertical-align: middle;\n",
       "    }\n",
       "\n",
       "    .dataframe tbody tr th {\n",
       "        vertical-align: top;\n",
       "    }\n",
       "\n",
       "    .dataframe thead th {\n",
       "        text-align: right;\n",
       "    }\n",
       "</style>\n",
       "<table border=\"1\" class=\"dataframe\">\n",
       "  <thead>\n",
       "    <tr style=\"text-align: right;\">\n",
       "      <th></th>\n",
       "      <th>Brand</th>\n",
       "      <th>Category</th>\n",
       "      <th>Option</th>\n",
       "      <th>Origin</th>\n",
       "      <th>Platform</th>\n",
       "      <th>Price</th>\n",
       "      <th>Product_Name</th>\n",
       "      <th>Rate</th>\n",
       "      <th>Reviews</th>\n",
       "      <th>Sold_Monthly</th>\n",
       "      <th>Sold_Weekly</th>\n",
       "      <th>Weekly_Revenue</th>\n",
       "      <th>Weekly_revenue</th>\n",
       "    </tr>\n",
       "  </thead>\n",
       "  <tbody>\n",
       "    <tr>\n",
       "      <th>0</th>\n",
       "      <td>NaN</td>\n",
       "      <td>Juice</td>\n",
       "      <td>No</td>\n",
       "      <td>Australia</td>\n",
       "      <td>Yami</td>\n",
       "      <td>19.99</td>\n",
       "      <td>Pumpkin + Manuka Honey Juice Squeeze 7 Packets...</td>\n",
       "      <td>4.8</td>\n",
       "      <td>33</td>\n",
       "      <td>100</td>\n",
       "      <td>25</td>\n",
       "      <td>500.0</td>\n",
       "      <td>NaN</td>\n",
       "    </tr>\n",
       "    <tr>\n",
       "      <th>1</th>\n",
       "      <td>NaN</td>\n",
       "      <td>Juice</td>\n",
       "      <td>2 Options</td>\n",
       "      <td>Mainland China</td>\n",
       "      <td>Yami</td>\n",
       "      <td>499.99</td>\n",
       "      <td>Multi-Functional Automatic and Self Cleaning S...</td>\n",
       "      <td>4.9</td>\n",
       "      <td>8</td>\n",
       "      <td>100</td>\n",
       "      <td>25</td>\n",
       "      <td>12500.0</td>\n",
       "      <td>NaN</td>\n",
       "    </tr>\n",
       "    <tr>\n",
       "      <th>2</th>\n",
       "      <td>NaN</td>\n",
       "      <td>Juice</td>\n",
       "      <td>2 Options</td>\n",
       "      <td>Mainland China</td>\n",
       "      <td>Yami</td>\n",
       "      <td>1.80</td>\n",
       "      <td>Full Score Micro Bubble Juice Wanglin Green Ap...</td>\n",
       "      <td>4.8</td>\n",
       "      <td>8</td>\n",
       "      <td>800</td>\n",
       "      <td>200</td>\n",
       "      <td>360.0</td>\n",
       "      <td>NaN</td>\n",
       "    </tr>\n",
       "    <tr>\n",
       "      <th>3</th>\n",
       "      <td>NaN</td>\n",
       "      <td>Juice</td>\n",
       "      <td>7 Options</td>\n",
       "      <td>Hong Kong</td>\n",
       "      <td>Yami</td>\n",
       "      <td>0.79</td>\n",
       "      <td>VITA Lychee Juice 250ml</td>\n",
       "      <td>4.7</td>\n",
       "      <td>102</td>\n",
       "      <td>100</td>\n",
       "      <td>25</td>\n",
       "      <td>20.0</td>\n",
       "      <td>NaN</td>\n",
       "    </tr>\n",
       "    <tr>\n",
       "      <th>4</th>\n",
       "      <td>NaN</td>\n",
       "      <td>Juice</td>\n",
       "      <td>4 Options</td>\n",
       "      <td>Japan</td>\n",
       "      <td>Yami</td>\n",
       "      <td>3.49</td>\n",
       "      <td>Sparkling Yuzu Juice 250ml</td>\n",
       "      <td>4.5</td>\n",
       "      <td>40</td>\n",
       "      <td>100</td>\n",
       "      <td>25</td>\n",
       "      <td>87.0</td>\n",
       "      <td>NaN</td>\n",
       "    </tr>\n",
       "  </tbody>\n",
       "</table>\n",
       "</div>"
      ],
      "text/plain": [
       "  Brand Category     Option          Origin Platform   Price  \\\n",
       "0   NaN    Juice         No       Australia     Yami   19.99   \n",
       "1   NaN    Juice  2 Options  Mainland China     Yami  499.99   \n",
       "2   NaN    Juice  2 Options  Mainland China     Yami    1.80   \n",
       "3   NaN    Juice  7 Options       Hong Kong     Yami    0.79   \n",
       "4   NaN    Juice  4 Options           Japan     Yami    3.49   \n",
       "\n",
       "                                        Product_Name Rate  Reviews  \\\n",
       "0  Pumpkin + Manuka Honey Juice Squeeze 7 Packets...  4.8       33   \n",
       "1  Multi-Functional Automatic and Self Cleaning S...  4.9        8   \n",
       "2  Full Score Micro Bubble Juice Wanglin Green Ap...  4.8        8   \n",
       "3                            VITA Lychee Juice 250ml  4.7      102   \n",
       "4                         Sparkling Yuzu Juice 250ml  4.5       40   \n",
       "\n",
       "   Sold_Monthly  Sold_Weekly  Weekly_Revenue  Weekly_revenue  \n",
       "0           100           25           500.0             NaN  \n",
       "1           100           25         12500.0             NaN  \n",
       "2           800          200           360.0             NaN  \n",
       "3           100           25            20.0             NaN  \n",
       "4           100           25            87.0             NaN  "
      ]
     },
     "execution_count": 6,
     "metadata": {},
     "output_type": "execute_result"
    }
   ],
   "source": [
    "df = pd.concat([yami,weee,freshgogo])\n",
    "df.head()"
   ]
  },
  {
   "cell_type": "code",
   "execution_count": 7,
   "metadata": {},
   "outputs": [
    {
     "name": "stdout",
     "output_type": "stream",
     "text": [
      "(1195, 13)\n",
      "['Brand', 'Category', 'Option', 'Origin', 'Platform', 'Price', 'Product_Name', 'Rate', 'Reviews', 'Sold_Monthly', 'Sold_Weekly', 'Weekly_Revenue', 'Weekly_revenue']\n"
     ]
    }
   ],
   "source": [
    "print(df.shape)\n",
    "print(list(df.columns))"
   ]
  },
  {
   "cell_type": "markdown",
   "metadata": {},
   "source": [
    "# Analysis"
   ]
  },
  {
   "cell_type": "code",
   "execution_count": 8,
   "metadata": {},
   "outputs": [
    {
     "data": {
      "text/html": [
       "<div>\n",
       "<style scoped>\n",
       "    .dataframe tbody tr th:only-of-type {\n",
       "        vertical-align: middle;\n",
       "    }\n",
       "\n",
       "    .dataframe tbody tr th {\n",
       "        vertical-align: top;\n",
       "    }\n",
       "\n",
       "    .dataframe thead th {\n",
       "        text-align: right;\n",
       "    }\n",
       "</style>\n",
       "<table border=\"1\" class=\"dataframe\">\n",
       "  <thead>\n",
       "    <tr style=\"text-align: right;\">\n",
       "      <th></th>\n",
       "      <th>Price</th>\n",
       "      <th>Reviews</th>\n",
       "      <th>Sold_Monthly</th>\n",
       "      <th>Sold_Weekly</th>\n",
       "      <th>Weekly_Revenue</th>\n",
       "      <th>Weekly_revenue</th>\n",
       "    </tr>\n",
       "  </thead>\n",
       "  <tbody>\n",
       "    <tr>\n",
       "      <th>count</th>\n",
       "      <td>1195.000000</td>\n",
       "      <td>1195.000000</td>\n",
       "      <td>1195.000000</td>\n",
       "      <td>1195.000000</td>\n",
       "      <td>1072.000000</td>\n",
       "      <td>123.000000</td>\n",
       "    </tr>\n",
       "    <tr>\n",
       "      <th>mean</th>\n",
       "      <td>6.177130</td>\n",
       "      <td>23.770711</td>\n",
       "      <td>680.761506</td>\n",
       "      <td>170.194142</td>\n",
       "      <td>674.758396</td>\n",
       "      <td>1416.056911</td>\n",
       "    </tr>\n",
       "    <tr>\n",
       "      <th>std</th>\n",
       "      <td>19.638169</td>\n",
       "      <td>75.577160</td>\n",
       "      <td>869.885030</td>\n",
       "      <td>217.485041</td>\n",
       "      <td>1257.174436</td>\n",
       "      <td>2881.544828</td>\n",
       "    </tr>\n",
       "    <tr>\n",
       "      <th>min</th>\n",
       "      <td>0.690000</td>\n",
       "      <td>0.000000</td>\n",
       "      <td>0.000000</td>\n",
       "      <td>0.000000</td>\n",
       "      <td>20.000000</td>\n",
       "      <td>0.000000</td>\n",
       "    </tr>\n",
       "    <tr>\n",
       "      <th>25%</th>\n",
       "      <td>1.690000</td>\n",
       "      <td>1.000000</td>\n",
       "      <td>100.000000</td>\n",
       "      <td>25.000000</td>\n",
       "      <td>99.750000</td>\n",
       "      <td>0.000000</td>\n",
       "    </tr>\n",
       "    <tr>\n",
       "      <th>50%</th>\n",
       "      <td>2.390000</td>\n",
       "      <td>4.000000</td>\n",
       "      <td>800.000000</td>\n",
       "      <td>200.000000</td>\n",
       "      <td>398.000000</td>\n",
       "      <td>180.000000</td>\n",
       "    </tr>\n",
       "    <tr>\n",
       "      <th>75%</th>\n",
       "      <td>3.690000</td>\n",
       "      <td>13.000000</td>\n",
       "      <td>800.000000</td>\n",
       "      <td>200.000000</td>\n",
       "      <td>598.000000</td>\n",
       "      <td>957.500000</td>\n",
       "    </tr>\n",
       "    <tr>\n",
       "      <th>max</th>\n",
       "      <td>499.990000</td>\n",
       "      <td>1072.000000</td>\n",
       "      <td>13736.000000</td>\n",
       "      <td>3434.000000</td>\n",
       "      <td>12500.000000</td>\n",
       "      <td>14398.000000</td>\n",
       "    </tr>\n",
       "  </tbody>\n",
       "</table>\n",
       "</div>"
      ],
      "text/plain": [
       "             Price      Reviews  Sold_Monthly  Sold_Weekly  Weekly_Revenue  \\\n",
       "count  1195.000000  1195.000000   1195.000000  1195.000000     1072.000000   \n",
       "mean      6.177130    23.770711    680.761506   170.194142      674.758396   \n",
       "std      19.638169    75.577160    869.885030   217.485041     1257.174436   \n",
       "min       0.690000     0.000000      0.000000     0.000000       20.000000   \n",
       "25%       1.690000     1.000000    100.000000    25.000000       99.750000   \n",
       "50%       2.390000     4.000000    800.000000   200.000000      398.000000   \n",
       "75%       3.690000    13.000000    800.000000   200.000000      598.000000   \n",
       "max     499.990000  1072.000000  13736.000000  3434.000000    12500.000000   \n",
       "\n",
       "       Weekly_revenue  \n",
       "count      123.000000  \n",
       "mean      1416.056911  \n",
       "std       2881.544828  \n",
       "min          0.000000  \n",
       "25%          0.000000  \n",
       "50%        180.000000  \n",
       "75%        957.500000  \n",
       "max      14398.000000  "
      ]
     },
     "execution_count": 8,
     "metadata": {},
     "output_type": "execute_result"
    }
   ],
   "source": [
    "df.describe()"
   ]
  },
  {
   "cell_type": "code",
   "execution_count": 9,
   "metadata": {},
   "outputs": [
    {
     "data": {
      "text/plain": [
       "Price               7381.67\n",
       "Reviews            28406.00\n",
       "Sold_Monthly      813510.00\n",
       "Sold_Weekly       203382.00\n",
       "Weekly_Revenue    723341.00\n",
       "Weekly_revenue    174175.00\n",
       "dtype: float64"
      ]
     },
     "execution_count": 9,
     "metadata": {},
     "output_type": "execute_result"
    }
   ],
   "source": [
    "df.sum(axis = 0)"
   ]
  },
  {
   "cell_type": "code",
   "execution_count": 10,
   "metadata": {},
   "outputs": [],
   "source": [
    "df['Origin'] = df['Origin'].replace('ROYAL FAMILY','Unclear')"
   ]
  },
  {
   "cell_type": "markdown",
   "metadata": {},
   "source": [
    "# The Most Popular Origin (Highest Weekly Revenue /Num of Product)\n"
   ]
  },
  {
   "cell_type": "code",
   "execution_count": 11,
   "metadata": {},
   "outputs": [
    {
     "data": {
      "text/plain": [
       "Origin\n",
       "Australia           9\n",
       "Brazil              1\n",
       "Hong Kong          24\n",
       "Indonesia           5\n",
       "Japan             390\n",
       "Korea              88\n",
       "Mainland China    366\n",
       "Malaysia            3\n",
       "Philippines         5\n",
       "Singapore          12\n",
       "South Korea        11\n",
       "Taiwan            112\n",
       "Thailand           30\n",
       "Unclear            60\n",
       "United States      72\n",
       "Vietnam             7\n",
       "Name: Product_Name, dtype: int64"
      ]
     },
     "execution_count": 11,
     "metadata": {},
     "output_type": "execute_result"
    }
   ],
   "source": [
    "origin = df.groupby(['Origin'])['Product_Name'].count()\n",
    "origin"
   ]
  },
  {
   "cell_type": "code",
   "execution_count": 12,
   "metadata": {},
   "outputs": [
    {
     "data": {
      "text/plain": [
       "Origin\n",
       "Australia         1747.222222\n",
       "Brazil              50.000000\n",
       "Hong Kong          148.625000\n",
       "Indonesia          144.400000\n",
       "Japan              600.415385\n",
       "Korea              650.613636\n",
       "Mainland China     558.248634\n",
       "Malaysia          2795.000000\n",
       "Philippines          0.000000\n",
       "Singapore          211.083333\n",
       "South Korea          0.000000\n",
       "Taiwan             948.821429\n",
       "Thailand           376.400000\n",
       "Unclear            351.950000\n",
       "United States      777.236111\n",
       "Vietnam            283.714286\n",
       "dtype: float64"
      ]
     },
     "execution_count": 12,
     "metadata": {},
     "output_type": "execute_result"
    }
   ],
   "source": [
    "pop_origin = df.groupby(['Origin'])['Weekly_Revenue'].sum()/df.groupby(['Origin'])['Product_Name'].count()\n",
    "pop_origin"
   ]
  },
  {
   "cell_type": "code",
   "execution_count": 13,
   "metadata": {},
   "outputs": [
    {
     "data": {
      "text/plain": [
       "Origin\n",
       "Malaysia          2795.000000\n",
       "Australia         1747.222222\n",
       "Taiwan             948.821429\n",
       "United States      777.236111\n",
       "Korea              650.613636\n",
       "Japan              600.415385\n",
       "Mainland China     558.248634\n",
       "Thailand           376.400000\n",
       "Unclear            351.950000\n",
       "Vietnam            283.714286\n",
       "dtype: float64"
      ]
     },
     "execution_count": 13,
     "metadata": {},
     "output_type": "execute_result"
    }
   ],
   "source": [
    "pop_origin.sort_values(ascending=False).head(10)"
   ]
  },
  {
   "cell_type": "markdown",
   "metadata": {},
   "source": [
    "# The most popular brand by unit selling\n"
   ]
  },
  {
   "cell_type": "code",
   "execution_count": 14,
   "metadata": {},
   "outputs": [
    {
     "data": {
      "text/plain": [
       "Brand\n",
       "CHINCHIN                0.0\n",
       "Coco King               0.0\n",
       "Datu Puti               0.0\n",
       "Dragon Fly              0.0\n",
       "Genki Forest            0.0\n",
       "Haowangshui             0.0\n",
       "Jack & King's           0.0\n",
       "Kimino                  0.0\n",
       "Lotte                   0.0\n",
       "Paldo                   0.0\n",
       "Singing Bird Brand      0.0\n",
       "Uncle Matts Organics    0.0\n",
       "Unclear                 0.0\n",
       "Weichuan                0.0\n",
       "Yamajirushi             0.0\n",
       "dtype: float64"
      ]
     },
     "execution_count": 14,
     "metadata": {},
     "output_type": "execute_result"
    }
   ],
   "source": [
    "pop_brand = df.groupby(['Brand'])['Weekly_Revenue'].sum()/df.groupby(['Brand'])['Product_Name'].count()\n",
    "pop_brand"
   ]
  },
  {
   "cell_type": "code",
   "execution_count": 15,
   "metadata": {},
   "outputs": [
    {
     "data": {
      "text/plain": [
       "Brand\n",
       "Yamajirushi             0.0\n",
       "Weichuan                0.0\n",
       "Unclear                 0.0\n",
       "Uncle Matts Organics    0.0\n",
       "Singing Bird Brand      0.0\n",
       "dtype: float64"
      ]
     },
     "execution_count": 15,
     "metadata": {},
     "output_type": "execute_result"
    }
   ],
   "source": [
    "pop_brand.sort_values(ascending=False).head(5)"
   ]
  },
  {
   "cell_type": "markdown",
   "metadata": {},
   "source": [
    "# The popular brand by revenue"
   ]
  },
  {
   "cell_type": "code",
   "execution_count": 16,
   "metadata": {},
   "outputs": [
    {
     "data": {
      "text/plain": [
       "Brand\n",
       "CHINCHIN                0.0\n",
       "Coco King               0.0\n",
       "Datu Puti               0.0\n",
       "Dragon Fly              0.0\n",
       "Genki Forest            0.0\n",
       "Haowangshui             0.0\n",
       "Jack & King's           0.0\n",
       "Kimino                  0.0\n",
       "Lotte                   0.0\n",
       "Paldo                   0.0\n",
       "Singing Bird Brand      0.0\n",
       "Uncle Matts Organics    0.0\n",
       "Unclear                 0.0\n",
       "Weichuan                0.0\n",
       "Yamajirushi             0.0\n",
       "Name: Weekly_Revenue, dtype: float64"
      ]
     },
     "execution_count": 16,
     "metadata": {},
     "output_type": "execute_result"
    }
   ],
   "source": [
    "pop_brand2 = df.groupby(['Brand'])['Weekly_Revenue'].sum()\n",
    "pop_brand2"
   ]
  },
  {
   "cell_type": "code",
   "execution_count": 17,
   "metadata": {},
   "outputs": [
    {
     "data": {
      "text/plain": [
       "Brand\n",
       "Yamajirushi             0.0\n",
       "Weichuan                0.0\n",
       "Unclear                 0.0\n",
       "Uncle Matts Organics    0.0\n",
       "Singing Bird Brand      0.0\n",
       "Name: Weekly_Revenue, dtype: float64"
      ]
     },
     "execution_count": 17,
     "metadata": {},
     "output_type": "execute_result"
    }
   ],
   "source": [
    "pop_brand2.sort_values(ascending=False).head(5)"
   ]
  },
  {
   "cell_type": "code",
   "execution_count": null,
   "metadata": {},
   "outputs": [],
   "source": []
  },
  {
   "cell_type": "markdown",
   "metadata": {},
   "source": [
    "# The Main Import Origin"
   ]
  },
  {
   "cell_type": "code",
   "execution_count": 18,
   "metadata": {},
   "outputs": [
    {
     "data": {
      "text/plain": [
       "Origin\n",
       "Australia           9\n",
       "Brazil              1\n",
       "Hong Kong          24\n",
       "Indonesia           5\n",
       "Japan             390\n",
       "Korea              88\n",
       "Mainland China    366\n",
       "Malaysia            3\n",
       "Philippines         5\n",
       "Singapore          12\n",
       "South Korea        11\n",
       "Taiwan            112\n",
       "Thailand           30\n",
       "Unclear            60\n",
       "United States      72\n",
       "Vietnam             7\n",
       "Name: Product_Name, dtype: int64"
      ]
     },
     "execution_count": 18,
     "metadata": {},
     "output_type": "execute_result"
    }
   ],
   "source": [
    "main_origin = df.groupby(['Origin'])['Product_Name'].count()\n",
    "main_origin"
   ]
  },
  {
   "cell_type": "code",
   "execution_count": 19,
   "metadata": {},
   "outputs": [
    {
     "data": {
      "text/plain": [
       "Origin\n",
       "Japan             390\n",
       "Mainland China    366\n",
       "Taiwan            112\n",
       "Korea              88\n",
       "United States      72\n",
       "Name: Product_Name, dtype: int64"
      ]
     },
     "execution_count": 19,
     "metadata": {},
     "output_type": "execute_result"
    }
   ],
   "source": [
    "main_origin.sort_values(ascending=False).head(5)"
   ]
  },
  {
   "cell_type": "markdown",
   "metadata": {},
   "source": [
    "# The most value import Origin"
   ]
  },
  {
   "cell_type": "code",
   "execution_count": 20,
   "metadata": {},
   "outputs": [
    {
     "data": {
      "text/plain": [
       "Origin\n",
       "Australia          15725.0\n",
       "Brazil                50.0\n",
       "Hong Kong           3567.0\n",
       "Indonesia            722.0\n",
       "Japan             234162.0\n",
       "Korea              57254.0\n",
       "Mainland China    204319.0\n",
       "Malaysia            8385.0\n",
       "Philippines            0.0\n",
       "Singapore           2533.0\n",
       "South Korea            0.0\n",
       "Taiwan            106268.0\n",
       "Thailand           11292.0\n",
       "Unclear            21117.0\n",
       "United States      55961.0\n",
       "Vietnam             1986.0\n",
       "Name: Weekly_Revenue, dtype: float64"
      ]
     },
     "execution_count": 20,
     "metadata": {},
     "output_type": "execute_result"
    }
   ],
   "source": [
    "value_origin = df.groupby(['Origin'])['Weekly_Revenue'].sum()\n",
    "value_origin"
   ]
  },
  {
   "cell_type": "code",
   "execution_count": 21,
   "metadata": {},
   "outputs": [
    {
     "data": {
      "text/plain": [
       "Origin\n",
       "Japan             234162.0\n",
       "Mainland China    204319.0\n",
       "Taiwan            106268.0\n",
       "Korea              57254.0\n",
       "United States      55961.0\n",
       "Name: Weekly_Revenue, dtype: float64"
      ]
     },
     "execution_count": 21,
     "metadata": {},
     "output_type": "execute_result"
    }
   ],
   "source": [
    "value_origin.sort_values(ascending=False).head(5)"
   ]
  },
  {
   "cell_type": "markdown",
   "metadata": {},
   "source": [
    "# platform offers choice - most\n"
   ]
  },
  {
   "cell_type": "code",
   "execution_count": 22,
   "metadata": {},
   "outputs": [
    {
     "data": {
      "text/plain": [
       "Platform\n",
       "Freshgogo      21\n",
       "Weee          102\n",
       "Yami         1072\n",
       "Name: Product_Name, dtype: int64"
      ]
     },
     "execution_count": 22,
     "metadata": {},
     "output_type": "execute_result"
    }
   ],
   "source": [
    "choice = df.groupby(['Platform'])['Product_Name'].count()\n",
    "choice"
   ]
  },
  {
   "cell_type": "code",
   "execution_count": 23,
   "metadata": {},
   "outputs": [
    {
     "data": {
      "text/plain": [
       "Platform\n",
       "Freshgogo      0.000000\n",
       "Weee           0.000000\n",
       "Yami         674.758396\n",
       "dtype: float64"
      ]
     },
     "execution_count": 23,
     "metadata": {},
     "output_type": "execute_result"
    }
   ],
   "source": [
    "value_choice =  df.groupby(['Platform'])['Weekly_Revenue'].sum()/df.groupby(['Platform'])['Product_Name'].count()\n",
    "value_choice"
   ]
  },
  {
   "cell_type": "markdown",
   "metadata": {},
   "source": [
    "## The Number of profuct by origin"
   ]
  },
  {
   "cell_type": "code",
   "execution_count": 24,
   "metadata": {},
   "outputs": [
    {
     "data": {
      "text/plain": [
       "<matplotlib.axes._subplots.AxesSubplot at 0x170055e21d0>"
      ]
     },
     "execution_count": 24,
     "metadata": {},
     "output_type": "execute_result"
    },
    {
     "data": {
      "image/png": "[encoded data removed]",
      "text/plain": [
       "<Figure size 720x360 with 1 Axes>"
      ]
     },
     "metadata": {
      "needs_background": "light"
     },
     "output_type": "display_data"
    }
   ],
   "source": [
    "count_origin = df.groupby([df['Origin']])['Product_Name'].count()\n",
    "count_origin.plot(kind='barh',figsize=(10,5),legend=None, title=\"The Number of Products by Origin \")"
   ]
  },
  {
   "cell_type": "code",
   "execution_count": 25,
   "metadata": {},
   "outputs": [
    {
     "data": {
      "text/plain": [
       "<matplotlib.axes._subplots.AxesSubplot at 0x17005d6ba20>"
      ]
     },
     "execution_count": 25,
     "metadata": {},
     "output_type": "execute_result"
    },
    {
     "data": {
      "image/png": "[encoded data removed]",
      "text/plain": [
       "<Figure size 720x360 with 1 Axes>"
      ]
     },
     "metadata": {
      "needs_background": "light"
     },
     "output_type": "display_data"
    }
   ],
   "source": [
    "sum_revenue = df.groupby([df['Origin']])['Weekly_Revenue'].sum()\n",
    "sum_revenue.plot(kind='barh',figsize=(10,5),legend=None, title=\"The Weekly Revenue by Origin \")"
   ]
  },
  {
   "cell_type": "code",
   "execution_count": 26,
   "metadata": {},
   "outputs": [
    {
     "data": {
      "text/plain": [
       "Platform\n",
       "Freshgogo      21\n",
       "Weee          102\n",
       "Yami         1072\n",
       "Name: Product_Name, dtype: int64"
      ]
     },
     "execution_count": 26,
     "metadata": {},
     "output_type": "execute_result"
    }
   ],
   "source": [
    "count_platform = df.groupby(['Platform'])['Product_Name'].count()\n",
    "count_platform"
   ]
  },
  {
   "cell_type": "code",
   "execution_count": 27,
   "metadata": {},
   "outputs": [
    {
     "data": {
      "text/plain": [
       "<matplotlib.axes._subplots.AxesSubplot at 0x17005d49438>"
      ]
     },
     "execution_count": 27,
     "metadata": {},
     "output_type": "execute_result"
    },
    {
     "data": {
      "image/png": "[encoded data removed]",
      "text/plain": [
       "<Figure size 720x360 with 1 Axes>"
      ]
     },
     "metadata": {
      "needs_background": "light"
     },
     "output_type": "display_data"
    }
   ],
   "source": [
    "platform = df.groupby([df['Platform']])['Brand'].count()\n",
    "platform.plot(kind='barh',figsize=(10,5),legend=None, title=\"The Number of Products by Platform \")"
   ]
  },
  {
   "cell_type": "code",
   "execution_count": 28,
   "metadata": {},
   "outputs": [
    {
     "data": {
      "text/plain": [
       "Text(0.5, 1.0, 'Figure 5: Correlations')"
      ]
     },
     "execution_count": 28,
     "metadata": {},
     "output_type": "execute_result"
    },
    {
     "data": {
      "image/png": "[encoded data removed]",
      "text/plain": [
       "<Figure size 576x360 with 2 Axes>"
      ]
     },
     "metadata": {
      "needs_background": "light"
     },
     "output_type": "display_data"
    }
   ],
   "source": [
    "# Finding the correlation bewteen the Features.\n",
    "plt.figure(figsize=(8,5))\n",
    "\n",
    "corr = df.corr()# plot the heatmap\n",
    "sns.heatmap(corr, xticklabels=corr.columns, yticklabels=corr.columns, \n",
    "            annot=True, cmap=sns.diverging_palette(220, 20, as_cmap=True))\n",
    "plt.title('Figure 5: Correlations')"
   ]
  },
  {
   "cell_type": "markdown",
   "metadata": {},
   "source": [
    "## Origin vs Platform\n"
   ]
  },
  {
   "cell_type": "code",
   "execution_count": 29,
   "metadata": {},
   "outputs": [
    {
     "data": {
      "text/plain": [
       "Text(0.5, 1.0, 'Platform vs. Origin')"
      ]
     },
     "execution_count": 29,
     "metadata": {},
     "output_type": "execute_result"
    },
    {
     "data": {
      "image/png": "[encoded data removed]",
      "text/plain": [
       "<Figure size 720x432 with 1 Axes>"
      ]
     },
     "metadata": {
      "needs_background": "light"
     },
     "output_type": "display_data"
    }
   ],
   "source": [
    "# Origin vs Platform\n",
    "\n",
    "plt.rcParams['figure.figsize'] = (10, 6)\n",
    "\n",
    "# compare the year with Origin with Platform\n",
    "plt.subplot(121)\n",
    "sns.countplot(x='Platform',hue= 'Origin', data=df, palette = 'husl')\n",
    "plt.legend(bbox_to_anchor=(-0.2, 0.5), loc='right', borderaxespad=0)\n",
    "plt.title('Platform vs. Origin')"
   ]
  },
  {
   "cell_type": "code",
   "execution_count": 43,
   "metadata": {},
   "outputs": [
    {
     "name": "stderr",
     "output_type": "stream",
     "text": [
      "C:\\Users\\13750\\Anaconda3\\lib\\site-packages\\ipykernel_launcher.py:7: MatplotlibDeprecationWarning: Unrecognized location 'left'. Falling back on 'best'; valid locations are\n",
      "\tbest\n",
      "\tupper right\n",
      "\tupper left\n",
      "\tlower left\n",
      "\tlower right\n",
      "\tright\n",
      "\tcenter left\n",
      "\tcenter right\n",
      "\tlower center\n",
      "\tupper center\n",
      "\tcenter\n",
      "This will raise an exception in 3.3.\n",
      "  import sys\n"
     ]
    },
    {
     "data": {
      "text/html": [
       "<div>\n",
       "<style scoped>\n",
       "    .dataframe tbody tr th:only-of-type {\n",
       "        vertical-align: middle;\n",
       "    }\n",
       "\n",
       "    .dataframe tbody tr th {\n",
       "        vertical-align: top;\n",
       "    }\n",
       "\n",
       "    .dataframe thead th {\n",
       "        text-align: right;\n",
       "    }\n",
       "</style>\n",
       "<table border=\"1\" class=\"dataframe\">\n",
       "  <thead>\n",
       "    <tr style=\"text-align: right;\">\n",
       "      <th>Platform</th>\n",
       "      <th>Freshgogo</th>\n",
       "      <th>Weee</th>\n",
       "      <th>Yami</th>\n",
       "    </tr>\n",
       "    <tr>\n",
       "      <th>Origin</th>\n",
       "      <th></th>\n",
       "      <th></th>\n",
       "      <th></th>\n",
       "    </tr>\n",
       "  </thead>\n",
       "  <tbody>\n",
       "    <tr>\n",
       "      <th>Australia</th>\n",
       "      <td>0</td>\n",
       "      <td>1</td>\n",
       "      <td>8</td>\n",
       "    </tr>\n",
       "    <tr>\n",
       "      <th>Brazil</th>\n",
       "      <td>0</td>\n",
       "      <td>0</td>\n",
       "      <td>1</td>\n",
       "    </tr>\n",
       "    <tr>\n",
       "      <th>Hong Kong</th>\n",
       "      <td>0</td>\n",
       "      <td>0</td>\n",
       "      <td>24</td>\n",
       "    </tr>\n",
       "    <tr>\n",
       "      <th>Indonesia</th>\n",
       "      <td>0</td>\n",
       "      <td>0</td>\n",
       "      <td>5</td>\n",
       "    </tr>\n",
       "    <tr>\n",
       "      <th>Japan</th>\n",
       "      <td>0</td>\n",
       "      <td>9</td>\n",
       "      <td>381</td>\n",
       "    </tr>\n",
       "    <tr>\n",
       "      <th>Korea</th>\n",
       "      <td>0</td>\n",
       "      <td>0</td>\n",
       "      <td>88</td>\n",
       "    </tr>\n",
       "    <tr>\n",
       "      <th>Mainland China</th>\n",
       "      <td>1</td>\n",
       "      <td>28</td>\n",
       "      <td>337</td>\n",
       "    </tr>\n",
       "    <tr>\n",
       "      <th>Malaysia</th>\n",
       "      <td>0</td>\n",
       "      <td>0</td>\n",
       "      <td>3</td>\n",
       "    </tr>\n",
       "    <tr>\n",
       "      <th>Philippines</th>\n",
       "      <td>0</td>\n",
       "      <td>5</td>\n",
       "      <td>0</td>\n",
       "    </tr>\n",
       "    <tr>\n",
       "      <th>Singapore</th>\n",
       "      <td>0</td>\n",
       "      <td>0</td>\n",
       "      <td>12</td>\n",
       "    </tr>\n",
       "    <tr>\n",
       "      <th>South Korea</th>\n",
       "      <td>0</td>\n",
       "      <td>11</td>\n",
       "      <td>0</td>\n",
       "    </tr>\n",
       "    <tr>\n",
       "      <th>Taiwan</th>\n",
       "      <td>0</td>\n",
       "      <td>15</td>\n",
       "      <td>97</td>\n",
       "    </tr>\n",
       "    <tr>\n",
       "      <th>Thailand</th>\n",
       "      <td>0</td>\n",
       "      <td>5</td>\n",
       "      <td>25</td>\n",
       "    </tr>\n",
       "    <tr>\n",
       "      <th>Unclear</th>\n",
       "      <td>20</td>\n",
       "      <td>24</td>\n",
       "      <td>16</td>\n",
       "    </tr>\n",
       "    <tr>\n",
       "      <th>United States</th>\n",
       "      <td>0</td>\n",
       "      <td>3</td>\n",
       "      <td>69</td>\n",
       "    </tr>\n",
       "    <tr>\n",
       "      <th>Vietnam</th>\n",
       "      <td>0</td>\n",
       "      <td>1</td>\n",
       "      <td>6</td>\n",
       "    </tr>\n",
       "  </tbody>\n",
       "</table>\n",
       "</div>"
      ],
      "text/plain": [
       "Platform        Freshgogo  Weee  Yami\n",
       "Origin                               \n",
       "Australia               0     1     8\n",
       "Brazil                  0     0     1\n",
       "Hong Kong               0     0    24\n",
       "Indonesia               0     0     5\n",
       "Japan                   0     9   381\n",
       "Korea                   0     0    88\n",
       "Mainland China          1    28   337\n",
       "Malaysia                0     0     3\n",
       "Philippines             0     5     0\n",
       "Singapore               0     0    12\n",
       "South Korea             0    11     0\n",
       "Taiwan                  0    15    97\n",
       "Thailand                0     5    25\n",
       "Unclear                20    24    16\n",
       "United States           0     3    69\n",
       "Vietnam                 0     1     6"
      ]
     },
     "execution_count": 43,
     "metadata": {},
     "output_type": "execute_result"
    },
    {
     "data": {
      "image/png": "[encoded data removed]",
      "text/plain": [
       "<Figure size 1080x360 with 1 Axes>"
      ]
     },
     "metadata": {
      "needs_background": "light"
     },
     "output_type": "display_data"
    }
   ],
   "source": [
    "# check the Origin percentage of Platform\n",
    "plt.rcParams['figure.figsize'] = (15, 5)\n",
    "ax= plt.subplot(122)\n",
    "c2_c = pd.crosstab(df.Origin, df.Platform)\n",
    "c2_c.div(c2_c .sum(1).astype(float), axis=0).plot(kind='barh', stacked=True, ax=ax)\n",
    "plt.title('Origin percentage by Platform')\n",
    "plt.legend(bbox_to_anchor=(-0.2, 1), loc='left', borderaxespad=0)\n",
    "plt.xlabel('Platform')\n",
    "plt.xticks(rotation=90)\n",
    "plt.ylabel('Percentage of Origin')\n",
    "\n",
    "c2_c"
   ]
  },
  {
   "cell_type": "markdown",
   "metadata": {},
   "source": [
    "## Origin Vs Sold_Weekly_Group"
   ]
  },
  {
   "cell_type": "code",
   "execution_count": 31,
   "metadata": {},
   "outputs": [
    {
     "data": {
      "text/html": [
       "<div>\n",
       "<style scoped>\n",
       "    .dataframe tbody tr th:only-of-type {\n",
       "        vertical-align: middle;\n",
       "    }\n",
       "\n",
       "    .dataframe tbody tr th {\n",
       "        vertical-align: top;\n",
       "    }\n",
       "\n",
       "    .dataframe thead th {\n",
       "        text-align: right;\n",
       "    }\n",
       "</style>\n",
       "<table border=\"1\" class=\"dataframe\">\n",
       "  <thead>\n",
       "    <tr style=\"text-align: right;\">\n",
       "      <th></th>\n",
       "      <th>Brand</th>\n",
       "      <th>Category</th>\n",
       "      <th>Option</th>\n",
       "      <th>Origin</th>\n",
       "      <th>Platform</th>\n",
       "      <th>Price</th>\n",
       "      <th>Product_Name</th>\n",
       "      <th>Rate</th>\n",
       "      <th>Reviews</th>\n",
       "      <th>Sold_Monthly</th>\n",
       "      <th>Sold_Weekly</th>\n",
       "      <th>Weekly_Revenue</th>\n",
       "      <th>Weekly_revenue</th>\n",
       "      <th>Sold_Weekly_Group</th>\n",
       "    </tr>\n",
       "  </thead>\n",
       "  <tbody>\n",
       "    <tr>\n",
       "      <th>0</th>\n",
       "      <td>NaN</td>\n",
       "      <td>Juice</td>\n",
       "      <td>No</td>\n",
       "      <td>Australia</td>\n",
       "      <td>Yami</td>\n",
       "      <td>19.99</td>\n",
       "      <td>Pumpkin + Manuka Honey Juice Squeeze 7 Packets...</td>\n",
       "      <td>4.8</td>\n",
       "      <td>33</td>\n",
       "      <td>100</td>\n",
       "      <td>25</td>\n",
       "      <td>500.0</td>\n",
       "      <td>NaN</td>\n",
       "      <td>Less than 50</td>\n",
       "    </tr>\n",
       "    <tr>\n",
       "      <th>1</th>\n",
       "      <td>NaN</td>\n",
       "      <td>Juice</td>\n",
       "      <td>2 Options</td>\n",
       "      <td>Mainland China</td>\n",
       "      <td>Yami</td>\n",
       "      <td>499.99</td>\n",
       "      <td>Multi-Functional Automatic and Self Cleaning S...</td>\n",
       "      <td>4.9</td>\n",
       "      <td>8</td>\n",
       "      <td>100</td>\n",
       "      <td>25</td>\n",
       "      <td>12500.0</td>\n",
       "      <td>NaN</td>\n",
       "      <td>Less than 50</td>\n",
       "    </tr>\n",
       "    <tr>\n",
       "      <th>2</th>\n",
       "      <td>NaN</td>\n",
       "      <td>Juice</td>\n",
       "      <td>2 Options</td>\n",
       "      <td>Mainland China</td>\n",
       "      <td>Yami</td>\n",
       "      <td>1.80</td>\n",
       "      <td>Full Score Micro Bubble Juice Wanglin Green Ap...</td>\n",
       "      <td>4.8</td>\n",
       "      <td>8</td>\n",
       "      <td>800</td>\n",
       "      <td>200</td>\n",
       "      <td>360.0</td>\n",
       "      <td>NaN</td>\n",
       "      <td>100+</td>\n",
       "    </tr>\n",
       "    <tr>\n",
       "      <th>3</th>\n",
       "      <td>NaN</td>\n",
       "      <td>Juice</td>\n",
       "      <td>7 Options</td>\n",
       "      <td>Hong Kong</td>\n",
       "      <td>Yami</td>\n",
       "      <td>0.79</td>\n",
       "      <td>VITA Lychee Juice 250ml</td>\n",
       "      <td>4.7</td>\n",
       "      <td>102</td>\n",
       "      <td>100</td>\n",
       "      <td>25</td>\n",
       "      <td>20.0</td>\n",
       "      <td>NaN</td>\n",
       "      <td>Less than 50</td>\n",
       "    </tr>\n",
       "    <tr>\n",
       "      <th>4</th>\n",
       "      <td>NaN</td>\n",
       "      <td>Juice</td>\n",
       "      <td>4 Options</td>\n",
       "      <td>Japan</td>\n",
       "      <td>Yami</td>\n",
       "      <td>3.49</td>\n",
       "      <td>Sparkling Yuzu Juice 250ml</td>\n",
       "      <td>4.5</td>\n",
       "      <td>40</td>\n",
       "      <td>100</td>\n",
       "      <td>25</td>\n",
       "      <td>87.0</td>\n",
       "      <td>NaN</td>\n",
       "      <td>Less than 50</td>\n",
       "    </tr>\n",
       "  </tbody>\n",
       "</table>\n",
       "</div>"
      ],
      "text/plain": [
       "  Brand Category     Option          Origin Platform   Price  \\\n",
       "0   NaN    Juice         No       Australia     Yami   19.99   \n",
       "1   NaN    Juice  2 Options  Mainland China     Yami  499.99   \n",
       "2   NaN    Juice  2 Options  Mainland China     Yami    1.80   \n",
       "3   NaN    Juice  7 Options       Hong Kong     Yami    0.79   \n",
       "4   NaN    Juice  4 Options           Japan     Yami    3.49   \n",
       "\n",
       "                                        Product_Name Rate  Reviews  \\\n",
       "0  Pumpkin + Manuka Honey Juice Squeeze 7 Packets...  4.8       33   \n",
       "1  Multi-Functional Automatic and Self Cleaning S...  4.9        8   \n",
       "2  Full Score Micro Bubble Juice Wanglin Green Ap...  4.8        8   \n",
       "3                            VITA Lychee Juice 250ml  4.7      102   \n",
       "4                         Sparkling Yuzu Juice 250ml  4.5       40   \n",
       "\n",
       "   Sold_Monthly  Sold_Weekly  Weekly_Revenue  Weekly_revenue Sold_Weekly_Group  \n",
       "0           100           25           500.0             NaN      Less than 50  \n",
       "1           100           25         12500.0             NaN      Less than 50  \n",
       "2           800          200           360.0             NaN              100+  \n",
       "3           100           25            20.0             NaN      Less than 50  \n",
       "4           100           25            87.0             NaN      Less than 50  "
      ]
     },
     "execution_count": 31,
     "metadata": {},
     "output_type": "execute_result"
    }
   ],
   "source": [
    "df['Sold_Weekly_Group'] = pd.cut(x = df['Sold_Weekly'], \n",
    "                                   bins = [0,50,100,200,300,400,500,1000,2000,10000],\n",
    "                                   labels = ['Less than 50','50+','100+','200+','300+','400+','500+','1000+','2000+'])\n",
    "df.head()"
   ]
  },
  {
   "cell_type": "code",
   "execution_count": 32,
   "metadata": {},
   "outputs": [
    {
     "data": {
      "text/plain": [
       "Text(0.5, 1.0, 'Sold_Weekly_Group vs. Origin')"
      ]
     },
     "execution_count": 32,
     "metadata": {},
     "output_type": "execute_result"
    },
    {
     "data": {
      "image/png": "[encoded data removed]",
      "text/plain": [
       "<Figure size 1440x720 with 1 Axes>"
      ]
     },
     "metadata": {
      "needs_background": "light"
     },
     "output_type": "display_data"
    }
   ],
   "source": [
    "# origin vs sold weekly group\n",
    "\n",
    "plt.rcParams['figure.figsize'] = (20, 10)\n",
    "\n",
    "# compare the year with Origin with Platform\n",
    "plt.subplot(121)\n",
    "sns.countplot(x='Sold_Weekly_Group',hue= 'Origin', data=df, palette = 'husl')\n",
    "plt.legend(bbox_to_anchor=(-0.2, 0.5), loc='right', borderaxespad=0)\n",
    "plt.title('Sold_Weekly_Group vs. Origin')"
   ]
  },
  {
   "cell_type": "code",
   "execution_count": 33,
   "metadata": {
    "scrolled": false
   },
   "outputs": [
    {
     "name": "stderr",
     "output_type": "stream",
     "text": [
      "C:\\Users\\13750\\Anaconda3\\lib\\site-packages\\ipykernel_launcher.py:9: MatplotlibDeprecationWarning: Unrecognized location 'left'. Falling back on 'best'; valid locations are\n",
      "\tbest\n",
      "\tupper right\n",
      "\tupper left\n",
      "\tlower left\n",
      "\tlower right\n",
      "\tright\n",
      "\tcenter left\n",
      "\tcenter right\n",
      "\tlower center\n",
      "\tupper center\n",
      "\tcenter\n",
      "This will raise an exception in 3.3.\n",
      "  if __name__ == '__main__':\n"
     ]
    },
    {
     "data": {
      "text/html": [
       "<div>\n",
       "<style scoped>\n",
       "    .dataframe tbody tr th:only-of-type {\n",
       "        vertical-align: middle;\n",
       "    }\n",
       "\n",
       "    .dataframe tbody tr th {\n",
       "        vertical-align: top;\n",
       "    }\n",
       "\n",
       "    .dataframe thead th {\n",
       "        text-align: right;\n",
       "    }\n",
       "</style>\n",
       "<table border=\"1\" class=\"dataframe\">\n",
       "  <thead>\n",
       "    <tr style=\"text-align: right;\">\n",
       "      <th>Origin</th>\n",
       "      <th>Australia</th>\n",
       "      <th>Brazil</th>\n",
       "      <th>Hong Kong</th>\n",
       "      <th>Indonesia</th>\n",
       "      <th>Japan</th>\n",
       "      <th>Korea</th>\n",
       "      <th>Mainland China</th>\n",
       "      <th>Malaysia</th>\n",
       "      <th>Philippines</th>\n",
       "      <th>Singapore</th>\n",
       "      <th>South Korea</th>\n",
       "      <th>Taiwan</th>\n",
       "      <th>Thailand</th>\n",
       "      <th>Unclear</th>\n",
       "      <th>United States</th>\n",
       "      <th>Vietnam</th>\n",
       "    </tr>\n",
       "    <tr>\n",
       "      <th>Sold_Weekly_Group</th>\n",
       "      <th></th>\n",
       "      <th></th>\n",
       "      <th></th>\n",
       "      <th></th>\n",
       "      <th></th>\n",
       "      <th></th>\n",
       "      <th></th>\n",
       "      <th></th>\n",
       "      <th></th>\n",
       "      <th></th>\n",
       "      <th></th>\n",
       "      <th></th>\n",
       "      <th></th>\n",
       "      <th></th>\n",
       "      <th></th>\n",
       "      <th></th>\n",
       "    </tr>\n",
       "  </thead>\n",
       "  <tbody>\n",
       "    <tr>\n",
       "      <th>Less than 50</th>\n",
       "      <td>8</td>\n",
       "      <td>1</td>\n",
       "      <td>20</td>\n",
       "      <td>3</td>\n",
       "      <td>90</td>\n",
       "      <td>35</td>\n",
       "      <td>164</td>\n",
       "      <td>0</td>\n",
       "      <td>2</td>\n",
       "      <td>4</td>\n",
       "      <td>4</td>\n",
       "      <td>24</td>\n",
       "      <td>8</td>\n",
       "      <td>2</td>\n",
       "      <td>9</td>\n",
       "      <td>1</td>\n",
       "    </tr>\n",
       "    <tr>\n",
       "      <th>50+</th>\n",
       "      <td>0</td>\n",
       "      <td>0</td>\n",
       "      <td>0</td>\n",
       "      <td>0</td>\n",
       "      <td>3</td>\n",
       "      <td>3</td>\n",
       "      <td>18</td>\n",
       "      <td>0</td>\n",
       "      <td>0</td>\n",
       "      <td>0</td>\n",
       "      <td>1</td>\n",
       "      <td>6</td>\n",
       "      <td>2</td>\n",
       "      <td>4</td>\n",
       "      <td>5</td>\n",
       "      <td>0</td>\n",
       "    </tr>\n",
       "    <tr>\n",
       "      <th>100+</th>\n",
       "      <td>0</td>\n",
       "      <td>0</td>\n",
       "      <td>4</td>\n",
       "      <td>2</td>\n",
       "      <td>281</td>\n",
       "      <td>45</td>\n",
       "      <td>163</td>\n",
       "      <td>0</td>\n",
       "      <td>0</td>\n",
       "      <td>8</td>\n",
       "      <td>0</td>\n",
       "      <td>64</td>\n",
       "      <td>15</td>\n",
       "      <td>9</td>\n",
       "      <td>32</td>\n",
       "      <td>4</td>\n",
       "    </tr>\n",
       "    <tr>\n",
       "      <th>200+</th>\n",
       "      <td>0</td>\n",
       "      <td>0</td>\n",
       "      <td>0</td>\n",
       "      <td>0</td>\n",
       "      <td>6</td>\n",
       "      <td>3</td>\n",
       "      <td>11</td>\n",
       "      <td>0</td>\n",
       "      <td>0</td>\n",
       "      <td>0</td>\n",
       "      <td>1</td>\n",
       "      <td>1</td>\n",
       "      <td>0</td>\n",
       "      <td>2</td>\n",
       "      <td>25</td>\n",
       "      <td>2</td>\n",
       "    </tr>\n",
       "    <tr>\n",
       "      <th>300+</th>\n",
       "      <td>0</td>\n",
       "      <td>0</td>\n",
       "      <td>0</td>\n",
       "      <td>0</td>\n",
       "      <td>1</td>\n",
       "      <td>0</td>\n",
       "      <td>0</td>\n",
       "      <td>0</td>\n",
       "      <td>0</td>\n",
       "      <td>0</td>\n",
       "      <td>0</td>\n",
       "      <td>1</td>\n",
       "      <td>0</td>\n",
       "      <td>4</td>\n",
       "      <td>0</td>\n",
       "      <td>0</td>\n",
       "    </tr>\n",
       "    <tr>\n",
       "      <th>400+</th>\n",
       "      <td>0</td>\n",
       "      <td>0</td>\n",
       "      <td>0</td>\n",
       "      <td>0</td>\n",
       "      <td>5</td>\n",
       "      <td>2</td>\n",
       "      <td>0</td>\n",
       "      <td>3</td>\n",
       "      <td>0</td>\n",
       "      <td>0</td>\n",
       "      <td>0</td>\n",
       "      <td>0</td>\n",
       "      <td>0</td>\n",
       "      <td>3</td>\n",
       "      <td>0</td>\n",
       "      <td>0</td>\n",
       "    </tr>\n",
       "    <tr>\n",
       "      <th>500+</th>\n",
       "      <td>0</td>\n",
       "      <td>0</td>\n",
       "      <td>0</td>\n",
       "      <td>0</td>\n",
       "      <td>1</td>\n",
       "      <td>0</td>\n",
       "      <td>4</td>\n",
       "      <td>0</td>\n",
       "      <td>0</td>\n",
       "      <td>0</td>\n",
       "      <td>1</td>\n",
       "      <td>13</td>\n",
       "      <td>4</td>\n",
       "      <td>7</td>\n",
       "      <td>0</td>\n",
       "      <td>0</td>\n",
       "    </tr>\n",
       "    <tr>\n",
       "      <th>1000+</th>\n",
       "      <td>0</td>\n",
       "      <td>0</td>\n",
       "      <td>0</td>\n",
       "      <td>0</td>\n",
       "      <td>0</td>\n",
       "      <td>0</td>\n",
       "      <td>0</td>\n",
       "      <td>0</td>\n",
       "      <td>0</td>\n",
       "      <td>0</td>\n",
       "      <td>0</td>\n",
       "      <td>0</td>\n",
       "      <td>0</td>\n",
       "      <td>3</td>\n",
       "      <td>0</td>\n",
       "      <td>0</td>\n",
       "    </tr>\n",
       "    <tr>\n",
       "      <th>2000+</th>\n",
       "      <td>0</td>\n",
       "      <td>0</td>\n",
       "      <td>0</td>\n",
       "      <td>0</td>\n",
       "      <td>0</td>\n",
       "      <td>0</td>\n",
       "      <td>1</td>\n",
       "      <td>0</td>\n",
       "      <td>0</td>\n",
       "      <td>0</td>\n",
       "      <td>0</td>\n",
       "      <td>0</td>\n",
       "      <td>0</td>\n",
       "      <td>2</td>\n",
       "      <td>0</td>\n",
       "      <td>0</td>\n",
       "    </tr>\n",
       "  </tbody>\n",
       "</table>\n",
       "</div>"
      ],
      "text/plain": [
       "Origin             Australia  Brazil  Hong Kong  Indonesia  Japan  Korea  \\\n",
       "Sold_Weekly_Group                                                          \n",
       "Less than 50               8       1         20          3     90     35   \n",
       "50+                        0       0          0          0      3      3   \n",
       "100+                       0       0          4          2    281     45   \n",
       "200+                       0       0          0          0      6      3   \n",
       "300+                       0       0          0          0      1      0   \n",
       "400+                       0       0          0          0      5      2   \n",
       "500+                       0       0          0          0      1      0   \n",
       "1000+                      0       0          0          0      0      0   \n",
       "2000+                      0       0          0          0      0      0   \n",
       "\n",
       "Origin             Mainland China  Malaysia  Philippines  Singapore  \\\n",
       "Sold_Weekly_Group                                                     \n",
       "Less than 50                  164         0            2          4   \n",
       "50+                            18         0            0          0   \n",
       "100+                          163         0            0          8   \n",
       "200+                           11         0            0          0   \n",
       "300+                            0         0            0          0   \n",
       "400+                            0         3            0          0   \n",
       "500+                            4         0            0          0   \n",
       "1000+                           0         0            0          0   \n",
       "2000+                           1         0            0          0   \n",
       "\n",
       "Origin             South Korea  Taiwan  Thailand  Unclear  United States  \\\n",
       "Sold_Weekly_Group                                                          \n",
       "Less than 50                 4      24         8        2              9   \n",
       "50+                          1       6         2        4              5   \n",
       "100+                         0      64        15        9             32   \n",
       "200+                         1       1         0        2             25   \n",
       "300+                         0       1         0        4              0   \n",
       "400+                         0       0         0        3              0   \n",
       "500+                         1      13         4        7              0   \n",
       "1000+                        0       0         0        3              0   \n",
       "2000+                        0       0         0        2              0   \n",
       "\n",
       "Origin             Vietnam  \n",
       "Sold_Weekly_Group           \n",
       "Less than 50             1  \n",
       "50+                      0  \n",
       "100+                     4  \n",
       "200+                     2  \n",
       "300+                     0  \n",
       "400+                     0  \n",
       "500+                     0  \n",
       "1000+                    0  \n",
       "2000+                    0  "
      ]
     },
     "execution_count": 33,
     "metadata": {},
     "output_type": "execute_result"
    },
    {
     "data": {
      "image/png": "[encoded data removed]",
      "text/plain": [
       "<Figure size 1080x504 with 1 Axes>"
      ]
     },
     "metadata": {
      "needs_background": "light"
     },
     "output_type": "display_data"
    }
   ],
   "source": [
    "# origin vs sold weekly group\n",
    "\n",
    "plt.rcParams['figure.figsize'] = (15, 7)\n",
    "# check the Origin percentage of Platform\n",
    "ax= plt.subplot(122)\n",
    "c2_c = pd.crosstab( df.Sold_Weekly_Group, df.Origin)\n",
    "c2_c.div(c2_c .sum(1).astype(float), axis=0).plot(kind='bar', stacked=True, ax=ax)\n",
    "plt.title('Origin percentage by Sold_Weekly_Group')\n",
    "plt.legend(bbox_to_anchor=(-0.2, 1), loc='left', borderaxespad=0)\n",
    "plt.xlabel('Sold_Weekly_Group')\n",
    "plt.xticks(rotation=0)\n",
    "plt.ylabel('Percentage of Origin')\n",
    "\n",
    "c2_c"
   ]
  },
  {
   "cell_type": "markdown",
   "metadata": {},
   "source": [
    "## Price_Group Vs Origin"
   ]
  },
  {
   "cell_type": "code",
   "execution_count": 34,
   "metadata": {},
   "outputs": [
    {
     "data": {
      "text/html": [
       "<div>\n",
       "<style scoped>\n",
       "    .dataframe tbody tr th:only-of-type {\n",
       "        vertical-align: middle;\n",
       "    }\n",
       "\n",
       "    .dataframe tbody tr th {\n",
       "        vertical-align: top;\n",
       "    }\n",
       "\n",
       "    .dataframe thead th {\n",
       "        text-align: right;\n",
       "    }\n",
       "</style>\n",
       "<table border=\"1\" class=\"dataframe\">\n",
       "  <thead>\n",
       "    <tr style=\"text-align: right;\">\n",
       "      <th></th>\n",
       "      <th>Brand</th>\n",
       "      <th>Category</th>\n",
       "      <th>Option</th>\n",
       "      <th>Origin</th>\n",
       "      <th>Platform</th>\n",
       "      <th>Price</th>\n",
       "      <th>Product_Name</th>\n",
       "      <th>Rate</th>\n",
       "      <th>Reviews</th>\n",
       "      <th>Sold_Monthly</th>\n",
       "      <th>Sold_Weekly</th>\n",
       "      <th>Weekly_Revenue</th>\n",
       "      <th>Weekly_revenue</th>\n",
       "      <th>Sold_Weekly_Group</th>\n",
       "      <th>Price_Group</th>\n",
       "    </tr>\n",
       "  </thead>\n",
       "  <tbody>\n",
       "    <tr>\n",
       "      <th>0</th>\n",
       "      <td>NaN</td>\n",
       "      <td>Juice</td>\n",
       "      <td>No</td>\n",
       "      <td>Australia</td>\n",
       "      <td>Yami</td>\n",
       "      <td>19.99</td>\n",
       "      <td>Pumpkin + Manuka Honey Juice Squeeze 7 Packets...</td>\n",
       "      <td>4.8</td>\n",
       "      <td>33</td>\n",
       "      <td>100</td>\n",
       "      <td>25</td>\n",
       "      <td>500.0</td>\n",
       "      <td>NaN</td>\n",
       "      <td>Less than 50</td>\n",
       "      <td>16+</td>\n",
       "    </tr>\n",
       "    <tr>\n",
       "      <th>1</th>\n",
       "      <td>NaN</td>\n",
       "      <td>Juice</td>\n",
       "      <td>2 Options</td>\n",
       "      <td>Mainland China</td>\n",
       "      <td>Yami</td>\n",
       "      <td>499.99</td>\n",
       "      <td>Multi-Functional Automatic and Self Cleaning S...</td>\n",
       "      <td>4.9</td>\n",
       "      <td>8</td>\n",
       "      <td>100</td>\n",
       "      <td>25</td>\n",
       "      <td>12500.0</td>\n",
       "      <td>NaN</td>\n",
       "      <td>Less than 50</td>\n",
       "      <td>16+</td>\n",
       "    </tr>\n",
       "    <tr>\n",
       "      <th>2</th>\n",
       "      <td>NaN</td>\n",
       "      <td>Juice</td>\n",
       "      <td>2 Options</td>\n",
       "      <td>Mainland China</td>\n",
       "      <td>Yami</td>\n",
       "      <td>1.80</td>\n",
       "      <td>Full Score Micro Bubble Juice Wanglin Green Ap...</td>\n",
       "      <td>4.8</td>\n",
       "      <td>8</td>\n",
       "      <td>800</td>\n",
       "      <td>200</td>\n",
       "      <td>360.0</td>\n",
       "      <td>NaN</td>\n",
       "      <td>100+</td>\n",
       "      <td>Less than 2</td>\n",
       "    </tr>\n",
       "    <tr>\n",
       "      <th>3</th>\n",
       "      <td>NaN</td>\n",
       "      <td>Juice</td>\n",
       "      <td>7 Options</td>\n",
       "      <td>Hong Kong</td>\n",
       "      <td>Yami</td>\n",
       "      <td>0.79</td>\n",
       "      <td>VITA Lychee Juice 250ml</td>\n",
       "      <td>4.7</td>\n",
       "      <td>102</td>\n",
       "      <td>100</td>\n",
       "      <td>25</td>\n",
       "      <td>20.0</td>\n",
       "      <td>NaN</td>\n",
       "      <td>Less than 50</td>\n",
       "      <td>Less than 2</td>\n",
       "    </tr>\n",
       "    <tr>\n",
       "      <th>4</th>\n",
       "      <td>NaN</td>\n",
       "      <td>Juice</td>\n",
       "      <td>4 Options</td>\n",
       "      <td>Japan</td>\n",
       "      <td>Yami</td>\n",
       "      <td>3.49</td>\n",
       "      <td>Sparkling Yuzu Juice 250ml</td>\n",
       "      <td>4.5</td>\n",
       "      <td>40</td>\n",
       "      <td>100</td>\n",
       "      <td>25</td>\n",
       "      <td>87.0</td>\n",
       "      <td>NaN</td>\n",
       "      <td>Less than 50</td>\n",
       "      <td>2+</td>\n",
       "    </tr>\n",
       "  </tbody>\n",
       "</table>\n",
       "</div>"
      ],
      "text/plain": [
       "  Brand Category     Option          Origin Platform   Price  \\\n",
       "0   NaN    Juice         No       Australia     Yami   19.99   \n",
       "1   NaN    Juice  2 Options  Mainland China     Yami  499.99   \n",
       "2   NaN    Juice  2 Options  Mainland China     Yami    1.80   \n",
       "3   NaN    Juice  7 Options       Hong Kong     Yami    0.79   \n",
       "4   NaN    Juice  4 Options           Japan     Yami    3.49   \n",
       "\n",
       "                                        Product_Name Rate  Reviews  \\\n",
       "0  Pumpkin + Manuka Honey Juice Squeeze 7 Packets...  4.8       33   \n",
       "1  Multi-Functional Automatic and Self Cleaning S...  4.9        8   \n",
       "2  Full Score Micro Bubble Juice Wanglin Green Ap...  4.8        8   \n",
       "3                            VITA Lychee Juice 250ml  4.7      102   \n",
       "4                         Sparkling Yuzu Juice 250ml  4.5       40   \n",
       "\n",
       "   Sold_Monthly  Sold_Weekly  Weekly_Revenue  Weekly_revenue  \\\n",
       "0           100           25           500.0             NaN   \n",
       "1           100           25         12500.0             NaN   \n",
       "2           800          200           360.0             NaN   \n",
       "3           100           25            20.0             NaN   \n",
       "4           100           25            87.0             NaN   \n",
       "\n",
       "  Sold_Weekly_Group  Price_Group  \n",
       "0      Less than 50          16+  \n",
       "1      Less than 50          16+  \n",
       "2              100+  Less than 2  \n",
       "3      Less than 50  Less than 2  \n",
       "4      Less than 50           2+  "
      ]
     },
     "execution_count": 34,
     "metadata": {},
     "output_type": "execute_result"
    }
   ],
   "source": [
    "df['Price_Group'] = pd.cut(x = df['Price'], \n",
    "                                   bins = [0,2,4,6,8,10,12,14,16,10000],\n",
    "                                   labels = ['Less than 2','2+','4+','6+','8+','10+','12+','14+','16+'])\n",
    "df.head()"
   ]
  },
  {
   "cell_type": "code",
   "execution_count": 35,
   "metadata": {},
   "outputs": [
    {
     "data": {
      "text/plain": [
       "Text(0.5, 1.0, 'Price_Group vs. Origin')"
      ]
     },
     "execution_count": 35,
     "metadata": {},
     "output_type": "execute_result"
    },
    {
     "data": {
      "image/png": "[encoded data removed]",
      "text/plain": [
       "<Figure size 1440x432 with 1 Axes>"
      ]
     },
     "metadata": {
      "needs_background": "light"
     },
     "output_type": "display_data"
    }
   ],
   "source": [
    "# origin vs Price group\n",
    "\n",
    "plt.rcParams['figure.figsize'] = (20, 6)\n",
    "\n",
    "# compare the year with Origin with price group\n",
    "plt.subplot(121)\n",
    "sns.countplot(x='Origin',hue= 'Price_Group', data=df, palette = 'husl')\n",
    "plt.xticks(rotation=90)\n",
    "plt.legend(bbox_to_anchor=(-0.2, 0.5), loc='right', borderaxespad=0)\n",
    "plt.title('Price_Group vs. Origin')"
   ]
  },
  {
   "cell_type": "code",
   "execution_count": 36,
   "metadata": {
    "scrolled": false
   },
   "outputs": [
    {
     "name": "stderr",
     "output_type": "stream",
     "text": [
      "C:\\Users\\13750\\Anaconda3\\lib\\site-packages\\ipykernel_launcher.py:10: MatplotlibDeprecationWarning: Unrecognized location 'left'. Falling back on 'best'; valid locations are\n",
      "\tbest\n",
      "\tupper right\n",
      "\tupper left\n",
      "\tlower left\n",
      "\tlower right\n",
      "\tright\n",
      "\tcenter left\n",
      "\tcenter right\n",
      "\tlower center\n",
      "\tupper center\n",
      "\tcenter\n",
      "This will raise an exception in 3.3.\n",
      "  # Remove the CWD from sys.path while we load stuff.\n"
     ]
    },
    {
     "data": {
      "text/html": [
       "<div>\n",
       "<style scoped>\n",
       "    .dataframe tbody tr th:only-of-type {\n",
       "        vertical-align: middle;\n",
       "    }\n",
       "\n",
       "    .dataframe tbody tr th {\n",
       "        vertical-align: top;\n",
       "    }\n",
       "\n",
       "    .dataframe thead th {\n",
       "        text-align: right;\n",
       "    }\n",
       "</style>\n",
       "<table border=\"1\" class=\"dataframe\">\n",
       "  <thead>\n",
       "    <tr style=\"text-align: right;\">\n",
       "      <th>Price_Group</th>\n",
       "      <th>Less than 2</th>\n",
       "      <th>2+</th>\n",
       "      <th>4+</th>\n",
       "      <th>6+</th>\n",
       "      <th>8+</th>\n",
       "      <th>10+</th>\n",
       "      <th>12+</th>\n",
       "      <th>14+</th>\n",
       "      <th>16+</th>\n",
       "    </tr>\n",
       "    <tr>\n",
       "      <th>Origin</th>\n",
       "      <th></th>\n",
       "      <th></th>\n",
       "      <th></th>\n",
       "      <th></th>\n",
       "      <th></th>\n",
       "      <th></th>\n",
       "      <th></th>\n",
       "      <th></th>\n",
       "      <th></th>\n",
       "    </tr>\n",
       "  </thead>\n",
       "  <tbody>\n",
       "    <tr>\n",
       "      <th>Australia</th>\n",
       "      <td>0</td>\n",
       "      <td>0</td>\n",
       "      <td>0</td>\n",
       "      <td>0</td>\n",
       "      <td>0</td>\n",
       "      <td>0</td>\n",
       "      <td>0</td>\n",
       "      <td>0</td>\n",
       "      <td>9</td>\n",
       "    </tr>\n",
       "    <tr>\n",
       "      <th>Brazil</th>\n",
       "      <td>1</td>\n",
       "      <td>0</td>\n",
       "      <td>0</td>\n",
       "      <td>0</td>\n",
       "      <td>0</td>\n",
       "      <td>0</td>\n",
       "      <td>0</td>\n",
       "      <td>0</td>\n",
       "      <td>0</td>\n",
       "    </tr>\n",
       "    <tr>\n",
       "      <th>Hong Kong</th>\n",
       "      <td>18</td>\n",
       "      <td>2</td>\n",
       "      <td>4</td>\n",
       "      <td>0</td>\n",
       "      <td>0</td>\n",
       "      <td>0</td>\n",
       "      <td>0</td>\n",
       "      <td>0</td>\n",
       "      <td>0</td>\n",
       "    </tr>\n",
       "    <tr>\n",
       "      <th>Indonesia</th>\n",
       "      <td>5</td>\n",
       "      <td>0</td>\n",
       "      <td>0</td>\n",
       "      <td>0</td>\n",
       "      <td>0</td>\n",
       "      <td>0</td>\n",
       "      <td>0</td>\n",
       "      <td>0</td>\n",
       "      <td>0</td>\n",
       "    </tr>\n",
       "    <tr>\n",
       "      <th>Japan</th>\n",
       "      <td>73</td>\n",
       "      <td>261</td>\n",
       "      <td>28</td>\n",
       "      <td>10</td>\n",
       "      <td>2</td>\n",
       "      <td>0</td>\n",
       "      <td>1</td>\n",
       "      <td>1</td>\n",
       "      <td>14</td>\n",
       "    </tr>\n",
       "    <tr>\n",
       "      <th>Korea</th>\n",
       "      <td>55</td>\n",
       "      <td>13</td>\n",
       "      <td>6</td>\n",
       "      <td>6</td>\n",
       "      <td>0</td>\n",
       "      <td>0</td>\n",
       "      <td>1</td>\n",
       "      <td>1</td>\n",
       "      <td>6</td>\n",
       "    </tr>\n",
       "    <tr>\n",
       "      <th>Mainland China</th>\n",
       "      <td>172</td>\n",
       "      <td>117</td>\n",
       "      <td>24</td>\n",
       "      <td>4</td>\n",
       "      <td>9</td>\n",
       "      <td>2</td>\n",
       "      <td>0</td>\n",
       "      <td>1</td>\n",
       "      <td>37</td>\n",
       "    </tr>\n",
       "    <tr>\n",
       "      <th>Malaysia</th>\n",
       "      <td>0</td>\n",
       "      <td>0</td>\n",
       "      <td>3</td>\n",
       "      <td>0</td>\n",
       "      <td>0</td>\n",
       "      <td>0</td>\n",
       "      <td>0</td>\n",
       "      <td>0</td>\n",
       "      <td>0</td>\n",
       "    </tr>\n",
       "    <tr>\n",
       "      <th>Philippines</th>\n",
       "      <td>2</td>\n",
       "      <td>2</td>\n",
       "      <td>1</td>\n",
       "      <td>0</td>\n",
       "      <td>0</td>\n",
       "      <td>0</td>\n",
       "      <td>0</td>\n",
       "      <td>0</td>\n",
       "      <td>0</td>\n",
       "    </tr>\n",
       "    <tr>\n",
       "      <th>Singapore</th>\n",
       "      <td>9</td>\n",
       "      <td>3</td>\n",
       "      <td>0</td>\n",
       "      <td>0</td>\n",
       "      <td>0</td>\n",
       "      <td>0</td>\n",
       "      <td>0</td>\n",
       "      <td>0</td>\n",
       "      <td>0</td>\n",
       "    </tr>\n",
       "    <tr>\n",
       "      <th>South Korea</th>\n",
       "      <td>3</td>\n",
       "      <td>7</td>\n",
       "      <td>0</td>\n",
       "      <td>0</td>\n",
       "      <td>0</td>\n",
       "      <td>0</td>\n",
       "      <td>1</td>\n",
       "      <td>0</td>\n",
       "      <td>0</td>\n",
       "    </tr>\n",
       "    <tr>\n",
       "      <th>Taiwan</th>\n",
       "      <td>61</td>\n",
       "      <td>21</td>\n",
       "      <td>17</td>\n",
       "      <td>3</td>\n",
       "      <td>5</td>\n",
       "      <td>0</td>\n",
       "      <td>3</td>\n",
       "      <td>2</td>\n",
       "      <td>0</td>\n",
       "    </tr>\n",
       "    <tr>\n",
       "      <th>Thailand</th>\n",
       "      <td>21</td>\n",
       "      <td>4</td>\n",
       "      <td>5</td>\n",
       "      <td>0</td>\n",
       "      <td>0</td>\n",
       "      <td>0</td>\n",
       "      <td>0</td>\n",
       "      <td>0</td>\n",
       "      <td>0</td>\n",
       "    </tr>\n",
       "    <tr>\n",
       "      <th>Unclear</th>\n",
       "      <td>10</td>\n",
       "      <td>15</td>\n",
       "      <td>8</td>\n",
       "      <td>9</td>\n",
       "      <td>4</td>\n",
       "      <td>4</td>\n",
       "      <td>0</td>\n",
       "      <td>1</td>\n",
       "      <td>9</td>\n",
       "    </tr>\n",
       "    <tr>\n",
       "      <th>United States</th>\n",
       "      <td>24</td>\n",
       "      <td>34</td>\n",
       "      <td>2</td>\n",
       "      <td>5</td>\n",
       "      <td>0</td>\n",
       "      <td>0</td>\n",
       "      <td>1</td>\n",
       "      <td>2</td>\n",
       "      <td>4</td>\n",
       "    </tr>\n",
       "    <tr>\n",
       "      <th>Vietnam</th>\n",
       "      <td>6</td>\n",
       "      <td>1</td>\n",
       "      <td>0</td>\n",
       "      <td>0</td>\n",
       "      <td>0</td>\n",
       "      <td>0</td>\n",
       "      <td>0</td>\n",
       "      <td>0</td>\n",
       "      <td>0</td>\n",
       "    </tr>\n",
       "  </tbody>\n",
       "</table>\n",
       "</div>"
      ],
      "text/plain": [
       "Price_Group     Less than 2   2+  4+  6+  8+  10+  12+  14+  16+\n",
       "Origin                                                          \n",
       "Australia                 0    0   0   0   0    0    0    0    9\n",
       "Brazil                    1    0   0   0   0    0    0    0    0\n",
       "Hong Kong                18    2   4   0   0    0    0    0    0\n",
       "Indonesia                 5    0   0   0   0    0    0    0    0\n",
       "Japan                    73  261  28  10   2    0    1    1   14\n",
       "Korea                    55   13   6   6   0    0    1    1    6\n",
       "Mainland China          172  117  24   4   9    2    0    1   37\n",
       "Malaysia                  0    0   3   0   0    0    0    0    0\n",
       "Philippines               2    2   1   0   0    0    0    0    0\n",
       "Singapore                 9    3   0   0   0    0    0    0    0\n",
       "South Korea               3    7   0   0   0    0    1    0    0\n",
       "Taiwan                   61   21  17   3   5    0    3    2    0\n",
       "Thailand                 21    4   5   0   0    0    0    0    0\n",
       "Unclear                  10   15   8   9   4    4    0    1    9\n",
       "United States            24   34   2   5   0    0    1    2    4\n",
       "Vietnam                   6    1   0   0   0    0    0    0    0"
      ]
     },
     "execution_count": 36,
     "metadata": {},
     "output_type": "execute_result"
    },
    {
     "data": {
      "image/png": "[encoded data removed]",
      "text/plain": [
       "<Figure size 1080x360 with 1 Axes>"
      ]
     },
     "metadata": {
      "needs_background": "light"
     },
     "output_type": "display_data"
    }
   ],
   "source": [
    "# origin vs sold weekly group\n",
    "\n",
    "plt.rcParams['figure.figsize'] = (15, 5)\n",
    "\n",
    "# check the Origin percentage of Platform\n",
    "ax= plt.subplot(122)\n",
    "c2_c = pd.crosstab( df.Origin, df.Price_Group)\n",
    "c2_c.div(c2_c .sum(1).astype(float), axis=0).plot(kind='barh', stacked=True, ax=ax)\n",
    "plt.title('Origin percentage by Price_Group')\n",
    "plt.legend(bbox_to_anchor=(-0.4, 1), loc='left', borderaxespad=0)\n",
    "plt.xlabel('Price_Group')\n",
    "plt.xticks(rotation=0)\n",
    "plt.ylabel('Percentage of Origin')\n",
    "\n",
    "c2_c"
   ]
  },
  {
   "cell_type": "markdown",
   "metadata": {},
   "source": [
    "## Price_Group Vs Sold_Weekly_Group\n"
   ]
  },
  {
   "cell_type": "code",
   "execution_count": 37,
   "metadata": {
    "scrolled": true
   },
   "outputs": [
    {
     "name": "stderr",
     "output_type": "stream",
     "text": [
      "C:\\Users\\13750\\Anaconda3\\lib\\site-packages\\ipykernel_launcher.py:8: MatplotlibDeprecationWarning: Unrecognized location 'left'. Falling back on 'best'; valid locations are\n",
      "\tbest\n",
      "\tupper right\n",
      "\tupper left\n",
      "\tlower left\n",
      "\tlower right\n",
      "\tright\n",
      "\tcenter left\n",
      "\tcenter right\n",
      "\tlower center\n",
      "\tupper center\n",
      "\tcenter\n",
      "This will raise an exception in 3.3.\n",
      "  \n"
     ]
    },
    {
     "data": {
      "text/html": [
       "<div>\n",
       "<style scoped>\n",
       "    .dataframe tbody tr th:only-of-type {\n",
       "        vertical-align: middle;\n",
       "    }\n",
       "\n",
       "    .dataframe tbody tr th {\n",
       "        vertical-align: top;\n",
       "    }\n",
       "\n",
       "    .dataframe thead th {\n",
       "        text-align: right;\n",
       "    }\n",
       "</style>\n",
       "<table border=\"1\" class=\"dataframe\">\n",
       "  <thead>\n",
       "    <tr style=\"text-align: right;\">\n",
       "      <th>Sold_Weekly_Group</th>\n",
       "      <th>Less than 50</th>\n",
       "      <th>50+</th>\n",
       "      <th>100+</th>\n",
       "      <th>200+</th>\n",
       "      <th>300+</th>\n",
       "      <th>400+</th>\n",
       "      <th>500+</th>\n",
       "      <th>1000+</th>\n",
       "      <th>2000+</th>\n",
       "    </tr>\n",
       "    <tr>\n",
       "      <th>Price_Group</th>\n",
       "      <th></th>\n",
       "      <th></th>\n",
       "      <th></th>\n",
       "      <th></th>\n",
       "      <th></th>\n",
       "      <th></th>\n",
       "      <th></th>\n",
       "      <th></th>\n",
       "      <th></th>\n",
       "    </tr>\n",
       "  </thead>\n",
       "  <tbody>\n",
       "    <tr>\n",
       "      <th>Less than 2</th>\n",
       "      <td>182</td>\n",
       "      <td>11</td>\n",
       "      <td>239</td>\n",
       "      <td>18</td>\n",
       "      <td>1</td>\n",
       "      <td>0</td>\n",
       "      <td>5</td>\n",
       "      <td>0</td>\n",
       "      <td>0</td>\n",
       "    </tr>\n",
       "    <tr>\n",
       "      <th>2+</th>\n",
       "      <td>108</td>\n",
       "      <td>12</td>\n",
       "      <td>321</td>\n",
       "      <td>11</td>\n",
       "      <td>3</td>\n",
       "      <td>1</td>\n",
       "      <td>5</td>\n",
       "      <td>1</td>\n",
       "      <td>3</td>\n",
       "    </tr>\n",
       "    <tr>\n",
       "      <th>4+</th>\n",
       "      <td>18</td>\n",
       "      <td>7</td>\n",
       "      <td>42</td>\n",
       "      <td>1</td>\n",
       "      <td>0</td>\n",
       "      <td>9</td>\n",
       "      <td>15</td>\n",
       "      <td>1</td>\n",
       "      <td>0</td>\n",
       "    </tr>\n",
       "    <tr>\n",
       "      <th>6+</th>\n",
       "      <td>9</td>\n",
       "      <td>2</td>\n",
       "      <td>12</td>\n",
       "      <td>0</td>\n",
       "      <td>0</td>\n",
       "      <td>1</td>\n",
       "      <td>2</td>\n",
       "      <td>0</td>\n",
       "      <td>0</td>\n",
       "    </tr>\n",
       "    <tr>\n",
       "      <th>8+</th>\n",
       "      <td>5</td>\n",
       "      <td>1</td>\n",
       "      <td>7</td>\n",
       "      <td>0</td>\n",
       "      <td>0</td>\n",
       "      <td>1</td>\n",
       "      <td>1</td>\n",
       "      <td>1</td>\n",
       "      <td>0</td>\n",
       "    </tr>\n",
       "    <tr>\n",
       "      <th>10+</th>\n",
       "      <td>1</td>\n",
       "      <td>1</td>\n",
       "      <td>2</td>\n",
       "      <td>0</td>\n",
       "      <td>0</td>\n",
       "      <td>1</td>\n",
       "      <td>1</td>\n",
       "      <td>0</td>\n",
       "      <td>0</td>\n",
       "    </tr>\n",
       "    <tr>\n",
       "      <th>12+</th>\n",
       "      <td>0</td>\n",
       "      <td>3</td>\n",
       "      <td>1</td>\n",
       "      <td>1</td>\n",
       "      <td>0</td>\n",
       "      <td>0</td>\n",
       "      <td>0</td>\n",
       "      <td>0</td>\n",
       "      <td>0</td>\n",
       "    </tr>\n",
       "    <tr>\n",
       "      <th>14+</th>\n",
       "      <td>3</td>\n",
       "      <td>3</td>\n",
       "      <td>1</td>\n",
       "      <td>0</td>\n",
       "      <td>0</td>\n",
       "      <td>0</td>\n",
       "      <td>1</td>\n",
       "      <td>0</td>\n",
       "      <td>0</td>\n",
       "    </tr>\n",
       "    <tr>\n",
       "      <th>16+</th>\n",
       "      <td>49</td>\n",
       "      <td>2</td>\n",
       "      <td>2</td>\n",
       "      <td>20</td>\n",
       "      <td>2</td>\n",
       "      <td>0</td>\n",
       "      <td>0</td>\n",
       "      <td>0</td>\n",
       "      <td>0</td>\n",
       "    </tr>\n",
       "  </tbody>\n",
       "</table>\n",
       "</div>"
      ],
      "text/plain": [
       "Sold_Weekly_Group  Less than 50  50+  100+  200+  300+  400+  500+  1000+  \\\n",
       "Price_Group                                                                 \n",
       "Less than 2                 182   11   239    18     1     0     5      0   \n",
       "2+                          108   12   321    11     3     1     5      1   \n",
       "4+                           18    7    42     1     0     9    15      1   \n",
       "6+                            9    2    12     0     0     1     2      0   \n",
       "8+                            5    1     7     0     0     1     1      1   \n",
       "10+                           1    1     2     0     0     1     1      0   \n",
       "12+                           0    3     1     1     0     0     0      0   \n",
       "14+                           3    3     1     0     0     0     1      0   \n",
       "16+                          49    2     2    20     2     0     0      0   \n",
       "\n",
       "Sold_Weekly_Group  2000+  \n",
       "Price_Group               \n",
       "Less than 2            0  \n",
       "2+                     3  \n",
       "4+                     0  \n",
       "6+                     0  \n",
       "8+                     0  \n",
       "10+                    0  \n",
       "12+                    0  \n",
       "14+                    0  \n",
       "16+                    0  "
      ]
     },
     "execution_count": 37,
     "metadata": {},
     "output_type": "execute_result"
    },
    {
     "data": {
      "image/png": "[encoded data removed]",
      "text/plain": [
       "<Figure size 1440x360 with 1 Axes>"
      ]
     },
     "metadata": {
      "needs_background": "light"
     },
     "output_type": "display_data"
    }
   ],
   "source": [
    "plt.rcParams['figure.figsize'] = (20, 5)\n",
    "\n",
    "# check the Price_Group percentage of Sold_Weekly_Group\n",
    "ax= plt.subplot(122)\n",
    "c2_c = pd.crosstab(df.Price_Group, df.Sold_Weekly_Group)\n",
    "c2_c.div(c2_c .sum(1).astype(float), axis=0).plot(kind='bar', stacked=True, ax=ax)\n",
    "plt.title('Sold_Weekly_Group percentage by Price_Group')\n",
    "plt.legend(bbox_to_anchor=(-0.1, 1), loc='left', borderaxespad=0)\n",
    "plt.xlabel('Price_Group')\n",
    "plt.xticks(rotation=0)\n",
    "plt.ylabel('Percentage of Sold_Weekly_Group')\n",
    "\n",
    "c2_c"
   ]
  },
  {
   "cell_type": "code",
   "execution_count": 38,
   "metadata": {},
   "outputs": [
    {
     "data": {
      "text/plain": [
       "Text(0.5, 1.0, 'Price_Group vs. Sold_Weekly_Group')"
      ]
     },
     "execution_count": 38,
     "metadata": {},
     "output_type": "execute_result"
    },
    {
     "data": {
      "image/png": "[encoded data removed]",
      "text/plain": [
       "<Figure size 1440x288 with 1 Axes>"
      ]
     },
     "metadata": {
      "needs_background": "light"
     },
     "output_type": "display_data"
    }
   ],
   "source": [
    "# price group vs sold weekly group\n",
    "\n",
    "plt.rcParams['figure.figsize'] = (20, 4)\n",
    "\n",
    "# compare the year with price group with sold weekly group\n",
    "plt.subplot(121)\n",
    "sns.countplot(x='Price_Group',hue= 'Sold_Weekly_Group', data=df, palette = 'husl')\n",
    "plt.legend(bbox_to_anchor=(-0.2, 0.5), loc='right', borderaxespad=0)\n",
    "plt.title('Price_Group vs. Sold_Weekly_Group')"
   ]
  },
  {
   "cell_type": "code",
   "execution_count": 40,
   "metadata": {},
   "outputs": [],
   "source": [
    "df.to_csv(r'C:\\Users\\13750\\Desktop\\Empire Bazaar Group Corp\\US chinese product market\\SNACK MARKET\\Analysis Data\\juice\\juice.csv', index = False)"
   ]
  },
  {
   "cell_type": "code",
   "execution_count": null,
   "metadata": {},
   "outputs": [],
   "source": []
  },
  {
   "cell_type": "code",
   "execution_count": null,
   "metadata": {},
   "outputs": [],
   "source": []
  },
  {
   "cell_type": "code",
   "execution_count": null,
   "metadata": {},
   "outputs": [],
   "source": []
  }
 ],
 "metadata": {
  "kernelspec": {
   "display_name": "Python 3",
   "language": "python",
   "name": "python3"
  },
  "language_info": {
   "codemirror_mode": {
    "name": "ipython",
    "version": 3
   },
   "file_extension": ".py",
   "mimetype": "text/x-python",
   "name": "python",
   "nbconvert_exporter": "python",
   "pygments_lexer": "ipython3",
   "version": "3.7.3"
  }
 },
 "nbformat": 4,
 "nbformat_minor": 2
}
