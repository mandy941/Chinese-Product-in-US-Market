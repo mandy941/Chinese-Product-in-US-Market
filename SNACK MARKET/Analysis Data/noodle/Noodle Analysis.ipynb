{
 "cells": [
  {
   "cell_type": "code",
   "execution_count": 1,
   "metadata": {},
   "outputs": [],
   "source": [
    "# Import libraries\n",
    "import requests\n",
    "from bs4 import BeautifulSoup\n",
    "import pandas as pd\n",
    "import requests\n",
    "import seaborn as sns #visualisation\n",
    "import matplotlib.pyplot as plt #visualisation\n",
    "%matplotlib inline \n",
    "sns.set(color_codes=True)"
   ]
  },
  {
   "cell_type": "code",
   "execution_count": 11,
   "metadata": {},
   "outputs": [
    {
     "data": {
      "text/html": [
       "<div>\n",
       "<style scoped>\n",
       "    .dataframe tbody tr th:only-of-type {\n",
       "        vertical-align: middle;\n",
       "    }\n",
       "\n",
       "    .dataframe tbody tr th {\n",
       "        vertical-align: top;\n",
       "    }\n",
       "\n",
       "    .dataframe thead th {\n",
       "        text-align: right;\n",
       "    }\n",
       "</style>\n",
       "<table border=\"1\" class=\"dataframe\">\n",
       "  <thead>\n",
       "    <tr style=\"text-align: right;\">\n",
       "      <th></th>\n",
       "      <th>Product_Name</th>\n",
       "      <th>Brand</th>\n",
       "      <th>Price</th>\n",
       "      <th>Reviews</th>\n",
       "      <th>Origin</th>\n",
       "      <th>Rate</th>\n",
       "      <th>Platform</th>\n",
       "      <th>Category</th>\n",
       "      <th>Sold_Weekly</th>\n",
       "      <th>Sold_Monthly</th>\n",
       "      <th>Weekly_Revenue</th>\n",
       "    </tr>\n",
       "  </thead>\n",
       "  <tbody>\n",
       "    <tr>\n",
       "      <th>0</th>\n",
       "      <td>Mochi with Taro Filling 180g</td>\n",
       "      <td>formosa yay</td>\n",
       "      <td>1.99</td>\n",
       "      <td>128</td>\n",
       "      <td>Taiwan</td>\n",
       "      <td>4.4</td>\n",
       "      <td>Yami</td>\n",
       "      <td>Mochi</td>\n",
       "      <td>400</td>\n",
       "      <td>1600</td>\n",
       "      <td>796.0</td>\n",
       "    </tr>\n",
       "    <tr>\n",
       "      <th>1</th>\n",
       "      <td>Mochi with Red Bean Filling 180g</td>\n",
       "      <td>formosa yay</td>\n",
       "      <td>1.99</td>\n",
       "      <td>122</td>\n",
       "      <td>Taiwan</td>\n",
       "      <td>4.3</td>\n",
       "      <td>Yami</td>\n",
       "      <td>Mochi</td>\n",
       "      <td>400</td>\n",
       "      <td>1600</td>\n",
       "      <td>796.0</td>\n",
       "    </tr>\n",
       "    <tr>\n",
       "      <th>2</th>\n",
       "      <td>Mochi Strawberry Flavor 216g</td>\n",
       "      <td>royal family</td>\n",
       "      <td>2.99</td>\n",
       "      <td>74</td>\n",
       "      <td>Taiwan</td>\n",
       "      <td>3.7</td>\n",
       "      <td>Yami</td>\n",
       "      <td>Mochi</td>\n",
       "      <td>400</td>\n",
       "      <td>1600</td>\n",
       "      <td>1196.0</td>\n",
       "    </tr>\n",
       "    <tr>\n",
       "      <th>3</th>\n",
       "      <td>YUKI/LOVE Japan Mochi Red Bean</td>\n",
       "      <td>yuki&amp;love</td>\n",
       "      <td>2.29</td>\n",
       "      <td>45</td>\n",
       "      <td>Taiwan</td>\n",
       "      <td>4.1</td>\n",
       "      <td>Yami</td>\n",
       "      <td>Mochi</td>\n",
       "      <td>400</td>\n",
       "      <td>1600</td>\n",
       "      <td>916.0</td>\n",
       "    </tr>\n",
       "    <tr>\n",
       "      <th>4</th>\n",
       "      <td>Mochi Cantaloupe Flavor 216g</td>\n",
       "      <td>royal family</td>\n",
       "      <td>2.99</td>\n",
       "      <td>39</td>\n",
       "      <td>Taiwan</td>\n",
       "      <td>4.0</td>\n",
       "      <td>Yami</td>\n",
       "      <td>Mochi</td>\n",
       "      <td>400</td>\n",
       "      <td>1600</td>\n",
       "      <td>1196.0</td>\n",
       "    </tr>\n",
       "  </tbody>\n",
       "</table>\n",
       "</div>"
      ],
      "text/plain": [
       "                       Product_Name         Brand  Price  Reviews  Origin  \\\n",
       "0      Mochi with Taro Filling 180g   formosa yay   1.99      128  Taiwan   \n",
       "1  Mochi with Red Bean Filling 180g   formosa yay   1.99      122  Taiwan   \n",
       "2      Mochi Strawberry Flavor 216g  royal family   2.99       74  Taiwan   \n",
       "3   YUKI/LOVE Japan Mochi Red Bean      yuki&love   2.29       45  Taiwan   \n",
       "4      Mochi Cantaloupe Flavor 216g  royal family   2.99       39  Taiwan   \n",
       "\n",
       "   Rate Platform Category  Sold_Weekly  Sold_Monthly  Weekly_Revenue  \n",
       "0   4.4     Yami    Mochi          400          1600           796.0  \n",
       "1   4.3     Yami    Mochi          400          1600           796.0  \n",
       "2   3.7     Yami    Mochi          400          1600          1196.0  \n",
       "3   4.1     Yami    Mochi          400          1600           916.0  \n",
       "4   4.0     Yami    Mochi          400          1600          1196.0  "
      ]
     },
     "execution_count": 11,
     "metadata": {},
     "output_type": "execute_result"
    }
   ],
   "source": [
    "url1 = 'https://raw.githubusercontent.com/mandy941/Chinese-Product-in-US-Market/main/SNACK%20MARKET/Analysis%20Data/Mochi/Yami%20Mochi.csv'\n",
    "url2 = 'https://raw.githubusercontent.com/mandy941/Chinese-Product-in-US-Market/main/SNACK%20MARKET/Analysis%20Data/Mochi/Mochi%20Data-%20weee%20ScrapeStorm.csv'\n",
    "url3 = 'https://raw.githubusercontent.com/mandy941/Chinese-Product-in-US-Market/main/SNACK%20MARKET/Analysis%20Data/Mochi/mochi-freshgogoData-ScrapeStorm.csv'\n",
    "yami = pd.read_csv(url1, encoding='latin1')\n",
    "yami.head()"
   ]
  },
  {
   "cell_type": "code",
   "execution_count": 12,
   "metadata": {},
   "outputs": [
    {
     "data": {
      "text/html": [
       "<div>\n",
       "<style scoped>\n",
       "    .dataframe tbody tr th:only-of-type {\n",
       "        vertical-align: middle;\n",
       "    }\n",
       "\n",
       "    .dataframe tbody tr th {\n",
       "        vertical-align: top;\n",
       "    }\n",
       "\n",
       "    .dataframe thead th {\n",
       "        text-align: right;\n",
       "    }\n",
       "</style>\n",
       "<table border=\"1\" class=\"dataframe\">\n",
       "  <thead>\n",
       "    <tr style=\"text-align: right;\">\n",
       "      <th></th>\n",
       "      <th>Product_Name</th>\n",
       "      <th>Price</th>\n",
       "      <th>Sold_Weekly</th>\n",
       "      <th>Origin</th>\n",
       "      <th>Brand</th>\n",
       "      <th>Sold_Monthly</th>\n",
       "      <th>Weekly_Revenue</th>\n",
       "      <th>Reviews</th>\n",
       "      <th>Platform</th>\n",
       "      <th>Category</th>\n",
       "      <th>Rate</th>\n",
       "    </tr>\n",
       "  </thead>\n",
       "  <tbody>\n",
       "    <tr>\n",
       "      <th>0</th>\n",
       "      <td>Mochi - Strawberry Flavor 120 g</td>\n",
       "      <td>3.33</td>\n",
       "      <td>300</td>\n",
       "      <td>Mainland China</td>\n",
       "      <td>Uncler</td>\n",
       "      <td>1200</td>\n",
       "      <td>999</td>\n",
       "      <td>0</td>\n",
       "      <td>Weee</td>\n",
       "      <td>Mochi</td>\n",
       "      <td>Unclear</td>\n",
       "    </tr>\n",
       "    <tr>\n",
       "      <th>1</th>\n",
       "      <td>Regent Mochi Assorted 240 g</td>\n",
       "      <td>3.69</td>\n",
       "      <td>300</td>\n",
       "      <td>Philippines</td>\n",
       "      <td>Regent</td>\n",
       "      <td>1200</td>\n",
       "      <td>1107</td>\n",
       "      <td>6</td>\n",
       "      <td>Weee</td>\n",
       "      <td>Mochi</td>\n",
       "      <td>Unclear</td>\n",
       "    </tr>\n",
       "    <tr>\n",
       "      <th>2</th>\n",
       "      <td>FormosaYAY Imperial Matcha Mochi 6pcs 180 g</td>\n",
       "      <td>1.89</td>\n",
       "      <td>300</td>\n",
       "      <td>Taiwan</td>\n",
       "      <td>Uncler</td>\n",
       "      <td>1200</td>\n",
       "      <td>567</td>\n",
       "      <td>4</td>\n",
       "      <td>Weee</td>\n",
       "      <td>Mochi</td>\n",
       "      <td>Unclear</td>\n",
       "    </tr>\n",
       "    <tr>\n",
       "      <th>3</th>\n",
       "      <td>FormosaYAY Adzuki Bean Mochi 6pcs 180 g</td>\n",
       "      <td>1.89</td>\n",
       "      <td>200</td>\n",
       "      <td>Taiwan</td>\n",
       "      <td>Uncler</td>\n",
       "      <td>800</td>\n",
       "      <td>378</td>\n",
       "      <td>4</td>\n",
       "      <td>Weee</td>\n",
       "      <td>Mochi</td>\n",
       "      <td>Unclear</td>\n",
       "    </tr>\n",
       "    <tr>\n",
       "      <th>4</th>\n",
       "      <td>Red Bean Mochi 120 g</td>\n",
       "      <td>1.89</td>\n",
       "      <td>300</td>\n",
       "      <td>Taiwan</td>\n",
       "      <td>Uncler</td>\n",
       "      <td>1200</td>\n",
       "      <td>567</td>\n",
       "      <td>19</td>\n",
       "      <td>Weee</td>\n",
       "      <td>Mochi</td>\n",
       "      <td>Unclear</td>\n",
       "    </tr>\n",
       "  </tbody>\n",
       "</table>\n",
       "</div>"
      ],
      "text/plain": [
       "                                  Product_Name  Price  Sold_Weekly  \\\n",
       "0              Mochi - Strawberry Flavor 120 g   3.33          300   \n",
       "1                  Regent Mochi Assorted 240 g   3.69          300   \n",
       "2  FormosaYAY Imperial Matcha Mochi 6pcs 180 g   1.89          300   \n",
       "3      FormosaYAY Adzuki Bean Mochi 6pcs 180 g   1.89          200   \n",
       "4                         Red Bean Mochi 120 g   1.89          300   \n",
       "\n",
       "           Origin   Brand  Sold_Monthly  Weekly_Revenue  Reviews Platform  \\\n",
       "0  Mainland China  Uncler          1200             999        0     Weee   \n",
       "1     Philippines  Regent          1200            1107        6     Weee   \n",
       "2          Taiwan  Uncler          1200             567        4     Weee   \n",
       "3          Taiwan  Uncler           800             378        4     Weee   \n",
       "4          Taiwan  Uncler          1200             567       19     Weee   \n",
       "\n",
       "  Category     Rate  \n",
       "0    Mochi  Unclear  \n",
       "1    Mochi  Unclear  \n",
       "2    Mochi  Unclear  \n",
       "3    Mochi  Unclear  \n",
       "4    Mochi  Unclear  "
      ]
     },
     "execution_count": 12,
     "metadata": {},
     "output_type": "execute_result"
    }
   ],
   "source": [
    "weee = pd.read_csv(url2, encoding='latin1')\n",
    "weee.head()"
   ]
  },
  {
   "cell_type": "code",
   "execution_count": 13,
   "metadata": {},
   "outputs": [
    {
     "data": {
      "text/html": [
       "<div>\n",
       "<style scoped>\n",
       "    .dataframe tbody tr th:only-of-type {\n",
       "        vertical-align: middle;\n",
       "    }\n",
       "\n",
       "    .dataframe tbody tr th {\n",
       "        vertical-align: top;\n",
       "    }\n",
       "\n",
       "    .dataframe thead th {\n",
       "        text-align: right;\n",
       "    }\n",
       "</style>\n",
       "<table border=\"1\" class=\"dataframe\">\n",
       "  <thead>\n",
       "    <tr style=\"text-align: right;\">\n",
       "      <th></th>\n",
       "      <th>Price</th>\n",
       "      <th>Product_Name</th>\n",
       "      <th>Sold_Monthly</th>\n",
       "      <th>Reviews</th>\n",
       "      <th>Brand</th>\n",
       "      <th>Rate</th>\n",
       "      <th>Origin</th>\n",
       "      <th>Platform</th>\n",
       "      <th>Category</th>\n",
       "      <th>Sold_Weekly</th>\n",
       "      <th>Weekly_Revenue</th>\n",
       "    </tr>\n",
       "  </thead>\n",
       "  <tbody>\n",
       "    <tr>\n",
       "      <th>0</th>\n",
       "      <td>32</td>\n",
       "      <td>Alaska Wild Black Cod</td>\n",
       "      <td>6566</td>\n",
       "      <td>11</td>\n",
       "      <td>Unclear</td>\n",
       "      <td>Unclear</td>\n",
       "      <td>Unclear</td>\n",
       "      <td>Freshgogo</td>\n",
       "      <td>Mochi</td>\n",
       "      <td>1642</td>\n",
       "      <td>52512</td>\n",
       "    </tr>\n",
       "    <tr>\n",
       "      <th>1</th>\n",
       "      <td>3</td>\n",
       "      <td>WEICHUAN Chinese Spinach Bun</td>\n",
       "      <td>12111</td>\n",
       "      <td>6</td>\n",
       "      <td>Unclear</td>\n",
       "      <td>Unclear</td>\n",
       "      <td>Unclear</td>\n",
       "      <td>Freshgogo</td>\n",
       "      <td>Mochi</td>\n",
       "      <td>3028</td>\n",
       "      <td>9053</td>\n",
       "    </tr>\n",
       "    <tr>\n",
       "      <th>2</th>\n",
       "      <td>2</td>\n",
       "      <td>Iceberg Lettuce</td>\n",
       "      <td>5606</td>\n",
       "      <td>2</td>\n",
       "      <td>Unclear</td>\n",
       "      <td>Unclear</td>\n",
       "      <td>Unclear</td>\n",
       "      <td>Freshgogo</td>\n",
       "      <td>Mochi</td>\n",
       "      <td>1402</td>\n",
       "      <td>2649</td>\n",
       "    </tr>\n",
       "    <tr>\n",
       "      <th>3</th>\n",
       "      <td>3</td>\n",
       "      <td>Okra</td>\n",
       "      <td>13221</td>\n",
       "      <td>50</td>\n",
       "      <td>Unclear</td>\n",
       "      <td>Unclear</td>\n",
       "      <td>Unclear</td>\n",
       "      <td>Freshgogo</td>\n",
       "      <td>Mochi</td>\n",
       "      <td>3305</td>\n",
       "      <td>9883</td>\n",
       "    </tr>\n",
       "    <tr>\n",
       "      <th>4</th>\n",
       "      <td>2</td>\n",
       "      <td>QIAO XI FU Cumin</td>\n",
       "      <td>12124</td>\n",
       "      <td>0</td>\n",
       "      <td>Unclear</td>\n",
       "      <td>Unclear</td>\n",
       "      <td>Unclear</td>\n",
       "      <td>Freshgogo</td>\n",
       "      <td>Mochi</td>\n",
       "      <td>3031</td>\n",
       "      <td>6638</td>\n",
       "    </tr>\n",
       "  </tbody>\n",
       "</table>\n",
       "</div>"
      ],
      "text/plain": [
       "   Price                  Product_Name  Sold_Monthly  Reviews    Brand  \\\n",
       "0     32         Alaska Wild Black Cod          6566       11  Unclear   \n",
       "1      3  WEICHUAN Chinese Spinach Bun         12111        6  Unclear   \n",
       "2      2               Iceberg Lettuce          5606        2  Unclear   \n",
       "3      3                          Okra         13221       50  Unclear   \n",
       "4      2              QIAO XI FU Cumin         12124        0  Unclear   \n",
       "\n",
       "      Rate   Origin   Platform Category  Sold_Weekly  Weekly_Revenue  \n",
       "0  Unclear  Unclear  Freshgogo    Mochi         1642           52512  \n",
       "1  Unclear  Unclear  Freshgogo    Mochi         3028            9053  \n",
       "2  Unclear  Unclear  Freshgogo    Mochi         1402            2649  \n",
       "3  Unclear  Unclear  Freshgogo    Mochi         3305            9883  \n",
       "4  Unclear  Unclear  Freshgogo    Mochi         3031            6638  "
      ]
     },
     "execution_count": 13,
     "metadata": {},
     "output_type": "execute_result"
    }
   ],
   "source": [
    "freshgogo = pd.read_csv(url3)\n",
    "freshgogo.head()"
   ]
  },
  {
   "cell_type": "markdown",
   "metadata": {},
   "source": [
    "# Combine three tables together"
   ]
  },
  {
   "cell_type": "code",
   "execution_count": 14,
   "metadata": {},
   "outputs": [
    {
     "name": "stderr",
     "output_type": "stream",
     "text": [
      "C:\\Users\\13750\\Anaconda3\\lib\\site-packages\\ipykernel_launcher.py:1: FutureWarning: Sorting because non-concatenation axis is not aligned. A future version\n",
      "of pandas will change to not sort by default.\n",
      "\n",
      "To accept the future behavior, pass 'sort=False'.\n",
      "\n",
      "To retain the current behavior and silence the warning, pass 'sort=True'.\n",
      "\n",
      "  \"\"\"Entry point for launching an IPython kernel.\n"
     ]
    },
    {
     "data": {
      "text/html": [
       "<div>\n",
       "<style scoped>\n",
       "    .dataframe tbody tr th:only-of-type {\n",
       "        vertical-align: middle;\n",
       "    }\n",
       "\n",
       "    .dataframe tbody tr th {\n",
       "        vertical-align: top;\n",
       "    }\n",
       "\n",
       "    .dataframe thead th {\n",
       "        text-align: right;\n",
       "    }\n",
       "</style>\n",
       "<table border=\"1\" class=\"dataframe\">\n",
       "  <thead>\n",
       "    <tr style=\"text-align: right;\">\n",
       "      <th></th>\n",
       "      <th>Brand</th>\n",
       "      <th>Category</th>\n",
       "      <th>Origin</th>\n",
       "      <th>Platform</th>\n",
       "      <th>Price</th>\n",
       "      <th>Product_Name</th>\n",
       "      <th>Rate</th>\n",
       "      <th>Reviews</th>\n",
       "      <th>Sold_Monthly</th>\n",
       "      <th>Sold_Weekly</th>\n",
       "      <th>Weekly_Revenue</th>\n",
       "    </tr>\n",
       "  </thead>\n",
       "  <tbody>\n",
       "    <tr>\n",
       "      <th>0</th>\n",
       "      <td>formosa yay</td>\n",
       "      <td>Mochi</td>\n",
       "      <td>Taiwan</td>\n",
       "      <td>Yami</td>\n",
       "      <td>1.99</td>\n",
       "      <td>Mochi with Taro Filling 180g</td>\n",
       "      <td>4.4</td>\n",
       "      <td>128</td>\n",
       "      <td>1600</td>\n",
       "      <td>400</td>\n",
       "      <td>796.0</td>\n",
       "    </tr>\n",
       "    <tr>\n",
       "      <th>1</th>\n",
       "      <td>formosa yay</td>\n",
       "      <td>Mochi</td>\n",
       "      <td>Taiwan</td>\n",
       "      <td>Yami</td>\n",
       "      <td>1.99</td>\n",
       "      <td>Mochi with Red Bean Filling 180g</td>\n",
       "      <td>4.3</td>\n",
       "      <td>122</td>\n",
       "      <td>1600</td>\n",
       "      <td>400</td>\n",
       "      <td>796.0</td>\n",
       "    </tr>\n",
       "    <tr>\n",
       "      <th>2</th>\n",
       "      <td>royal family</td>\n",
       "      <td>Mochi</td>\n",
       "      <td>Taiwan</td>\n",
       "      <td>Yami</td>\n",
       "      <td>2.99</td>\n",
       "      <td>Mochi Strawberry Flavor 216g</td>\n",
       "      <td>3.7</td>\n",
       "      <td>74</td>\n",
       "      <td>1600</td>\n",
       "      <td>400</td>\n",
       "      <td>1196.0</td>\n",
       "    </tr>\n",
       "    <tr>\n",
       "      <th>3</th>\n",
       "      <td>yuki&amp;love</td>\n",
       "      <td>Mochi</td>\n",
       "      <td>Taiwan</td>\n",
       "      <td>Yami</td>\n",
       "      <td>2.29</td>\n",
       "      <td>YUKI/LOVE Japan Mochi Red Bean</td>\n",
       "      <td>4.1</td>\n",
       "      <td>45</td>\n",
       "      <td>1600</td>\n",
       "      <td>400</td>\n",
       "      <td>916.0</td>\n",
       "    </tr>\n",
       "    <tr>\n",
       "      <th>4</th>\n",
       "      <td>royal family</td>\n",
       "      <td>Mochi</td>\n",
       "      <td>Taiwan</td>\n",
       "      <td>Yami</td>\n",
       "      <td>2.99</td>\n",
       "      <td>Mochi Cantaloupe Flavor 216g</td>\n",
       "      <td>4</td>\n",
       "      <td>39</td>\n",
       "      <td>1600</td>\n",
       "      <td>400</td>\n",
       "      <td>1196.0</td>\n",
       "    </tr>\n",
       "  </tbody>\n",
       "</table>\n",
       "</div>"
      ],
      "text/plain": [
       "          Brand Category  Origin Platform  Price  \\\n",
       "0   formosa yay    Mochi  Taiwan     Yami   1.99   \n",
       "1   formosa yay    Mochi  Taiwan     Yami   1.99   \n",
       "2  royal family    Mochi  Taiwan     Yami   2.99   \n",
       "3     yuki&love    Mochi  Taiwan     Yami   2.29   \n",
       "4  royal family    Mochi  Taiwan     Yami   2.99   \n",
       "\n",
       "                       Product_Name Rate  Reviews  Sold_Monthly  Sold_Weekly  \\\n",
       "0      Mochi with Taro Filling 180g  4.4      128          1600          400   \n",
       "1  Mochi with Red Bean Filling 180g  4.3      122          1600          400   \n",
       "2      Mochi Strawberry Flavor 216g  3.7       74          1600          400   \n",
       "3   YUKI/LOVE Japan Mochi Red Bean   4.1       45          1600          400   \n",
       "4      Mochi Cantaloupe Flavor 216g    4       39          1600          400   \n",
       "\n",
       "   Weekly_Revenue  \n",
       "0           796.0  \n",
       "1           796.0  \n",
       "2          1196.0  \n",
       "3           916.0  \n",
       "4          1196.0  "
      ]
     },
     "execution_count": 14,
     "metadata": {},
     "output_type": "execute_result"
    }
   ],
   "source": [
    "df = pd.concat([yami,weee,freshgogo])\n",
    "df.head()"
   ]
  },
  {
   "cell_type": "code",
   "execution_count": 15,
   "metadata": {},
   "outputs": [
    {
     "name": "stdout",
     "output_type": "stream",
     "text": [
      "(439, 11)\n",
      "['Brand', 'Category', 'Origin', 'Platform', 'Price', 'Product_Name', 'Rate', 'Reviews', 'Sold_Monthly', 'Sold_Weekly', 'Weekly_Revenue']\n"
     ]
    }
   ],
   "source": [
    "print(df.shape)\n",
    "print(list(df.columns))"
   ]
  },
  {
   "cell_type": "markdown",
   "metadata": {},
   "source": [
    "# Analysis"
   ]
  },
  {
   "cell_type": "code",
   "execution_count": 16,
   "metadata": {},
   "outputs": [
    {
     "data": {
      "text/html": [
       "<div>\n",
       "<style scoped>\n",
       "    .dataframe tbody tr th:only-of-type {\n",
       "        vertical-align: middle;\n",
       "    }\n",
       "\n",
       "    .dataframe tbody tr th {\n",
       "        vertical-align: top;\n",
       "    }\n",
       "\n",
       "    .dataframe thead th {\n",
       "        text-align: right;\n",
       "    }\n",
       "</style>\n",
       "<table border=\"1\" class=\"dataframe\">\n",
       "  <thead>\n",
       "    <tr style=\"text-align: right;\">\n",
       "      <th></th>\n",
       "      <th>Price</th>\n",
       "      <th>Reviews</th>\n",
       "      <th>Sold_Monthly</th>\n",
       "      <th>Sold_Weekly</th>\n",
       "      <th>Weekly_Revenue</th>\n",
       "    </tr>\n",
       "  </thead>\n",
       "  <tbody>\n",
       "    <tr>\n",
       "      <th>count</th>\n",
       "      <td>439.000000</td>\n",
       "      <td>439.000000</td>\n",
       "      <td>439.000000</td>\n",
       "      <td>439.000000</td>\n",
       "      <td>439.000000</td>\n",
       "    </tr>\n",
       "    <tr>\n",
       "      <th>mean</th>\n",
       "      <td>10.142073</td>\n",
       "      <td>31.259681</td>\n",
       "      <td>1620.578588</td>\n",
       "      <td>405.145786</td>\n",
       "      <td>3614.823462</td>\n",
       "    </tr>\n",
       "    <tr>\n",
       "      <th>std</th>\n",
       "      <td>15.102201</td>\n",
       "      <td>67.839362</td>\n",
       "      <td>3147.906729</td>\n",
       "      <td>786.976439</td>\n",
       "      <td>7278.557035</td>\n",
       "    </tr>\n",
       "    <tr>\n",
       "      <th>min</th>\n",
       "      <td>1.290000</td>\n",
       "      <td>0.000000</td>\n",
       "      <td>0.000000</td>\n",
       "      <td>0.000000</td>\n",
       "      <td>0.000000</td>\n",
       "    </tr>\n",
       "    <tr>\n",
       "      <th>25%</th>\n",
       "      <td>2.990000</td>\n",
       "      <td>2.000000</td>\n",
       "      <td>400.000000</td>\n",
       "      <td>100.000000</td>\n",
       "      <td>543.500000</td>\n",
       "    </tr>\n",
       "    <tr>\n",
       "      <th>50%</th>\n",
       "      <td>4.490000</td>\n",
       "      <td>9.000000</td>\n",
       "      <td>1600.000000</td>\n",
       "      <td>400.000000</td>\n",
       "      <td>1116.000000</td>\n",
       "    </tr>\n",
       "    <tr>\n",
       "      <th>75%</th>\n",
       "      <td>9.990000</td>\n",
       "      <td>23.000000</td>\n",
       "      <td>1600.000000</td>\n",
       "      <td>400.000000</td>\n",
       "      <td>2507.500000</td>\n",
       "    </tr>\n",
       "    <tr>\n",
       "      <th>max</th>\n",
       "      <td>149.990000</td>\n",
       "      <td>531.000000</td>\n",
       "      <td>41177.000000</td>\n",
       "      <td>10294.000000</td>\n",
       "      <td>59996.000000</td>\n",
       "    </tr>\n",
       "  </tbody>\n",
       "</table>\n",
       "</div>"
      ],
      "text/plain": [
       "            Price     Reviews  Sold_Monthly   Sold_Weekly  Weekly_Revenue\n",
       "count  439.000000  439.000000    439.000000    439.000000      439.000000\n",
       "mean    10.142073   31.259681   1620.578588    405.145786     3614.823462\n",
       "std     15.102201   67.839362   3147.906729    786.976439     7278.557035\n",
       "min      1.290000    0.000000      0.000000      0.000000        0.000000\n",
       "25%      2.990000    2.000000    400.000000    100.000000      543.500000\n",
       "50%      4.490000    9.000000   1600.000000    400.000000     1116.000000\n",
       "75%      9.990000   23.000000   1600.000000    400.000000     2507.500000\n",
       "max    149.990000  531.000000  41177.000000  10294.000000    59996.000000"
      ]
     },
     "execution_count": 16,
     "metadata": {},
     "output_type": "execute_result"
    }
   ],
   "source": [
    "df.describe()"
   ]
  },
  {
   "cell_type": "code",
   "execution_count": 17,
   "metadata": {},
   "outputs": [
    {
     "data": {
      "text/plain": [
       "Brand             formosa yayformosa yayroyal familyyuki&loveroy...\n",
       "Category          MochiMochiMochiMochiMochiMochiMochiMochiMochiM...\n",
       "Origin            TaiwanTaiwanTaiwanTaiwanTaiwanJapanJapanJapanJ...\n",
       "Platform          YamiYamiYamiYamiYamiYamiYamiYamiYamiYamiYamiYa...\n",
       "Price                                                       4452.37\n",
       "Product_Name      Mochi with Taro Filling 180gMochi with Red Bea...\n",
       "Reviews                                                       13723\n",
       "Sold_Monthly                                                 711434\n",
       "Sold_Weekly                                                  177859\n",
       "Weekly_Revenue                                          1.58691e+06\n",
       "dtype: object"
      ]
     },
     "execution_count": 17,
     "metadata": {},
     "output_type": "execute_result"
    }
   ],
   "source": [
    "df.sum(axis = 0)"
   ]
  },
  {
   "cell_type": "code",
   "execution_count": 18,
   "metadata": {},
   "outputs": [],
   "source": [
    "df['Origin'] = df['Origin'].replace('ROYAL FAMILY','Unclear')"
   ]
  },
  {
   "cell_type": "markdown",
   "metadata": {},
   "source": [
    "# The Most Popular Origin (Highest Weekly Revenue /Num of Product)\n"
   ]
  },
  {
   "cell_type": "code",
   "execution_count": 19,
   "metadata": {},
   "outputs": [
    {
     "data": {
      "text/plain": [
       "Origin\n",
       "Hong Kong           1\n",
       "Japan              50\n",
       "Korea               2\n",
       "Macao               1\n",
       "Mainland China    124\n",
       "Philippines         6\n",
       "South Korea         1\n",
       "Taiwan            200\n",
       "Unclear            25\n",
       "United States      29\n",
       "Name: Product_Name, dtype: int64"
      ]
     },
     "execution_count": 19,
     "metadata": {},
     "output_type": "execute_result"
    }
   ],
   "source": [
    "origin = df.groupby(['Origin'])['Product_Name'].count()\n",
    "origin"
   ]
  },
  {
   "cell_type": "code",
   "execution_count": 20,
   "metadata": {},
   "outputs": [
    {
     "data": {
      "text/plain": [
       "Origin\n",
       "Hong Kong           738.000000\n",
       "Japan               981.030000\n",
       "Korea               656.375000\n",
       "Macao              2796.000000\n",
       "Mainland China     4329.546371\n",
       "Philippines         502.000000\n",
       "South Korea           0.000000\n",
       "Taiwan             2719.547500\n",
       "Unclear           14228.760000\n",
       "United States      3224.310345\n",
       "dtype: float64"
      ]
     },
     "execution_count": 20,
     "metadata": {},
     "output_type": "execute_result"
    }
   ],
   "source": [
    "pop_origin = df.groupby(['Origin'])['Weekly_Revenue'].sum()/df.groupby(['Origin'])['Product_Name'].count()\n",
    "pop_origin"
   ]
  },
  {
   "cell_type": "code",
   "execution_count": 21,
   "metadata": {},
   "outputs": [
    {
     "data": {
      "text/plain": [
       "Origin\n",
       "Unclear           14228.760000\n",
       "Mainland China     4329.546371\n",
       "United States      3224.310345\n",
       "Macao              2796.000000\n",
       "Taiwan             2719.547500\n",
       "Japan               981.030000\n",
       "Hong Kong           738.000000\n",
       "Korea               656.375000\n",
       "Philippines         502.000000\n",
       "South Korea           0.000000\n",
       "dtype: float64"
      ]
     },
     "execution_count": 21,
     "metadata": {},
     "output_type": "execute_result"
    }
   ],
   "source": [
    "pop_origin.sort_values(ascending=False).head(10)"
   ]
  },
  {
   "cell_type": "markdown",
   "metadata": {},
   "source": [
    "# The most popular brand by unit selling\n"
   ]
  },
  {
   "cell_type": "code",
   "execution_count": 22,
   "metadata": {},
   "outputs": [
    {
     "data": {
      "text/plain": [
       "Brand\n",
       "Daoxiangcun        2544.000000\n",
       "HSIN TUNG YANG      290.000000\n",
       "Imuraya             747.000000\n",
       "Lecker                0.000000\n",
       "Regent              753.000000\n",
       "                      ...     \n",
       "yo man             1596.000000\n",
       "youchengzhai       9196.000000\n",
       "yu cake            4996.000000\n",
       "yuki&love          1424.571429\n",
       "zhiweiguan        18093.500000\n",
       "Length: 100, dtype: float64"
      ]
     },
     "execution_count": 22,
     "metadata": {},
     "output_type": "execute_result"
    }
   ],
   "source": [
    "pop_brand = df.groupby(['Brand'])['Weekly_Revenue'].sum()/df.groupby(['Brand'])['Product_Name'].count()\n",
    "pop_brand"
   ]
  },
  {
   "cell_type": "code",
   "execution_count": 23,
   "metadata": {},
   "outputs": [
    {
     "data": {
      "text/plain": [
       "Brand\n",
       "matchall      59996.000000\n",
       "kaonuxu       24662.666667\n",
       "sunnyhills    18535.821429\n",
       "zhiweiguan    18093.500000\n",
       "Unclear       17710.250000\n",
       "dtype: float64"
      ]
     },
     "execution_count": 23,
     "metadata": {},
     "output_type": "execute_result"
    }
   ],
   "source": [
    "pop_brand.sort_values(ascending=False).head(5)"
   ]
  },
  {
   "cell_type": "markdown",
   "metadata": {},
   "source": [
    "# The popular brand by revenue"
   ]
  },
  {
   "cell_type": "code",
   "execution_count": 24,
   "metadata": {},
   "outputs": [
    {
     "data": {
      "text/plain": [
       "Brand\n",
       "Daoxiangcun         5088.0\n",
       "HSIN TUNG YANG       290.0\n",
       "Imuraya              747.0\n",
       "Lecker                 0.0\n",
       "Regent              3012.0\n",
       "                    ...   \n",
       "yo man              3192.0\n",
       "youchengzhai        9196.0\n",
       "yu cake             9992.0\n",
       "yuki&love          19944.0\n",
       "zhiweiguan        144748.0\n",
       "Name: Weekly_Revenue, Length: 100, dtype: float64"
      ]
     },
     "execution_count": 24,
     "metadata": {},
     "output_type": "execute_result"
    }
   ],
   "source": [
    "pop_brand2 = df.groupby(['Brand'])['Weekly_Revenue'].sum()\n",
    "pop_brand2"
   ]
  },
  {
   "cell_type": "code",
   "execution_count": 25,
   "metadata": {},
   "outputs": [
    {
     "data": {
      "text/plain": [
       "Brand\n",
       "Unclear          354205.00\n",
       "kaonuxu          147976.00\n",
       "zhiweiguan       144748.00\n",
       "sunnyhills       129750.75\n",
       "tachia master    105564.00\n",
       "Name: Weekly_Revenue, dtype: float64"
      ]
     },
     "execution_count": 25,
     "metadata": {},
     "output_type": "execute_result"
    }
   ],
   "source": [
    "pop_brand2.sort_values(ascending=False).head(5)"
   ]
  },
  {
   "cell_type": "code",
   "execution_count": null,
   "metadata": {},
   "outputs": [],
   "source": []
  },
  {
   "cell_type": "markdown",
   "metadata": {},
   "source": [
    "# The Main Import Origin"
   ]
  },
  {
   "cell_type": "code",
   "execution_count": 26,
   "metadata": {},
   "outputs": [
    {
     "data": {
      "text/plain": [
       "Origin\n",
       "Hong Kong           1\n",
       "Japan              50\n",
       "Korea               2\n",
       "Macao               1\n",
       "Mainland China    124\n",
       "Philippines         6\n",
       "South Korea         1\n",
       "Taiwan            200\n",
       "Unclear            25\n",
       "United States      29\n",
       "Name: Product_Name, dtype: int64"
      ]
     },
     "execution_count": 26,
     "metadata": {},
     "output_type": "execute_result"
    }
   ],
   "source": [
    "main_origin = df.groupby(['Origin'])['Product_Name'].count()\n",
    "main_origin"
   ]
  },
  {
   "cell_type": "code",
   "execution_count": 27,
   "metadata": {},
   "outputs": [
    {
     "data": {
      "text/plain": [
       "Origin\n",
       "Taiwan            200\n",
       "Mainland China    124\n",
       "Japan              50\n",
       "United States      29\n",
       "Unclear            25\n",
       "Name: Product_Name, dtype: int64"
      ]
     },
     "execution_count": 27,
     "metadata": {},
     "output_type": "execute_result"
    }
   ],
   "source": [
    "main_origin.sort_values(ascending=False).head(5)"
   ]
  },
  {
   "cell_type": "markdown",
   "metadata": {},
   "source": [
    "# The most value import Origin"
   ]
  },
  {
   "cell_type": "code",
   "execution_count": 28,
   "metadata": {},
   "outputs": [
    {
     "data": {
      "text/plain": [
       "Origin\n",
       "Hong Kong            738.00\n",
       "Japan              49051.50\n",
       "Korea               1312.75\n",
       "Macao               2796.00\n",
       "Mainland China    536863.75\n",
       "Philippines         3012.00\n",
       "South Korea            0.00\n",
       "Taiwan            543909.50\n",
       "Unclear           355719.00\n",
       "United States      93505.00\n",
       "Name: Weekly_Revenue, dtype: float64"
      ]
     },
     "execution_count": 28,
     "metadata": {},
     "output_type": "execute_result"
    }
   ],
   "source": [
    "value_origin = df.groupby(['Origin'])['Weekly_Revenue'].sum()\n",
    "value_origin"
   ]
  },
  {
   "cell_type": "code",
   "execution_count": 29,
   "metadata": {},
   "outputs": [
    {
     "data": {
      "text/plain": [
       "Origin\n",
       "Taiwan            543909.50\n",
       "Mainland China    536863.75\n",
       "Unclear           355719.00\n",
       "United States      93505.00\n",
       "Japan              49051.50\n",
       "Name: Weekly_Revenue, dtype: float64"
      ]
     },
     "execution_count": 29,
     "metadata": {},
     "output_type": "execute_result"
    }
   ],
   "source": [
    "value_origin.sort_values(ascending=False).head(5)"
   ]
  },
  {
   "cell_type": "markdown",
   "metadata": {},
   "source": [
    "# platform offers choice - most\n"
   ]
  },
  {
   "cell_type": "code",
   "execution_count": 30,
   "metadata": {},
   "outputs": [
    {
     "data": {
      "text/plain": [
       "Platform\n",
       "Freshgogo     20\n",
       "Weee          48\n",
       "Yami         371\n",
       "Name: Product_Name, dtype: int64"
      ]
     },
     "execution_count": 30,
     "metadata": {},
     "output_type": "execute_result"
    }
   ],
   "source": [
    "choice = df.groupby(['Platform'])['Product_Name'].count()\n",
    "choice"
   ]
  },
  {
   "cell_type": "code",
   "execution_count": 31,
   "metadata": {},
   "outputs": [
    {
     "data": {
      "text/plain": [
       "Platform\n",
       "Freshgogo    17710.250000\n",
       "Weee           633.125000\n",
       "Yami          3240.734501\n",
       "dtype: float64"
      ]
     },
     "execution_count": 31,
     "metadata": {},
     "output_type": "execute_result"
    }
   ],
   "source": [
    "value_choice =  df.groupby(['Platform'])['Weekly_Revenue'].sum()/df.groupby(['Platform'])['Product_Name'].count()\n",
    "value_choice"
   ]
  },
  {
   "cell_type": "markdown",
   "metadata": {},
   "source": [
    "## The Number of profuct by origin"
   ]
  },
  {
   "cell_type": "code",
   "execution_count": 32,
   "metadata": {},
   "outputs": [
    {
     "data": {
      "text/plain": [
       "<matplotlib.axes._subplots.AxesSubplot at 0x23d86a6ec50>"
      ]
     },
     "execution_count": 32,
     "metadata": {},
     "output_type": "execute_result"
    },
    {
     "data": {
      "image/png": "[encoded data removed]",
      "text/plain": [
       "<Figure size 720x360 with 1 Axes>"
      ]
     },
     "metadata": {
      "needs_background": "light"
     },
     "output_type": "display_data"
    }
   ],
   "source": [
    "count_origin = df.groupby([df['Origin']])['Product_Name'].count()\n",
    "count_origin.plot(kind='barh',figsize=(10,5),legend=None, title=\"The Number of Products by Origin \")"
   ]
  },
  {
   "cell_type": "code",
   "execution_count": 33,
   "metadata": {},
   "outputs": [
    {
     "data": {
      "text/plain": [
       "<matplotlib.axes._subplots.AxesSubplot at 0x23d882e3358>"
      ]
     },
     "execution_count": 33,
     "metadata": {},
     "output_type": "execute_result"
    },
    {
     "data": {
      "image/png": "[encoded data removed]",
      "text/plain": [
       "<Figure size 720x360 with 1 Axes>"
      ]
     },
     "metadata": {
      "needs_background": "light"
     },
     "output_type": "display_data"
    }
   ],
   "source": [
    "sum_revenue = df.groupby([df['Origin']])['Weekly_Revenue'].sum()\n",
    "sum_revenue.plot(kind='barh',figsize=(10,5),legend=None, title=\"The Weekly Revenue by Origin \")"
   ]
  },
  {
   "cell_type": "code",
   "execution_count": 34,
   "metadata": {},
   "outputs": [
    {
     "data": {
      "text/plain": [
       "Platform\n",
       "Freshgogo     20\n",
       "Weee          48\n",
       "Yami         371\n",
       "Name: Product_Name, dtype: int64"
      ]
     },
     "execution_count": 34,
     "metadata": {},
     "output_type": "execute_result"
    }
   ],
   "source": [
    "count_platform = df.groupby(['Platform'])['Product_Name'].count()\n",
    "count_platform"
   ]
  },
  {
   "cell_type": "code",
   "execution_count": 35,
   "metadata": {},
   "outputs": [
    {
     "data": {
      "text/plain": [
       "<matplotlib.axes._subplots.AxesSubplot at 0x23d88af5278>"
      ]
     },
     "execution_count": 35,
     "metadata": {},
     "output_type": "execute_result"
    },
    {
     "data": {
      "image/png": "[encoded data removed]",
      "text/plain": [
       "<Figure size 720x360 with 1 Axes>"
      ]
     },
     "metadata": {
      "needs_background": "light"
     },
     "output_type": "display_data"
    }
   ],
   "source": [
    "platform = df.groupby([df['Platform']])['Brand'].count()\n",
    "platform.plot(kind='barh',figsize=(10,5),legend=None, title=\"The Number of Products by Platform \")"
   ]
  },
  {
   "cell_type": "code",
   "execution_count": 36,
   "metadata": {},
   "outputs": [
    {
     "data": {
      "text/plain": [
       "Text(0.5, 1.0, 'Figure 5: Correlations')"
      ]
     },
     "execution_count": 36,
     "metadata": {},
     "output_type": "execute_result"
    },
    {
     "data": {
      "image/png": "[encoded data removed]",
      "text/plain": [
       "<Figure size 576x360 with 2 Axes>"
      ]
     },
     "metadata": {
      "needs_background": "light"
     },
     "output_type": "display_data"
    }
   ],
   "source": [
    "# Finding the correlation bewteen the Features.\n",
    "plt.figure(figsize=(8,5))\n",
    "\n",
    "corr = df.corr()# plot the heatmap\n",
    "sns.heatmap(corr, xticklabels=corr.columns, yticklabels=corr.columns, \n",
    "            annot=True, cmap=sns.diverging_palette(220, 20, as_cmap=True))\n",
    "plt.title('Figure 5: Correlations')"
   ]
  },
  {
   "cell_type": "markdown",
   "metadata": {},
   "source": [
    "## Origin vs Platform\n"
   ]
  },
  {
   "cell_type": "code",
   "execution_count": 37,
   "metadata": {},
   "outputs": [
    {
     "data": {
      "text/plain": [
       "Text(0.5, 1.0, 'Platform vs. Origin')"
      ]
     },
     "execution_count": 37,
     "metadata": {},
     "output_type": "execute_result"
    },
    {
     "data": {
      "image/png": "[encoded data removed]",
      "text/plain": [
       "<Figure size 720x432 with 1 Axes>"
      ]
     },
     "metadata": {
      "needs_background": "light"
     },
     "output_type": "display_data"
    }
   ],
   "source": [
    "# Origin vs Platform\n",
    "\n",
    "plt.rcParams['figure.figsize'] = (10, 6)\n",
    "\n",
    "# compare the year with Origin with Platform\n",
    "plt.subplot(121)\n",
    "sns.countplot(x='Platform',hue= 'Origin', data=df, palette = 'husl')\n",
    "plt.legend(bbox_to_anchor=(-0.2, 0.5), loc='right', borderaxespad=0)\n",
    "plt.title('Platform vs. Origin')"
   ]
  },
  {
   "cell_type": "code",
   "execution_count": 38,
   "metadata": {},
   "outputs": [
    {
     "name": "stderr",
     "output_type": "stream",
     "text": [
      "C:\\Users\\13750\\Anaconda3\\lib\\site-packages\\ipykernel_launcher.py:7: MatplotlibDeprecationWarning: Unrecognized location 'left'. Falling back on 'best'; valid locations are\n",
      "\tbest\n",
      "\tupper right\n",
      "\tupper left\n",
      "\tlower left\n",
      "\tlower right\n",
      "\tright\n",
      "\tcenter left\n",
      "\tcenter right\n",
      "\tlower center\n",
      "\tupper center\n",
      "\tcenter\n",
      "This will raise an exception in 3.3.\n",
      "  import sys\n"
     ]
    },
    {
     "data": {
      "text/html": [
       "<div>\n",
       "<style scoped>\n",
       "    .dataframe tbody tr th:only-of-type {\n",
       "        vertical-align: middle;\n",
       "    }\n",
       "\n",
       "    .dataframe tbody tr th {\n",
       "        vertical-align: top;\n",
       "    }\n",
       "\n",
       "    .dataframe thead th {\n",
       "        text-align: right;\n",
       "    }\n",
       "</style>\n",
       "<table border=\"1\" class=\"dataframe\">\n",
       "  <thead>\n",
       "    <tr style=\"text-align: right;\">\n",
       "      <th>Platform</th>\n",
       "      <th>Freshgogo</th>\n",
       "      <th>Weee</th>\n",
       "      <th>Yami</th>\n",
       "    </tr>\n",
       "    <tr>\n",
       "      <th>Origin</th>\n",
       "      <th></th>\n",
       "      <th></th>\n",
       "      <th></th>\n",
       "    </tr>\n",
       "  </thead>\n",
       "  <tbody>\n",
       "    <tr>\n",
       "      <th>Hong Kong</th>\n",
       "      <td>0</td>\n",
       "      <td>0</td>\n",
       "      <td>1</td>\n",
       "    </tr>\n",
       "    <tr>\n",
       "      <th>Japan</th>\n",
       "      <td>0</td>\n",
       "      <td>7</td>\n",
       "      <td>43</td>\n",
       "    </tr>\n",
       "    <tr>\n",
       "      <th>Korea</th>\n",
       "      <td>0</td>\n",
       "      <td>0</td>\n",
       "      <td>2</td>\n",
       "    </tr>\n",
       "    <tr>\n",
       "      <th>Macao</th>\n",
       "      <td>0</td>\n",
       "      <td>0</td>\n",
       "      <td>1</td>\n",
       "    </tr>\n",
       "    <tr>\n",
       "      <th>Mainland China</th>\n",
       "      <td>0</td>\n",
       "      <td>8</td>\n",
       "      <td>116</td>\n",
       "    </tr>\n",
       "    <tr>\n",
       "      <th>Philippines</th>\n",
       "      <td>0</td>\n",
       "      <td>6</td>\n",
       "      <td>0</td>\n",
       "    </tr>\n",
       "    <tr>\n",
       "      <th>South Korea</th>\n",
       "      <td>0</td>\n",
       "      <td>1</td>\n",
       "      <td>0</td>\n",
       "    </tr>\n",
       "    <tr>\n",
       "      <th>Taiwan</th>\n",
       "      <td>0</td>\n",
       "      <td>10</td>\n",
       "      <td>190</td>\n",
       "    </tr>\n",
       "    <tr>\n",
       "      <th>Unclear</th>\n",
       "      <td>20</td>\n",
       "      <td>3</td>\n",
       "      <td>2</td>\n",
       "    </tr>\n",
       "    <tr>\n",
       "      <th>United States</th>\n",
       "      <td>0</td>\n",
       "      <td>13</td>\n",
       "      <td>16</td>\n",
       "    </tr>\n",
       "  </tbody>\n",
       "</table>\n",
       "</div>"
      ],
      "text/plain": [
       "Platform        Freshgogo  Weee  Yami\n",
       "Origin                               \n",
       "Hong Kong               0     0     1\n",
       "Japan                   0     7    43\n",
       "Korea                   0     0     2\n",
       "Macao                   0     0     1\n",
       "Mainland China          0     8   116\n",
       "Philippines             0     6     0\n",
       "South Korea             0     1     0\n",
       "Taiwan                  0    10   190\n",
       "Unclear                20     3     2\n",
       "United States           0    13    16"
      ]
     },
     "execution_count": 38,
     "metadata": {},
     "output_type": "execute_result"
    },
    {
     "data": {
      "image/png": "[encoded data removed]",
      "text/plain": [
       "<Figure size 1080x360 with 1 Axes>"
      ]
     },
     "metadata": {
      "needs_background": "light"
     },
     "output_type": "display_data"
    }
   ],
   "source": [
    "# check the Origin percentage of Platform\n",
    "plt.rcParams['figure.figsize'] = (15, 5)\n",
    "ax= plt.subplot(122)\n",
    "c2_c = pd.crosstab(df.Origin, df.Platform)\n",
    "c2_c.div(c2_c .sum(1).astype(float), axis=0).plot(kind='barh', stacked=True, ax=ax)\n",
    "plt.title('Origin percentage by Platform')\n",
    "plt.legend(bbox_to_anchor=(-0.2, 1), loc='left', borderaxespad=0)\n",
    "plt.xlabel('Platform')\n",
    "plt.xticks(rotation=90)\n",
    "plt.ylabel('Percentage of Origin')\n",
    "\n",
    "c2_c"
   ]
  },
  {
   "cell_type": "markdown",
   "metadata": {},
   "source": [
    "## Origin Vs Sold_Weekly_Group"
   ]
  },
  {
   "cell_type": "code",
   "execution_count": 39,
   "metadata": {},
   "outputs": [
    {
     "data": {
      "text/html": [
       "<div>\n",
       "<style scoped>\n",
       "    .dataframe tbody tr th:only-of-type {\n",
       "        vertical-align: middle;\n",
       "    }\n",
       "\n",
       "    .dataframe tbody tr th {\n",
       "        vertical-align: top;\n",
       "    }\n",
       "\n",
       "    .dataframe thead th {\n",
       "        text-align: right;\n",
       "    }\n",
       "</style>\n",
       "<table border=\"1\" class=\"dataframe\">\n",
       "  <thead>\n",
       "    <tr style=\"text-align: right;\">\n",
       "      <th></th>\n",
       "      <th>Brand</th>\n",
       "      <th>Category</th>\n",
       "      <th>Origin</th>\n",
       "      <th>Platform</th>\n",
       "      <th>Price</th>\n",
       "      <th>Product_Name</th>\n",
       "      <th>Rate</th>\n",
       "      <th>Reviews</th>\n",
       "      <th>Sold_Monthly</th>\n",
       "      <th>Sold_Weekly</th>\n",
       "      <th>Weekly_Revenue</th>\n",
       "      <th>Sold_Weekly_Group</th>\n",
       "    </tr>\n",
       "  </thead>\n",
       "  <tbody>\n",
       "    <tr>\n",
       "      <th>0</th>\n",
       "      <td>formosa yay</td>\n",
       "      <td>Mochi</td>\n",
       "      <td>Taiwan</td>\n",
       "      <td>Yami</td>\n",
       "      <td>1.99</td>\n",
       "      <td>Mochi with Taro Filling 180g</td>\n",
       "      <td>4.4</td>\n",
       "      <td>128</td>\n",
       "      <td>1600</td>\n",
       "      <td>400</td>\n",
       "      <td>796.0</td>\n",
       "      <td>300+</td>\n",
       "    </tr>\n",
       "    <tr>\n",
       "      <th>1</th>\n",
       "      <td>formosa yay</td>\n",
       "      <td>Mochi</td>\n",
       "      <td>Taiwan</td>\n",
       "      <td>Yami</td>\n",
       "      <td>1.99</td>\n",
       "      <td>Mochi with Red Bean Filling 180g</td>\n",
       "      <td>4.3</td>\n",
       "      <td>122</td>\n",
       "      <td>1600</td>\n",
       "      <td>400</td>\n",
       "      <td>796.0</td>\n",
       "      <td>300+</td>\n",
       "    </tr>\n",
       "    <tr>\n",
       "      <th>2</th>\n",
       "      <td>royal family</td>\n",
       "      <td>Mochi</td>\n",
       "      <td>Taiwan</td>\n",
       "      <td>Yami</td>\n",
       "      <td>2.99</td>\n",
       "      <td>Mochi Strawberry Flavor 216g</td>\n",
       "      <td>3.7</td>\n",
       "      <td>74</td>\n",
       "      <td>1600</td>\n",
       "      <td>400</td>\n",
       "      <td>1196.0</td>\n",
       "      <td>300+</td>\n",
       "    </tr>\n",
       "    <tr>\n",
       "      <th>3</th>\n",
       "      <td>yuki&amp;love</td>\n",
       "      <td>Mochi</td>\n",
       "      <td>Taiwan</td>\n",
       "      <td>Yami</td>\n",
       "      <td>2.29</td>\n",
       "      <td>YUKI/LOVE Japan Mochi Red Bean</td>\n",
       "      <td>4.1</td>\n",
       "      <td>45</td>\n",
       "      <td>1600</td>\n",
       "      <td>400</td>\n",
       "      <td>916.0</td>\n",
       "      <td>300+</td>\n",
       "    </tr>\n",
       "    <tr>\n",
       "      <th>4</th>\n",
       "      <td>royal family</td>\n",
       "      <td>Mochi</td>\n",
       "      <td>Taiwan</td>\n",
       "      <td>Yami</td>\n",
       "      <td>2.99</td>\n",
       "      <td>Mochi Cantaloupe Flavor 216g</td>\n",
       "      <td>4</td>\n",
       "      <td>39</td>\n",
       "      <td>1600</td>\n",
       "      <td>400</td>\n",
       "      <td>1196.0</td>\n",
       "      <td>300+</td>\n",
       "    </tr>\n",
       "  </tbody>\n",
       "</table>\n",
       "</div>"
      ],
      "text/plain": [
       "          Brand Category  Origin Platform  Price  \\\n",
       "0   formosa yay    Mochi  Taiwan     Yami   1.99   \n",
       "1   formosa yay    Mochi  Taiwan     Yami   1.99   \n",
       "2  royal family    Mochi  Taiwan     Yami   2.99   \n",
       "3     yuki&love    Mochi  Taiwan     Yami   2.29   \n",
       "4  royal family    Mochi  Taiwan     Yami   2.99   \n",
       "\n",
       "                       Product_Name Rate  Reviews  Sold_Monthly  Sold_Weekly  \\\n",
       "0      Mochi with Taro Filling 180g  4.4      128          1600          400   \n",
       "1  Mochi with Red Bean Filling 180g  4.3      122          1600          400   \n",
       "2      Mochi Strawberry Flavor 216g  3.7       74          1600          400   \n",
       "3   YUKI/LOVE Japan Mochi Red Bean   4.1       45          1600          400   \n",
       "4      Mochi Cantaloupe Flavor 216g    4       39          1600          400   \n",
       "\n",
       "   Weekly_Revenue Sold_Weekly_Group  \n",
       "0           796.0              300+  \n",
       "1           796.0              300+  \n",
       "2          1196.0              300+  \n",
       "3           916.0              300+  \n",
       "4          1196.0              300+  "
      ]
     },
     "execution_count": 39,
     "metadata": {},
     "output_type": "execute_result"
    }
   ],
   "source": [
    "df['Sold_Weekly_Group'] = pd.cut(x = df['Sold_Weekly'], \n",
    "                                   bins = [0,50,100,200,300,400,500,1000,2000,10000],\n",
    "                                   labels = ['Less than 50','50+','100+','200+','300+','400+','500+','1000+','2000+'])\n",
    "df.head()"
   ]
  },
  {
   "cell_type": "code",
   "execution_count": 40,
   "metadata": {},
   "outputs": [
    {
     "data": {
      "text/plain": [
       "Text(0.5, 1.0, 'Sold_Weekly_Group vs. Origin')"
      ]
     },
     "execution_count": 40,
     "metadata": {},
     "output_type": "execute_result"
    },
    {
     "data": {
      "image/png": "[encoded data removed]",
      "text/plain": [
       "<Figure size 1440x720 with 1 Axes>"
      ]
     },
     "metadata": {
      "needs_background": "light"
     },
     "output_type": "display_data"
    }
   ],
   "source": [
    "# origin vs sold weekly group\n",
    "\n",
    "plt.rcParams['figure.figsize'] = (20, 10)\n",
    "\n",
    "# compare the year with Origin with Platform\n",
    "plt.subplot(121)\n",
    "sns.countplot(x='Sold_Weekly_Group',hue= 'Origin', data=df, palette = 'husl')\n",
    "plt.legend(bbox_to_anchor=(-0.2, 0.5), loc='right', borderaxespad=0)\n",
    "plt.title('Sold_Weekly_Group vs. Origin')"
   ]
  },
  {
   "cell_type": "code",
   "execution_count": 51,
   "metadata": {
    "scrolled": false
   },
   "outputs": [
    {
     "name": "stderr",
     "output_type": "stream",
     "text": [
      "C:\\Users\\13750\\Anaconda3\\lib\\site-packages\\ipykernel_launcher.py:9: MatplotlibDeprecationWarning: Unrecognized location 'left'. Falling back on 'best'; valid locations are\n",
      "\tbest\n",
      "\tupper right\n",
      "\tupper left\n",
      "\tlower left\n",
      "\tlower right\n",
      "\tright\n",
      "\tcenter left\n",
      "\tcenter right\n",
      "\tlower center\n",
      "\tupper center\n",
      "\tcenter\n",
      "This will raise an exception in 3.3.\n",
      "  if __name__ == '__main__':\n"
     ]
    },
    {
     "data": {
      "text/html": [
       "<div>\n",
       "<style scoped>\n",
       "    .dataframe tbody tr th:only-of-type {\n",
       "        vertical-align: middle;\n",
       "    }\n",
       "\n",
       "    .dataframe tbody tr th {\n",
       "        vertical-align: top;\n",
       "    }\n",
       "\n",
       "    .dataframe thead th {\n",
       "        text-align: right;\n",
       "    }\n",
       "</style>\n",
       "<table border=\"1\" class=\"dataframe\">\n",
       "  <thead>\n",
       "    <tr style=\"text-align: right;\">\n",
       "      <th>Sold_Weekly_Group</th>\n",
       "      <th>Less than 50</th>\n",
       "      <th>50+</th>\n",
       "      <th>100+</th>\n",
       "      <th>200+</th>\n",
       "      <th>300+</th>\n",
       "      <th>400+</th>\n",
       "      <th>500+</th>\n",
       "      <th>1000+</th>\n",
       "      <th>2000+</th>\n",
       "    </tr>\n",
       "    <tr>\n",
       "      <th>Origin</th>\n",
       "      <th></th>\n",
       "      <th></th>\n",
       "      <th></th>\n",
       "      <th></th>\n",
       "      <th></th>\n",
       "      <th></th>\n",
       "      <th></th>\n",
       "      <th></th>\n",
       "      <th></th>\n",
       "    </tr>\n",
       "  </thead>\n",
       "  <tbody>\n",
       "    <tr>\n",
       "      <th>Hong Kong</th>\n",
       "      <td>0</td>\n",
       "      <td>0</td>\n",
       "      <td>1</td>\n",
       "      <td>0</td>\n",
       "      <td>0</td>\n",
       "      <td>0</td>\n",
       "      <td>0</td>\n",
       "      <td>0</td>\n",
       "      <td>0</td>\n",
       "    </tr>\n",
       "    <tr>\n",
       "      <th>Japan</th>\n",
       "      <td>12</td>\n",
       "      <td>1</td>\n",
       "      <td>11</td>\n",
       "      <td>1</td>\n",
       "      <td>22</td>\n",
       "      <td>0</td>\n",
       "      <td>1</td>\n",
       "      <td>0</td>\n",
       "      <td>0</td>\n",
       "    </tr>\n",
       "    <tr>\n",
       "      <th>Korea</th>\n",
       "      <td>1</td>\n",
       "      <td>0</td>\n",
       "      <td>1</td>\n",
       "      <td>0</td>\n",
       "      <td>0</td>\n",
       "      <td>0</td>\n",
       "      <td>0</td>\n",
       "      <td>0</td>\n",
       "      <td>0</td>\n",
       "    </tr>\n",
       "    <tr>\n",
       "      <th>Macao</th>\n",
       "      <td>0</td>\n",
       "      <td>0</td>\n",
       "      <td>0</td>\n",
       "      <td>0</td>\n",
       "      <td>1</td>\n",
       "      <td>0</td>\n",
       "      <td>0</td>\n",
       "      <td>0</td>\n",
       "      <td>0</td>\n",
       "    </tr>\n",
       "    <tr>\n",
       "      <th>Mainland China</th>\n",
       "      <td>16</td>\n",
       "      <td>7</td>\n",
       "      <td>21</td>\n",
       "      <td>17</td>\n",
       "      <td>61</td>\n",
       "      <td>0</td>\n",
       "      <td>2</td>\n",
       "      <td>0</td>\n",
       "      <td>0</td>\n",
       "    </tr>\n",
       "    <tr>\n",
       "      <th>Philippines</th>\n",
       "      <td>0</td>\n",
       "      <td>1</td>\n",
       "      <td>2</td>\n",
       "      <td>1</td>\n",
       "      <td>0</td>\n",
       "      <td>0</td>\n",
       "      <td>0</td>\n",
       "      <td>0</td>\n",
       "      <td>0</td>\n",
       "    </tr>\n",
       "    <tr>\n",
       "      <th>Taiwan</th>\n",
       "      <td>39</td>\n",
       "      <td>8</td>\n",
       "      <td>30</td>\n",
       "      <td>5</td>\n",
       "      <td>109</td>\n",
       "      <td>2</td>\n",
       "      <td>4</td>\n",
       "      <td>0</td>\n",
       "      <td>0</td>\n",
       "    </tr>\n",
       "    <tr>\n",
       "      <th>Unclear</th>\n",
       "      <td>0</td>\n",
       "      <td>0</td>\n",
       "      <td>1</td>\n",
       "      <td>0</td>\n",
       "      <td>1</td>\n",
       "      <td>0</td>\n",
       "      <td>2</td>\n",
       "      <td>7</td>\n",
       "      <td>10</td>\n",
       "    </tr>\n",
       "    <tr>\n",
       "      <th>United States</th>\n",
       "      <td>8</td>\n",
       "      <td>5</td>\n",
       "      <td>2</td>\n",
       "      <td>1</td>\n",
       "      <td>8</td>\n",
       "      <td>0</td>\n",
       "      <td>2</td>\n",
       "      <td>0</td>\n",
       "      <td>0</td>\n",
       "    </tr>\n",
       "  </tbody>\n",
       "</table>\n",
       "</div>"
      ],
      "text/plain": [
       "Sold_Weekly_Group  Less than 50  50+  100+  200+  300+  400+  500+  1000+  \\\n",
       "Origin                                                                      \n",
       "Hong Kong                     0    0     1     0     0     0     0      0   \n",
       "Japan                        12    1    11     1    22     0     1      0   \n",
       "Korea                         1    0     1     0     0     0     0      0   \n",
       "Macao                         0    0     0     0     1     0     0      0   \n",
       "Mainland China               16    7    21    17    61     0     2      0   \n",
       "Philippines                   0    1     2     1     0     0     0      0   \n",
       "Taiwan                       39    8    30     5   109     2     4      0   \n",
       "Unclear                       0    0     1     0     1     0     2      7   \n",
       "United States                 8    5     2     1     8     0     2      0   \n",
       "\n",
       "Sold_Weekly_Group  2000+  \n",
       "Origin                    \n",
       "Hong Kong              0  \n",
       "Japan                  0  \n",
       "Korea                  0  \n",
       "Macao                  0  \n",
       "Mainland China         0  \n",
       "Philippines            0  \n",
       "Taiwan                 0  \n",
       "Unclear               10  \n",
       "United States          0  "
      ]
     },
     "execution_count": 51,
     "metadata": {},
     "output_type": "execute_result"
    },
    {
     "data": {
      "image/png": "[encoded data removed]",
      "text/plain": [
       "<Figure size 1080x360 with 1 Axes>"
      ]
     },
     "metadata": {
      "needs_background": "light"
     },
     "output_type": "display_data"
    }
   ],
   "source": [
    "# origin vs sold weekly group\n",
    "\n",
    "plt.rcParams['figure.figsize'] = (15, 5)\n",
    "# check the Origin percentage of Platform\n",
    "ax= plt.subplot(122)\n",
    "c2_c = pd.crosstab(  df.Origin, df.Sold_Weekly_Group)\n",
    "c2_c.div(c2_c .sum(1).astype(float), axis=0).plot(kind='bar', stacked=True, ax=ax)\n",
    "plt.title('Origin percentage by Sold_Weekly_Group')\n",
    "plt.legend(bbox_to_anchor=(-0.2, 1), loc='left', borderaxespad=0)\n",
    "plt.xlabel('Sold_Weekly_Group')\n",
    "plt.xticks(rotation=65)\n",
    "plt.ylabel('Percentage of Origin')\n",
    "\n",
    "c2_c"
   ]
  },
  {
   "cell_type": "markdown",
   "metadata": {},
   "source": [
    "## Price_Group Vs Origin"
   ]
  },
  {
   "cell_type": "code",
   "execution_count": 42,
   "metadata": {},
   "outputs": [
    {
     "data": {
      "text/html": [
       "<div>\n",
       "<style scoped>\n",
       "    .dataframe tbody tr th:only-of-type {\n",
       "        vertical-align: middle;\n",
       "    }\n",
       "\n",
       "    .dataframe tbody tr th {\n",
       "        vertical-align: top;\n",
       "    }\n",
       "\n",
       "    .dataframe thead th {\n",
       "        text-align: right;\n",
       "    }\n",
       "</style>\n",
       "<table border=\"1\" class=\"dataframe\">\n",
       "  <thead>\n",
       "    <tr style=\"text-align: right;\">\n",
       "      <th></th>\n",
       "      <th>Brand</th>\n",
       "      <th>Category</th>\n",
       "      <th>Origin</th>\n",
       "      <th>Platform</th>\n",
       "      <th>Price</th>\n",
       "      <th>Product_Name</th>\n",
       "      <th>Rate</th>\n",
       "      <th>Reviews</th>\n",
       "      <th>Sold_Monthly</th>\n",
       "      <th>Sold_Weekly</th>\n",
       "      <th>Weekly_Revenue</th>\n",
       "      <th>Sold_Weekly_Group</th>\n",
       "      <th>Price_Group</th>\n",
       "    </tr>\n",
       "  </thead>\n",
       "  <tbody>\n",
       "    <tr>\n",
       "      <th>0</th>\n",
       "      <td>formosa yay</td>\n",
       "      <td>Mochi</td>\n",
       "      <td>Taiwan</td>\n",
       "      <td>Yami</td>\n",
       "      <td>1.99</td>\n",
       "      <td>Mochi with Taro Filling 180g</td>\n",
       "      <td>4.4</td>\n",
       "      <td>128</td>\n",
       "      <td>1600</td>\n",
       "      <td>400</td>\n",
       "      <td>796.0</td>\n",
       "      <td>300+</td>\n",
       "      <td>Less than 2</td>\n",
       "    </tr>\n",
       "    <tr>\n",
       "      <th>1</th>\n",
       "      <td>formosa yay</td>\n",
       "      <td>Mochi</td>\n",
       "      <td>Taiwan</td>\n",
       "      <td>Yami</td>\n",
       "      <td>1.99</td>\n",
       "      <td>Mochi with Red Bean Filling 180g</td>\n",
       "      <td>4.3</td>\n",
       "      <td>122</td>\n",
       "      <td>1600</td>\n",
       "      <td>400</td>\n",
       "      <td>796.0</td>\n",
       "      <td>300+</td>\n",
       "      <td>Less than 2</td>\n",
       "    </tr>\n",
       "    <tr>\n",
       "      <th>2</th>\n",
       "      <td>royal family</td>\n",
       "      <td>Mochi</td>\n",
       "      <td>Taiwan</td>\n",
       "      <td>Yami</td>\n",
       "      <td>2.99</td>\n",
       "      <td>Mochi Strawberry Flavor 216g</td>\n",
       "      <td>3.7</td>\n",
       "      <td>74</td>\n",
       "      <td>1600</td>\n",
       "      <td>400</td>\n",
       "      <td>1196.0</td>\n",
       "      <td>300+</td>\n",
       "      <td>2+</td>\n",
       "    </tr>\n",
       "    <tr>\n",
       "      <th>3</th>\n",
       "      <td>yuki&amp;love</td>\n",
       "      <td>Mochi</td>\n",
       "      <td>Taiwan</td>\n",
       "      <td>Yami</td>\n",
       "      <td>2.29</td>\n",
       "      <td>YUKI/LOVE Japan Mochi Red Bean</td>\n",
       "      <td>4.1</td>\n",
       "      <td>45</td>\n",
       "      <td>1600</td>\n",
       "      <td>400</td>\n",
       "      <td>916.0</td>\n",
       "      <td>300+</td>\n",
       "      <td>2+</td>\n",
       "    </tr>\n",
       "    <tr>\n",
       "      <th>4</th>\n",
       "      <td>royal family</td>\n",
       "      <td>Mochi</td>\n",
       "      <td>Taiwan</td>\n",
       "      <td>Yami</td>\n",
       "      <td>2.99</td>\n",
       "      <td>Mochi Cantaloupe Flavor 216g</td>\n",
       "      <td>4</td>\n",
       "      <td>39</td>\n",
       "      <td>1600</td>\n",
       "      <td>400</td>\n",
       "      <td>1196.0</td>\n",
       "      <td>300+</td>\n",
       "      <td>2+</td>\n",
       "    </tr>\n",
       "  </tbody>\n",
       "</table>\n",
       "</div>"
      ],
      "text/plain": [
       "          Brand Category  Origin Platform  Price  \\\n",
       "0   formosa yay    Mochi  Taiwan     Yami   1.99   \n",
       "1   formosa yay    Mochi  Taiwan     Yami   1.99   \n",
       "2  royal family    Mochi  Taiwan     Yami   2.99   \n",
       "3     yuki&love    Mochi  Taiwan     Yami   2.29   \n",
       "4  royal family    Mochi  Taiwan     Yami   2.99   \n",
       "\n",
       "                       Product_Name Rate  Reviews  Sold_Monthly  Sold_Weekly  \\\n",
       "0      Mochi with Taro Filling 180g  4.4      128          1600          400   \n",
       "1  Mochi with Red Bean Filling 180g  4.3      122          1600          400   \n",
       "2      Mochi Strawberry Flavor 216g  3.7       74          1600          400   \n",
       "3   YUKI/LOVE Japan Mochi Red Bean   4.1       45          1600          400   \n",
       "4      Mochi Cantaloupe Flavor 216g    4       39          1600          400   \n",
       "\n",
       "   Weekly_Revenue Sold_Weekly_Group  Price_Group  \n",
       "0           796.0              300+  Less than 2  \n",
       "1           796.0              300+  Less than 2  \n",
       "2          1196.0              300+           2+  \n",
       "3           916.0              300+           2+  \n",
       "4          1196.0              300+           2+  "
      ]
     },
     "execution_count": 42,
     "metadata": {},
     "output_type": "execute_result"
    }
   ],
   "source": [
    "df['Price_Group'] = pd.cut(x = df['Price'], \n",
    "                                   bins = [0,2,4,6,8,10,12,14,16,10000],\n",
    "                                   labels = ['Less than 2','2+','4+','6+','8+','10+','12+','14+','16+'])\n",
    "df.head()"
   ]
  },
  {
   "cell_type": "code",
   "execution_count": 43,
   "metadata": {},
   "outputs": [
    {
     "data": {
      "text/plain": [
       "Text(0.5, 1.0, 'Price_Group vs. Origin')"
      ]
     },
     "execution_count": 43,
     "metadata": {},
     "output_type": "execute_result"
    },
    {
     "data": {
      "image/png": "[encoded data removed]",
      "text/plain": [
       "<Figure size 1440x432 with 1 Axes>"
      ]
     },
     "metadata": {
      "needs_background": "light"
     },
     "output_type": "display_data"
    }
   ],
   "source": [
    "# origin vs Price group\n",
    "\n",
    "plt.rcParams['figure.figsize'] = (20, 6)\n",
    "\n",
    "# compare the year with Origin with price group\n",
    "plt.subplot(121)\n",
    "sns.countplot(x='Origin',hue= 'Price_Group', data=df, palette = 'husl')\n",
    "plt.xticks(rotation=90)\n",
    "plt.legend(bbox_to_anchor=(-0.2, 0.5), loc='right', borderaxespad=0)\n",
    "plt.title('Price_Group vs. Origin')"
   ]
  },
  {
   "cell_type": "code",
   "execution_count": 53,
   "metadata": {
    "scrolled": false
   },
   "outputs": [
    {
     "name": "stderr",
     "output_type": "stream",
     "text": [
      "C:\\Users\\13750\\Anaconda3\\lib\\site-packages\\ipykernel_launcher.py:10: MatplotlibDeprecationWarning: Unrecognized location 'left'. Falling back on 'best'; valid locations are\n",
      "\tbest\n",
      "\tupper right\n",
      "\tupper left\n",
      "\tlower left\n",
      "\tlower right\n",
      "\tright\n",
      "\tcenter left\n",
      "\tcenter right\n",
      "\tlower center\n",
      "\tupper center\n",
      "\tcenter\n",
      "This will raise an exception in 3.3.\n",
      "  # Remove the CWD from sys.path while we load stuff.\n"
     ]
    },
    {
     "data": {
      "text/html": [
       "<div>\n",
       "<style scoped>\n",
       "    .dataframe tbody tr th:only-of-type {\n",
       "        vertical-align: middle;\n",
       "    }\n",
       "\n",
       "    .dataframe tbody tr th {\n",
       "        vertical-align: top;\n",
       "    }\n",
       "\n",
       "    .dataframe thead th {\n",
       "        text-align: right;\n",
       "    }\n",
       "</style>\n",
       "<table border=\"1\" class=\"dataframe\">\n",
       "  <thead>\n",
       "    <tr style=\"text-align: right;\">\n",
       "      <th>Origin</th>\n",
       "      <th>Hong Kong</th>\n",
       "      <th>Japan</th>\n",
       "      <th>Korea</th>\n",
       "      <th>Macao</th>\n",
       "      <th>Mainland China</th>\n",
       "      <th>Philippines</th>\n",
       "      <th>South Korea</th>\n",
       "      <th>Taiwan</th>\n",
       "      <th>Unclear</th>\n",
       "      <th>United States</th>\n",
       "    </tr>\n",
       "    <tr>\n",
       "      <th>Price_Group</th>\n",
       "      <th></th>\n",
       "      <th></th>\n",
       "      <th></th>\n",
       "      <th></th>\n",
       "      <th></th>\n",
       "      <th></th>\n",
       "      <th></th>\n",
       "      <th></th>\n",
       "      <th></th>\n",
       "      <th></th>\n",
       "    </tr>\n",
       "  </thead>\n",
       "  <tbody>\n",
       "    <tr>\n",
       "      <th>Less than 2</th>\n",
       "      <td>0</td>\n",
       "      <td>6</td>\n",
       "      <td>0</td>\n",
       "      <td>0</td>\n",
       "      <td>8</td>\n",
       "      <td>0</td>\n",
       "      <td>0</td>\n",
       "      <td>24</td>\n",
       "      <td>4</td>\n",
       "      <td>0</td>\n",
       "    </tr>\n",
       "    <tr>\n",
       "      <th>2+</th>\n",
       "      <td>1</td>\n",
       "      <td>19</td>\n",
       "      <td>0</td>\n",
       "      <td>0</td>\n",
       "      <td>27</td>\n",
       "      <td>6</td>\n",
       "      <td>0</td>\n",
       "      <td>82</td>\n",
       "      <td>8</td>\n",
       "      <td>1</td>\n",
       "    </tr>\n",
       "    <tr>\n",
       "      <th>4+</th>\n",
       "      <td>0</td>\n",
       "      <td>20</td>\n",
       "      <td>1</td>\n",
       "      <td>0</td>\n",
       "      <td>29</td>\n",
       "      <td>0</td>\n",
       "      <td>1</td>\n",
       "      <td>31</td>\n",
       "      <td>1</td>\n",
       "      <td>0</td>\n",
       "    </tr>\n",
       "    <tr>\n",
       "      <th>6+</th>\n",
       "      <td>0</td>\n",
       "      <td>2</td>\n",
       "      <td>1</td>\n",
       "      <td>1</td>\n",
       "      <td>15</td>\n",
       "      <td>0</td>\n",
       "      <td>0</td>\n",
       "      <td>14</td>\n",
       "      <td>1</td>\n",
       "      <td>5</td>\n",
       "    </tr>\n",
       "    <tr>\n",
       "      <th>8+</th>\n",
       "      <td>0</td>\n",
       "      <td>0</td>\n",
       "      <td>0</td>\n",
       "      <td>0</td>\n",
       "      <td>13</td>\n",
       "      <td>0</td>\n",
       "      <td>0</td>\n",
       "      <td>8</td>\n",
       "      <td>1</td>\n",
       "      <td>7</td>\n",
       "    </tr>\n",
       "    <tr>\n",
       "      <th>10+</th>\n",
       "      <td>0</td>\n",
       "      <td>1</td>\n",
       "      <td>0</td>\n",
       "      <td>0</td>\n",
       "      <td>1</td>\n",
       "      <td>0</td>\n",
       "      <td>0</td>\n",
       "      <td>6</td>\n",
       "      <td>3</td>\n",
       "      <td>2</td>\n",
       "    </tr>\n",
       "    <tr>\n",
       "      <th>12+</th>\n",
       "      <td>0</td>\n",
       "      <td>0</td>\n",
       "      <td>0</td>\n",
       "      <td>0</td>\n",
       "      <td>0</td>\n",
       "      <td>0</td>\n",
       "      <td>0</td>\n",
       "      <td>2</td>\n",
       "      <td>3</td>\n",
       "      <td>2</td>\n",
       "    </tr>\n",
       "    <tr>\n",
       "      <th>14+</th>\n",
       "      <td>0</td>\n",
       "      <td>0</td>\n",
       "      <td>0</td>\n",
       "      <td>0</td>\n",
       "      <td>0</td>\n",
       "      <td>0</td>\n",
       "      <td>0</td>\n",
       "      <td>3</td>\n",
       "      <td>0</td>\n",
       "      <td>6</td>\n",
       "    </tr>\n",
       "    <tr>\n",
       "      <th>16+</th>\n",
       "      <td>0</td>\n",
       "      <td>2</td>\n",
       "      <td>0</td>\n",
       "      <td>0</td>\n",
       "      <td>31</td>\n",
       "      <td>0</td>\n",
       "      <td>0</td>\n",
       "      <td>30</td>\n",
       "      <td>4</td>\n",
       "      <td>6</td>\n",
       "    </tr>\n",
       "  </tbody>\n",
       "</table>\n",
       "</div>"
      ],
      "text/plain": [
       "Origin       Hong Kong  Japan  Korea  Macao  Mainland China  Philippines  \\\n",
       "Price_Group                                                                \n",
       "Less than 2          0      6      0      0               8            0   \n",
       "2+                   1     19      0      0              27            6   \n",
       "4+                   0     20      1      0              29            0   \n",
       "6+                   0      2      1      1              15            0   \n",
       "8+                   0      0      0      0              13            0   \n",
       "10+                  0      1      0      0               1            0   \n",
       "12+                  0      0      0      0               0            0   \n",
       "14+                  0      0      0      0               0            0   \n",
       "16+                  0      2      0      0              31            0   \n",
       "\n",
       "Origin       South Korea  Taiwan  Unclear  United States  \n",
       "Price_Group                                               \n",
       "Less than 2            0      24        4              0  \n",
       "2+                     0      82        8              1  \n",
       "4+                     1      31        1              0  \n",
       "6+                     0      14        1              5  \n",
       "8+                     0       8        1              7  \n",
       "10+                    0       6        3              2  \n",
       "12+                    0       2        3              2  \n",
       "14+                    0       3        0              6  \n",
       "16+                    0      30        4              6  "
      ]
     },
     "execution_count": 53,
     "metadata": {},
     "output_type": "execute_result"
    },
    {
     "data": {
      "image/png": "[encoded data removed]",
      "text/plain": [
       "<Figure size 1080x360 with 1 Axes>"
      ]
     },
     "metadata": {
      "needs_background": "light"
     },
     "output_type": "display_data"
    }
   ],
   "source": [
    "# origin vs sold weekly group\n",
    "\n",
    "plt.rcParams['figure.figsize'] = (15, 5)\n",
    "\n",
    "# check the Origin percentage of Platform\n",
    "ax= plt.subplot(122)\n",
    "c2_c = pd.crosstab(df.Price_Group, df.Origin)\n",
    "c2_c.div(c2_c .sum(1).astype(float), axis=0).plot(kind='bar', stacked=True, ax=ax)\n",
    "plt.title('Origin percentage by Price_Group')\n",
    "plt.legend(bbox_to_anchor=(-0.2, 1), loc='left', borderaxespad=0)\n",
    "plt.xlabel('Price_Group')\n",
    "plt.xticks(rotation=0)\n",
    "plt.ylabel('Percentage of Origin')\n",
    "\n",
    "c2_c"
   ]
  },
  {
   "cell_type": "markdown",
   "metadata": {},
   "source": [
    "## Price_Group Vs Sold_Weekly_Group\n"
   ]
  },
  {
   "cell_type": "code",
   "execution_count": 45,
   "metadata": {
    "scrolled": false
   },
   "outputs": [
    {
     "name": "stderr",
     "output_type": "stream",
     "text": [
      "C:\\Users\\13750\\Anaconda3\\lib\\site-packages\\ipykernel_launcher.py:8: MatplotlibDeprecationWarning: Unrecognized location 'left'. Falling back on 'best'; valid locations are\n",
      "\tbest\n",
      "\tupper right\n",
      "\tupper left\n",
      "\tlower left\n",
      "\tlower right\n",
      "\tright\n",
      "\tcenter left\n",
      "\tcenter right\n",
      "\tlower center\n",
      "\tupper center\n",
      "\tcenter\n",
      "This will raise an exception in 3.3.\n",
      "  \n"
     ]
    },
    {
     "data": {
      "text/html": [
       "<div>\n",
       "<style scoped>\n",
       "    .dataframe tbody tr th:only-of-type {\n",
       "        vertical-align: middle;\n",
       "    }\n",
       "\n",
       "    .dataframe tbody tr th {\n",
       "        vertical-align: top;\n",
       "    }\n",
       "\n",
       "    .dataframe thead th {\n",
       "        text-align: right;\n",
       "    }\n",
       "</style>\n",
       "<table border=\"1\" class=\"dataframe\">\n",
       "  <thead>\n",
       "    <tr style=\"text-align: right;\">\n",
       "      <th>Sold_Weekly_Group</th>\n",
       "      <th>Less than 50</th>\n",
       "      <th>50+</th>\n",
       "      <th>100+</th>\n",
       "      <th>200+</th>\n",
       "      <th>300+</th>\n",
       "      <th>400+</th>\n",
       "      <th>500+</th>\n",
       "      <th>1000+</th>\n",
       "      <th>2000+</th>\n",
       "    </tr>\n",
       "    <tr>\n",
       "      <th>Price_Group</th>\n",
       "      <th></th>\n",
       "      <th></th>\n",
       "      <th></th>\n",
       "      <th></th>\n",
       "      <th></th>\n",
       "      <th></th>\n",
       "      <th></th>\n",
       "      <th></th>\n",
       "      <th></th>\n",
       "    </tr>\n",
       "  </thead>\n",
       "  <tbody>\n",
       "    <tr>\n",
       "      <th>Less than 2</th>\n",
       "      <td>4</td>\n",
       "      <td>0</td>\n",
       "      <td>15</td>\n",
       "      <td>5</td>\n",
       "      <td>13</td>\n",
       "      <td>0</td>\n",
       "      <td>1</td>\n",
       "      <td>1</td>\n",
       "      <td>3</td>\n",
       "    </tr>\n",
       "    <tr>\n",
       "      <th>2+</th>\n",
       "      <td>19</td>\n",
       "      <td>2</td>\n",
       "      <td>28</td>\n",
       "      <td>11</td>\n",
       "      <td>75</td>\n",
       "      <td>1</td>\n",
       "      <td>0</td>\n",
       "      <td>1</td>\n",
       "      <td>4</td>\n",
       "    </tr>\n",
       "    <tr>\n",
       "      <th>4+</th>\n",
       "      <td>12</td>\n",
       "      <td>1</td>\n",
       "      <td>13</td>\n",
       "      <td>1</td>\n",
       "      <td>46</td>\n",
       "      <td>1</td>\n",
       "      <td>5</td>\n",
       "      <td>0</td>\n",
       "      <td>1</td>\n",
       "    </tr>\n",
       "    <tr>\n",
       "      <th>6+</th>\n",
       "      <td>7</td>\n",
       "      <td>0</td>\n",
       "      <td>7</td>\n",
       "      <td>3</td>\n",
       "      <td>20</td>\n",
       "      <td>0</td>\n",
       "      <td>1</td>\n",
       "      <td>0</td>\n",
       "      <td>1</td>\n",
       "    </tr>\n",
       "    <tr>\n",
       "      <th>8+</th>\n",
       "      <td>14</td>\n",
       "      <td>3</td>\n",
       "      <td>1</td>\n",
       "      <td>3</td>\n",
       "      <td>6</td>\n",
       "      <td>0</td>\n",
       "      <td>0</td>\n",
       "      <td>1</td>\n",
       "      <td>0</td>\n",
       "    </tr>\n",
       "    <tr>\n",
       "      <th>10+</th>\n",
       "      <td>6</td>\n",
       "      <td>0</td>\n",
       "      <td>0</td>\n",
       "      <td>0</td>\n",
       "      <td>2</td>\n",
       "      <td>0</td>\n",
       "      <td>1</td>\n",
       "      <td>2</td>\n",
       "      <td>0</td>\n",
       "    </tr>\n",
       "    <tr>\n",
       "      <th>12+</th>\n",
       "      <td>0</td>\n",
       "      <td>1</td>\n",
       "      <td>2</td>\n",
       "      <td>0</td>\n",
       "      <td>1</td>\n",
       "      <td>0</td>\n",
       "      <td>0</td>\n",
       "      <td>1</td>\n",
       "      <td>1</td>\n",
       "    </tr>\n",
       "    <tr>\n",
       "      <th>14+</th>\n",
       "      <td>6</td>\n",
       "      <td>2</td>\n",
       "      <td>1</td>\n",
       "      <td>0</td>\n",
       "      <td>0</td>\n",
       "      <td>0</td>\n",
       "      <td>0</td>\n",
       "      <td>0</td>\n",
       "      <td>0</td>\n",
       "    </tr>\n",
       "    <tr>\n",
       "      <th>16+</th>\n",
       "      <td>8</td>\n",
       "      <td>13</td>\n",
       "      <td>2</td>\n",
       "      <td>2</td>\n",
       "      <td>39</td>\n",
       "      <td>0</td>\n",
       "      <td>3</td>\n",
       "      <td>1</td>\n",
       "      <td>0</td>\n",
       "    </tr>\n",
       "  </tbody>\n",
       "</table>\n",
       "</div>"
      ],
      "text/plain": [
       "Sold_Weekly_Group  Less than 50  50+  100+  200+  300+  400+  500+  1000+  \\\n",
       "Price_Group                                                                 \n",
       "Less than 2                   4    0    15     5    13     0     1      1   \n",
       "2+                           19    2    28    11    75     1     0      1   \n",
       "4+                           12    1    13     1    46     1     5      0   \n",
       "6+                            7    0     7     3    20     0     1      0   \n",
       "8+                           14    3     1     3     6     0     0      1   \n",
       "10+                           6    0     0     0     2     0     1      2   \n",
       "12+                           0    1     2     0     1     0     0      1   \n",
       "14+                           6    2     1     0     0     0     0      0   \n",
       "16+                           8   13     2     2    39     0     3      1   \n",
       "\n",
       "Sold_Weekly_Group  2000+  \n",
       "Price_Group               \n",
       "Less than 2            3  \n",
       "2+                     4  \n",
       "4+                     1  \n",
       "6+                     1  \n",
       "8+                     0  \n",
       "10+                    0  \n",
       "12+                    1  \n",
       "14+                    0  \n",
       "16+                    0  "
      ]
     },
     "execution_count": 45,
     "metadata": {},
     "output_type": "execute_result"
    },
    {
     "data": {
      "image/png": "[encoded data removed]",
      "text/plain": [
       "<Figure size 1440x360 with 1 Axes>"
      ]
     },
     "metadata": {
      "needs_background": "light"
     },
     "output_type": "display_data"
    }
   ],
   "source": [
    "plt.rcParams['figure.figsize'] = (20, 5)\n",
    "\n",
    "# check the Price_Group percentage of Sold_Weekly_Group\n",
    "ax= plt.subplot(122)\n",
    "c2_c = pd.crosstab(df.Price_Group, df.Sold_Weekly_Group)\n",
    "c2_c.div(c2_c .sum(1).astype(float), axis=0).plot(kind='bar', stacked=True, ax=ax)\n",
    "plt.title('Sold_Weekly_Group percentage by Price_Group')\n",
    "plt.legend(bbox_to_anchor=(-0.1, 1), loc='left', borderaxespad=0)\n",
    "plt.xlabel('Price_Group')\n",
    "plt.xticks(rotation=0)\n",
    "plt.ylabel('Percentage of Sold_Weekly_Group')\n",
    "\n",
    "c2_c"
   ]
  },
  {
   "cell_type": "code",
   "execution_count": 46,
   "metadata": {},
   "outputs": [
    {
     "data": {
      "text/plain": [
       "Text(0.5, 1.0, 'Price_Group vs. Sold_Weekly_Group')"
      ]
     },
     "execution_count": 46,
     "metadata": {},
     "output_type": "execute_result"
    },
    {
     "data": {
      "image/png": "[encoded data removed]",
      "text/plain": [
       "<Figure size 1440x288 with 1 Axes>"
      ]
     },
     "metadata": {
      "needs_background": "light"
     },
     "output_type": "display_data"
    }
   ],
   "source": [
    "# price group vs sold weekly group\n",
    "\n",
    "plt.rcParams['figure.figsize'] = (20, 4)\n",
    "\n",
    "# compare the year with price group with sold weekly group\n",
    "plt.subplot(121)\n",
    "sns.countplot(x='Price_Group',hue= 'Sold_Weekly_Group', data=df, palette = 'husl')\n",
    "plt.legend(bbox_to_anchor=(-0.2, 0.5), loc='right', borderaxespad=0)\n",
    "plt.title('Price_Group vs. Sold_Weekly_Group')"
   ]
  },
  {
   "cell_type": "code",
   "execution_count": 47,
   "metadata": {},
   "outputs": [],
   "source": [
    "df.to_csv(r'C:\\Users\\13750\\Desktop\\Empire Bazaar Group Corp\\US chinese product market\\SNACK MARKET\\Analysis Data\\Mochi\\mochi.csv', index = False)"
   ]
  },
  {
   "cell_type": "code",
   "execution_count": null,
   "metadata": {},
   "outputs": [],
   "source": []
  },
  {
   "cell_type": "code",
   "execution_count": null,
   "metadata": {},
   "outputs": [],
   "source": []
  },
  {
   "cell_type": "code",
   "execution_count": null,
   "metadata": {},
   "outputs": [],
   "source": []
  }
 ],
 "metadata": {
  "kernelspec": {
   "display_name": "Python 3",
   "language": "python",
   "name": "python3"
  },
  "language_info": {
   "codemirror_mode": {
    "name": "ipython",
    "version": 3
   },
   "file_extension": ".py",
   "mimetype": "text/x-python",
   "name": "python",
   "nbconvert_exporter": "python",
   "pygments_lexer": "ipython3",
   "version": "3.7.3"
  }
 },
 "nbformat": 4,
 "nbformat_minor": 2
}
