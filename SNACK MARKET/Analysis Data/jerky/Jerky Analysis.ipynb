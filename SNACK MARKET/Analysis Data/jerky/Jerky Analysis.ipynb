{
 "cells": [
  {
   "cell_type": "code",
   "execution_count": 2,
   "metadata": {},
   "outputs": [],
   "source": [
    "# Import libraries\n",
    "import requests\n",
    "from bs4 import BeautifulSoup\n",
    "import pandas as pd\n",
    "import requests\n",
    "import seaborn as sns #visualisation\n",
    "import matplotlib.pyplot as plt #visualisation\n",
    "%matplotlib inline \n",
    "sns.set(color_codes=True)"
   ]
  },
  {
   "cell_type": "code",
   "execution_count": 3,
   "metadata": {},
   "outputs": [
    {
     "data": {
      "text/html": [
       "<div>\n",
       "<style scoped>\n",
       "    .dataframe tbody tr th:only-of-type {\n",
       "        vertical-align: middle;\n",
       "    }\n",
       "\n",
       "    .dataframe tbody tr th {\n",
       "        vertical-align: top;\n",
       "    }\n",
       "\n",
       "    .dataframe thead th {\n",
       "        text-align: right;\n",
       "    }\n",
       "</style>\n",
       "<table border=\"1\" class=\"dataframe\">\n",
       "  <thead>\n",
       "    <tr style=\"text-align: right;\">\n",
       "      <th></th>\n",
       "      <th>Product_Name</th>\n",
       "      <th>Brand</th>\n",
       "      <th>Price</th>\n",
       "      <th>Reviews</th>\n",
       "      <th>Origin</th>\n",
       "      <th>Rate</th>\n",
       "      <th>Platform</th>\n",
       "      <th>Category</th>\n",
       "      <th>Sold_Weekly</th>\n",
       "      <th>Sold_Monthly</th>\n",
       "      <th>Weekly_Revenue</th>\n",
       "    </tr>\n",
       "  </thead>\n",
       "  <tbody>\n",
       "    <tr>\n",
       "      <th>0</th>\n",
       "      <td>Roasted Seaweed with Green Tea 12 Bags</td>\n",
       "      <td>nonghyup</td>\n",
       "      <td>5.69</td>\n",
       "      <td>51</td>\n",
       "      <td>Korea</td>\n",
       "      <td>4.7</td>\n",
       "      <td>Yami</td>\n",
       "      <td>Seaweed</td>\n",
       "      <td>400</td>\n",
       "      <td>1600</td>\n",
       "      <td>2276</td>\n",
       "    </tr>\n",
       "    <tr>\n",
       "      <th>1</th>\n",
       "      <td>Tempura Seaweed Musroom And Black Pepper</td>\n",
       "      <td>tao kae noi</td>\n",
       "      <td>1.99</td>\n",
       "      <td>0</td>\n",
       "      <td>Unclear</td>\n",
       "      <td>0.0</td>\n",
       "      <td>Yami</td>\n",
       "      <td>Seaweed</td>\n",
       "      <td>400</td>\n",
       "      <td>1600</td>\n",
       "      <td>796</td>\n",
       "    </tr>\n",
       "    <tr>\n",
       "      <th>2</th>\n",
       "      <td>Dried Mustard Seaweed 100g</td>\n",
       "      <td>kwangcheonkim</td>\n",
       "      <td>3.49</td>\n",
       "      <td>0</td>\n",
       "      <td>Unclear</td>\n",
       "      <td>0.0</td>\n",
       "      <td>Yami</td>\n",
       "      <td>Seaweed</td>\n",
       "      <td>400</td>\n",
       "      <td>1600</td>\n",
       "      <td>1396</td>\n",
       "    </tr>\n",
       "    <tr>\n",
       "      <th>3</th>\n",
       "      <td>Roasted &amp; Seasoned Seaweed 4g*12packs, 48g</td>\n",
       "      <td>shirakiku</td>\n",
       "      <td>4.99</td>\n",
       "      <td>57</td>\n",
       "      <td>United States</td>\n",
       "      <td>4.6</td>\n",
       "      <td>Yami</td>\n",
       "      <td>Seaweed</td>\n",
       "      <td>400</td>\n",
       "      <td>1600</td>\n",
       "      <td>1996</td>\n",
       "    </tr>\n",
       "    <tr>\n",
       "      <th>4</th>\n",
       "      <td>Roasted  Seasoned Seaweed 12packs 48g</td>\n",
       "      <td>kc</td>\n",
       "      <td>5.69</td>\n",
       "      <td>12</td>\n",
       "      <td>Korea</td>\n",
       "      <td>4.2</td>\n",
       "      <td>Yami</td>\n",
       "      <td>Seaweed</td>\n",
       "      <td>400</td>\n",
       "      <td>1600</td>\n",
       "      <td>2276</td>\n",
       "    </tr>\n",
       "  </tbody>\n",
       "</table>\n",
       "</div>"
      ],
      "text/plain": [
       "                                 Product_Name          Brand  Price  Reviews  \\\n",
       "0      Roasted Seaweed with Green Tea 12 Bags       nonghyup   5.69       51   \n",
       "1    Tempura Seaweed Musroom And Black Pepper    tao kae noi   1.99        0   \n",
       "2                  Dried Mustard Seaweed 100g  kwangcheonkim   3.49        0   \n",
       "3  Roasted & Seasoned Seaweed 4g*12packs, 48g      shirakiku   4.99       57   \n",
       "4       Roasted  Seasoned Seaweed 12packs 48g             kc   5.69       12   \n",
       "\n",
       "          Origin  Rate Platform Category  Sold_Weekly  Sold_Monthly  \\\n",
       "0          Korea   4.7     Yami  Seaweed          400          1600   \n",
       "1        Unclear   0.0     Yami  Seaweed          400          1600   \n",
       "2        Unclear   0.0     Yami  Seaweed          400          1600   \n",
       "3  United States   4.6     Yami  Seaweed          400          1600   \n",
       "4          Korea   4.2     Yami  Seaweed          400          1600   \n",
       "\n",
       "   Weekly_Revenue  \n",
       "0            2276  \n",
       "1             796  \n",
       "2            1396  \n",
       "3            1996  \n",
       "4            2276  "
      ]
     },
     "execution_count": 3,
     "metadata": {},
     "output_type": "execute_result"
    }
   ],
   "source": [
    "url1 = 'https://raw.githubusercontent.com/mandy941/Chinese-Product-in-US-Market/main/SNACK%20MARKET/Analysis%20Data/seaweed/Yami%20Seaweed.csv'\n",
    "url2 = 'https://raw.githubusercontent.com/mandy941/Chinese-Product-in-US-Market/main/SNACK%20MARKET/Analysis%20Data/seaweed/Seaweed%20-%20weee%20scraperData-ScrapeStorm.csv'\n",
    "url3 = 'https://raw.githubusercontent.com/mandy941/Chinese-Product-in-US-Market/main/SNACK%20MARKET/Analysis%20Data/seaweed/seasweed-freshgogoData-ScrapeStorm.csv'\n",
    "yami = pd.read_csv(url1, encoding='latin1')\n",
    "yami.head()"
   ]
  },
  {
   "cell_type": "code",
   "execution_count": 4,
   "metadata": {},
   "outputs": [
    {
     "data": {
      "text/html": [
       "<div>\n",
       "<style scoped>\n",
       "    .dataframe tbody tr th:only-of-type {\n",
       "        vertical-align: middle;\n",
       "    }\n",
       "\n",
       "    .dataframe tbody tr th {\n",
       "        vertical-align: top;\n",
       "    }\n",
       "\n",
       "    .dataframe thead th {\n",
       "        text-align: right;\n",
       "    }\n",
       "</style>\n",
       "<table border=\"1\" class=\"dataframe\">\n",
       "  <thead>\n",
       "    <tr style=\"text-align: right;\">\n",
       "      <th></th>\n",
       "      <th>Product_Name</th>\n",
       "      <th>Price</th>\n",
       "      <th>Sold_Weekly</th>\n",
       "      <th>Origin</th>\n",
       "      <th>Brand</th>\n",
       "      <th>Reviews</th>\n",
       "      <th>Rate</th>\n",
       "      <th>Platform</th>\n",
       "      <th>Category</th>\n",
       "      <th>Sold_Monthly</th>\n",
       "      <th>Weekly_Revenue</th>\n",
       "    </tr>\n",
       "  </thead>\n",
       "  <tbody>\n",
       "    <tr>\n",
       "      <th>0</th>\n",
       "      <td>Tae Kae Noi Super Crispy Tempura Seaweed, Spic...</td>\n",
       "      <td>2.39</td>\n",
       "      <td>1000</td>\n",
       "      <td>Thailand</td>\n",
       "      <td>NaN</td>\n",
       "      <td>41</td>\n",
       "      <td>Unclear</td>\n",
       "      <td>Weee</td>\n",
       "      <td>Seaweed</td>\n",
       "      <td>4000</td>\n",
       "      <td>2390</td>\n",
       "    </tr>\n",
       "    <tr>\n",
       "      <th>1</th>\n",
       "      <td>Tao Kae Noi Crispy Seaweed, Hot Spicy Flavor 32 g</td>\n",
       "      <td>2.49</td>\n",
       "      <td>1000</td>\n",
       "      <td>Thailand</td>\n",
       "      <td>NaN</td>\n",
       "      <td>39</td>\n",
       "      <td>Unclear</td>\n",
       "      <td>Weee</td>\n",
       "      <td>Seaweed</td>\n",
       "      <td>4000</td>\n",
       "      <td>2490</td>\n",
       "    </tr>\n",
       "    <tr>\n",
       "      <th>2</th>\n",
       "      <td>CJ Bibigo Original Seaweed Crisps with Brown R...</td>\n",
       "      <td>2.49</td>\n",
       "      <td>700</td>\n",
       "      <td>South Korea</td>\n",
       "      <td>Bibigo</td>\n",
       "      <td>68</td>\n",
       "      <td>Unclear</td>\n",
       "      <td>Weee</td>\n",
       "      <td>Seaweed</td>\n",
       "      <td>2800</td>\n",
       "      <td>1743</td>\n",
       "    </tr>\n",
       "    <tr>\n",
       "      <th>3</th>\n",
       "      <td>CJ Bibigo Roasted Seaweed Flakes  50 g</td>\n",
       "      <td>4.49</td>\n",
       "      <td>400</td>\n",
       "      <td>South Korea</td>\n",
       "      <td>CJ Foods</td>\n",
       "      <td>8</td>\n",
       "      <td>Unclear</td>\n",
       "      <td>Weee</td>\n",
       "      <td>Seaweed</td>\n",
       "      <td>1600</td>\n",
       "      <td>1796</td>\n",
       "    </tr>\n",
       "    <tr>\n",
       "      <th>4</th>\n",
       "      <td>Tao Kae Noi Grilled Bigroll Spicy 27 g</td>\n",
       "      <td>3.09</td>\n",
       "      <td>600</td>\n",
       "      <td>Thailand</td>\n",
       "      <td>TAO KAE NOI</td>\n",
       "      <td>14</td>\n",
       "      <td>Unclear</td>\n",
       "      <td>Weee</td>\n",
       "      <td>Seaweed</td>\n",
       "      <td>2400</td>\n",
       "      <td>1854</td>\n",
       "    </tr>\n",
       "  </tbody>\n",
       "</table>\n",
       "</div>"
      ],
      "text/plain": [
       "                                        Product_Name  Price  Sold_Weekly  \\\n",
       "0  Tae Kae Noi Super Crispy Tempura Seaweed, Spic...   2.39         1000   \n",
       "1  Tao Kae Noi Crispy Seaweed, Hot Spicy Flavor 32 g   2.49         1000   \n",
       "2  CJ Bibigo Original Seaweed Crisps with Brown R...   2.49          700   \n",
       "3             CJ Bibigo Roasted Seaweed Flakes  50 g   4.49          400   \n",
       "4             Tao Kae Noi Grilled Bigroll Spicy 27 g   3.09          600   \n",
       "\n",
       "        Origin        Brand  Reviews    Rate  Platform Category  Sold_Monthly  \\\n",
       "0     Thailand          NaN       41  Unclear     Weee  Seaweed          4000   \n",
       "1     Thailand          NaN       39  Unclear     Weee  Seaweed          4000   \n",
       "2  South Korea       Bibigo       68  Unclear     Weee  Seaweed          2800   \n",
       "3  South Korea     CJ Foods        8  Unclear     Weee  Seaweed          1600   \n",
       "4     Thailand  TAO KAE NOI       14  Unclear     Weee  Seaweed          2400   \n",
       "\n",
       "   Weekly_Revenue  \n",
       "0            2390  \n",
       "1            2490  \n",
       "2            1743  \n",
       "3            1796  \n",
       "4            1854  "
      ]
     },
     "execution_count": 4,
     "metadata": {},
     "output_type": "execute_result"
    }
   ],
   "source": [
    "weee = pd.read_csv(url2, encoding='latin1')\n",
    "weee.head()"
   ]
  },
  {
   "cell_type": "code",
   "execution_count": 6,
   "metadata": {},
   "outputs": [
    {
     "data": {
      "text/html": [
       "<div>\n",
       "<style scoped>\n",
       "    .dataframe tbody tr th:only-of-type {\n",
       "        vertical-align: middle;\n",
       "    }\n",
       "\n",
       "    .dataframe tbody tr th {\n",
       "        vertical-align: top;\n",
       "    }\n",
       "\n",
       "    .dataframe thead th {\n",
       "        text-align: right;\n",
       "    }\n",
       "</style>\n",
       "<table border=\"1\" class=\"dataframe\">\n",
       "  <thead>\n",
       "    <tr style=\"text-align: right;\">\n",
       "      <th></th>\n",
       "      <th>Price</th>\n",
       "      <th>Product_Name</th>\n",
       "      <th>Sold_Monthly</th>\n",
       "      <th>Reviews</th>\n",
       "      <th>Brand</th>\n",
       "      <th>Origin</th>\n",
       "      <th>Rate</th>\n",
       "      <th>Platform</th>\n",
       "      <th>Category</th>\n",
       "      <th>Sold_Weekly</th>\n",
       "      <th>Weekly_Revenue</th>\n",
       "    </tr>\n",
       "  </thead>\n",
       "  <tbody>\n",
       "    <tr>\n",
       "      <th>0</th>\n",
       "      <td>1.69</td>\n",
       "      <td>NATURE SOY Firm Tofu</td>\n",
       "      <td>19406</td>\n",
       "      <td>35</td>\n",
       "      <td>Unclear</td>\n",
       "      <td>Unclear</td>\n",
       "      <td>Unclear</td>\n",
       "      <td>Freshgogo</td>\n",
       "      <td>Seaweed</td>\n",
       "      <td>4852</td>\n",
       "      <td>32796</td>\n",
       "    </tr>\n",
       "    <tr>\n",
       "      <th>1</th>\n",
       "      <td>4.99</td>\n",
       "      <td>Chicken Drumstick</td>\n",
       "      <td>9704</td>\n",
       "      <td>52</td>\n",
       "      <td>Unclear</td>\n",
       "      <td>Unclear</td>\n",
       "      <td>Unclear</td>\n",
       "      <td>Freshgogo</td>\n",
       "      <td>Seaweed</td>\n",
       "      <td>2426</td>\n",
       "      <td>48423</td>\n",
       "    </tr>\n",
       "    <tr>\n",
       "      <th>2</th>\n",
       "      <td>4.29</td>\n",
       "      <td>ANJOY Glutinous Rice Ball (red bean)</td>\n",
       "      <td>9903</td>\n",
       "      <td>3</td>\n",
       "      <td>Unclear</td>\n",
       "      <td>Unclear</td>\n",
       "      <td>Unclear</td>\n",
       "      <td>Freshgogo</td>\n",
       "      <td>Seaweed</td>\n",
       "      <td>2476</td>\n",
       "      <td>42484</td>\n",
       "    </tr>\n",
       "    <tr>\n",
       "      <th>3</th>\n",
       "      <td>3.19</td>\n",
       "      <td>BIBIGO Beef Stock Soup</td>\n",
       "      <td>7909</td>\n",
       "      <td>1</td>\n",
       "      <td>Unclear</td>\n",
       "      <td>Unclear</td>\n",
       "      <td>Unclear</td>\n",
       "      <td>Freshgogo</td>\n",
       "      <td>Seaweed</td>\n",
       "      <td>1977</td>\n",
       "      <td>25230</td>\n",
       "    </tr>\n",
       "    <tr>\n",
       "      <th>4</th>\n",
       "      <td>9.05</td>\n",
       "      <td>Braised Chicken</td>\n",
       "      <td>7026</td>\n",
       "      <td>2</td>\n",
       "      <td>Unclear</td>\n",
       "      <td>Unclear</td>\n",
       "      <td>Unclear</td>\n",
       "      <td>Freshgogo</td>\n",
       "      <td>Seaweed</td>\n",
       "      <td>1757</td>\n",
       "      <td>63585</td>\n",
       "    </tr>\n",
       "  </tbody>\n",
       "</table>\n",
       "</div>"
      ],
      "text/plain": [
       "   Price                          Product_Name  Sold_Monthly  Reviews  \\\n",
       "0   1.69                  NATURE SOY Firm Tofu         19406       35   \n",
       "1   4.99                     Chicken Drumstick          9704       52   \n",
       "2   4.29  ANJOY Glutinous Rice Ball (red bean)          9903        3   \n",
       "3   3.19                BIBIGO Beef Stock Soup          7909        1   \n",
       "4   9.05                       Braised Chicken          7026        2   \n",
       "\n",
       "     Brand   Origin     Rate   Platform Category  Sold_Weekly  Weekly_Revenue  \n",
       "0  Unclear  Unclear  Unclear  Freshgogo  Seaweed         4852           32796  \n",
       "1  Unclear  Unclear  Unclear  Freshgogo  Seaweed         2426           48423  \n",
       "2  Unclear  Unclear  Unclear  Freshgogo  Seaweed         2476           42484  \n",
       "3  Unclear  Unclear  Unclear  Freshgogo  Seaweed         1977           25230  \n",
       "4  Unclear  Unclear  Unclear  Freshgogo  Seaweed         1757           63585  "
      ]
     },
     "execution_count": 6,
     "metadata": {},
     "output_type": "execute_result"
    }
   ],
   "source": [
    "freshgogo = pd.read_csv(url3)\n",
    "freshgogo.head()"
   ]
  },
  {
   "cell_type": "markdown",
   "metadata": {},
   "source": [
    "# Combine three tables together"
   ]
  },
  {
   "cell_type": "code",
   "execution_count": 7,
   "metadata": {},
   "outputs": [
    {
     "name": "stderr",
     "output_type": "stream",
     "text": [
      "C:\\Users\\13750\\Anaconda3\\lib\\site-packages\\ipykernel_launcher.py:1: FutureWarning: Sorting because non-concatenation axis is not aligned. A future version\n",
      "of pandas will change to not sort by default.\n",
      "\n",
      "To accept the future behavior, pass 'sort=False'.\n",
      "\n",
      "To retain the current behavior and silence the warning, pass 'sort=True'.\n",
      "\n",
      "  \"\"\"Entry point for launching an IPython kernel.\n"
     ]
    },
    {
     "data": {
      "text/html": [
       "<div>\n",
       "<style scoped>\n",
       "    .dataframe tbody tr th:only-of-type {\n",
       "        vertical-align: middle;\n",
       "    }\n",
       "\n",
       "    .dataframe tbody tr th {\n",
       "        vertical-align: top;\n",
       "    }\n",
       "\n",
       "    .dataframe thead th {\n",
       "        text-align: right;\n",
       "    }\n",
       "</style>\n",
       "<table border=\"1\" class=\"dataframe\">\n",
       "  <thead>\n",
       "    <tr style=\"text-align: right;\">\n",
       "      <th></th>\n",
       "      <th>Brand</th>\n",
       "      <th>Category</th>\n",
       "      <th>Origin</th>\n",
       "      <th>Platform</th>\n",
       "      <th>Price</th>\n",
       "      <th>Product_Name</th>\n",
       "      <th>Rate</th>\n",
       "      <th>Rate</th>\n",
       "      <th>Reviews</th>\n",
       "      <th>Sold_Monthly</th>\n",
       "      <th>Sold_Weekly</th>\n",
       "      <th>Weekly_Revenue</th>\n",
       "    </tr>\n",
       "  </thead>\n",
       "  <tbody>\n",
       "    <tr>\n",
       "      <th>0</th>\n",
       "      <td>nonghyup</td>\n",
       "      <td>Seaweed</td>\n",
       "      <td>Korea</td>\n",
       "      <td>Yami</td>\n",
       "      <td>5.69</td>\n",
       "      <td>Roasted Seaweed with Green Tea 12 Bags</td>\n",
       "      <td>4.7</td>\n",
       "      <td>NaN</td>\n",
       "      <td>51</td>\n",
       "      <td>1600</td>\n",
       "      <td>400</td>\n",
       "      <td>2276</td>\n",
       "    </tr>\n",
       "    <tr>\n",
       "      <th>1</th>\n",
       "      <td>tao kae noi</td>\n",
       "      <td>Seaweed</td>\n",
       "      <td>Unclear</td>\n",
       "      <td>Yami</td>\n",
       "      <td>1.99</td>\n",
       "      <td>Tempura Seaweed Musroom And Black Pepper</td>\n",
       "      <td>0</td>\n",
       "      <td>NaN</td>\n",
       "      <td>0</td>\n",
       "      <td>1600</td>\n",
       "      <td>400</td>\n",
       "      <td>796</td>\n",
       "    </tr>\n",
       "    <tr>\n",
       "      <th>2</th>\n",
       "      <td>kwangcheonkim</td>\n",
       "      <td>Seaweed</td>\n",
       "      <td>Unclear</td>\n",
       "      <td>Yami</td>\n",
       "      <td>3.49</td>\n",
       "      <td>Dried Mustard Seaweed 100g</td>\n",
       "      <td>0</td>\n",
       "      <td>NaN</td>\n",
       "      <td>0</td>\n",
       "      <td>1600</td>\n",
       "      <td>400</td>\n",
       "      <td>1396</td>\n",
       "    </tr>\n",
       "    <tr>\n",
       "      <th>3</th>\n",
       "      <td>shirakiku</td>\n",
       "      <td>Seaweed</td>\n",
       "      <td>United States</td>\n",
       "      <td>Yami</td>\n",
       "      <td>4.99</td>\n",
       "      <td>Roasted &amp; Seasoned Seaweed 4g*12packs, 48g</td>\n",
       "      <td>4.6</td>\n",
       "      <td>NaN</td>\n",
       "      <td>57</td>\n",
       "      <td>1600</td>\n",
       "      <td>400</td>\n",
       "      <td>1996</td>\n",
       "    </tr>\n",
       "    <tr>\n",
       "      <th>4</th>\n",
       "      <td>kc</td>\n",
       "      <td>Seaweed</td>\n",
       "      <td>Korea</td>\n",
       "      <td>Yami</td>\n",
       "      <td>5.69</td>\n",
       "      <td>Roasted  Seasoned Seaweed 12packs 48g</td>\n",
       "      <td>4.2</td>\n",
       "      <td>NaN</td>\n",
       "      <td>12</td>\n",
       "      <td>1600</td>\n",
       "      <td>400</td>\n",
       "      <td>2276</td>\n",
       "    </tr>\n",
       "  </tbody>\n",
       "</table>\n",
       "</div>"
      ],
      "text/plain": [
       "           Brand Category         Origin Platform  Price  \\\n",
       "0       nonghyup  Seaweed          Korea     Yami   5.69   \n",
       "1    tao kae noi  Seaweed        Unclear     Yami   1.99   \n",
       "2  kwangcheonkim  Seaweed        Unclear     Yami   3.49   \n",
       "3      shirakiku  Seaweed  United States     Yami   4.99   \n",
       "4             kc  Seaweed          Korea     Yami   5.69   \n",
       "\n",
       "                                 Product_Name Rate Rate   Reviews  \\\n",
       "0      Roasted Seaweed with Green Tea 12 Bags  4.7   NaN       51   \n",
       "1    Tempura Seaweed Musroom And Black Pepper    0   NaN        0   \n",
       "2                  Dried Mustard Seaweed 100g    0   NaN        0   \n",
       "3  Roasted & Seasoned Seaweed 4g*12packs, 48g  4.6   NaN       57   \n",
       "4       Roasted  Seasoned Seaweed 12packs 48g  4.2   NaN       12   \n",
       "\n",
       "   Sold_Monthly  Sold_Weekly  Weekly_Revenue  \n",
       "0          1600          400            2276  \n",
       "1          1600          400             796  \n",
       "2          1600          400            1396  \n",
       "3          1600          400            1996  \n",
       "4          1600          400            2276  "
      ]
     },
     "execution_count": 7,
     "metadata": {},
     "output_type": "execute_result"
    }
   ],
   "source": [
    "df = pd.concat([yami,weee,freshgogo])\n",
    "df.head()"
   ]
  },
  {
   "cell_type": "code",
   "execution_count": 8,
   "metadata": {},
   "outputs": [
    {
     "name": "stdout",
     "output_type": "stream",
     "text": [
      "(668, 12)\n",
      "['Brand', 'Category', 'Origin', 'Platform', 'Price', 'Product_Name', 'Rate', 'Rate ', 'Reviews', 'Sold_Monthly', 'Sold_Weekly', 'Weekly_Revenue']\n"
     ]
    }
   ],
   "source": [
    "print(df.shape)\n",
    "print(list(df.columns))"
   ]
  },
  {
   "cell_type": "markdown",
   "metadata": {},
   "source": [
    "# Analysis"
   ]
  },
  {
   "cell_type": "code",
   "execution_count": 9,
   "metadata": {},
   "outputs": [
    {
     "data": {
      "text/html": [
       "<div>\n",
       "<style scoped>\n",
       "    .dataframe tbody tr th:only-of-type {\n",
       "        vertical-align: middle;\n",
       "    }\n",
       "\n",
       "    .dataframe tbody tr th {\n",
       "        vertical-align: top;\n",
       "    }\n",
       "\n",
       "    .dataframe thead th {\n",
       "        text-align: right;\n",
       "    }\n",
       "</style>\n",
       "<table border=\"1\" class=\"dataframe\">\n",
       "  <thead>\n",
       "    <tr style=\"text-align: right;\">\n",
       "      <th></th>\n",
       "      <th>Price</th>\n",
       "      <th>Reviews</th>\n",
       "      <th>Sold_Monthly</th>\n",
       "      <th>Sold_Weekly</th>\n",
       "      <th>Weekly_Revenue</th>\n",
       "    </tr>\n",
       "  </thead>\n",
       "  <tbody>\n",
       "    <tr>\n",
       "      <th>count</th>\n",
       "      <td>668.000000</td>\n",
       "      <td>668.000000</td>\n",
       "      <td>668.000000</td>\n",
       "      <td>668.000000</td>\n",
       "      <td>668.000000</td>\n",
       "    </tr>\n",
       "    <tr>\n",
       "      <th>mean</th>\n",
       "      <td>6.417994</td>\n",
       "      <td>20.761976</td>\n",
       "      <td>1467.579341</td>\n",
       "      <td>366.898204</td>\n",
       "      <td>2689.603293</td>\n",
       "    </tr>\n",
       "    <tr>\n",
       "      <th>std</th>\n",
       "      <td>7.760078</td>\n",
       "      <td>43.665918</td>\n",
       "      <td>1541.307388</td>\n",
       "      <td>385.342849</td>\n",
       "      <td>6215.667634</td>\n",
       "    </tr>\n",
       "    <tr>\n",
       "      <th>min</th>\n",
       "      <td>0.190000</td>\n",
       "      <td>0.000000</td>\n",
       "      <td>0.000000</td>\n",
       "      <td>0.000000</td>\n",
       "      <td>0.000000</td>\n",
       "    </tr>\n",
       "    <tr>\n",
       "      <th>25%</th>\n",
       "      <td>2.890000</td>\n",
       "      <td>1.000000</td>\n",
       "      <td>800.000000</td>\n",
       "      <td>200.000000</td>\n",
       "      <td>796.000000</td>\n",
       "    </tr>\n",
       "    <tr>\n",
       "      <th>50%</th>\n",
       "      <td>4.490000</td>\n",
       "      <td>7.000000</td>\n",
       "      <td>1600.000000</td>\n",
       "      <td>400.000000</td>\n",
       "      <td>1396.000000</td>\n",
       "    </tr>\n",
       "    <tr>\n",
       "      <th>75%</th>\n",
       "      <td>7.515000</td>\n",
       "      <td>21.000000</td>\n",
       "      <td>1600.000000</td>\n",
       "      <td>400.000000</td>\n",
       "      <td>2396.000000</td>\n",
       "    </tr>\n",
       "    <tr>\n",
       "      <th>max</th>\n",
       "      <td>99.000000</td>\n",
       "      <td>416.000000</td>\n",
       "      <td>20925.000000</td>\n",
       "      <td>5231.000000</td>\n",
       "      <td>64998.000000</td>\n",
       "    </tr>\n",
       "  </tbody>\n",
       "</table>\n",
       "</div>"
      ],
      "text/plain": [
       "            Price     Reviews  Sold_Monthly  Sold_Weekly  Weekly_Revenue\n",
       "count  668.000000  668.000000    668.000000   668.000000      668.000000\n",
       "mean     6.417994   20.761976   1467.579341   366.898204     2689.603293\n",
       "std      7.760078   43.665918   1541.307388   385.342849     6215.667634\n",
       "min      0.190000    0.000000      0.000000     0.000000        0.000000\n",
       "25%      2.890000    1.000000    800.000000   200.000000      796.000000\n",
       "50%      4.490000    7.000000   1600.000000   400.000000     1396.000000\n",
       "75%      7.515000   21.000000   1600.000000   400.000000     2396.000000\n",
       "max     99.000000  416.000000  20925.000000  5231.000000    64998.000000"
      ]
     },
     "execution_count": 9,
     "metadata": {},
     "output_type": "execute_result"
    }
   ],
   "source": [
    "df.describe()"
   ]
  },
  {
   "cell_type": "code",
   "execution_count": 10,
   "metadata": {},
   "outputs": [
    {
     "data": {
      "text/plain": [
       "Price                4287.22\n",
       "Reviews             13869.00\n",
       "Sold_Monthly       980343.00\n",
       "Sold_Weekly        245088.00\n",
       "Weekly_Revenue    1796655.00\n",
       "dtype: float64"
      ]
     },
     "execution_count": 10,
     "metadata": {},
     "output_type": "execute_result"
    }
   ],
   "source": [
    "df.sum(axis = 0)"
   ]
  },
  {
   "cell_type": "code",
   "execution_count": 11,
   "metadata": {},
   "outputs": [],
   "source": [
    "df['Origin'] = df['Origin'].replace('ROYAL FAMILY','Unclear')"
   ]
  },
  {
   "cell_type": "markdown",
   "metadata": {},
   "source": [
    "# The Most Popular Origin (Highest Weekly Revenue /Num of Product)\n"
   ]
  },
  {
   "cell_type": "code",
   "execution_count": 12,
   "metadata": {},
   "outputs": [
    {
     "data": {
      "text/plain": [
       "Origin\n",
       "Canada              1\n",
       "Japan              31\n",
       "Korea              37\n",
       "Macao               1\n",
       "Mainland China    128\n",
       "Malaysia            2\n",
       "South Korea        29\n",
       "Taiwan             29\n",
       "Thailand           21\n",
       "Unclear           383\n",
       "United States       6\n",
       "Name: Product_Name, dtype: int64"
      ]
     },
     "execution_count": 12,
     "metadata": {},
     "output_type": "execute_result"
    }
   ],
   "source": [
    "origin = df.groupby(['Origin'])['Product_Name'].count()\n",
    "origin"
   ]
  },
  {
   "cell_type": "code",
   "execution_count": 13,
   "metadata": {},
   "outputs": [
    {
     "data": {
      "text/plain": [
       "Origin\n",
       "Canada            15996.000000\n",
       "Japan              2835.161290\n",
       "Korea              1471.513514\n",
       "Macao              3596.000000\n",
       "Mainland China     2037.171875\n",
       "Malaysia           6996.000000\n",
       "South Korea        1016.379310\n",
       "Taiwan             1590.172414\n",
       "Thailand           1240.571429\n",
       "Unclear            2998.420366\n",
       "United States     18323.333333\n",
       "dtype: float64"
      ]
     },
     "execution_count": 13,
     "metadata": {},
     "output_type": "execute_result"
    }
   ],
   "source": [
    "pop_origin = df.groupby(['Origin'])['Weekly_Revenue'].sum()/df.groupby(['Origin'])['Product_Name'].count()\n",
    "pop_origin"
   ]
  },
  {
   "cell_type": "code",
   "execution_count": 14,
   "metadata": {},
   "outputs": [
    {
     "data": {
      "text/plain": [
       "Origin\n",
       "United States     18323.333333\n",
       "Canada            15996.000000\n",
       "Malaysia           6996.000000\n",
       "Macao              3596.000000\n",
       "Unclear            2998.420366\n",
       "Japan              2835.161290\n",
       "Mainland China     2037.171875\n",
       "Taiwan             1590.172414\n",
       "Korea              1471.513514\n",
       "Thailand           1240.571429\n",
       "dtype: float64"
      ]
     },
     "execution_count": 14,
     "metadata": {},
     "output_type": "execute_result"
    }
   ],
   "source": [
    "pop_origin.sort_values(ascending=False).head(10)"
   ]
  },
  {
   "cell_type": "markdown",
   "metadata": {},
   "source": [
    "# The most popular brand by unit selling\n"
   ]
  },
  {
   "cell_type": "code",
   "execution_count": 15,
   "metadata": {},
   "outputs": [
    {
     "data": {
      "text/plain": [
       "Brand\n",
       "Bibigo         1171.0\n",
       "CJ              898.0\n",
       "CJ Foods       1796.0\n",
       "Chan Zui Ba       0.0\n",
       "Choripdong        0.0\n",
       "                ...  \n",
       "zhihaile       1516.0\n",
       "zhongwang      1412.0\n",
       "zhongxiang     1576.0\n",
       "zhuayudemao    1156.0\n",
       "zidi potato    1196.0\n",
       "Length: 233, dtype: float64"
      ]
     },
     "execution_count": 15,
     "metadata": {},
     "output_type": "execute_result"
    }
   ],
   "source": [
    "pop_brand = df.groupby(['Brand'])['Weekly_Revenue'].sum()/df.groupby(['Brand'])['Product_Name'].count()\n",
    "pop_brand"
   ]
  },
  {
   "cell_type": "code",
   "execution_count": 16,
   "metadata": {},
   "outputs": [
    {
     "data": {
      "text/plain": [
       "Brand\n",
       "Unclear               42084.363636\n",
       "nestlady              39600.000000\n",
       "xlseafood             15462.666667\n",
       "jack&king??s food     9805.250000\n",
       "president brand        8996.000000\n",
       "dtype: float64"
      ]
     },
     "execution_count": 16,
     "metadata": {},
     "output_type": "execute_result"
    }
   ],
   "source": [
    "pop_brand.sort_values(ascending=False).head(5)"
   ]
  },
  {
   "cell_type": "markdown",
   "metadata": {},
   "source": [
    "# The popular brand by revenue"
   ]
  },
  {
   "cell_type": "code",
   "execution_count": 17,
   "metadata": {},
   "outputs": [
    {
     "data": {
      "text/plain": [
       "Brand\n",
       "Bibigo         2342\n",
       "CJ              898\n",
       "CJ Foods       1796\n",
       "Chan Zui Ba       0\n",
       "Choripdong        0\n",
       "               ... \n",
       "zhihaile       3032\n",
       "zhongwang      7060\n",
       "zhongxiang     3152\n",
       "zhuayudemao    5780\n",
       "zidi potato    1196\n",
       "Name: Weekly_Revenue, Length: 233, dtype: int64"
      ]
     },
     "execution_count": 17,
     "metadata": {},
     "output_type": "execute_result"
    }
   ],
   "source": [
    "pop_brand2 = df.groupby(['Brand'])['Weekly_Revenue'].sum()\n",
    "pop_brand2"
   ]
  },
  {
   "cell_type": "code",
   "execution_count": 18,
   "metadata": {},
   "outputs": [
    {
     "data": {
      "text/plain": [
       "Brand\n",
       "Unclear                    462928\n",
       "taste of mainland china    141300\n",
       "xlseafood                  139164\n",
       "shirakiku                   46772\n",
       "donggang                    40014\n",
       "Name: Weekly_Revenue, dtype: int64"
      ]
     },
     "execution_count": 18,
     "metadata": {},
     "output_type": "execute_result"
    }
   ],
   "source": [
    "pop_brand2.sort_values(ascending=False).head(5)"
   ]
  },
  {
   "cell_type": "code",
   "execution_count": null,
   "metadata": {},
   "outputs": [],
   "source": []
  },
  {
   "cell_type": "markdown",
   "metadata": {},
   "source": [
    "# The Main Import Origin"
   ]
  },
  {
   "cell_type": "code",
   "execution_count": 19,
   "metadata": {},
   "outputs": [
    {
     "data": {
      "text/plain": [
       "Origin\n",
       "Canada              1\n",
       "Japan              31\n",
       "Korea              37\n",
       "Macao               1\n",
       "Mainland China    128\n",
       "Malaysia            2\n",
       "South Korea        29\n",
       "Taiwan             29\n",
       "Thailand           21\n",
       "Unclear           383\n",
       "United States       6\n",
       "Name: Product_Name, dtype: int64"
      ]
     },
     "execution_count": 19,
     "metadata": {},
     "output_type": "execute_result"
    }
   ],
   "source": [
    "main_origin = df.groupby(['Origin'])['Product_Name'].count()\n",
    "main_origin"
   ]
  },
  {
   "cell_type": "code",
   "execution_count": 20,
   "metadata": {},
   "outputs": [
    {
     "data": {
      "text/plain": [
       "Origin\n",
       "Unclear           383\n",
       "Mainland China    128\n",
       "Korea              37\n",
       "Japan              31\n",
       "Taiwan             29\n",
       "Name: Product_Name, dtype: int64"
      ]
     },
     "execution_count": 20,
     "metadata": {},
     "output_type": "execute_result"
    }
   ],
   "source": [
    "main_origin.sort_values(ascending=False).head(5)"
   ]
  },
  {
   "cell_type": "markdown",
   "metadata": {},
   "source": [
    "# The most value import Origin"
   ]
  },
  {
   "cell_type": "code",
   "execution_count": 21,
   "metadata": {},
   "outputs": [
    {
     "data": {
      "text/plain": [
       "Origin\n",
       "Canada              15996\n",
       "Japan               87890\n",
       "Korea               54446\n",
       "Macao                3596\n",
       "Mainland China     260758\n",
       "Malaysia            13992\n",
       "South Korea         29475\n",
       "Taiwan              46115\n",
       "Thailand            26052\n",
       "Unclear           1148395\n",
       "United States      109940\n",
       "Name: Weekly_Revenue, dtype: int64"
      ]
     },
     "execution_count": 21,
     "metadata": {},
     "output_type": "execute_result"
    }
   ],
   "source": [
    "value_origin = df.groupby(['Origin'])['Weekly_Revenue'].sum()\n",
    "value_origin"
   ]
  },
  {
   "cell_type": "code",
   "execution_count": 22,
   "metadata": {},
   "outputs": [
    {
     "data": {
      "text/plain": [
       "Origin\n",
       "Unclear           1148395\n",
       "Mainland China     260758\n",
       "United States      109940\n",
       "Japan               87890\n",
       "Korea               54446\n",
       "Name: Weekly_Revenue, dtype: int64"
      ]
     },
     "execution_count": 22,
     "metadata": {},
     "output_type": "execute_result"
    }
   ],
   "source": [
    "value_origin.sort_values(ascending=False).head(5)"
   ]
  },
  {
   "cell_type": "markdown",
   "metadata": {},
   "source": [
    "# platform offers choice - most\n"
   ]
  },
  {
   "cell_type": "code",
   "execution_count": 23,
   "metadata": {},
   "outputs": [
    {
     "data": {
      "text/plain": [
       "Platform\n",
       "Freshgogo     11\n",
       "Weee          44\n",
       "Yami         613\n",
       "Name: Product_Name, dtype: int64"
      ]
     },
     "execution_count": 23,
     "metadata": {},
     "output_type": "execute_result"
    }
   ],
   "source": [
    "choice = df.groupby(['Platform'])['Product_Name'].count()\n",
    "choice"
   ]
  },
  {
   "cell_type": "code",
   "execution_count": 24,
   "metadata": {},
   "outputs": [
    {
     "data": {
      "text/plain": [
       "Platform\n",
       "Freshgogo    42084.363636\n",
       "Weee          1079.636364\n",
       "Yami          2098.243067\n",
       "dtype: float64"
      ]
     },
     "execution_count": 24,
     "metadata": {},
     "output_type": "execute_result"
    }
   ],
   "source": [
    "value_choice =  df.groupby(['Platform'])['Weekly_Revenue'].sum()/df.groupby(['Platform'])['Product_Name'].count()\n",
    "value_choice"
   ]
  },
  {
   "cell_type": "markdown",
   "metadata": {},
   "source": [
    "## The Number of profuct by origin"
   ]
  },
  {
   "cell_type": "code",
   "execution_count": 25,
   "metadata": {},
   "outputs": [
    {
     "data": {
      "text/plain": [
       "<matplotlib.axes._subplots.AxesSubplot at 0x2469a804438>"
      ]
     },
     "execution_count": 25,
     "metadata": {},
     "output_type": "execute_result"
    },
    {
     "data": {
      "image/png": "[encoded data removed]",
      "text/plain": [
       "<Figure size 720x360 with 1 Axes>"
      ]
     },
     "metadata": {
      "needs_background": "light"
     },
     "output_type": "display_data"
    }
   ],
   "source": [
    "count_origin = df.groupby([df['Origin']])['Product_Name'].count()\n",
    "count_origin.plot(kind='barh',figsize=(10,5),legend=None, title=\"The Number of Products by Origin \")"
   ]
  },
  {
   "cell_type": "code",
   "execution_count": 26,
   "metadata": {},
   "outputs": [
    {
     "data": {
      "text/plain": [
       "<matplotlib.axes._subplots.AxesSubplot at 0x2469af8cc18>"
      ]
     },
     "execution_count": 26,
     "metadata": {},
     "output_type": "execute_result"
    },
    {
     "data": {
      "image/png": "[encoded data removed]",
      "text/plain": [
       "<Figure size 720x360 with 1 Axes>"
      ]
     },
     "metadata": {
      "needs_background": "light"
     },
     "output_type": "display_data"
    }
   ],
   "source": [
    "sum_revenue = df.groupby([df['Origin']])['Weekly_Revenue'].sum()\n",
    "sum_revenue.plot(kind='barh',figsize=(10,5),legend=None, title=\"The Weekly Revenue by Origin \")"
   ]
  },
  {
   "cell_type": "code",
   "execution_count": 27,
   "metadata": {},
   "outputs": [
    {
     "data": {
      "text/plain": [
       "Platform\n",
       "Freshgogo     11\n",
       "Weee          44\n",
       "Yami         613\n",
       "Name: Product_Name, dtype: int64"
      ]
     },
     "execution_count": 27,
     "metadata": {},
     "output_type": "execute_result"
    }
   ],
   "source": [
    "count_platform = df.groupby(['Platform'])['Product_Name'].count()\n",
    "count_platform"
   ]
  },
  {
   "cell_type": "code",
   "execution_count": 28,
   "metadata": {},
   "outputs": [
    {
     "data": {
      "text/plain": [
       "<matplotlib.axes._subplots.AxesSubplot at 0x2469af8ca20>"
      ]
     },
     "execution_count": 28,
     "metadata": {},
     "output_type": "execute_result"
    },
    {
     "data": {
      "image/png": "[encoded data removed]",
      "text/plain": [
       "<Figure size 720x360 with 1 Axes>"
      ]
     },
     "metadata": {
      "needs_background": "light"
     },
     "output_type": "display_data"
    }
   ],
   "source": [
    "platform = df.groupby([df['Platform']])['Brand'].count()\n",
    "platform.plot(kind='barh',figsize=(10,5),legend=None, title=\"The Number of Products by Platform \")"
   ]
  },
  {
   "cell_type": "code",
   "execution_count": 29,
   "metadata": {},
   "outputs": [
    {
     "data": {
      "text/plain": [
       "Text(0.5, 1.0, 'Figure 5: Correlations')"
      ]
     },
     "execution_count": 29,
     "metadata": {},
     "output_type": "execute_result"
    },
    {
     "data": {
      "image/png": "[encoded data removed]",
      "text/plain": [
       "<Figure size 576x360 with 2 Axes>"
      ]
     },
     "metadata": {
      "needs_background": "light"
     },
     "output_type": "display_data"
    }
   ],
   "source": [
    "# Finding the correlation bewteen the Features.\n",
    "plt.figure(figsize=(8,5))\n",
    "\n",
    "corr = df.corr()# plot the heatmap\n",
    "sns.heatmap(corr, xticklabels=corr.columns, yticklabels=corr.columns, \n",
    "            annot=True, cmap=sns.diverging_palette(220, 20, as_cmap=True))\n",
    "plt.title('Figure 5: Correlations')"
   ]
  },
  {
   "cell_type": "markdown",
   "metadata": {},
   "source": [
    "## Origin vs Platform\n"
   ]
  },
  {
   "cell_type": "code",
   "execution_count": 30,
   "metadata": {},
   "outputs": [
    {
     "data": {
      "text/plain": [
       "Text(0.5, 1.0, 'Platform vs. Origin')"
      ]
     },
     "execution_count": 30,
     "metadata": {},
     "output_type": "execute_result"
    },
    {
     "data": {
      "image/png": "[encoded data removed]",
      "text/plain": [
       "<Figure size 720x432 with 1 Axes>"
      ]
     },
     "metadata": {
      "needs_background": "light"
     },
     "output_type": "display_data"
    }
   ],
   "source": [
    "# Origin vs Platform\n",
    "\n",
    "plt.rcParams['figure.figsize'] = (10, 6)\n",
    "\n",
    "# compare the year with Origin with Platform\n",
    "plt.subplot(121)\n",
    "sns.countplot(x='Platform',hue= 'Origin', data=df, palette = 'husl')\n",
    "plt.legend(bbox_to_anchor=(-0.2, 0.5), loc='right', borderaxespad=0)\n",
    "plt.title('Platform vs. Origin')"
   ]
  },
  {
   "cell_type": "code",
   "execution_count": 31,
   "metadata": {},
   "outputs": [
    {
     "name": "stderr",
     "output_type": "stream",
     "text": [
      "C:\\Users\\13750\\Anaconda3\\lib\\site-packages\\ipykernel_launcher.py:7: MatplotlibDeprecationWarning: Unrecognized location 'left'. Falling back on 'best'; valid locations are\n",
      "\tbest\n",
      "\tupper right\n",
      "\tupper left\n",
      "\tlower left\n",
      "\tlower right\n",
      "\tright\n",
      "\tcenter left\n",
      "\tcenter right\n",
      "\tlower center\n",
      "\tupper center\n",
      "\tcenter\n",
      "This will raise an exception in 3.3.\n",
      "  import sys\n"
     ]
    },
    {
     "data": {
      "text/html": [
       "<div>\n",
       "<style scoped>\n",
       "    .dataframe tbody tr th:only-of-type {\n",
       "        vertical-align: middle;\n",
       "    }\n",
       "\n",
       "    .dataframe tbody tr th {\n",
       "        vertical-align: top;\n",
       "    }\n",
       "\n",
       "    .dataframe thead th {\n",
       "        text-align: right;\n",
       "    }\n",
       "</style>\n",
       "<table border=\"1\" class=\"dataframe\">\n",
       "  <thead>\n",
       "    <tr style=\"text-align: right;\">\n",
       "      <th>Platform</th>\n",
       "      <th>Freshgogo</th>\n",
       "      <th>Weee</th>\n",
       "      <th>Yami</th>\n",
       "    </tr>\n",
       "    <tr>\n",
       "      <th>Origin</th>\n",
       "      <th></th>\n",
       "      <th></th>\n",
       "      <th></th>\n",
       "    </tr>\n",
       "  </thead>\n",
       "  <tbody>\n",
       "    <tr>\n",
       "      <th>Canada</th>\n",
       "      <td>0</td>\n",
       "      <td>0</td>\n",
       "      <td>1</td>\n",
       "    </tr>\n",
       "    <tr>\n",
       "      <th>Japan</th>\n",
       "      <td>0</td>\n",
       "      <td>0</td>\n",
       "      <td>31</td>\n",
       "    </tr>\n",
       "    <tr>\n",
       "      <th>Korea</th>\n",
       "      <td>0</td>\n",
       "      <td>0</td>\n",
       "      <td>37</td>\n",
       "    </tr>\n",
       "    <tr>\n",
       "      <th>Macao</th>\n",
       "      <td>0</td>\n",
       "      <td>0</td>\n",
       "      <td>1</td>\n",
       "    </tr>\n",
       "    <tr>\n",
       "      <th>Mainland China</th>\n",
       "      <td>0</td>\n",
       "      <td>8</td>\n",
       "      <td>120</td>\n",
       "    </tr>\n",
       "    <tr>\n",
       "      <th>Malaysia</th>\n",
       "      <td>0</td>\n",
       "      <td>0</td>\n",
       "      <td>2</td>\n",
       "    </tr>\n",
       "    <tr>\n",
       "      <th>South Korea</th>\n",
       "      <td>0</td>\n",
       "      <td>29</td>\n",
       "      <td>0</td>\n",
       "    </tr>\n",
       "    <tr>\n",
       "      <th>Taiwan</th>\n",
       "      <td>0</td>\n",
       "      <td>2</td>\n",
       "      <td>27</td>\n",
       "    </tr>\n",
       "    <tr>\n",
       "      <th>Thailand</th>\n",
       "      <td>0</td>\n",
       "      <td>5</td>\n",
       "      <td>16</td>\n",
       "    </tr>\n",
       "    <tr>\n",
       "      <th>Unclear</th>\n",
       "      <td>11</td>\n",
       "      <td>0</td>\n",
       "      <td>372</td>\n",
       "    </tr>\n",
       "    <tr>\n",
       "      <th>United States</th>\n",
       "      <td>0</td>\n",
       "      <td>0</td>\n",
       "      <td>6</td>\n",
       "    </tr>\n",
       "  </tbody>\n",
       "</table>\n",
       "</div>"
      ],
      "text/plain": [
       "Platform        Freshgogo  Weee  Yami\n",
       "Origin                               \n",
       "Canada                  0     0     1\n",
       "Japan                   0     0    31\n",
       "Korea                   0     0    37\n",
       "Macao                   0     0     1\n",
       "Mainland China          0     8   120\n",
       "Malaysia                0     0     2\n",
       "South Korea             0    29     0\n",
       "Taiwan                  0     2    27\n",
       "Thailand                0     5    16\n",
       "Unclear                11     0   372\n",
       "United States           0     0     6"
      ]
     },
     "execution_count": 31,
     "metadata": {},
     "output_type": "execute_result"
    },
    {
     "data": {
      "image/png": "[encoded data removed]",
      "text/plain": [
       "<Figure size 576x360 with 1 Axes>"
      ]
     },
     "metadata": {
      "needs_background": "light"
     },
     "output_type": "display_data"
    }
   ],
   "source": [
    "# check the Origin percentage of Platform\n",
    "plt.rcParams['figure.figsize'] = (8, 5)\n",
    "ax= plt.subplot(122)\n",
    "c2_c = pd.crosstab(df.Origin, df.Platform)\n",
    "c2_c.div(c2_c .sum(1).astype(float), axis=0).plot(kind='bar', stacked=True, ax=ax)\n",
    "plt.title('Origin percentage by Platform')\n",
    "plt.legend(bbox_to_anchor=(-0.2, 1), loc='left', borderaxespad=0)\n",
    "plt.xlabel('Platform')\n",
    "plt.xticks(rotation=90)\n",
    "plt.ylabel('Percentage of Origin')\n",
    "\n",
    "c2_c"
   ]
  },
  {
   "cell_type": "markdown",
   "metadata": {},
   "source": [
    "## Origin Vs Sold_Weekly_Group"
   ]
  },
  {
   "cell_type": "code",
   "execution_count": 32,
   "metadata": {},
   "outputs": [
    {
     "data": {
      "text/html": [
       "<div>\n",
       "<style scoped>\n",
       "    .dataframe tbody tr th:only-of-type {\n",
       "        vertical-align: middle;\n",
       "    }\n",
       "\n",
       "    .dataframe tbody tr th {\n",
       "        vertical-align: top;\n",
       "    }\n",
       "\n",
       "    .dataframe thead th {\n",
       "        text-align: right;\n",
       "    }\n",
       "</style>\n",
       "<table border=\"1\" class=\"dataframe\">\n",
       "  <thead>\n",
       "    <tr style=\"text-align: right;\">\n",
       "      <th></th>\n",
       "      <th>Brand</th>\n",
       "      <th>Category</th>\n",
       "      <th>Origin</th>\n",
       "      <th>Platform</th>\n",
       "      <th>Price</th>\n",
       "      <th>Product_Name</th>\n",
       "      <th>Rate</th>\n",
       "      <th>Rate</th>\n",
       "      <th>Reviews</th>\n",
       "      <th>Sold_Monthly</th>\n",
       "      <th>Sold_Weekly</th>\n",
       "      <th>Weekly_Revenue</th>\n",
       "      <th>Sold_Weekly_Group</th>\n",
       "    </tr>\n",
       "  </thead>\n",
       "  <tbody>\n",
       "    <tr>\n",
       "      <th>0</th>\n",
       "      <td>nonghyup</td>\n",
       "      <td>Seaweed</td>\n",
       "      <td>Korea</td>\n",
       "      <td>Yami</td>\n",
       "      <td>5.69</td>\n",
       "      <td>Roasted Seaweed with Green Tea 12 Bags</td>\n",
       "      <td>4.7</td>\n",
       "      <td>NaN</td>\n",
       "      <td>51</td>\n",
       "      <td>1600</td>\n",
       "      <td>400</td>\n",
       "      <td>2276</td>\n",
       "      <td>300+</td>\n",
       "    </tr>\n",
       "    <tr>\n",
       "      <th>1</th>\n",
       "      <td>tao kae noi</td>\n",
       "      <td>Seaweed</td>\n",
       "      <td>Unclear</td>\n",
       "      <td>Yami</td>\n",
       "      <td>1.99</td>\n",
       "      <td>Tempura Seaweed Musroom And Black Pepper</td>\n",
       "      <td>0</td>\n",
       "      <td>NaN</td>\n",
       "      <td>0</td>\n",
       "      <td>1600</td>\n",
       "      <td>400</td>\n",
       "      <td>796</td>\n",
       "      <td>300+</td>\n",
       "    </tr>\n",
       "    <tr>\n",
       "      <th>2</th>\n",
       "      <td>kwangcheonkim</td>\n",
       "      <td>Seaweed</td>\n",
       "      <td>Unclear</td>\n",
       "      <td>Yami</td>\n",
       "      <td>3.49</td>\n",
       "      <td>Dried Mustard Seaweed 100g</td>\n",
       "      <td>0</td>\n",
       "      <td>NaN</td>\n",
       "      <td>0</td>\n",
       "      <td>1600</td>\n",
       "      <td>400</td>\n",
       "      <td>1396</td>\n",
       "      <td>300+</td>\n",
       "    </tr>\n",
       "    <tr>\n",
       "      <th>3</th>\n",
       "      <td>shirakiku</td>\n",
       "      <td>Seaweed</td>\n",
       "      <td>United States</td>\n",
       "      <td>Yami</td>\n",
       "      <td>4.99</td>\n",
       "      <td>Roasted &amp; Seasoned Seaweed 4g*12packs, 48g</td>\n",
       "      <td>4.6</td>\n",
       "      <td>NaN</td>\n",
       "      <td>57</td>\n",
       "      <td>1600</td>\n",
       "      <td>400</td>\n",
       "      <td>1996</td>\n",
       "      <td>300+</td>\n",
       "    </tr>\n",
       "    <tr>\n",
       "      <th>4</th>\n",
       "      <td>kc</td>\n",
       "      <td>Seaweed</td>\n",
       "      <td>Korea</td>\n",
       "      <td>Yami</td>\n",
       "      <td>5.69</td>\n",
       "      <td>Roasted  Seasoned Seaweed 12packs 48g</td>\n",
       "      <td>4.2</td>\n",
       "      <td>NaN</td>\n",
       "      <td>12</td>\n",
       "      <td>1600</td>\n",
       "      <td>400</td>\n",
       "      <td>2276</td>\n",
       "      <td>300+</td>\n",
       "    </tr>\n",
       "  </tbody>\n",
       "</table>\n",
       "</div>"
      ],
      "text/plain": [
       "           Brand Category         Origin Platform  Price  \\\n",
       "0       nonghyup  Seaweed          Korea     Yami   5.69   \n",
       "1    tao kae noi  Seaweed        Unclear     Yami   1.99   \n",
       "2  kwangcheonkim  Seaweed        Unclear     Yami   3.49   \n",
       "3      shirakiku  Seaweed  United States     Yami   4.99   \n",
       "4             kc  Seaweed          Korea     Yami   5.69   \n",
       "\n",
       "                                 Product_Name Rate Rate   Reviews  \\\n",
       "0      Roasted Seaweed with Green Tea 12 Bags  4.7   NaN       51   \n",
       "1    Tempura Seaweed Musroom And Black Pepper    0   NaN        0   \n",
       "2                  Dried Mustard Seaweed 100g    0   NaN        0   \n",
       "3  Roasted & Seasoned Seaweed 4g*12packs, 48g  4.6   NaN       57   \n",
       "4       Roasted  Seasoned Seaweed 12packs 48g  4.2   NaN       12   \n",
       "\n",
       "   Sold_Monthly  Sold_Weekly  Weekly_Revenue Sold_Weekly_Group  \n",
       "0          1600          400            2276              300+  \n",
       "1          1600          400             796              300+  \n",
       "2          1600          400            1396              300+  \n",
       "3          1600          400            1996              300+  \n",
       "4          1600          400            2276              300+  "
      ]
     },
     "execution_count": 32,
     "metadata": {},
     "output_type": "execute_result"
    }
   ],
   "source": [
    "df['Sold_Weekly_Group'] = pd.cut(x = df['Sold_Weekly'], \n",
    "                                   bins = [0,50,100,200,300,400,500,1000,2000,10000],\n",
    "                                   labels = ['Less than 50','50+','100+','200+','300+','400+','500+','1000+','2000+'])\n",
    "df.head()"
   ]
  },
  {
   "cell_type": "code",
   "execution_count": 47,
   "metadata": {},
   "outputs": [
    {
     "data": {
      "text/plain": [
       "Text(0.5, 1.0, 'Sold_Weekly_Group vs. Origin')"
      ]
     },
     "execution_count": 47,
     "metadata": {},
     "output_type": "execute_result"
    },
    {
     "data": {
      "image/png": "[encoded data removed]",
      "text/plain": [
       "<Figure size 1440x720 with 1 Axes>"
      ]
     },
     "metadata": {
      "needs_background": "light"
     },
     "output_type": "display_data"
    }
   ],
   "source": [
    "# origin vs sold weekly group\n",
    "\n",
    "plt.rcParams['figure.figsize'] = (20, 10)\n",
    "\n",
    "# compare the year with Origin with Platform\n",
    "plt.subplot(121)\n",
    "sns.countplot(x='Sold_Weekly_Group',hue= 'Origin', data=df, palette = 'husl')\n",
    "plt.legend(bbox_to_anchor=(-0.2, 0.5), loc='right', borderaxespad=0)\n",
    "plt.title('Sold_Weekly_Group vs. Origin')"
   ]
  },
  {
   "cell_type": "code",
   "execution_count": 49,
   "metadata": {
    "scrolled": false
   },
   "outputs": [
    {
     "name": "stderr",
     "output_type": "stream",
     "text": [
      "C:\\Users\\13750\\Anaconda3\\lib\\site-packages\\ipykernel_launcher.py:9: MatplotlibDeprecationWarning: Unrecognized location 'left'. Falling back on 'best'; valid locations are\n",
      "\tbest\n",
      "\tupper right\n",
      "\tupper left\n",
      "\tlower left\n",
      "\tlower right\n",
      "\tright\n",
      "\tcenter left\n",
      "\tcenter right\n",
      "\tlower center\n",
      "\tupper center\n",
      "\tcenter\n",
      "This will raise an exception in 3.3.\n",
      "  if __name__ == '__main__':\n"
     ]
    },
    {
     "data": {
      "text/html": [
       "<div>\n",
       "<style scoped>\n",
       "    .dataframe tbody tr th:only-of-type {\n",
       "        vertical-align: middle;\n",
       "    }\n",
       "\n",
       "    .dataframe tbody tr th {\n",
       "        vertical-align: top;\n",
       "    }\n",
       "\n",
       "    .dataframe thead th {\n",
       "        text-align: right;\n",
       "    }\n",
       "</style>\n",
       "<table border=\"1\" class=\"dataframe\">\n",
       "  <thead>\n",
       "    <tr style=\"text-align: right;\">\n",
       "      <th>Origin</th>\n",
       "      <th>Canada</th>\n",
       "      <th>Japan</th>\n",
       "      <th>Korea</th>\n",
       "      <th>Macao</th>\n",
       "      <th>Mainland China</th>\n",
       "      <th>Malaysia</th>\n",
       "      <th>South Korea</th>\n",
       "      <th>Taiwan</th>\n",
       "      <th>Thailand</th>\n",
       "      <th>Unclear</th>\n",
       "      <th>United States</th>\n",
       "    </tr>\n",
       "    <tr>\n",
       "      <th>Sold_Weekly_Group</th>\n",
       "      <th></th>\n",
       "      <th></th>\n",
       "      <th></th>\n",
       "      <th></th>\n",
       "      <th></th>\n",
       "      <th></th>\n",
       "      <th></th>\n",
       "      <th></th>\n",
       "      <th></th>\n",
       "      <th></th>\n",
       "      <th></th>\n",
       "    </tr>\n",
       "  </thead>\n",
       "  <tbody>\n",
       "    <tr>\n",
       "      <th>Less than 50</th>\n",
       "      <td>0</td>\n",
       "      <td>1</td>\n",
       "      <td>6</td>\n",
       "      <td>0</td>\n",
       "      <td>4</td>\n",
       "      <td>0</td>\n",
       "      <td>5</td>\n",
       "      <td>2</td>\n",
       "      <td>0</td>\n",
       "      <td>49</td>\n",
       "      <td>0</td>\n",
       "    </tr>\n",
       "    <tr>\n",
       "      <th>50+</th>\n",
       "      <td>0</td>\n",
       "      <td>0</td>\n",
       "      <td>0</td>\n",
       "      <td>0</td>\n",
       "      <td>4</td>\n",
       "      <td>0</td>\n",
       "      <td>3</td>\n",
       "      <td>1</td>\n",
       "      <td>0</td>\n",
       "      <td>1</td>\n",
       "      <td>0</td>\n",
       "    </tr>\n",
       "    <tr>\n",
       "      <th>100+</th>\n",
       "      <td>0</td>\n",
       "      <td>5</td>\n",
       "      <td>5</td>\n",
       "      <td>0</td>\n",
       "      <td>28</td>\n",
       "      <td>0</td>\n",
       "      <td>4</td>\n",
       "      <td>3</td>\n",
       "      <td>1</td>\n",
       "      <td>43</td>\n",
       "      <td>0</td>\n",
       "    </tr>\n",
       "    <tr>\n",
       "      <th>200+</th>\n",
       "      <td>0</td>\n",
       "      <td>0</td>\n",
       "      <td>0</td>\n",
       "      <td>0</td>\n",
       "      <td>3</td>\n",
       "      <td>0</td>\n",
       "      <td>0</td>\n",
       "      <td>0</td>\n",
       "      <td>0</td>\n",
       "      <td>7</td>\n",
       "      <td>0</td>\n",
       "    </tr>\n",
       "    <tr>\n",
       "      <th>300+</th>\n",
       "      <td>1</td>\n",
       "      <td>25</td>\n",
       "      <td>26</td>\n",
       "      <td>1</td>\n",
       "      <td>83</td>\n",
       "      <td>2</td>\n",
       "      <td>1</td>\n",
       "      <td>22</td>\n",
       "      <td>15</td>\n",
       "      <td>273</td>\n",
       "      <td>6</td>\n",
       "    </tr>\n",
       "    <tr>\n",
       "      <th>400+</th>\n",
       "      <td>0</td>\n",
       "      <td>0</td>\n",
       "      <td>0</td>\n",
       "      <td>0</td>\n",
       "      <td>1</td>\n",
       "      <td>0</td>\n",
       "      <td>1</td>\n",
       "      <td>0</td>\n",
       "      <td>0</td>\n",
       "      <td>0</td>\n",
       "      <td>0</td>\n",
       "    </tr>\n",
       "    <tr>\n",
       "      <th>500+</th>\n",
       "      <td>0</td>\n",
       "      <td>0</td>\n",
       "      <td>0</td>\n",
       "      <td>0</td>\n",
       "      <td>2</td>\n",
       "      <td>0</td>\n",
       "      <td>3</td>\n",
       "      <td>0</td>\n",
       "      <td>5</td>\n",
       "      <td>0</td>\n",
       "      <td>0</td>\n",
       "    </tr>\n",
       "    <tr>\n",
       "      <th>1000+</th>\n",
       "      <td>0</td>\n",
       "      <td>0</td>\n",
       "      <td>0</td>\n",
       "      <td>0</td>\n",
       "      <td>0</td>\n",
       "      <td>0</td>\n",
       "      <td>0</td>\n",
       "      <td>0</td>\n",
       "      <td>0</td>\n",
       "      <td>3</td>\n",
       "      <td>0</td>\n",
       "    </tr>\n",
       "    <tr>\n",
       "      <th>2000+</th>\n",
       "      <td>0</td>\n",
       "      <td>0</td>\n",
       "      <td>0</td>\n",
       "      <td>0</td>\n",
       "      <td>0</td>\n",
       "      <td>0</td>\n",
       "      <td>0</td>\n",
       "      <td>0</td>\n",
       "      <td>0</td>\n",
       "      <td>7</td>\n",
       "      <td>0</td>\n",
       "    </tr>\n",
       "  </tbody>\n",
       "</table>\n",
       "</div>"
      ],
      "text/plain": [
       "Origin             Canada  Japan  Korea  Macao  Mainland China  Malaysia  \\\n",
       "Sold_Weekly_Group                                                          \n",
       "Less than 50            0      1      6      0               4         0   \n",
       "50+                     0      0      0      0               4         0   \n",
       "100+                    0      5      5      0              28         0   \n",
       "200+                    0      0      0      0               3         0   \n",
       "300+                    1     25     26      1              83         2   \n",
       "400+                    0      0      0      0               1         0   \n",
       "500+                    0      0      0      0               2         0   \n",
       "1000+                   0      0      0      0               0         0   \n",
       "2000+                   0      0      0      0               0         0   \n",
       "\n",
       "Origin             South Korea  Taiwan  Thailand  Unclear  United States  \n",
       "Sold_Weekly_Group                                                         \n",
       "Less than 50                 5       2         0       49              0  \n",
       "50+                          3       1         0        1              0  \n",
       "100+                         4       3         1       43              0  \n",
       "200+                         0       0         0        7              0  \n",
       "300+                         1      22        15      273              6  \n",
       "400+                         1       0         0        0              0  \n",
       "500+                         3       0         5        0              0  \n",
       "1000+                        0       0         0        3              0  \n",
       "2000+                        0       0         0        7              0  "
      ]
     },
     "execution_count": 49,
     "metadata": {},
     "output_type": "execute_result"
    },
    {
     "data": {
      "image/png": "[encoded data removed]",
      "text/plain": [
       "<Figure size 1080x504 with 1 Axes>"
      ]
     },
     "metadata": {
      "needs_background": "light"
     },
     "output_type": "display_data"
    }
   ],
   "source": [
    "# origin vs sold weekly group\n",
    "\n",
    "plt.rcParams['figure.figsize'] = (15, 7)\n",
    "# check the Origin percentage of Platform\n",
    "ax= plt.subplot(122)\n",
    "c2_c = pd.crosstab( df.Sold_Weekly_Group, df.Origin)\n",
    "c2_c.div(c2_c .sum(1).astype(float), axis=0).plot(kind='bar', stacked=True, ax=ax)\n",
    "plt.title('Origin percentage by Sold_Weekly_Group')\n",
    "plt.legend(bbox_to_anchor=(-0.2, 1), loc='left', borderaxespad=0)\n",
    "plt.xlabel('Sold_Weekly_Group')\n",
    "plt.xticks(rotation=0)\n",
    "plt.ylabel('Percentage of Origin')\n",
    "\n",
    "c2_c"
   ]
  },
  {
   "cell_type": "markdown",
   "metadata": {},
   "source": [
    "## Price_Group Vs Origin"
   ]
  },
  {
   "cell_type": "code",
   "execution_count": 35,
   "metadata": {},
   "outputs": [
    {
     "data": {
      "text/html": [
       "<div>\n",
       "<style scoped>\n",
       "    .dataframe tbody tr th:only-of-type {\n",
       "        vertical-align: middle;\n",
       "    }\n",
       "\n",
       "    .dataframe tbody tr th {\n",
       "        vertical-align: top;\n",
       "    }\n",
       "\n",
       "    .dataframe thead th {\n",
       "        text-align: right;\n",
       "    }\n",
       "</style>\n",
       "<table border=\"1\" class=\"dataframe\">\n",
       "  <thead>\n",
       "    <tr style=\"text-align: right;\">\n",
       "      <th></th>\n",
       "      <th>Brand</th>\n",
       "      <th>Category</th>\n",
       "      <th>Origin</th>\n",
       "      <th>Platform</th>\n",
       "      <th>Price</th>\n",
       "      <th>Product_Name</th>\n",
       "      <th>Rate</th>\n",
       "      <th>Rate</th>\n",
       "      <th>Reviews</th>\n",
       "      <th>Sold_Monthly</th>\n",
       "      <th>Sold_Weekly</th>\n",
       "      <th>Weekly_Revenue</th>\n",
       "      <th>Sold_Weekly_Group</th>\n",
       "      <th>Price_Group</th>\n",
       "    </tr>\n",
       "  </thead>\n",
       "  <tbody>\n",
       "    <tr>\n",
       "      <th>0</th>\n",
       "      <td>nonghyup</td>\n",
       "      <td>Seaweed</td>\n",
       "      <td>Korea</td>\n",
       "      <td>Yami</td>\n",
       "      <td>5.69</td>\n",
       "      <td>Roasted Seaweed with Green Tea 12 Bags</td>\n",
       "      <td>4.7</td>\n",
       "      <td>NaN</td>\n",
       "      <td>51</td>\n",
       "      <td>1600</td>\n",
       "      <td>400</td>\n",
       "      <td>2276</td>\n",
       "      <td>300+</td>\n",
       "      <td>4+</td>\n",
       "    </tr>\n",
       "    <tr>\n",
       "      <th>1</th>\n",
       "      <td>tao kae noi</td>\n",
       "      <td>Seaweed</td>\n",
       "      <td>Unclear</td>\n",
       "      <td>Yami</td>\n",
       "      <td>1.99</td>\n",
       "      <td>Tempura Seaweed Musroom And Black Pepper</td>\n",
       "      <td>0</td>\n",
       "      <td>NaN</td>\n",
       "      <td>0</td>\n",
       "      <td>1600</td>\n",
       "      <td>400</td>\n",
       "      <td>796</td>\n",
       "      <td>300+</td>\n",
       "      <td>Less than 2</td>\n",
       "    </tr>\n",
       "    <tr>\n",
       "      <th>2</th>\n",
       "      <td>kwangcheonkim</td>\n",
       "      <td>Seaweed</td>\n",
       "      <td>Unclear</td>\n",
       "      <td>Yami</td>\n",
       "      <td>3.49</td>\n",
       "      <td>Dried Mustard Seaweed 100g</td>\n",
       "      <td>0</td>\n",
       "      <td>NaN</td>\n",
       "      <td>0</td>\n",
       "      <td>1600</td>\n",
       "      <td>400</td>\n",
       "      <td>1396</td>\n",
       "      <td>300+</td>\n",
       "      <td>2+</td>\n",
       "    </tr>\n",
       "    <tr>\n",
       "      <th>3</th>\n",
       "      <td>shirakiku</td>\n",
       "      <td>Seaweed</td>\n",
       "      <td>United States</td>\n",
       "      <td>Yami</td>\n",
       "      <td>4.99</td>\n",
       "      <td>Roasted &amp; Seasoned Seaweed 4g*12packs, 48g</td>\n",
       "      <td>4.6</td>\n",
       "      <td>NaN</td>\n",
       "      <td>57</td>\n",
       "      <td>1600</td>\n",
       "      <td>400</td>\n",
       "      <td>1996</td>\n",
       "      <td>300+</td>\n",
       "      <td>4+</td>\n",
       "    </tr>\n",
       "    <tr>\n",
       "      <th>4</th>\n",
       "      <td>kc</td>\n",
       "      <td>Seaweed</td>\n",
       "      <td>Korea</td>\n",
       "      <td>Yami</td>\n",
       "      <td>5.69</td>\n",
       "      <td>Roasted  Seasoned Seaweed 12packs 48g</td>\n",
       "      <td>4.2</td>\n",
       "      <td>NaN</td>\n",
       "      <td>12</td>\n",
       "      <td>1600</td>\n",
       "      <td>400</td>\n",
       "      <td>2276</td>\n",
       "      <td>300+</td>\n",
       "      <td>4+</td>\n",
       "    </tr>\n",
       "  </tbody>\n",
       "</table>\n",
       "</div>"
      ],
      "text/plain": [
       "           Brand Category         Origin Platform  Price  \\\n",
       "0       nonghyup  Seaweed          Korea     Yami   5.69   \n",
       "1    tao kae noi  Seaweed        Unclear     Yami   1.99   \n",
       "2  kwangcheonkim  Seaweed        Unclear     Yami   3.49   \n",
       "3      shirakiku  Seaweed  United States     Yami   4.99   \n",
       "4             kc  Seaweed          Korea     Yami   5.69   \n",
       "\n",
       "                                 Product_Name Rate Rate   Reviews  \\\n",
       "0      Roasted Seaweed with Green Tea 12 Bags  4.7   NaN       51   \n",
       "1    Tempura Seaweed Musroom And Black Pepper    0   NaN        0   \n",
       "2                  Dried Mustard Seaweed 100g    0   NaN        0   \n",
       "3  Roasted & Seasoned Seaweed 4g*12packs, 48g  4.6   NaN       57   \n",
       "4       Roasted  Seasoned Seaweed 12packs 48g  4.2   NaN       12   \n",
       "\n",
       "   Sold_Monthly  Sold_Weekly  Weekly_Revenue Sold_Weekly_Group  Price_Group  \n",
       "0          1600          400            2276              300+           4+  \n",
       "1          1600          400             796              300+  Less than 2  \n",
       "2          1600          400            1396              300+           2+  \n",
       "3          1600          400            1996              300+           4+  \n",
       "4          1600          400            2276              300+           4+  "
      ]
     },
     "execution_count": 35,
     "metadata": {},
     "output_type": "execute_result"
    }
   ],
   "source": [
    "df['Price_Group'] = pd.cut(x = df['Price'], \n",
    "                                   bins = [0,2,4,6,8,10,12,14,16,10000],\n",
    "                                   labels = ['Less than 2','2+','4+','6+','8+','10+','12+','14+','16+'])\n",
    "df.head()"
   ]
  },
  {
   "cell_type": "code",
   "execution_count": 36,
   "metadata": {},
   "outputs": [
    {
     "data": {
      "text/plain": [
       "Text(0.5, 1.0, 'Price_Group vs. Origin')"
      ]
     },
     "execution_count": 36,
     "metadata": {},
     "output_type": "execute_result"
    },
    {
     "data": {
      "image/png": "[encoded data removed]",
      "text/plain": [
       "<Figure size 1440x432 with 1 Axes>"
      ]
     },
     "metadata": {
      "needs_background": "light"
     },
     "output_type": "display_data"
    }
   ],
   "source": [
    "# origin vs Price group\n",
    "\n",
    "plt.rcParams['figure.figsize'] = (20, 6)\n",
    "\n",
    "# compare the year with Origin with price group\n",
    "plt.subplot(121)\n",
    "sns.countplot(x='Origin',hue= 'Price_Group', data=df, palette = 'husl')\n",
    "plt.xticks(rotation=90)\n",
    "plt.legend(bbox_to_anchor=(-0.2, 0.5), loc='right', borderaxespad=0)\n",
    "plt.title('Price_Group vs. Origin')"
   ]
  },
  {
   "cell_type": "code",
   "execution_count": 54,
   "metadata": {
    "scrolled": false
   },
   "outputs": [
    {
     "name": "stderr",
     "output_type": "stream",
     "text": [
      "C:\\Users\\13750\\Anaconda3\\lib\\site-packages\\ipykernel_launcher.py:10: MatplotlibDeprecationWarning: Unrecognized location 'left'. Falling back on 'best'; valid locations are\n",
      "\tbest\n",
      "\tupper right\n",
      "\tupper left\n",
      "\tlower left\n",
      "\tlower right\n",
      "\tright\n",
      "\tcenter left\n",
      "\tcenter right\n",
      "\tlower center\n",
      "\tupper center\n",
      "\tcenter\n",
      "This will raise an exception in 3.3.\n",
      "  # Remove the CWD from sys.path while we load stuff.\n"
     ]
    },
    {
     "data": {
      "text/html": [
       "<div>\n",
       "<style scoped>\n",
       "    .dataframe tbody tr th:only-of-type {\n",
       "        vertical-align: middle;\n",
       "    }\n",
       "\n",
       "    .dataframe tbody tr th {\n",
       "        vertical-align: top;\n",
       "    }\n",
       "\n",
       "    .dataframe thead th {\n",
       "        text-align: right;\n",
       "    }\n",
       "</style>\n",
       "<table border=\"1\" class=\"dataframe\">\n",
       "  <thead>\n",
       "    <tr style=\"text-align: right;\">\n",
       "      <th>Price_Group</th>\n",
       "      <th>Less than 2</th>\n",
       "      <th>2+</th>\n",
       "      <th>4+</th>\n",
       "      <th>6+</th>\n",
       "      <th>8+</th>\n",
       "      <th>10+</th>\n",
       "      <th>12+</th>\n",
       "      <th>14+</th>\n",
       "      <th>16+</th>\n",
       "    </tr>\n",
       "    <tr>\n",
       "      <th>Origin</th>\n",
       "      <th></th>\n",
       "      <th></th>\n",
       "      <th></th>\n",
       "      <th></th>\n",
       "      <th></th>\n",
       "      <th></th>\n",
       "      <th></th>\n",
       "      <th></th>\n",
       "      <th></th>\n",
       "    </tr>\n",
       "  </thead>\n",
       "  <tbody>\n",
       "    <tr>\n",
       "      <th>Canada</th>\n",
       "      <td>0</td>\n",
       "      <td>0</td>\n",
       "      <td>0</td>\n",
       "      <td>0</td>\n",
       "      <td>0</td>\n",
       "      <td>0</td>\n",
       "      <td>0</td>\n",
       "      <td>0</td>\n",
       "      <td>1</td>\n",
       "    </tr>\n",
       "    <tr>\n",
       "      <th>Japan</th>\n",
       "      <td>0</td>\n",
       "      <td>15</td>\n",
       "      <td>5</td>\n",
       "      <td>3</td>\n",
       "      <td>0</td>\n",
       "      <td>1</td>\n",
       "      <td>3</td>\n",
       "      <td>1</td>\n",
       "      <td>3</td>\n",
       "    </tr>\n",
       "    <tr>\n",
       "      <th>Korea</th>\n",
       "      <td>3</td>\n",
       "      <td>16</td>\n",
       "      <td>8</td>\n",
       "      <td>4</td>\n",
       "      <td>6</td>\n",
       "      <td>0</td>\n",
       "      <td>0</td>\n",
       "      <td>0</td>\n",
       "      <td>0</td>\n",
       "    </tr>\n",
       "    <tr>\n",
       "      <th>Macao</th>\n",
       "      <td>0</td>\n",
       "      <td>0</td>\n",
       "      <td>0</td>\n",
       "      <td>0</td>\n",
       "      <td>1</td>\n",
       "      <td>0</td>\n",
       "      <td>0</td>\n",
       "      <td>0</td>\n",
       "      <td>0</td>\n",
       "    </tr>\n",
       "    <tr>\n",
       "      <th>Mainland China</th>\n",
       "      <td>15</td>\n",
       "      <td>34</td>\n",
       "      <td>36</td>\n",
       "      <td>21</td>\n",
       "      <td>9</td>\n",
       "      <td>4</td>\n",
       "      <td>4</td>\n",
       "      <td>2</td>\n",
       "      <td>3</td>\n",
       "    </tr>\n",
       "    <tr>\n",
       "      <th>Malaysia</th>\n",
       "      <td>0</td>\n",
       "      <td>0</td>\n",
       "      <td>1</td>\n",
       "      <td>0</td>\n",
       "      <td>0</td>\n",
       "      <td>0</td>\n",
       "      <td>0</td>\n",
       "      <td>0</td>\n",
       "      <td>1</td>\n",
       "    </tr>\n",
       "    <tr>\n",
       "      <th>South Korea</th>\n",
       "      <td>1</td>\n",
       "      <td>10</td>\n",
       "      <td>9</td>\n",
       "      <td>3</td>\n",
       "      <td>2</td>\n",
       "      <td>0</td>\n",
       "      <td>3</td>\n",
       "      <td>0</td>\n",
       "      <td>1</td>\n",
       "    </tr>\n",
       "    <tr>\n",
       "      <th>Taiwan</th>\n",
       "      <td>3</td>\n",
       "      <td>11</td>\n",
       "      <td>6</td>\n",
       "      <td>5</td>\n",
       "      <td>2</td>\n",
       "      <td>1</td>\n",
       "      <td>1</td>\n",
       "      <td>0</td>\n",
       "      <td>0</td>\n",
       "    </tr>\n",
       "    <tr>\n",
       "      <th>Thailand</th>\n",
       "      <td>10</td>\n",
       "      <td>11</td>\n",
       "      <td>0</td>\n",
       "      <td>0</td>\n",
       "      <td>0</td>\n",
       "      <td>0</td>\n",
       "      <td>0</td>\n",
       "      <td>0</td>\n",
       "      <td>0</td>\n",
       "    </tr>\n",
       "    <tr>\n",
       "      <th>Unclear</th>\n",
       "      <td>49</td>\n",
       "      <td>129</td>\n",
       "      <td>77</td>\n",
       "      <td>30</td>\n",
       "      <td>39</td>\n",
       "      <td>32</td>\n",
       "      <td>15</td>\n",
       "      <td>4</td>\n",
       "      <td>8</td>\n",
       "    </tr>\n",
       "    <tr>\n",
       "      <th>United States</th>\n",
       "      <td>0</td>\n",
       "      <td>0</td>\n",
       "      <td>1</td>\n",
       "      <td>1</td>\n",
       "      <td>0</td>\n",
       "      <td>0</td>\n",
       "      <td>0</td>\n",
       "      <td>0</td>\n",
       "      <td>4</td>\n",
       "    </tr>\n",
       "  </tbody>\n",
       "</table>\n",
       "</div>"
      ],
      "text/plain": [
       "Price_Group     Less than 2   2+  4+  6+  8+  10+  12+  14+  16+\n",
       "Origin                                                          \n",
       "Canada                    0    0   0   0   0    0    0    0    1\n",
       "Japan                     0   15   5   3   0    1    3    1    3\n",
       "Korea                     3   16   8   4   6    0    0    0    0\n",
       "Macao                     0    0   0   0   1    0    0    0    0\n",
       "Mainland China           15   34  36  21   9    4    4    2    3\n",
       "Malaysia                  0    0   1   0   0    0    0    0    1\n",
       "South Korea               1   10   9   3   2    0    3    0    1\n",
       "Taiwan                    3   11   6   5   2    1    1    0    0\n",
       "Thailand                 10   11   0   0   0    0    0    0    0\n",
       "Unclear                  49  129  77  30  39   32   15    4    8\n",
       "United States             0    0   1   1   0    0    0    0    4"
      ]
     },
     "execution_count": 54,
     "metadata": {},
     "output_type": "execute_result"
    },
    {
     "data": {
      "image/png": "[encoded data removed]",
      "text/plain": [
       "<Figure size 1080x360 with 1 Axes>"
      ]
     },
     "metadata": {
      "needs_background": "light"
     },
     "output_type": "display_data"
    }
   ],
   "source": [
    "# origin vs sold weekly group\n",
    "\n",
    "plt.rcParams['figure.figsize'] = (15, 5)\n",
    "\n",
    "# check the Origin percentage of Platform\n",
    "ax= plt.subplot(122)\n",
    "c2_c = pd.crosstab( df.Origin, df.Price_Group)\n",
    "c2_c.div(c2_c .sum(1).astype(float), axis=0).plot(kind='barh', stacked=True, ax=ax)\n",
    "plt.title('Origin percentage by Price_Group')\n",
    "plt.legend(bbox_to_anchor=(-0.4, 1), loc='left', borderaxespad=0)\n",
    "plt.xlabel('Price_Group')\n",
    "plt.xticks(rotation=0)\n",
    "plt.ylabel('Percentage of Origin')\n",
    "\n",
    "c2_c"
   ]
  },
  {
   "cell_type": "markdown",
   "metadata": {},
   "source": [
    "## Price_Group Vs Sold_Weekly_Group\n"
   ]
  },
  {
   "cell_type": "code",
   "execution_count": 38,
   "metadata": {
    "scrolled": true
   },
   "outputs": [
    {
     "name": "stderr",
     "output_type": "stream",
     "text": [
      "C:\\Users\\13750\\Anaconda3\\lib\\site-packages\\ipykernel_launcher.py:8: MatplotlibDeprecationWarning: Unrecognized location 'left'. Falling back on 'best'; valid locations are\n",
      "\tbest\n",
      "\tupper right\n",
      "\tupper left\n",
      "\tlower left\n",
      "\tlower right\n",
      "\tright\n",
      "\tcenter left\n",
      "\tcenter right\n",
      "\tlower center\n",
      "\tupper center\n",
      "\tcenter\n",
      "This will raise an exception in 3.3.\n",
      "  \n"
     ]
    },
    {
     "data": {
      "text/html": [
       "<div>\n",
       "<style scoped>\n",
       "    .dataframe tbody tr th:only-of-type {\n",
       "        vertical-align: middle;\n",
       "    }\n",
       "\n",
       "    .dataframe tbody tr th {\n",
       "        vertical-align: top;\n",
       "    }\n",
       "\n",
       "    .dataframe thead th {\n",
       "        text-align: right;\n",
       "    }\n",
       "</style>\n",
       "<table border=\"1\" class=\"dataframe\">\n",
       "  <thead>\n",
       "    <tr style=\"text-align: right;\">\n",
       "      <th>Sold_Weekly_Group</th>\n",
       "      <th>Less than 50</th>\n",
       "      <th>50+</th>\n",
       "      <th>100+</th>\n",
       "      <th>200+</th>\n",
       "      <th>300+</th>\n",
       "      <th>400+</th>\n",
       "      <th>500+</th>\n",
       "      <th>1000+</th>\n",
       "      <th>2000+</th>\n",
       "    </tr>\n",
       "    <tr>\n",
       "      <th>Price_Group</th>\n",
       "      <th></th>\n",
       "      <th></th>\n",
       "      <th></th>\n",
       "      <th></th>\n",
       "      <th></th>\n",
       "      <th></th>\n",
       "      <th></th>\n",
       "      <th></th>\n",
       "      <th></th>\n",
       "    </tr>\n",
       "  </thead>\n",
       "  <tbody>\n",
       "    <tr>\n",
       "      <th>Less than 2</th>\n",
       "      <td>1</td>\n",
       "      <td>0</td>\n",
       "      <td>9</td>\n",
       "      <td>3</td>\n",
       "      <td>62</td>\n",
       "      <td>0</td>\n",
       "      <td>3</td>\n",
       "      <td>0</td>\n",
       "      <td>2</td>\n",
       "    </tr>\n",
       "    <tr>\n",
       "      <th>2+</th>\n",
       "      <td>16</td>\n",
       "      <td>5</td>\n",
       "      <td>25</td>\n",
       "      <td>4</td>\n",
       "      <td>162</td>\n",
       "      <td>0</td>\n",
       "      <td>5</td>\n",
       "      <td>1</td>\n",
       "      <td>3</td>\n",
       "    </tr>\n",
       "    <tr>\n",
       "      <th>4+</th>\n",
       "      <td>14</td>\n",
       "      <td>3</td>\n",
       "      <td>23</td>\n",
       "      <td>3</td>\n",
       "      <td>94</td>\n",
       "      <td>1</td>\n",
       "      <td>0</td>\n",
       "      <td>0</td>\n",
       "      <td>2</td>\n",
       "    </tr>\n",
       "    <tr>\n",
       "      <th>6+</th>\n",
       "      <td>3</td>\n",
       "      <td>0</td>\n",
       "      <td>22</td>\n",
       "      <td>0</td>\n",
       "      <td>40</td>\n",
       "      <td>0</td>\n",
       "      <td>1</td>\n",
       "      <td>0</td>\n",
       "      <td>0</td>\n",
       "    </tr>\n",
       "    <tr>\n",
       "      <th>8+</th>\n",
       "      <td>13</td>\n",
       "      <td>0</td>\n",
       "      <td>6</td>\n",
       "      <td>0</td>\n",
       "      <td>34</td>\n",
       "      <td>1</td>\n",
       "      <td>1</td>\n",
       "      <td>2</td>\n",
       "      <td>0</td>\n",
       "    </tr>\n",
       "    <tr>\n",
       "      <th>10+</th>\n",
       "      <td>9</td>\n",
       "      <td>0</td>\n",
       "      <td>0</td>\n",
       "      <td>0</td>\n",
       "      <td>29</td>\n",
       "      <td>0</td>\n",
       "      <td>0</td>\n",
       "      <td>0</td>\n",
       "      <td>0</td>\n",
       "    </tr>\n",
       "    <tr>\n",
       "      <th>12+</th>\n",
       "      <td>7</td>\n",
       "      <td>1</td>\n",
       "      <td>2</td>\n",
       "      <td>0</td>\n",
       "      <td>13</td>\n",
       "      <td>0</td>\n",
       "      <td>0</td>\n",
       "      <td>0</td>\n",
       "      <td>0</td>\n",
       "    </tr>\n",
       "    <tr>\n",
       "      <th>14+</th>\n",
       "      <td>1</td>\n",
       "      <td>0</td>\n",
       "      <td>0</td>\n",
       "      <td>0</td>\n",
       "      <td>6</td>\n",
       "      <td>0</td>\n",
       "      <td>0</td>\n",
       "      <td>0</td>\n",
       "      <td>0</td>\n",
       "    </tr>\n",
       "    <tr>\n",
       "      <th>16+</th>\n",
       "      <td>3</td>\n",
       "      <td>0</td>\n",
       "      <td>2</td>\n",
       "      <td>0</td>\n",
       "      <td>15</td>\n",
       "      <td>0</td>\n",
       "      <td>0</td>\n",
       "      <td>0</td>\n",
       "      <td>0</td>\n",
       "    </tr>\n",
       "  </tbody>\n",
       "</table>\n",
       "</div>"
      ],
      "text/plain": [
       "Sold_Weekly_Group  Less than 50  50+  100+  200+  300+  400+  500+  1000+  \\\n",
       "Price_Group                                                                 \n",
       "Less than 2                   1    0     9     3    62     0     3      0   \n",
       "2+                           16    5    25     4   162     0     5      1   \n",
       "4+                           14    3    23     3    94     1     0      0   \n",
       "6+                            3    0    22     0    40     0     1      0   \n",
       "8+                           13    0     6     0    34     1     1      2   \n",
       "10+                           9    0     0     0    29     0     0      0   \n",
       "12+                           7    1     2     0    13     0     0      0   \n",
       "14+                           1    0     0     0     6     0     0      0   \n",
       "16+                           3    0     2     0    15     0     0      0   \n",
       "\n",
       "Sold_Weekly_Group  2000+  \n",
       "Price_Group               \n",
       "Less than 2            2  \n",
       "2+                     3  \n",
       "4+                     2  \n",
       "6+                     0  \n",
       "8+                     0  \n",
       "10+                    0  \n",
       "12+                    0  \n",
       "14+                    0  \n",
       "16+                    0  "
      ]
     },
     "execution_count": 38,
     "metadata": {},
     "output_type": "execute_result"
    },
    {
     "data": {
      "image/png": "[encoded data removed]",
      "text/plain": [
       "<Figure size 1440x360 with 1 Axes>"
      ]
     },
     "metadata": {
      "needs_background": "light"
     },
     "output_type": "display_data"
    }
   ],
   "source": [
    "plt.rcParams['figure.figsize'] = (20, 5)\n",
    "\n",
    "# check the Price_Group percentage of Sold_Weekly_Group\n",
    "ax= plt.subplot(122)\n",
    "c2_c = pd.crosstab(df.Price_Group, df.Sold_Weekly_Group)\n",
    "c2_c.div(c2_c .sum(1).astype(float), axis=0).plot(kind='bar', stacked=True, ax=ax)\n",
    "plt.title('Sold_Weekly_Group percentage by Price_Group')\n",
    "plt.legend(bbox_to_anchor=(-0.1, 1), loc='left', borderaxespad=0)\n",
    "plt.xlabel('Price_Group')\n",
    "plt.xticks(rotation=0)\n",
    "plt.ylabel('Percentage of Sold_Weekly_Group')\n",
    "\n",
    "c2_c"
   ]
  },
  {
   "cell_type": "code",
   "execution_count": 39,
   "metadata": {},
   "outputs": [
    {
     "data": {
      "text/plain": [
       "Text(0.5, 1.0, 'Price_Group vs. Sold_Weekly_Group')"
      ]
     },
     "execution_count": 39,
     "metadata": {},
     "output_type": "execute_result"
    },
    {
     "data": {
      "image/png": "[encoded data removed]",
      "text/plain": [
       "<Figure size 1440x288 with 1 Axes>"
      ]
     },
     "metadata": {
      "needs_background": "light"
     },
     "output_type": "display_data"
    }
   ],
   "source": [
    "# price group vs sold weekly group\n",
    "\n",
    "plt.rcParams['figure.figsize'] = (20, 4)\n",
    "\n",
    "# compare the year with price group with sold weekly group\n",
    "plt.subplot(121)\n",
    "sns.countplot(x='Price_Group',hue= 'Sold_Weekly_Group', data=df, palette = 'husl')\n",
    "plt.legend(bbox_to_anchor=(-0.2, 0.5), loc='right', borderaxespad=0)\n",
    "plt.title('Price_Group vs. Sold_Weekly_Group')"
   ]
  },
  {
   "cell_type": "code",
   "execution_count": 40,
   "metadata": {},
   "outputs": [],
   "source": [
    "df.to_csv(r'C:\\Users\\13750\\Desktop\\Empire Bazaar Group Corp\\US chinese product market\\SNACK MARKET\\Analysis Data\\seaweed\\seaweed.csv', index = False)"
   ]
  },
  {
   "cell_type": "code",
   "execution_count": null,
   "metadata": {},
   "outputs": [],
   "source": []
  },
  {
   "cell_type": "code",
   "execution_count": null,
   "metadata": {},
   "outputs": [],
   "source": []
  },
  {
   "cell_type": "code",
   "execution_count": null,
   "metadata": {},
   "outputs": [],
   "source": []
  }
 ],
 "metadata": {
  "kernelspec": {
   "display_name": "Python 3",
   "language": "python",
   "name": "python3"
  },
  "language_info": {
   "codemirror_mode": {
    "name": "ipython",
    "version": 3
   },
   "file_extension": ".py",
   "mimetype": "text/x-python",
   "name": "python",
   "nbconvert_exporter": "python",
   "pygments_lexer": "ipython3",
   "version": "3.7.3"
  }
 },
 "nbformat": 4,
 "nbformat_minor": 2
}
